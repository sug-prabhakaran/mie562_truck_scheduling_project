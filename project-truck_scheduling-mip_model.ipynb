{
 "cells": [
  {
   "cell_type": "markdown",
   "metadata": {},
   "source": [
    "# MIE562 Project - Truck Scheduling - MIP Model\n",
    "\n",
    "**Team 5 - Dylan Camus, Ryan Do, Fan Jia, Matheus Magalhaes, Sugumar Prabhakaran**\n",
    "\n",
    "**Date: 8 Nov 2020**"
   ]
  },
  {
   "cell_type": "code",
   "execution_count": 1,
   "metadata": {},
   "outputs": [],
   "source": [
    "import numpy as np\n",
    "import gurobipy as gp\n",
    "from gurobipy import Model, GRB, quicksum, max_\n",
    "from random import randint, seed\n",
    "\n",
    "seed(0)"
   ]
  },
  {
   "cell_type": "markdown",
   "metadata": {},
   "source": [
    "## Introduction\n",
    "\n",
    "### 1. Sets\n",
    "       \n",
    "   * $j \\in J$: A carrier, $j$, in a set of carriers, $J$: \n",
    "       * Ex. $J = \\left \\{1,2,3,\\ldots,j  \\right \\}$\n",
    "       \n",
    "   * $|J|$ = n: number of carriers\n",
    "       \n",
    "   * $k_{j}$: number of containers for each carrier $j$:    \n",
    "   \n",
    "   * $k \\in K$: A container, $k$ in a set of containers, $K$: \n",
    "       * Ex. $K = \\left \\{1,2,3... \\right \\}$   \n",
    "\n",
    "   * $c \\in C$: A chassis, $c$, in a set of chassis, $C$: \n",
    "       * Ex. $C = \\left \\{1,2,3,\\ldots,c  \\right \\}$\n",
    " \n",
    "   * $L = \\left \\{1,2,3\\right\\}$: is the set of travel legs, where:\n",
    "       * $1$ : terminal to transloading facility leg\n",
    "       * $2$ : terminal to stack leg\n",
    "       * $3$ : stack to transloading facility leg"
   ]
  },
  {
   "cell_type": "code",
   "execution_count": 2,
   "metadata": {},
   "outputs": [
    {
     "name": "stdout",
     "output_type": "stream",
     "text": [
      "\n",
      "Carriers J: [0, 1]\n",
      "Containers K: [0, 1, 2, 3]\n",
      "Chassis C: [0, 1]\n",
      "Legs L: [1, 2, 3]\n",
      "Set of Binary Variables Y: [[1, 1, 1, 1], [0, 0, 0, 0]]\n"
     ]
    }
   ],
   "source": [
    "# instance intialization\n",
    "\n",
    "# input: number of arriers, number of chassis, list of containers with release dates, carrier and priority.\n",
    "nJ = 2\n",
    "nC = 2\n",
    "containers = [(3,0,0), (3,0,0), (12,0,0), (12,0,0)] # (release date, carrier, priority)\n",
    "# containers = [(3, 0, 1)] # (release date, carrier, priority)\n",
    "\n",
    "# construct sets\n",
    "J = list(range(nJ))\n",
    "C = list(range(nC))\n",
    "K = list(range(len(containers)))\n",
    "Y = [[0 for _ in K] for _ in J]\n",
    "L = [1, 2, 3]\n",
    "\n",
    "for k in K:\n",
    "    Y[containers[k][1]][k] = 1\n",
    "\n",
    "print(\"\\nCarriers J:\", J)\n",
    "print(\"Containers K:\", K)\n",
    "print(\"Chassis C:\", C)\n",
    "print(\"Legs L:\", L)\n",
    "print(\"Set of Binary Variables Y:\", Y)"
   ]
  },
  {
   "cell_type": "code",
   "execution_count": 3,
   "metadata": {},
   "outputs": [],
   "source": [
    "# create a list of tuples containing every iteration of k,l,c\n",
    "A = [(k,l,c) for k in K for l in L for c in C]"
   ]
  },
  {
   "cell_type": "markdown",
   "metadata": {},
   "source": [
    "### 2. Parameters\n",
    "\n",
    "   * $\\Phi_{kl}$  : Time duration transporting container k on leg l, which includes a variable processing time for legs 1 and 3 [hours] \n",
    "   * $D_{ll'}$: Delay required for a chassis to start leg l' after completing l (including travel) [hours]\n",
    "   * $M$     : Some large number\n",
    "   * $R_k$   : Release date for container $k$ [hours]\n",
    "   \n",
    "   * $T_j^{''}$: free period before demurrage cost for carrier j at terminal [hours]\n",
    "   \n",
    "   * $T_j$: demurrage cost/unit time for carrier j at terminal [($/hours)/container]\n",
    "   \n",
    "   * $S$     : fixed cost at stack [$/container]\n",
    "   \n",
    "   * ${S}'$  : variable cost at stack [($/hour)/container]\n",
    "   \n",
    "   * $\\delta_j^{''}$: free period before detention cost for containers of carrier j [hours]\n",
    "   \n",
    "   * $\\delta_j$: detention cost/unit time for containers of carrier j [($/hours)/container]\n",
    "   \n",
    "   * $\\rho_k$ : priority factor of container k (higher value is higher priority)\n",
    "\n",
    "   * $Y_{jk}$ : binary variable = 1 if container $k$ belongs to carrier $j$\n",
    "   "
   ]
  },
  {
   "cell_type": "code",
   "execution_count": 4,
   "metadata": {},
   "outputs": [],
   "source": [
    "#Set Parameters\n",
    "\n",
    "p = {k: 5 for k in K} # processing time at transload facility for k\n",
    "t_length1 = 4\n",
    "t_length2 = 2\n",
    "t_length3 = 3\n",
    "Phi = {k: {1: 2*t_length1 + p[k], 2: t_length2, 3: t_length3 + p[k] + t_length1} for k in K} # time duration of leg l (including processing time) in hours #\n",
    "\n",
    "D = {1:{1: 0, 2: 0, 3: t_length2}, \n",
    "     2:{1: t_length2, 2: t_length2, 3: 0}, \n",
    "     3:{1: 0, 2: 0, 3: t_length2}} # have to hard code this- unless we had a formulation for some generic graph of legs which isn't necessary. \n",
    "\n",
    "M = 1000               # some large number. NOTE: if this is too large, z may take on a very small value approximated to 0 such that M*z > 0, i.e. constraint 1. \n",
    "# TODO: need to model an expression for M\n",
    "\n",
    "R = {k: containers[k][0] for k in K}       # release time for container k [hours]\n",
    "\n",
    "# free period before demurrage cost for containers from carrier j at terminal [hours]\n",
    "T_prime = {j: 1 for j in J}\n",
    "\n",
    "# demurrage cost per container of carrier j after free period [($/hour)/container]\n",
    "T = {j: 100 for j in J}\n",
    "\n",
    "S = 200                            # $200 fixed cost at stack\n",
    "S_prime = 20                       # $20/day/container variable cost at stack\n",
    "\n",
    "# free period before detention cost for containers from carrier j [hours]\n",
    "Delta_prime = {j: 1 for j in J} \n",
    "# detention cost per container of carrier j [($/hour)/container]\n",
    "Delta = {j: 100 for j in J}\n",
    "\n",
    "#Y is calculated above as part of set generation\n",
    "rho = {k: containers[k][2] for k in K} # priority factor for k"
   ]
  },
  {
   "cell_type": "code",
   "execution_count": 5,
   "metadata": {},
   "outputs": [
    {
     "name": "stdout",
     "output_type": "stream",
     "text": [
      "Using license file C:\\Users\\doryan\\gurobi.lic\n",
      "Academic license - for non-commercial use only\n"
     ]
    }
   ],
   "source": [
    "#Create a new model\n",
    "model = gp.Model(\"Truck_Scheduling\")"
   ]
  },
  {
   "cell_type": "markdown",
   "metadata": {},
   "source": [
    "### 3. Decision Variables\n",
    "\n",
    "   * Binary Variable: $x_{klc}$\n",
    "   $\\begin{equation}\n",
    "  =\\left\\{\n",
    "  \\begin{array}{@{}ll@{}}\n",
    "    1, & \\text{if}\\ \\text{container k travels leg l on chassis c} \\\\\n",
    "    0, & \\text{otherwise}\n",
    "  \\end{array}\\right.\n",
    "\\end{equation} $\n",
    "   * Start time $s$ of container $k$ on leg $l$ on chassis $c$: $s_{klc}$, where  $s_{klc} \\geq 0$\n",
    "   * $z_{klk^{'}l^{'}c} = 1$ if the transport job of container $k^{'}$ on chassis c along leg $l^{'}$ is scheduled after the transport job of container $k$ on chassis $c$ along leg $l$.\n"
   ]
  },
  {
   "cell_type": "code",
   "execution_count": 6,
   "metadata": {},
   "outputs": [],
   "source": [
    "#Create decision variables\n",
    "x = model.addVars(A, vtype=GRB.BINARY, name=\"x_klc\")\n",
    "s = model.addVars(A, vtype=GRB.INTEGER, name=\"s_klc\")\n",
    "z = model.addVars(K, L, K, L, C, vtype=GRB.BINARY, name=\"z_klk'l'c\")\n",
    "\n",
    "#Max variables\n",
    "max_expression_resource_constraint_1 = model.addVars(K, L, K, L, C, vtype=GRB.INTEGER, name=\"max resource a\")\n",
    "max_expression_resource_constraint_2 = model.addVars(K, L, K, L, C, vtype=GRB.INTEGER, name=\"max resource b\")\n",
    "max_expression_demurrage = model.addVars(K, L, C, J, vtype=GRB.INTEGER, name=\"max_expression_demurrage\")\n",
    "max_expression_detention = model.addVars(K, L, C, J, vtype=GRB.INTEGER, name=\"max_expression_detention\")\n"
   ]
  },
  {
   "cell_type": "markdown",
   "metadata": {},
   "source": [
    "### 4. Objective Function\n",
    "\n",
    "We want to minimize the Total Cost ($c$) = (Demurrage cost}) + (Detention cost) + (Stack cost) + (Priority penalty cost)\n",
    "   \n",
    "   * **objective function:** $min$ $(c)$\n",
    "   \n",
    "   * $c = c_{dem} + c_{det} + c_{stk} + c_{pri}$\n",
    "\n",
    "**(1) Demurrage Cost:**\n",
    "\n",
    "The Demurrage Cost ($c_{dem}$) refers to cost associated with keeping containers in the terminal beyond the free period allotedin days ($T_{j}^{''}$) that is different for each carrier.\n",
    "\n",
    "If the start time for a container ($s_{klc}$) is higher than the release date ($R_{k}$) + the free period ($T_{j}^{''}$), there will be a variable cost per extra day ($T_{j}$) per container.\n",
    "   \n",
    "   * $c_{dem} = \\sum_{k \\in K}\\sum_{c \\in C}\\sum_{l \\in \\{1,2\\}}\\sum_{j \\in J}T_jx_{klc}Y_{jk}\\cdot max\\left [(s_{klc} - R_k - T_{j}^{''}), 0  \\right ]$\n",
    "   \n",
    "**(2) Detention Cost**\n",
    "\n",
    "The terminal also charges a detention cost ($c_{det}$) for containers that are not returned to the terminal for processing before return to the carrier.  Similar to demurrage, there is a free period before which the containers must be returned to the terminal ($\\delta_{j}^{''}$).\n",
    "\n",
    "If the start time for a container ($s_{klc}$) and the total travel time of a container back to the terminal including processing time ($\\phi_{kl}$) is greater than the release date ($R_{k}$) + the free period ($\\delta_{j}^{''}$), there will be a variable cost per extra day ($T_{j}$) per container.\n",
    "\n",
    "   * $c_{det} = \\sum_{k \\in K}\\sum_{c \\in C}\\sum_{l \\in \\{1,3\\}}\\sum_{j \\in J}\\delta_jx_{klc}Y_{jk}\\cdot max\\left [(s_{klc}+ \\phi_{kl} - (R_k+\\delta_{j}^{''})), 0  \\right ]$\n",
    "\n",
    "**(3) Stack Storage Cost**\n",
    "\n",
    "The stack cost ($c_{stk}$) is the sum of the fixed cost percontainer ($S$) and the variable cost per day per container ($S^{'}$) x the number of days that a container is in the stack, which is the difference between leg 3 and leg 2 start times ($s_{klc}$).\n",
    "\n",
    "   * $c_{stk} = \\sum_{k \\in K}\\sum_{c \\in C}x_{k2c}\\cdot (S + S'(s_{k3c} - (s_{k2c} + \\phi_{k2})))$\n",
    "\n",
    "**(4) Priority Penalty Cost**\n",
    "\n",
    "The priority penalty cost ($c_{pri}$) is applied for every day that a container sits in the terminal beyond the release day ($R_{k}$) and every day spent at the stack ($s_{k3c}-s_{k2c}$).  Since the priority factor per container ($\\rho_{k}$) is higher for higher priority containers, the associated penalty costs will be higher.\n",
    "\n",
    "   * $c_{det} = \\sum_{k \\in K}\\sum_{c \\in C}\\sum_{l \\in \\{1,2\\}}\\rho_k\\cdot((s_{klc} - R_k)+(s_{k3c} - (s_{k2c} + \\phi_{k2})))\\cdot x_{klc}$"
   ]
  },
  {
   "cell_type": "code",
   "execution_count": 7,
   "metadata": {},
   "outputs": [],
   "source": [
    "# demurrage cost days max\n",
    "model.addConstrs(max_expression_demurrage[k,l,c,j] >= (s[k,l,c] - R[k] - T_prime[j]) for k in K for c in C for l in [1, 2] for j in J)\n",
    "model.addConstrs(max_expression_demurrage[k,l,c,j] >= 0 for k in K for c in C for l in [1, 2] for j in J)\n",
    "\n",
    "# detention cost days max\n",
    "model.addConstrs(max_expression_detention[k,l,c,j] >= (s[k,l,c] + Phi[k][l] - (R[k] + Delta_prime[j])) for k in K for c in C for l in [1, 3] for j in J)\n",
    "model.addConstrs(max_expression_detention[k,l,c,j] >= 0 for k in K for c in C for l in [1, 3] for j in J)\n",
    "\n",
    "#Define objective function\n",
    "demurrage_cost = quicksum(x[k,l,c]*T[j]*Y[j][k]*max_expression_demurrage[k,l,c,j] \n",
    "                          for k in K for c in C for l in [1, 2] for j in J) \n",
    "detention_cost = quicksum(x[k,l,c]*Delta[j]*Y[j][k]*max_expression_detention[k,l,c,j] \n",
    "                          for k in K for c in C for l in [1, 3] for j in J)\n",
    "stack_cost = quicksum(x[k,2,c]*(S + S_prime*(s[k,3,c] - (s[k,2,c] + Phi[k][2]))) for k in K for c in C)\n",
    "\n",
    "priority_cost = quicksum(x[k,l,c]*rho[k]*((s[k,l,c] - R[k])+(s[k,3,c] - (s[k,2,c] + Phi[k][2])))\n",
    "                for k in K for c in C for l in [1, 2])\n",
    "\n",
    "model.setObjective(demurrage_cost \n",
    "                   + detention_cost \n",
    "                   + stack_cost \n",
    "                   + priority_cost \n",
    "                   , GRB.MINIMIZE)\n",
    "# model.setObjective(0, GRB.MINIMIZE) demurrage_cost + detention_cost + stack_cost + priority_cost"
   ]
  },
  {
   "cell_type": "markdown",
   "metadata": {},
   "source": [
    "### 5. Constraints"
   ]
  },
  {
   "cell_type": "markdown",
   "metadata": {},
   "source": [
    "**(1) Resource constraints**\n",
    "\n",
    "For each chassis, transport jobs can't overlap and chassis (resources) may have to travel between jobs. \n",
    "\n",
    "For the case where job $klc$ scheduled after job $k'l'c$, i.e. $s_{klc} > s_{k'l'c}$:\n",
    "\n",
    "   * $M(1-x_{klc}) + M(1-x_{k'l'c}) + (s_{klc} - s_{k'l'c}) \\geq \\phi_{k'l'} + D_{l'l} - M\\cdot z_{klk'l'c}$, &nbsp;&nbsp;&nbsp;&nbsp;&nbsp;&nbsp;$\\forall k,k' \\in K, l,l'\\in L, c \\in C$ &nbsp;$s.t.$&nbsp; $(k=k' \\neg\\wedge l=l') \\wedge k\\leq k'$\n",
    "   \n",
    "For the case where job $k'l'c$ scheduled after job $klc$, i.e. $s_{klc} > s_{k'l'c}$:\n",
    "\n",
    "   * $M(1-x_{klc}) + M(1-x_{k'l'c}) + (s_{k'l'c} - s_{klc}) \\geq \\phi_{kl} + D_{ll'} - M\\cdot(1-z_{klk'l'c})$, &nbsp;&nbsp;&nbsp;&nbsp;&nbsp;&nbsp;$\\forall k,k' \\in K, l,l'\\in L, c \\in C$ &nbsp;$s.t.$&nbsp; $(k=k' \\neg\\wedge l=l') \\wedge k\\leq k'$"
   ]
  },
  {
   "cell_type": "code",
   "execution_count": 8,
   "metadata": {},
   "outputs": [
    {
     "data": {
      "text/plain": [
       "{(0, 1, 0, 2, 0): <gurobi.Constr *Awaiting Model Update*>,\n",
       " (0, 1, 0, 2, 1): <gurobi.Constr *Awaiting Model Update*>,\n",
       " (0, 1, 0, 3, 0): <gurobi.Constr *Awaiting Model Update*>,\n",
       " (0, 1, 0, 3, 1): <gurobi.Constr *Awaiting Model Update*>,\n",
       " (0, 1, 1, 1, 0): <gurobi.Constr *Awaiting Model Update*>,\n",
       " (0, 1, 1, 1, 1): <gurobi.Constr *Awaiting Model Update*>,\n",
       " (0, 1, 1, 2, 0): <gurobi.Constr *Awaiting Model Update*>,\n",
       " (0, 1, 1, 2, 1): <gurobi.Constr *Awaiting Model Update*>,\n",
       " (0, 1, 1, 3, 0): <gurobi.Constr *Awaiting Model Update*>,\n",
       " (0, 1, 1, 3, 1): <gurobi.Constr *Awaiting Model Update*>,\n",
       " (0, 1, 2, 1, 0): <gurobi.Constr *Awaiting Model Update*>,\n",
       " (0, 1, 2, 1, 1): <gurobi.Constr *Awaiting Model Update*>,\n",
       " (0, 1, 2, 2, 0): <gurobi.Constr *Awaiting Model Update*>,\n",
       " (0, 1, 2, 2, 1): <gurobi.Constr *Awaiting Model Update*>,\n",
       " (0, 1, 2, 3, 0): <gurobi.Constr *Awaiting Model Update*>,\n",
       " (0, 1, 2, 3, 1): <gurobi.Constr *Awaiting Model Update*>,\n",
       " (0, 1, 3, 1, 0): <gurobi.Constr *Awaiting Model Update*>,\n",
       " (0, 1, 3, 1, 1): <gurobi.Constr *Awaiting Model Update*>,\n",
       " (0, 1, 3, 2, 0): <gurobi.Constr *Awaiting Model Update*>,\n",
       " (0, 1, 3, 2, 1): <gurobi.Constr *Awaiting Model Update*>,\n",
       " (0, 1, 3, 3, 0): <gurobi.Constr *Awaiting Model Update*>,\n",
       " (0, 1, 3, 3, 1): <gurobi.Constr *Awaiting Model Update*>,\n",
       " (0, 2, 0, 1, 0): <gurobi.Constr *Awaiting Model Update*>,\n",
       " (0, 2, 0, 1, 1): <gurobi.Constr *Awaiting Model Update*>,\n",
       " (0, 2, 0, 3, 0): <gurobi.Constr *Awaiting Model Update*>,\n",
       " (0, 2, 0, 3, 1): <gurobi.Constr *Awaiting Model Update*>,\n",
       " (0, 2, 1, 1, 0): <gurobi.Constr *Awaiting Model Update*>,\n",
       " (0, 2, 1, 1, 1): <gurobi.Constr *Awaiting Model Update*>,\n",
       " (0, 2, 1, 2, 0): <gurobi.Constr *Awaiting Model Update*>,\n",
       " (0, 2, 1, 2, 1): <gurobi.Constr *Awaiting Model Update*>,\n",
       " (0, 2, 1, 3, 0): <gurobi.Constr *Awaiting Model Update*>,\n",
       " (0, 2, 1, 3, 1): <gurobi.Constr *Awaiting Model Update*>,\n",
       " (0, 2, 2, 1, 0): <gurobi.Constr *Awaiting Model Update*>,\n",
       " (0, 2, 2, 1, 1): <gurobi.Constr *Awaiting Model Update*>,\n",
       " (0, 2, 2, 2, 0): <gurobi.Constr *Awaiting Model Update*>,\n",
       " (0, 2, 2, 2, 1): <gurobi.Constr *Awaiting Model Update*>,\n",
       " (0, 2, 2, 3, 0): <gurobi.Constr *Awaiting Model Update*>,\n",
       " (0, 2, 2, 3, 1): <gurobi.Constr *Awaiting Model Update*>,\n",
       " (0, 2, 3, 1, 0): <gurobi.Constr *Awaiting Model Update*>,\n",
       " (0, 2, 3, 1, 1): <gurobi.Constr *Awaiting Model Update*>,\n",
       " (0, 2, 3, 2, 0): <gurobi.Constr *Awaiting Model Update*>,\n",
       " (0, 2, 3, 2, 1): <gurobi.Constr *Awaiting Model Update*>,\n",
       " (0, 2, 3, 3, 0): <gurobi.Constr *Awaiting Model Update*>,\n",
       " (0, 2, 3, 3, 1): <gurobi.Constr *Awaiting Model Update*>,\n",
       " (0, 3, 0, 1, 0): <gurobi.Constr *Awaiting Model Update*>,\n",
       " (0, 3, 0, 1, 1): <gurobi.Constr *Awaiting Model Update*>,\n",
       " (0, 3, 0, 2, 0): <gurobi.Constr *Awaiting Model Update*>,\n",
       " (0, 3, 0, 2, 1): <gurobi.Constr *Awaiting Model Update*>,\n",
       " (0, 3, 1, 1, 0): <gurobi.Constr *Awaiting Model Update*>,\n",
       " (0, 3, 1, 1, 1): <gurobi.Constr *Awaiting Model Update*>,\n",
       " (0, 3, 1, 2, 0): <gurobi.Constr *Awaiting Model Update*>,\n",
       " (0, 3, 1, 2, 1): <gurobi.Constr *Awaiting Model Update*>,\n",
       " (0, 3, 1, 3, 0): <gurobi.Constr *Awaiting Model Update*>,\n",
       " (0, 3, 1, 3, 1): <gurobi.Constr *Awaiting Model Update*>,\n",
       " (0, 3, 2, 1, 0): <gurobi.Constr *Awaiting Model Update*>,\n",
       " (0, 3, 2, 1, 1): <gurobi.Constr *Awaiting Model Update*>,\n",
       " (0, 3, 2, 2, 0): <gurobi.Constr *Awaiting Model Update*>,\n",
       " (0, 3, 2, 2, 1): <gurobi.Constr *Awaiting Model Update*>,\n",
       " (0, 3, 2, 3, 0): <gurobi.Constr *Awaiting Model Update*>,\n",
       " (0, 3, 2, 3, 1): <gurobi.Constr *Awaiting Model Update*>,\n",
       " (0, 3, 3, 1, 0): <gurobi.Constr *Awaiting Model Update*>,\n",
       " (0, 3, 3, 1, 1): <gurobi.Constr *Awaiting Model Update*>,\n",
       " (0, 3, 3, 2, 0): <gurobi.Constr *Awaiting Model Update*>,\n",
       " (0, 3, 3, 2, 1): <gurobi.Constr *Awaiting Model Update*>,\n",
       " (0, 3, 3, 3, 0): <gurobi.Constr *Awaiting Model Update*>,\n",
       " (0, 3, 3, 3, 1): <gurobi.Constr *Awaiting Model Update*>,\n",
       " (1, 1, 1, 2, 0): <gurobi.Constr *Awaiting Model Update*>,\n",
       " (1, 1, 1, 2, 1): <gurobi.Constr *Awaiting Model Update*>,\n",
       " (1, 1, 1, 3, 0): <gurobi.Constr *Awaiting Model Update*>,\n",
       " (1, 1, 1, 3, 1): <gurobi.Constr *Awaiting Model Update*>,\n",
       " (1, 1, 2, 1, 0): <gurobi.Constr *Awaiting Model Update*>,\n",
       " (1, 1, 2, 1, 1): <gurobi.Constr *Awaiting Model Update*>,\n",
       " (1, 1, 2, 2, 0): <gurobi.Constr *Awaiting Model Update*>,\n",
       " (1, 1, 2, 2, 1): <gurobi.Constr *Awaiting Model Update*>,\n",
       " (1, 1, 2, 3, 0): <gurobi.Constr *Awaiting Model Update*>,\n",
       " (1, 1, 2, 3, 1): <gurobi.Constr *Awaiting Model Update*>,\n",
       " (1, 1, 3, 1, 0): <gurobi.Constr *Awaiting Model Update*>,\n",
       " (1, 1, 3, 1, 1): <gurobi.Constr *Awaiting Model Update*>,\n",
       " (1, 1, 3, 2, 0): <gurobi.Constr *Awaiting Model Update*>,\n",
       " (1, 1, 3, 2, 1): <gurobi.Constr *Awaiting Model Update*>,\n",
       " (1, 1, 3, 3, 0): <gurobi.Constr *Awaiting Model Update*>,\n",
       " (1, 1, 3, 3, 1): <gurobi.Constr *Awaiting Model Update*>,\n",
       " (1, 2, 1, 1, 0): <gurobi.Constr *Awaiting Model Update*>,\n",
       " (1, 2, 1, 1, 1): <gurobi.Constr *Awaiting Model Update*>,\n",
       " (1, 2, 1, 3, 0): <gurobi.Constr *Awaiting Model Update*>,\n",
       " (1, 2, 1, 3, 1): <gurobi.Constr *Awaiting Model Update*>,\n",
       " (1, 2, 2, 1, 0): <gurobi.Constr *Awaiting Model Update*>,\n",
       " (1, 2, 2, 1, 1): <gurobi.Constr *Awaiting Model Update*>,\n",
       " (1, 2, 2, 2, 0): <gurobi.Constr *Awaiting Model Update*>,\n",
       " (1, 2, 2, 2, 1): <gurobi.Constr *Awaiting Model Update*>,\n",
       " (1, 2, 2, 3, 0): <gurobi.Constr *Awaiting Model Update*>,\n",
       " (1, 2, 2, 3, 1): <gurobi.Constr *Awaiting Model Update*>,\n",
       " (1, 2, 3, 1, 0): <gurobi.Constr *Awaiting Model Update*>,\n",
       " (1, 2, 3, 1, 1): <gurobi.Constr *Awaiting Model Update*>,\n",
       " (1, 2, 3, 2, 0): <gurobi.Constr *Awaiting Model Update*>,\n",
       " (1, 2, 3, 2, 1): <gurobi.Constr *Awaiting Model Update*>,\n",
       " (1, 2, 3, 3, 0): <gurobi.Constr *Awaiting Model Update*>,\n",
       " (1, 2, 3, 3, 1): <gurobi.Constr *Awaiting Model Update*>,\n",
       " (1, 3, 1, 1, 0): <gurobi.Constr *Awaiting Model Update*>,\n",
       " (1, 3, 1, 1, 1): <gurobi.Constr *Awaiting Model Update*>,\n",
       " (1, 3, 1, 2, 0): <gurobi.Constr *Awaiting Model Update*>,\n",
       " (1, 3, 1, 2, 1): <gurobi.Constr *Awaiting Model Update*>,\n",
       " (1, 3, 2, 1, 0): <gurobi.Constr *Awaiting Model Update*>,\n",
       " (1, 3, 2, 1, 1): <gurobi.Constr *Awaiting Model Update*>,\n",
       " (1, 3, 2, 2, 0): <gurobi.Constr *Awaiting Model Update*>,\n",
       " (1, 3, 2, 2, 1): <gurobi.Constr *Awaiting Model Update*>,\n",
       " (1, 3, 2, 3, 0): <gurobi.Constr *Awaiting Model Update*>,\n",
       " (1, 3, 2, 3, 1): <gurobi.Constr *Awaiting Model Update*>,\n",
       " (1, 3, 3, 1, 0): <gurobi.Constr *Awaiting Model Update*>,\n",
       " (1, 3, 3, 1, 1): <gurobi.Constr *Awaiting Model Update*>,\n",
       " (1, 3, 3, 2, 0): <gurobi.Constr *Awaiting Model Update*>,\n",
       " (1, 3, 3, 2, 1): <gurobi.Constr *Awaiting Model Update*>,\n",
       " (1, 3, 3, 3, 0): <gurobi.Constr *Awaiting Model Update*>,\n",
       " (1, 3, 3, 3, 1): <gurobi.Constr *Awaiting Model Update*>,\n",
       " (2, 1, 2, 2, 0): <gurobi.Constr *Awaiting Model Update*>,\n",
       " (2, 1, 2, 2, 1): <gurobi.Constr *Awaiting Model Update*>,\n",
       " (2, 1, 2, 3, 0): <gurobi.Constr *Awaiting Model Update*>,\n",
       " (2, 1, 2, 3, 1): <gurobi.Constr *Awaiting Model Update*>,\n",
       " (2, 1, 3, 1, 0): <gurobi.Constr *Awaiting Model Update*>,\n",
       " (2, 1, 3, 1, 1): <gurobi.Constr *Awaiting Model Update*>,\n",
       " (2, 1, 3, 2, 0): <gurobi.Constr *Awaiting Model Update*>,\n",
       " (2, 1, 3, 2, 1): <gurobi.Constr *Awaiting Model Update*>,\n",
       " (2, 1, 3, 3, 0): <gurobi.Constr *Awaiting Model Update*>,\n",
       " (2, 1, 3, 3, 1): <gurobi.Constr *Awaiting Model Update*>,\n",
       " (2, 2, 2, 1, 0): <gurobi.Constr *Awaiting Model Update*>,\n",
       " (2, 2, 2, 1, 1): <gurobi.Constr *Awaiting Model Update*>,\n",
       " (2, 2, 2, 3, 0): <gurobi.Constr *Awaiting Model Update*>,\n",
       " (2, 2, 2, 3, 1): <gurobi.Constr *Awaiting Model Update*>,\n",
       " (2, 2, 3, 1, 0): <gurobi.Constr *Awaiting Model Update*>,\n",
       " (2, 2, 3, 1, 1): <gurobi.Constr *Awaiting Model Update*>,\n",
       " (2, 2, 3, 2, 0): <gurobi.Constr *Awaiting Model Update*>,\n",
       " (2, 2, 3, 2, 1): <gurobi.Constr *Awaiting Model Update*>,\n",
       " (2, 2, 3, 3, 0): <gurobi.Constr *Awaiting Model Update*>,\n",
       " (2, 2, 3, 3, 1): <gurobi.Constr *Awaiting Model Update*>,\n",
       " (2, 3, 2, 1, 0): <gurobi.Constr *Awaiting Model Update*>,\n",
       " (2, 3, 2, 1, 1): <gurobi.Constr *Awaiting Model Update*>,\n",
       " (2, 3, 2, 2, 0): <gurobi.Constr *Awaiting Model Update*>,\n",
       " (2, 3, 2, 2, 1): <gurobi.Constr *Awaiting Model Update*>,\n",
       " (2, 3, 3, 1, 0): <gurobi.Constr *Awaiting Model Update*>,\n",
       " (2, 3, 3, 1, 1): <gurobi.Constr *Awaiting Model Update*>,\n",
       " (2, 3, 3, 2, 0): <gurobi.Constr *Awaiting Model Update*>,\n",
       " (2, 3, 3, 2, 1): <gurobi.Constr *Awaiting Model Update*>,\n",
       " (2, 3, 3, 3, 0): <gurobi.Constr *Awaiting Model Update*>,\n",
       " (2, 3, 3, 3, 1): <gurobi.Constr *Awaiting Model Update*>,\n",
       " (3, 1, 3, 2, 0): <gurobi.Constr *Awaiting Model Update*>,\n",
       " (3, 1, 3, 2, 1): <gurobi.Constr *Awaiting Model Update*>,\n",
       " (3, 1, 3, 3, 0): <gurobi.Constr *Awaiting Model Update*>,\n",
       " (3, 1, 3, 3, 1): <gurobi.Constr *Awaiting Model Update*>,\n",
       " (3, 2, 3, 1, 0): <gurobi.Constr *Awaiting Model Update*>,\n",
       " (3, 2, 3, 1, 1): <gurobi.Constr *Awaiting Model Update*>,\n",
       " (3, 2, 3, 3, 0): <gurobi.Constr *Awaiting Model Update*>,\n",
       " (3, 2, 3, 3, 1): <gurobi.Constr *Awaiting Model Update*>,\n",
       " (3, 3, 3, 1, 0): <gurobi.Constr *Awaiting Model Update*>,\n",
       " (3, 3, 3, 1, 1): <gurobi.Constr *Awaiting Model Update*>,\n",
       " (3, 3, 3, 2, 0): <gurobi.Constr *Awaiting Model Update*>,\n",
       " (3, 3, 3, 2, 1): <gurobi.Constr *Awaiting Model Update*>}"
      ]
     },
     "execution_count": 8,
     "metadata": {},
     "output_type": "execute_result"
    }
   ],
   "source": [
    "# max constraints (necessary to keep max variable geq than arguments)\n",
    "# model.addConstrs(max_expression_resource_constraint_1[k,l,kp,lp,c] >= M * (1 - x[k,l,c]) \n",
    "#                  for k in K for l in L for kp in K for lp in L for c in C if (not(k == kp and l == lp) and (k <= kp)))\n",
    "# model.addConstrs(max_expression_resource_constraint_1[k,l,kp,lp,c] >= M * (1 - x[kp,lp,c]) \n",
    "#                  for k in K for l in L for kp in K for lp in L for c in C if (not(k == kp and l == lp) and (k <= kp)))\n",
    "# model.addConstrs(max_expression_resource_constraint_1[k,l,kp,lp,c] >= s[k,l,c] - s[kp,lp,c]\n",
    "#                  for k in K for l in L for kp in K for lp in L for c in C if (not(k == kp and l == lp) and (k <= kp)))\n",
    "\n",
    "# model.addConstrs(max_expression_resource_constraint_2[k,l,kp,lp,c] >= M * (1 - x[k,l,c]) \n",
    "#                  for k in K for l in L for kp in K for lp in L for c in C if (not(k == kp and l == lp) and (k <= kp)))\n",
    "# model.addConstrs(max_expression_resource_constraint_2[k,l,kp,lp,c] >= M * (1 - x[kp,lp,c]) \n",
    "#                  for k in K for l in L for kp in K for lp in L for c in C if (not(k == kp and l == lp) and (k <= kp)))\n",
    "# model.addConstrs(max_expression_resource_constraint_2[k,l,kp,lp,c] >= s[kp,lp,c] - s[k,l,c]\n",
    "#                  for k in K for l in L for kp in K for lp in L for c in C if (not(k == kp and l == lp) and (k <= kp)))\n",
    "\n",
    "# constrain max variable (necessary to keep max variable from being freely above s_klc - s_kplpc)\n",
    "# model.addConstrs(max_expression_resource_constraint_1[k,l,kp,lp,c] \n",
    "#                  == M*(1 - x[k,l,c]) + M*(1 - x[kp,lp,c]) + (s[k,l,c] - s[kp,lp,c])\n",
    "#                  for k in K for l in L for kp in K for lp in L for c in C if (not(k == kp and l == lp) and (k <= kp)))\n",
    "# model.addConstrs(max_expression_resource_constraint_2[k,l,kp,lp,c] \n",
    "#                  == M*(1 - x[k,l,c]) + M*(1 - x[kp,lp,c]) + (s[kp,lp,c] - s[k,l,c])\n",
    "#                  for k in K for l in L for kp in K for lp in L for c in C if (not(k == kp and l == lp) and (k <= kp)))\n",
    "\n",
    "# model.addConstrs(max_expression_resource_constraint_1[k,l,kp,lp,c] >= Phi[kp][lp] + D[lp][l] - M * z[k, l, kp, lp, c] \n",
    "#                  for k in K for l in L for kp in K for lp in L for c in C if (not(k == kp and l == lp) and (k <= kp)))\n",
    "# model.addConstrs(max_expression_resource_constraint_2[k,l,kp,lp,c] >= Phi[k][l] + D[l][lp] - M * (1-z[k, l, kp, lp, c])\n",
    "#                  for k in K for l in L for kp in K for lp in L for c in C if (not(k == kp and l == lp) and (k <= kp)))\n",
    "\n",
    "\n",
    "model.addConstrs(M*(1 - x[k,l,c]) + M*(1 - x[kp,lp,c]) + (s[k,l,c] - s[kp,lp,c]) >= Phi[kp][lp] + D[lp][l] - M * z[k, l, kp, lp, c] \n",
    "                 for k in K for l in L for kp in K for lp in L for c in C if (not(k == kp and l == lp) and (k <= kp)))\n",
    "model.addConstrs(M*(1 - x[k,l,c]) + M*(1 - x[kp,lp,c]) + (s[kp,lp,c] - s[k,l,c]) >= Phi[k][l] + D[l][lp] - M * (1-z[k, l, kp, lp, c])\n",
    "                 for k in K for l in L for kp in K for lp in L for c in C if (not(k == kp and l == lp) and (k <= kp)))\n",
    "\n"
   ]
  },
  {
   "cell_type": "markdown",
   "metadata": {},
   "source": [
    "**(2) Release date constraint**\n",
    "\n",
    "Start time ($s_{klc}$) must be after release date ($R_k$) for every container that leaves terminal on either leg 1 or leg 2 (ie. $x_{klc}=1$):\n",
    "\n",
    "   * $s_{klc} \\geq R_{k}x_{klc}$, &nbsp;&nbsp;&nbsp;&nbsp;&nbsp;&nbsp;$\\forall k \\in K$, $l\\in L$, $c \\in C$ "
   ]
  },
  {
   "cell_type": "code",
   "execution_count": 9,
   "metadata": {},
   "outputs": [
    {
     "data": {
      "text/plain": [
       "{(0, 1, 0): <gurobi.Constr *Awaiting Model Update*>,\n",
       " (0, 1, 1): <gurobi.Constr *Awaiting Model Update*>,\n",
       " (0, 2, 0): <gurobi.Constr *Awaiting Model Update*>,\n",
       " (0, 2, 1): <gurobi.Constr *Awaiting Model Update*>,\n",
       " (0, 3, 0): <gurobi.Constr *Awaiting Model Update*>,\n",
       " (0, 3, 1): <gurobi.Constr *Awaiting Model Update*>,\n",
       " (1, 1, 0): <gurobi.Constr *Awaiting Model Update*>,\n",
       " (1, 1, 1): <gurobi.Constr *Awaiting Model Update*>,\n",
       " (1, 2, 0): <gurobi.Constr *Awaiting Model Update*>,\n",
       " (1, 2, 1): <gurobi.Constr *Awaiting Model Update*>,\n",
       " (1, 3, 0): <gurobi.Constr *Awaiting Model Update*>,\n",
       " (1, 3, 1): <gurobi.Constr *Awaiting Model Update*>,\n",
       " (2, 1, 0): <gurobi.Constr *Awaiting Model Update*>,\n",
       " (2, 1, 1): <gurobi.Constr *Awaiting Model Update*>,\n",
       " (2, 2, 0): <gurobi.Constr *Awaiting Model Update*>,\n",
       " (2, 2, 1): <gurobi.Constr *Awaiting Model Update*>,\n",
       " (2, 3, 0): <gurobi.Constr *Awaiting Model Update*>,\n",
       " (2, 3, 1): <gurobi.Constr *Awaiting Model Update*>,\n",
       " (3, 1, 0): <gurobi.Constr *Awaiting Model Update*>,\n",
       " (3, 1, 1): <gurobi.Constr *Awaiting Model Update*>,\n",
       " (3, 2, 0): <gurobi.Constr *Awaiting Model Update*>,\n",
       " (3, 2, 1): <gurobi.Constr *Awaiting Model Update*>,\n",
       " (3, 3, 0): <gurobi.Constr *Awaiting Model Update*>,\n",
       " (3, 3, 1): <gurobi.Constr *Awaiting Model Update*>}"
      ]
     },
     "execution_count": 9,
     "metadata": {},
     "output_type": "execute_result"
    }
   ],
   "source": [
    "model.addConstrs(s[k,l,c]>= R[k]*x[k,l,c] for k in K for l in L for c in C)"
   ]
  },
  {
   "cell_type": "markdown",
   "metadata": {},
   "source": [
    "**(3) Containers going through leg 2 must go through leg 3**\n",
    "\n",
    "Each container k will have a x_klc value of 1 or 0 for both leg 2 and leg 3 depending on if they travel through them or not:\n",
    "\n",
    "   * $\\sum_{c \\in C}(x_{k2c}) = \\sum_{c \\in C}(x_{k3c})$,&nbsp;&nbsp;&nbsp;&nbsp;&nbsp;&nbsp;$\\forall k \\in K$"
   ]
  },
  {
   "cell_type": "code",
   "execution_count": 10,
   "metadata": {
    "scrolled": false
   },
   "outputs": [
    {
     "data": {
      "text/plain": [
       "{0: <gurobi.Constr *Awaiting Model Update*>,\n",
       " 1: <gurobi.Constr *Awaiting Model Update*>,\n",
       " 2: <gurobi.Constr *Awaiting Model Update*>,\n",
       " 3: <gurobi.Constr *Awaiting Model Update*>}"
      ]
     },
     "execution_count": 10,
     "metadata": {},
     "output_type": "execute_result"
    }
   ],
   "source": [
    "model.addConstrs(quicksum(x[k,2,c] for c in C)==quicksum(x[k,3,c] for c in C) for k in K)"
   ]
  },
  {
   "cell_type": "markdown",
   "metadata": {},
   "source": [
    "**(4) Container must go through leg 1 OR (leg 2 AND 3)**\n",
    "\n",
    "Each container ($k$) will have $x_klc = 1$ for either leg 1 or leg 2 so the sum of the two must be 1 for all containers ($k$) on all chassis ($c$).\n",
    "\n",
    "   * $\\sum_{c \\in C}(x_{k1c}) + \\sum_{c \\in C}(x_{k2c}) = 1$,&nbsp;&nbsp;&nbsp;&nbsp;&nbsp;&nbsp; $\\forall k \\in K$"
   ]
  },
  {
   "cell_type": "code",
   "execution_count": 11,
   "metadata": {},
   "outputs": [
    {
     "data": {
      "text/plain": [
       "{0: <gurobi.Constr *Awaiting Model Update*>,\n",
       " 1: <gurobi.Constr *Awaiting Model Update*>,\n",
       " 2: <gurobi.Constr *Awaiting Model Update*>,\n",
       " 3: <gurobi.Constr *Awaiting Model Update*>}"
      ]
     },
     "execution_count": 11,
     "metadata": {},
     "output_type": "execute_result"
    }
   ],
   "source": [
    "model.addConstrs(\n",
    "    (quicksum(x[k,1,c] for c in C) + quicksum(x[k,2,c] for c in C))==1 for k in K\n",
    ")"
   ]
  },
  {
   "cell_type": "markdown",
   "metadata": {},
   "source": [
    "**(5) Precedence Constraint: Leg 2 must be before Leg 3**\n",
    "\n",
    "Each container k will have a $x_{klc}$ value of 1 for either leg 1 or leg 2 so the sum of the two must be 1 for all containers (k) on all chassis (c).\n",
    "\n",
    "   * $M\\sum_{c \\in C}(x_{k1c}) + \\sum_{c \\in C}(s_{k3c}) \\geq = \\sum_{c \\in C}(s_{k2c}) + \\Phi_{k2}$,&nbsp;&nbsp;&nbsp;&nbsp;&nbsp;&nbsp; $\\forall k \\in K$\n",
    "   "
   ]
  },
  {
   "cell_type": "code",
   "execution_count": 12,
   "metadata": {},
   "outputs": [
    {
     "data": {
      "text/plain": [
       "{0: <gurobi.Constr *Awaiting Model Update*>,\n",
       " 1: <gurobi.Constr *Awaiting Model Update*>,\n",
       " 2: <gurobi.Constr *Awaiting Model Update*>,\n",
       " 3: <gurobi.Constr *Awaiting Model Update*>}"
      ]
     },
     "execution_count": 12,
     "metadata": {},
     "output_type": "execute_result"
    }
   ],
   "source": [
    "model.addConstrs(\n",
    "    M*(quicksum(x[k,1,c] for c in C)) + quicksum(s[k,3,c] for c in C) >= \n",
    "    (quicksum(s[k,2,c] for c in C) + Phi[k][2]) for k in K\n",
    ")"
   ]
  },
  {
   "cell_type": "markdown",
   "metadata": {},
   "source": [
    "**(6) Bind x=0 to s=0**\n",
    "\n",
    "When $x_{klc} = 0, s_{klc} = 0 $\n",
    "\n",
    "   * $Mx_{klc} \\geq s_{klc}$,&nbsp;&nbsp;&nbsp;&nbsp;&nbsp;&nbsp; $\\forall k \\in K$, $l \\in L$, $c \\in C$"
   ]
  },
  {
   "cell_type": "code",
   "execution_count": 13,
   "metadata": {},
   "outputs": [
    {
     "data": {
      "text/plain": [
       "{(0, 1, 0): <gurobi.Constr *Awaiting Model Update*>,\n",
       " (0, 1, 1): <gurobi.Constr *Awaiting Model Update*>,\n",
       " (0, 2, 0): <gurobi.Constr *Awaiting Model Update*>,\n",
       " (0, 2, 1): <gurobi.Constr *Awaiting Model Update*>,\n",
       " (0, 3, 0): <gurobi.Constr *Awaiting Model Update*>,\n",
       " (0, 3, 1): <gurobi.Constr *Awaiting Model Update*>,\n",
       " (1, 1, 0): <gurobi.Constr *Awaiting Model Update*>,\n",
       " (1, 1, 1): <gurobi.Constr *Awaiting Model Update*>,\n",
       " (1, 2, 0): <gurobi.Constr *Awaiting Model Update*>,\n",
       " (1, 2, 1): <gurobi.Constr *Awaiting Model Update*>,\n",
       " (1, 3, 0): <gurobi.Constr *Awaiting Model Update*>,\n",
       " (1, 3, 1): <gurobi.Constr *Awaiting Model Update*>,\n",
       " (2, 1, 0): <gurobi.Constr *Awaiting Model Update*>,\n",
       " (2, 1, 1): <gurobi.Constr *Awaiting Model Update*>,\n",
       " (2, 2, 0): <gurobi.Constr *Awaiting Model Update*>,\n",
       " (2, 2, 1): <gurobi.Constr *Awaiting Model Update*>,\n",
       " (2, 3, 0): <gurobi.Constr *Awaiting Model Update*>,\n",
       " (2, 3, 1): <gurobi.Constr *Awaiting Model Update*>,\n",
       " (3, 1, 0): <gurobi.Constr *Awaiting Model Update*>,\n",
       " (3, 1, 1): <gurobi.Constr *Awaiting Model Update*>,\n",
       " (3, 2, 0): <gurobi.Constr *Awaiting Model Update*>,\n",
       " (3, 2, 1): <gurobi.Constr *Awaiting Model Update*>,\n",
       " (3, 3, 0): <gurobi.Constr *Awaiting Model Update*>,\n",
       " (3, 3, 1): <gurobi.Constr *Awaiting Model Update*>}"
      ]
     },
     "execution_count": 13,
     "metadata": {},
     "output_type": "execute_result"
    }
   ],
   "source": [
    "model.addConstrs(M*x[k,l,c] >= s[k,l,c] for k in K for l in L for c in C)"
   ]
  },
  {
   "cell_type": "markdown",
   "metadata": {},
   "source": [
    "**(7) Domain of $s_{klc}$**\n",
    "\n",
    "The start time ($s_{klc}$) must be greater than 0:\n",
    "\n",
    "   * $s_{klc} \\geq 0$,&nbsp;&nbsp;&nbsp;&nbsp;&nbsp;&nbsp; $\\forall k \\in K$, $l \\in L$, $c \\in C$"
   ]
  },
  {
   "cell_type": "code",
   "execution_count": 14,
   "metadata": {},
   "outputs": [
    {
     "data": {
      "text/plain": [
       "{(0, 1, 0): <gurobi.Constr *Awaiting Model Update*>,\n",
       " (0, 1, 1): <gurobi.Constr *Awaiting Model Update*>,\n",
       " (0, 2, 0): <gurobi.Constr *Awaiting Model Update*>,\n",
       " (0, 2, 1): <gurobi.Constr *Awaiting Model Update*>,\n",
       " (0, 3, 0): <gurobi.Constr *Awaiting Model Update*>,\n",
       " (0, 3, 1): <gurobi.Constr *Awaiting Model Update*>,\n",
       " (1, 1, 0): <gurobi.Constr *Awaiting Model Update*>,\n",
       " (1, 1, 1): <gurobi.Constr *Awaiting Model Update*>,\n",
       " (1, 2, 0): <gurobi.Constr *Awaiting Model Update*>,\n",
       " (1, 2, 1): <gurobi.Constr *Awaiting Model Update*>,\n",
       " (1, 3, 0): <gurobi.Constr *Awaiting Model Update*>,\n",
       " (1, 3, 1): <gurobi.Constr *Awaiting Model Update*>,\n",
       " (2, 1, 0): <gurobi.Constr *Awaiting Model Update*>,\n",
       " (2, 1, 1): <gurobi.Constr *Awaiting Model Update*>,\n",
       " (2, 2, 0): <gurobi.Constr *Awaiting Model Update*>,\n",
       " (2, 2, 1): <gurobi.Constr *Awaiting Model Update*>,\n",
       " (2, 3, 0): <gurobi.Constr *Awaiting Model Update*>,\n",
       " (2, 3, 1): <gurobi.Constr *Awaiting Model Update*>,\n",
       " (3, 1, 0): <gurobi.Constr *Awaiting Model Update*>,\n",
       " (3, 1, 1): <gurobi.Constr *Awaiting Model Update*>,\n",
       " (3, 2, 0): <gurobi.Constr *Awaiting Model Update*>,\n",
       " (3, 2, 1): <gurobi.Constr *Awaiting Model Update*>,\n",
       " (3, 3, 0): <gurobi.Constr *Awaiting Model Update*>,\n",
       " (3, 3, 1): <gurobi.Constr *Awaiting Model Update*>}"
      ]
     },
     "execution_count": 14,
     "metadata": {},
     "output_type": "execute_result"
    }
   ],
   "source": [
    "model.addConstrs(s[k,l,c] >=0 for k in K for l in L for c in C)"
   ]
  },
  {
   "cell_type": "code",
   "execution_count": 15,
   "metadata": {},
   "outputs": [
    {
     "name": "stdout",
     "output_type": "stream",
     "text": [
      "Gurobi Optimizer version 9.0.3 build v9.0.3rc0 (win64)\n",
      "Optimize a model with 524 rows, 1008 columns and 1928 nonzeros\n",
      "Model fingerprint: 0x0a37d013\n",
      "Model has 48 quadratic objective terms\n",
      "Variable types: 0 continuous, 1008 integer (312 binary)\n",
      "Coefficient statistics:\n",
      "  Matrix range     [1e+00, 1e+03]\n",
      "  Objective range  [2e+02, 2e+02]\n",
      "  QObjective range [4e+01, 2e+02]\n",
      "  Bounds range     [1e+00, 1e+00]\n",
      "  RHS range        [1e+00, 3e+03]\n",
      "Found heuristic solution: objective 1.600000e+12\n",
      "Presolve removed 120 rows and 772 columns\n",
      "Presolve time: 0.01s\n",
      "Presolved: 492 rows, 348 columns, 1992 nonzeros\n",
      "Presolved model has 64 SOS constraint(s)\n",
      "Variable types: 0 continuous, 348 integer (212 binary)\n",
      "\n",
      "Root relaxation: objective -7.920128e+04, 193 iterations, 0.00 seconds\n",
      "\n",
      "    Nodes    |    Current Node    |     Objective Bounds      |     Work\n",
      " Expl Unexpl |  Obj  Depth IntInf | Incumbent    BestBd   Gap | It/Node Time\n",
      "\n",
      "     0     0 -79201.280    0   60 1.6000e+12 -79201.280   100%     -    0s\n",
      "H    0     0                    559480.00000 -79201.280   114%     -    0s\n",
      "H    0     0                    111100.00000 -79201.280   171%     -    0s\n",
      "     0     0 -79200.000    0   63 111100.000 -79200.000   171%     -    0s\n",
      "H    0     0                    16900.000000 -79200.000   569%     -    0s\n",
      "     0     0 -59400.960    0   54 16900.0000 -59400.960   451%     -    0s\n",
      "     0     0 -59400.640    0   68 16900.0000 -59400.640   451%     -    0s\n",
      "     0     0 -59400.320    0   67 16900.0000 -59400.320   451%     -    0s\n",
      "H    0     0                    15320.000000 -58200.960   480%     -    0s\n",
      "     0     0 -58200.960    0   10 15320.0000 -58200.960   480%     -    0s\n",
      "     0     0 -58200.640    0   29 15320.0000 -58200.640   480%     -    0s\n",
      "H    0     0                    11460.000000 -58200.320   608%     -    0s\n",
      "H    0     0                    11100.000000 -58200.320   624%     -    0s\n",
      "H    0     0                    8560.0000000 -58200.320   780%     -    0s\n",
      "     0     0 -58200.320    0   56 8560.00000 -58200.320   780%     -    0s\n",
      "     0     0 -38500.320    0   60 8560.00000 -38500.320   550%     -    0s\n",
      "H    0     0                    6840.0000000 -38500.000   663%     -    0s\n",
      "     0     0 -38500.000    0   10 6840.00000 -38500.000   663%     -    0s\n",
      "     0     0 -38500.000    0   10 6840.00000 -38500.000   663%     -    0s\n",
      "     0     0 4361.31868    0   36 6840.00000 4361.31868  36.2%     -    0s\n",
      "H    0     0                    6080.0000000 4361.31868  28.3%     -    0s\n",
      "     0     0 4440.93934    0   34 6080.00000 4440.93934  27.0%     -    0s\n",
      "     0     0 4454.39691    0   33 6080.00000 4454.39691  26.7%     -    0s\n",
      "     0     0 4800.00000    0    9 6080.00000 4800.00000  21.1%     -    0s\n",
      "     0     0 4800.00000    0    2 6080.00000 4800.00000  21.1%     -    0s\n",
      "     0     0 4800.00000    0    9 6080.00000 4800.00000  21.1%     -    0s\n",
      "     0     0 4800.00000    0    7 6080.00000 4800.00000  21.1%     -    0s\n",
      "     0     0 4800.00000    0    2 6080.00000 4800.00000  21.1%     -    0s\n",
      "     0     0 4800.00000    0    2 6080.00000 4800.00000  21.1%     -    0s\n",
      "     0     2 4800.00000    0    2 6080.00000 4800.00000  21.1%     -    0s\n",
      "\n",
      "Cutting planes:\n",
      "  Learned: 3\n",
      "  Gomory: 5\n",
      "  Cover: 37\n",
      "  Implied bound: 5\n",
      "  MIR: 15\n",
      "  StrongCG: 2\n",
      "  Flow cover: 6\n",
      "  Inf proof: 3\n",
      "  RLT: 13\n",
      "  Relax-and-lift: 5\n",
      "\n",
      "Explored 1828 nodes (11255 simplex iterations) in 0.47 seconds\n",
      "Thread count was 12 (of 12 available processors)\n",
      "\n",
      "Solution count 10: 6080 6840 6840 ... 559480\n",
      "\n",
      "Optimal solution found (tolerance 1.00e-04)\n",
      "Best objective 6.080000000000e+03, best bound 6.080000000000e+03, gap 0.0000%\n",
      "<gurobi.Var x_klc[0,1,0] (value 1.0)> <gurobi.Var s_klc[0,1,0] (value 3.0)>\n",
      "<gurobi.Var x_klc[0,1,1] (value 0.0)> <gurobi.Var s_klc[0,1,1] (value 0.0)>\n",
      "<gurobi.Var x_klc[0,2,0] (value 0.0)> <gurobi.Var s_klc[0,2,0] (value 0.0)>\n",
      "<gurobi.Var x_klc[0,2,1] (value 0.0)> <gurobi.Var s_klc[0,2,1] (value 0.0)>\n",
      "<gurobi.Var x_klc[0,3,0] (value 0.0)> <gurobi.Var s_klc[0,3,0] (value 0.0)>\n",
      "<gurobi.Var x_klc[0,3,1] (value 0.0)> <gurobi.Var s_klc[0,3,1] (value 0.0)>\n",
      "<gurobi.Var x_klc[1,1,0] (value 0.0)> <gurobi.Var s_klc[1,1,0] (value 0.0)>\n",
      "<gurobi.Var x_klc[1,1,1] (value 1.0)> <gurobi.Var s_klc[1,1,1] (value 3.0)>\n",
      "<gurobi.Var x_klc[1,2,0] (value 0.0)> <gurobi.Var s_klc[1,2,0] (value 0.0)>\n",
      "<gurobi.Var x_klc[1,2,1] (value 0.0)> <gurobi.Var s_klc[1,2,1] (value 0.0)>\n",
      "<gurobi.Var x_klc[1,3,0] (value 0.0)> <gurobi.Var s_klc[1,3,0] (value 0.0)>\n",
      "<gurobi.Var x_klc[1,3,1] (value 0.0)> <gurobi.Var s_klc[1,3,1] (value 0.0)>\n",
      "<gurobi.Var x_klc[2,1,0] (value 0.0)> <gurobi.Var s_klc[2,1,0] (value 0.0)>\n",
      "<gurobi.Var x_klc[2,1,1] (value 0.0)> <gurobi.Var s_klc[2,1,1] (value 0.0)>\n",
      "<gurobi.Var x_klc[2,2,0] (value 0.0)> <gurobi.Var s_klc[2,2,0] (value 0.0)>\n",
      "<gurobi.Var x_klc[2,2,1] (value 1.0)> <gurobi.Var s_klc[2,2,1] (value 16.0)>\n",
      "<gurobi.Var x_klc[2,3,0] (value 1.0)> <gurobi.Var s_klc[2,3,0] (value 18.0)>\n",
      "<gurobi.Var x_klc[2,3,1] (value 0.0)> <gurobi.Var s_klc[2,3,1] (value 0.0)>\n",
      "<gurobi.Var x_klc[3,1,0] (value 0.0)> <gurobi.Var s_klc[3,1,0] (value 0.0)>\n",
      "<gurobi.Var x_klc[3,1,1] (value 0.0)> <gurobi.Var s_klc[3,1,1] (value 0.0)>\n",
      "<gurobi.Var x_klc[3,2,0] (value 1.0)> <gurobi.Var s_klc[3,2,0] (value 16.0)>\n",
      "<gurobi.Var x_klc[3,2,1] (value 0.0)> <gurobi.Var s_klc[3,2,1] (value 0.0)>\n",
      "<gurobi.Var x_klc[3,3,0] (value 0.0)> <gurobi.Var s_klc[3,3,0] (value 0.0)>\n",
      "<gurobi.Var x_klc[3,3,1] (value 1.0)> <gurobi.Var s_klc[3,3,1] (value 18.0)>\n"
     ]
    }
   ],
   "source": [
    "model.optimize()\n",
    "\n",
    "for k in K:\n",
    "    for l in L:\n",
    "        for c in C:\n",
    "            print(x[k,l,c], s[k,l,c])\n",
    "#             for kp in K:\n",
    "#                 for lp in L:\n",
    "#                     print(x[k,l,c], s[k,l,c], x[kp, lp, c], s[kp, lp, c], z[k, l, kp, lp, c])\n",
    "            \n"
   ]
  },
  {
   "cell_type": "code",
   "execution_count": null,
   "metadata": {},
   "outputs": [],
   "source": []
  },
  {
   "cell_type": "markdown",
   "metadata": {},
   "source": [
    "# "
   ]
  }
 ],
 "metadata": {
  "kernelspec": {
   "display_name": "Python 3",
   "language": "python",
   "name": "python3"
  },
  "language_info": {
   "codemirror_mode": {
    "name": "ipython",
    "version": 3
   },
   "file_extension": ".py",
   "mimetype": "text/x-python",
   "name": "python",
   "nbconvert_exporter": "python",
   "pygments_lexer": "ipython3",
   "version": "3.7.1"
  }
 },
 "nbformat": 4,
 "nbformat_minor": 4
}
