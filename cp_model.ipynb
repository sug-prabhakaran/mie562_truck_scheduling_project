{
 "cells": [
  {
   "cell_type": "code",
   "execution_count": null,
   "metadata": {
    "id": "ntcz10t_DpT1"
   },
   "outputs": [],
   "source": [
    "#!pip install docplex"
   ]
  },
  {
   "cell_type": "code",
   "execution_count": null,
   "metadata": {
    "id": "u4VwMQZPDq2f"
   },
   "outputs": [],
   "source": [
    "from docplex.cp.model import *\n",
    "\n",
    "mdl = CpoModel()"
   ]
  },
  {
   "cell_type": "markdown",
   "metadata": {
    "id": "7_KtXTUnA5en"
   },
   "source": [
    "### Read in instance"
   ]
  },
  {
   "cell_type": "code",
   "execution_count": null,
   "metadata": {
    "id": "o22yYPAhA42D"
   },
   "outputs": [],
   "source": [
    "import csv\n",
    "instance=[]\n",
    "with open('instances/instance_base.csv', newline='') as csvfile:\n",
    "    csvreader = csv.reader(csvfile)\n",
    "    for row in csvreader:\n",
    "        \n",
    "        row = ' '.join(row).split()\n",
    "        #print(row)\n",
    "        instance.append(row)\n",
    "\n",
    "#instance[1]"
   ]
  },
  {
   "cell_type": "code",
   "execution_count": null,
   "metadata": {
    "id": "2SNqCtBXGnZe"
   },
   "outputs": [],
   "source": [
    "[num_containers, num_carriers, num_chassis, fixed_stack_cost, unit_cost_stack]=[int(float(i)) for i in instance[1]]\n",
    "containers=[int(float(i)) for i in instance[2]]\n",
    "carriers=instance[3]\n",
    "release_date=[int(float(i)) for i in instance[4]]\n",
    "transload_processing_time=[float(i) for i in instance[5]]\n",
    "priority=[int(float(i)) for i in instance[6]]"
   ]
  },
  {
   "cell_type": "code",
   "execution_count": null,
   "metadata": {
    "id": "MKtZwoDnHoET"
   },
   "outputs": [],
   "source": [
    "carrier_names = []\n",
    "c=0\n",
    "for i in range(num_carriers):\n",
    "    carrier_names.append(instance[7][c])\n",
    "    c+=2"
   ]
  },
  {
   "cell_type": "code",
   "execution_count": null,
   "metadata": {
    "id": "nPnpS_P6Lq4j"
   },
   "outputs": [],
   "source": [
    "#initialising dictionaries for the various cost based on carriers\n",
    "demurrage_free_dict=dict.fromkeys(carrier_names)\n",
    "demurrage_daily_dict=dict.fromkeys(carrier_names)\n",
    "detention_free_dict=dict.fromkeys(carrier_names)\n",
    "detention_daily_dict=dict.fromkeys(carrier_names)\n",
    "\n",
    "counter=1\n",
    "for i in carrier_names:\n",
    "    demurrage_free_dict[i]=instance[7][counter]\n",
    "    demurrage_daily_dict[i]=instance[8][counter]\n",
    "    detention_free_dict[i]=instance[9][counter]\n",
    "    detention_daily_dict[i]=instance[10][counter]\n",
    "    counter+=2"
   ]
  },
  {
   "cell_type": "code",
   "execution_count": null,
   "metadata": {
    "id": "xaohrGKGNofk"
   },
   "outputs": [],
   "source": [
    "demurrage_free_period=[]\n",
    "demurrage_daily_cost=[]\n",
    "detention_free_period=[]\n",
    "detention_daily_cost=[]\n",
    "for i in carriers:\n",
    "    demurrage_free_period.append(int(demurrage_free_dict[i]))\n",
    "    demurrage_daily_cost.append(int(demurrage_daily_dict[i]))\n",
    "    detention_free_period.append(int(demurrage_free_dict[i]))\n",
    "    detention_daily_cost.append(int(demurrage_daily_dict[i]))"
   ]
  },
  {
   "cell_type": "code",
   "execution_count": null,
   "metadata": {
    "id": "8PFNPHsrOjEH"
   },
   "outputs": [],
   "source": [
    "fixed_cost_stack, unit_cost_stack = int(float(instance[1][3])), int(float(instance[1][4]))\n",
    "#fixed_cost_stack\n",
    "leg_travel_times = dict()\n",
    "for i in range(0,6,2): \n",
    "    leg_travel_times[instance[11][i]]=float(instance[11][i+1])"
   ]
  },
  {
   "cell_type": "code",
   "execution_count": null,
   "metadata": {
    "id": "kFxI_3GhQU-D"
   },
   "outputs": [],
   "source": [
    "#priority=[100,100,10,50,50,50,10,10,10,10]"
   ]
  },
  {
   "cell_type": "markdown",
   "metadata": {
    "id": "qtjI7lT_A9G3"
   },
   "source": [
    "### Variables:"
   ]
  },
  {
   "cell_type": "code",
   "execution_count": null,
   "metadata": {
    "id": "GkntkWR0ZBJo"
   },
   "outputs": [],
   "source": [
    "transload={}\n",
    "stack={}\n",
    "leg_2={}\n",
    "\n",
    "for i in range(num_containers):\n",
    "    \n",
    "    transload[i] = mdl.interval_var()\n",
    "    stack[i] = mdl.interval_var(optional=True)\n",
    "    leg_2[i] = mdl.interval_var() #terminal to stack optional=True\n",
    "    #leg_3[i] = mdl.interval_var(optional=True) #stack to transload"
   ]
  },
  {
   "cell_type": "markdown",
   "metadata": {
    "id": "253j3axFnBue"
   },
   "source": [
    "### Adding precendence constraints"
   ]
  },
  {
   "cell_type": "code",
   "execution_count": null,
   "metadata": {
    "id": "AKJsgZxUOvnS"
   },
   "outputs": [],
   "source": [
    "#precendences = [(\"leg_1\",\"transload\"), (\"leg_2\",\"stack\"), (\"stack, leg_3\"), ('leg_3',\"transload\")]"
   ]
  },
  {
   "cell_type": "code",
   "execution_count": null,
   "metadata": {
    "id": "sA5m1jW1Ovqw"
   },
   "outputs": [],
   "source": [
    "for i in range(num_containers):\n",
    "    mdl.add(mdl.end_before_start(leg_2[i], stack[i]))\n",
    "    mdl.add(mdl.end_before_start(stack[i], transload[i]))\n",
    "    mdl.add(mdl.end_before_start(leg_2[i], transload[i]))\n",
    "    \n",
    "    mdl.add(mdl.start_of(transload[i])==mdl.end_of(stack[i]))\n",
    "    mdl.add(mdl.end_of(leg_2[i])==mdl.start_of(stack[i])) "
   ]
  },
  {
   "cell_type": "markdown",
   "metadata": {
    "id": "eU2YZlGFn74m"
   },
   "source": [
    "### Adding resource constraints"
   ]
  },
  {
   "cell_type": "code",
   "execution_count": null,
   "metadata": {
    "id": "mg6oGw6GoAKu"
   },
   "outputs": [],
   "source": [
    "\n",
    "chassis_usage = mdl.step_at(0,0)\n",
    "\n",
    "for i in range(num_containers):\n",
    "    #the pulse function seizes 1 resource for the interval amount of time, then goes back down \n",
    "    chassis_usage += mdl.pulse(transload[i],1) \n",
    "    chassis_usage += mdl.pulse(leg_2[i],1)\n",
    "    \n",
    "\n",
    "#constraint limiting number of chassis used at any given time \n",
    "mdl.add(chassis_usage <= num_chassis)"
   ]
  },
  {
   "cell_type": "code",
   "execution_count": null,
   "metadata": {
    "id": "TudId8a7YtuU"
   },
   "outputs": [],
   "source": [
    "# no overlap for each container\n",
    "for i in range(num_containers):\n",
    "    mdl.add(mdl.no_overlap([transload[i],leg_2[i]]))"
   ]
  },
  {
   "cell_type": "markdown",
   "metadata": {
    "executionInfo": {
     "elapsed": 781,
     "status": "ok",
     "timestamp": 1604680967377,
     "user": {
      "displayName": "Fan Jia",
      "photoUrl": "https://lh3.googleusercontent.com/a-/AOh14Ggc0wZMe3Wt-HIkfxXUcLCztU2sMZNxNYWHkoQv=s64",
      "userId": "00790150660280789022"
     },
     "user_tz": 300
    },
    "id": "R_agiq12oAV8"
   },
   "source": [
    "# Adding constraints end() = start() for transitioning of the same resource\n",
    "for i in range(num_containers):\n",
    "    mdl.add(mdl.end_of(leg_1[i])<=mdl.start_of(transload[i]))\n",
    "    mdl.add(mdl.end_of(leg_2[i])<=mdl.start_of(stack[i]))\n",
    "    mdl.add(mdl.end_of(stack[i])<=mdl.start_of(leg_3[i]))\n",
    "    mdl.add(mdl.end_of(leg_3[i])<=mdl.start_of(transload[i]))"
   ]
  },
  {
   "cell_type": "code",
   "execution_count": null,
   "metadata": {
    "id": "OaRMxo1hyC6g"
   },
   "outputs": [],
   "source": [
    "#defining leg lengths\n",
    "for i in range(num_containers):\n",
    "    mdl.add(mdl.length_of(transload[i])==transload_processing_time[i]+2*1)\n",
    "    mdl.add(mdl.length_of(leg_2[i])==1)\n",
    "    #mdl.add(mdl.size_of(stack[i])<=10)#...assume must stay at stack if goes there\n",
    "    mdl.add(mdl.start_of(transload[i])>=release_date[i])\n",
    "    mdl.add(mdl.start_of(leg_2[i])>=release_date[i])\n",
    "    \n",
    "    #mdl.add(mdl.presence_of(stack[i])==mdl.presence_of(leg_2[i]))\n",
    "    \n",
    "    #mdl.add(mdl.alternative(leg_1[i],[leg_2[i]]))\n",
    "    #mdl.add(mdl.sum(mdl.presence_of(leg_1[i])+mdl.presence_of(leg_2[i]))==1)\n",
    "    #mdl.add(mdl.no_overlap([leg_1[i],leg_2[i],stack[i],leg_3[i],transload[i]]))"
   ]
  },
  {
   "cell_type": "code",
   "execution_count": null,
   "metadata": {
    "id": "fH1Bp4cRYtuU"
   },
   "outputs": [],
   "source": [
    "#unit_cost_stack=-100"
   ]
  },
  {
   "cell_type": "markdown",
   "metadata": {
    "id": "ectfxuhFOwKC"
   },
   "source": [
    "### The objective:"
   ]
  },
  {
   "cell_type": "code",
   "execution_count": null,
   "metadata": {
    "id": "hNcrs3TzOwXa"
   },
   "outputs": [],
   "source": [
    "# create the obj and add it.\n",
    "mdl.add( \n",
    "    mdl.minimize( \n",
    "        mdl.sum(priority[i] *500* (mdl.end_of(transload[i]) - release_date[i]) \n",
    "                for i in range(num_containers) ) # the priority associated cost\n",
    "        + mdl.sum(detention_daily_cost[i] * mdl.max([0, mdl.end_of(transload[i]) - release_date[i] - detention_free_period[i]]) \n",
    "                  for i in range(num_containers) )#detention cost, added end since container needs to be returned empty not just started\n",
    "        + mdl.sum(mdl.presence_of(leg_2[i]) *(fixed_stack_cost + mdl.length_of(stack[i]) * unit_cost_stack) \n",
    "                  for i in range(num_containers) )# cost at stack, multiplying all costs by presence\n",
    "        + mdl.sum(demurrage_daily_cost[i] * mdl.max([0, mdl.start_of(transload[i]) - release_date[i] - demurrage_free_period[i], \n",
    "                                                     mdl.presence_of(leg_2[i])* (mdl.start_of(leg_2[i]) - release_date[i] - demurrage_free_period[i])]) \n",
    "                  for i in range(num_containers) )# demurrage cost at terminal until leaves either on leg 1 or  \n",
    "        \n",
    "       # + mdl.sum(10*mdl.presence_of(leg_2[i]) for i in range(num_containers)) #gas money\n",
    "      ) \n",
    "    ) "
   ]
  },
  {
   "cell_type": "markdown",
   "metadata": {
    "id": "GcNswYaU3KC9"
   },
   "source": [
    "#### Solve CP and solution"
   ]
  },
  {
   "cell_type": "code",
   "execution_count": null,
   "metadata": {
    "colab": {
     "base_uri": "https://localhost:8080/",
     "height": 511
    },
    "executionInfo": {
     "elapsed": 854,
     "status": "error",
     "timestamp": 1604688155722,
     "user": {
      "displayName": "Fan Jia",
      "photoUrl": "https://lh3.googleusercontent.com/a-/AOh14Ggc0wZMe3Wt-HIkfxXUcLCztU2sMZNxNYWHkoQv=s64",
      "userId": "00790150660280789022"
     },
     "user_tz": 300
    },
    "id": "gRYuDDCay7fW",
    "outputId": "d8cc3a23-be03-4d69-ee7d-cd729d4d4010"
   },
   "outputs": [],
   "source": [
    "# Solve the model\n",
    "print(\"\\nSolving model....\")\n",
    "msol = mdl.solve(TimeLimit=120)\n",
    "print(\"done\")\n",
    "msol.print_solution()"
   ]
  },
  {
   "cell_type": "code",
   "execution_count": null,
   "metadata": {
    "id": "3XU5DwN1YtuX"
   },
   "outputs": [],
   "source": [
    "#help(msol)"
   ]
  },
  {
   "cell_type": "code",
   "execution_count": null,
   "metadata": {
    "id": "oCEmjqRjYtuX"
   },
   "outputs": [],
   "source": [
    "#mdl.pulse?"
   ]
  },
  {
   "cell_type": "code",
   "execution_count": null,
   "metadata": {
    "id": "QChTDTk8YtuX"
   },
   "outputs": [],
   "source": [
    "trans,l2,s = [],[],[]\n",
    "for i in range(num_containers):\n",
    "    trans.append(msol.get_value(transload[i]))\n",
    "    l2.append(msol.get_value(leg_2[i]))\n",
    "    s.append(msol.get_value(stack[i]))"
   ]
  },
  {
   "cell_type": "code",
   "execution_count": null,
   "metadata": {
    "id": "Rqqvy2HFYtuX",
    "outputId": "83be9454-2d57-4b3e-f30d-dc5731c00b58"
   },
   "outputs": [],
   "source": [
    "trans"
   ]
  },
  {
   "cell_type": "code",
   "execution_count": null,
   "metadata": {
    "id": "glgCpT07YtuX",
    "outputId": "f2691673-c038-4f7d-c930-7e7c4d976916"
   },
   "outputs": [],
   "source": [
    "priority"
   ]
  },
  {
   "cell_type": "code",
   "execution_count": null,
   "metadata": {
    "id": "apdHo4MRYtuY",
    "outputId": "56278940-322d-4943-98dc-e6703c954c5b"
   },
   "outputs": [],
   "source": [
    "l2"
   ]
  },
  {
   "cell_type": "code",
   "execution_count": null,
   "metadata": {
    "id": "V92EcATvYtuY",
    "outputId": "fc372ee4-de72-4344-c6d1-c3c68834e4b0"
   },
   "outputs": [],
   "source": [
    "s"
   ]
  },
  {
   "cell_type": "code",
   "execution_count": null,
   "metadata": {
    "id": "LqXoKI9nYtuZ"
   },
   "outputs": [],
   "source": [
    "#mdl.alternative?"
   ]
  },
  {
   "cell_type": "code",
   "execution_count": null,
   "metadata": {
    "id": "_q-jmoULYtuZ"
   },
   "outputs": [],
   "source": [
    "import docplex.cp.utils_visu as visu\n",
    "import matplotlib.pyplot as plt\n",
    "%matplotlib inline\n",
    "#Change the plot size\n",
    "from pylab import rcParams\n",
    "rcParams['figure.figsize'] = 15, 10"
   ]
  },
  {
   "cell_type": "code",
   "execution_count": null,
   "metadata": {
    "id": "pqFDN4-cYtuZ",
    "outputId": "181b5df8-3453-4bcf-9e8b-7bdc0115f121"
   },
   "outputs": [],
   "source": [
    "#chassisF = CpoStepFunction()\n",
    "\n",
    "#for i in range(num_containers):\n",
    " #   itv = msol.get_var_solution(transload[i])\n",
    "  #  itv2 = msol.get_var_solution(leg_2[i])\n",
    "   # chassisF.add_value(itv.get_start(), itv.get_end(), 1)\n",
    "    #chassisF.add_value(itv.get_start(), itv.get_end(), 1)\n",
    "\n",
    "visu.timeline('Solution SchedCumul')\n",
    "visu.panel(name=\"Schedule\")\n",
    "for i in range(num_chassis):\n",
    "    wt = msol.get_var_solution(transload[i]) \n",
    "    visu.interval(wt, 'lightblue', 'transload '+str(i))   \n",
    "    wt = msol.get_var_solution(stack[i])   \n",
    "    visu.interval(wt, 'blue', 's')\n",
    "    wt = msol.get_var_solution(leg_2[i])   \n",
    "    visu.interval(wt, 'g', 'leg_2 '+str(i))\n",
    "#visu.panel(name=\"chassis\")\n",
    "#visu.function(segments=chassisF, style='area')\n",
    "visu.show()"
   ]
  },
  {
   "cell_type": "code",
   "execution_count": null,
   "metadata": {
    "id": "GB5iHDwmYtuZ",
    "outputId": "778a5747-cbb7-4433-bae2-8215e1457dc4"
   },
   "outputs": [],
   "source": [
    "for i in range(num_containers):\n",
    "    visu.sequence(name=i)\n",
    "    wt = msol.get_var_solution(transload[i]) \n",
    "    visu.interval(wt, 'lightblue', 'transload c'+str(i))   \n",
    "    wt = msol.get_var_solution(stack[i]) \n",
    "    if wt.is_present():\n",
    "        visu.interval(wt, 'lightgreen', 's')\n",
    "    wt = msol.get_var_solution(leg_2[i])   \n",
    "    visu.interval(wt, 'gold', 'leg_trip c'+str(i))\n",
    "visu.panel(name=\"Schedule\")\n",
    "visu.show()"
   ]
  }
 ],
 "metadata": {
  "colab": {
   "collapsed_sections": [],
   "name": "CP4-v2.ipynb",
   "provenance": [],
   "toc_visible": true
  },
  "kernelspec": {
   "display_name": "Python 3",
   "language": "python",
   "name": "python3"
  },
  "language_info": {
   "codemirror_mode": {
    "name": "ipython",
    "version": 3
   },
   "file_extension": ".py",
   "mimetype": "text/x-python",
   "name": "python",
   "nbconvert_exporter": "python",
   "pygments_lexer": "ipython3",
   "version": "3.7.7"
  }
 },
 "nbformat": 4,
 "nbformat_minor": 1
}
