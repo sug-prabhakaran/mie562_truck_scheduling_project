{
 "cells": [
  {
   "cell_type": "markdown",
   "metadata": {},
   "source": [
    "# MIE562 Project - Truck Scheduling - MIP Model\n",
    "\n",
    "**Team 5 - Dylan Camus, Ryan Do, Fan Jia, Matheus Magalhaes, Sugumar Prabhakaran**\n",
    "**Date: 8 Nov 2020"
   ]
  },
  {
   "cell_type": "code",
   "execution_count": 1,
   "metadata": {},
   "outputs": [],
   "source": [
    "import numpy as np\n",
    "import gurobipy as gp\n",
    "from gurobipy import Model, GRB, quicksum\n",
    "from random import randint, seed\n",
    "\n",
    "seed(0)"
   ]
  },
  {
   "cell_type": "markdown",
   "metadata": {},
   "source": [
    "## Introduction\n",
    "\n",
    "### 1. Sets\n",
    "   * Each container $k$ is in a set of containers $K$: \n",
    "       * $k \\in K$, where $K = \\left \\{1,2,3,\\ldots,k  \\right \\}$\n",
    "       \n",
    "   * Each carrier $j$ is in a set of carriers $J$: \n",
    "       * $j \\in J$, where $J = \\left \\{1,2,3,\\ldots,j  \\right \\}$\n",
    "       \n",
    "   * Each chassis $c$ is in a set of chassis, $C$: \n",
    "       * $c \\in C$, where $C = \\left \\{1,2,3,\\ldots,c  \\right \\}$\n",
    " \n",
    "   * $L$ is the set of travel legs: $L = \\left \\{1,2,3\\right\\}$, where:\n",
    "       * $1$ : terminal to transloading facility leg\n",
    "       * $2$ : terminal to stack leg\n",
    "       * $3$ : stack to transloading facility leg"
   ]
  },
  {
   "cell_type": "code",
   "execution_count": 2,
   "metadata": {},
   "outputs": [
    {
     "name": "stdout",
     "output_type": "stream",
     "text": [
      "Number of Carriers:2\n",
      "Containers in Carrier #1:10\n",
      "Containers in Carrier #2:12\n",
      "Number of Chassis:8\n",
      "\n",
      "Carriers J: [1 2]\n",
      "Containers K (j,k): [(1, 1), (1, 2), (1, 3), (1, 4), (1, 5), (1, 6), (1, 7), (1, 8), (1, 9), (1, 10), (2, 1), (2, 2), (2, 3), (2, 4), (2, 5), (2, 6), (2, 7), (2, 8), (2, 9), (2, 10), (2, 11), (2, 12)]\n",
      "Chassis C: [1 2 3 4 5 6 7 8]\n",
      "Legs L: [1 2 3]\n"
     ]
    }
   ],
   "source": [
    "#Define Sets and recieve input for initial \"instances\"\n",
    "J = np.arange(1,int(input(\"Number of Carriers:\"))+1)\n",
    "K= []\n",
    "\n",
    "for j in J:\n",
    "    containers = int(input(\"Containers in Carrier #{}:\".format(j)))\n",
    "    for k in range(1,containers + 1):\n",
    "        K.append((j,k))    \n",
    "    \n",
    "C = np.arange(1,int(input(\"Number of Chassis:\"))+1)\n",
    "\n",
    "L = np.arange(1,4)\n",
    "\n",
    "print(\"\\nCarriers J:\", J)\n",
    "print(\"Containers K (j,k):\", K)\n",
    "print(\"Chassis C:\", C)\n",
    "print(\"Legs L:\", L)"
   ]
  },
  {
   "cell_type": "code",
   "execution_count": 3,
   "metadata": {},
   "outputs": [],
   "source": [
    "#create a list of tuples containing every iteration of k,l,c\n",
    "A = [(k,l,c) for k in K for l in L for c in C]"
   ]
  },
  {
   "cell_type": "markdown",
   "metadata": {},
   "source": [
    "### 2. Parameters\n",
    "\n",
    "   * $\\Phi_{kl}$  : Time duration of leg l for container k [days] \n",
    "   * $D_{ll'}$: Delay required for a chassis to start leg l' after completing l (including travel) [days]\n",
    "   * $M$     : Some large number\n",
    "   * $R_k$   : Release date for container $k$ [days]\n",
    "   \n",
    "   * $T_j^{''}$: free period before demurrage cost for carrier j at terminal [days]\n",
    "   \n",
    "   * $T_j$: demurrage cost/unit time for carrier j at terminal [($/days)/container]\n",
    "   \n",
    "   * $S$     : fixed cost at stack [$/container]\n",
    "   \n",
    "   * ${S}'$  : variable cost at stack [($/day)/container]\n",
    "   \n",
    "   * $\\delta_j^{''}$: free period before detention cost for containers of carrier j [days]\n",
    "   \n",
    "   * $\\delta_j$: detention cost/unit time for containers of carrier j [($/days)/container]\n",
    "   \n",
    "   * $Z_{jk}$: 1 if container $k$ belongs to carrier $j$\n",
    "   * $\\rho_k$ : priority factor of container k (higher value is higher priority)\n",
    "   \n",
    "   "
   ]
  },
  {
   "cell_type": "code",
   "execution_count": 40,
   "metadata": {},
   "outputs": [],
   "source": [
    "#Set Parameters\n",
    "\n",
    "#Time duration of leg l for container k [days], k in K and l in L\n",
    "Phi_kl = {k:randint(0,9)/10 for k in K} #...NOT SURE HOW TO REPRESENT THIS???\n",
    "D_llprime = 0                         #...NOT SURE I UNDERSTAND THIS ONE\n",
    "\n",
    "M = 1000000                        # some large number\n",
    "R = {k:randint(0,5) for k in K}  # release date for container k[days]\n",
    "\n",
    "# free period before demurrage cost for containers from carrier j at terminal [days]\n",
    "T_prime = {j: randint(3,7) for j in J}\n",
    "# demurrage cost per container of carrier j after free period [($/day)/container]\n",
    "T = {j: randint(1,9)*50 for j in J} #CAN WE ASSUME FIXED? for all carriers?\n",
    "\n",
    "S = 200                            # $200 fixed cost at stack\n",
    "S_prime = 20                       # $20/day/container variable cost at stack\n",
    "\n",
    "# free period before detention cost for containers from carrier j [days]\n",
    "Delta_prime = {j: randint(3,7) for j in J} \n",
    "# detention cost per container of carrier j [($/day)/container]\n",
    "Delta = {j: randint(1,3)*100 for j in J}  # CAN WE ASSUME FIXED? for all carriers?\n",
    "\n",
    "Z = {(j,k):1 for j, k in K}     # DO WE NEED THIS? if we use tuples of (j,k)?\n",
    "rho = {k:randint(1,3) for k in K}  # priority factor for container k"
   ]
  },
  {
   "cell_type": "code",
   "execution_count": 5,
   "metadata": {},
   "outputs": [
    {
     "name": "stdout",
     "output_type": "stream",
     "text": [
      "Using license file /home/sugumarprabhakaran/gurobi.lic\n",
      "Academic license - for non-commercial use only\n"
     ]
    }
   ],
   "source": [
    "#Create a new model\n",
    "model = gp.Model(\"Truck_Scheduling\")"
   ]
  },
  {
   "cell_type": "markdown",
   "metadata": {},
   "source": [
    "### 3. Decision Variables\n",
    "\n",
    "   * Binary Variable: $x_{klc}$\n",
    "   $\\begin{equation}\n",
    "  =\\left\\{\n",
    "  \\begin{array}{@{}ll@{}}\n",
    "    1, & \\text{if}\\ \\text{container k travels leg l on chassis c} \\\\\n",
    "    0, & \\text{otherwise}\n",
    "  \\end{array}\\right.\n",
    "\\end{equation} $\n",
    "   * Start time $s$ of container $k$ on leg $l$ on chassis $c$: $s_{klc}$, where  $s_{klc} \\geq 0$"
   ]
  },
  {
   "cell_type": "code",
   "execution_count": 6,
   "metadata": {},
   "outputs": [],
   "source": [
    "#Create decision variables\n",
    "x = model.addVars(A, vtype=GRB.BINARY, name=\"x_klc\")\n",
    "s = model.addVars(A, vtype=GRB.INTEGER, name=\"s_klc\")\n",
    "c_dem = model.addVar(vtype=GRB.INTEGER, name=\"demurrage cost\")\n",
    "c_det = model.addVar(vtype=GRB.INTEGER, name=\"detention cost\")\n",
    "c_stk = model.addVar(vtype=GRB.INTEGER, name=\"stack cost\")\n",
    "c_pri = model.addVar(vtype=GRB.INTEGER, name=\"priority cost\");"
   ]
  },
  {
   "cell_type": "markdown",
   "metadata": {},
   "source": [
    "### 4. Objective Function\n",
    "\n",
    "We want to minimize the Total Cost ($c$) = (Demurrage cost}) + (Detention cost) + (Stack cost) + (Priority penalty cost)\n",
    "   \n",
    "   * **objective function:** $min$ $(c)$\n",
    "   \n",
    "   * $c = c_{dem} + c_{det} + c_{stk} + c_{pri}$\n",
    "\n",
    "**(1) Demurrage Cost:**\n",
    "\n",
    "The Demurrage Cost ($c_{dem}$) refers to cost associated with keeping containers in the terminal beyond the free period allotedin days ($T_{j}^{''}$) that is different for each carrier.\n",
    "\n",
    "If the start time for a container ($s_{klc}$) is higher than the release date ($R_{k}$) + the free period ($T_{j}^{''}$), there will be a variable cost per extra day ($T_{j}$) per container.\n",
    "   \n",
    "   * $c_{dem} = \\sum_{k \\in K}\\sum_{c \\in C}\\sum_{l \\in L}\\sum_{j \\in J}(T_j)\\cdot max\\left [(s_klc - R_k - T_{j}^{''})\\cdot (\\x_{\\klc}?)Z_{jk}, 0  \\right ]$\n",
    "   \n",
    "**Note.  Do we not need $x_{klc}$ to account for the $s_{klc}$?**\n",
    "   \n",
    "**(2) Detention Cost**\n",
    "\n",
    "The terminal also charges a detention cost ($c_{det}$) for containers that are not returned to the terminal for processing before return to the carrier.  Similar to demurrage, there is a free period before which the containers must be returned to the terminal ($\\delta_{j}^{''}$).\n",
    "\n",
    "If the start time for a container ($s_{klc}$) and the total travel time of a container back to the terminal including processing time ($\\phi_{kl}$) is greater than the release date ($R_{k}$) + the free period ($\\delta_{j}^{''}$), there will be a variable cost per extra day ($T_{j}$) per container.\n",
    "\n",
    "   * $c_{det} = \\sum_{k \\in K}\\sum_{c \\in C}\\sum_{l \\in {1,3}}\\sum_{j \\in J}(\\delta_j)\\cdot max\\left [(s_{klc} - R_k - \\phi_{kl} - \\delta_{j}^{''})\\cdot x_{klc}Z_{jk}, 0  \\right ]$\n",
    "   \n",
    "**Note2.  Could it be easier if we just used a $P_{k}$ for processing time of a container?  Then $\\phi$ could depend just on the legs? Might make it easier for creating the data structure for P?**\n",
    "\n",
    "**(3) Stack Storage Cost**\n",
    "\n",
    "The stack cost ($c_{stk}$) is the sum of the fixed cost percontainer ($S$) and the variable cost per day per container ($S^{'}$) x the number of days that a container is in the stack, which is the difference between leg 3 and leg 2 start times ($s_{klc}$).\n",
    "\n",
    "   * $c_{stk} = \\sum_{k \\in K}\\sum_{c \\in C}x_{k2c}\\cdot (S + S' (s_{k3c} - s_{k2c}))$\n",
    "\n",
    "**(4) Priority Penalty Cost**\n",
    "\n",
    "The priority penalty cost ($c_{pri}$) is applied for every day that a container sits in the terminal beyond the release day ($R_{k}$).  Since the priority factor per container ($\\rho_{k}$) is higher for higher priority containers, the associated penalty costs will be higher.\n",
    "\n",
    "   * $c_{det} = \\sum_{k \\in K}\\sum_{c \\in C}\\sum_{l \\in \\{{1,2}\\}}\\sum_{j \\in J}\\rho_k\\cdot (s_{klc} - R_k)\\cdot x_{klc}Z_{jk}$\n",
    "   \n",
    "**Note 3. Should we not include time spent at the stack as well towards this cost since priority containers sitting at the stack would still be suboptimal?**"
   ]
  },
  {
   "cell_type": "code",
   "execution_count": 39,
   "metadata": {},
   "outputs": [],
   "source": [
    "#Define objective function\n",
    "model.modelSense = GRB.MINIMIZE\n",
    "model.setObjective(c_dem + c_det + c_stk + c_pri)\n",
    "\n",
    "#c_dem = quicksum(\n",
    "#    T[j]*max((s[k,l,c] - R[k] - T_prime[j])*x[k,l,c]*Z[k],0) \n",
    "#    for k in K for c in C for l in L for j in J if l !=3)\n",
    "#Note1.  Having trouble with the max function in the quicksum...\n",
    "\n",
    "\n",
    "\n",
    "c_stk = quicksum(x[k,2,c]*(S + S_prime*(s[k,3,c] - s[k,2,c]))\n",
    "                 for k in K for c in C)\n",
    "\n",
    "c_pri = quicksum(rho[k]*(s[k,l,c] - R[k])*x[k,l,c]*Z[k]\n",
    "                for k in K for c in C for l in L if l !=3)\n",
    "#Note3. I think we need an element for delays at stack for c_pri"
   ]
  },
  {
   "cell_type": "markdown",
   "metadata": {},
   "source": [
    "### 5. Constraints"
   ]
  },
  {
   "cell_type": "markdown",
   "metadata": {},
   "source": [
    "**(2) Release date constraint**\n",
    "\n",
    "Start time ($s_{klc}$) must be after release date ($R_k$) for every container that leaves terminal on either leg 1 or leg 2 (ie. $x_{klc}=1$):\n",
    "\n",
    "   * $s_{klc} \\geq R_{k}x_{klc}$, &nbsp;&nbsp;&nbsp;&nbsp;&nbsp;&nbsp;$\\forall k \\in K$, $l\\in L$, $c \\in C$ "
   ]
  },
  {
   "cell_type": "code",
   "execution_count": 31,
   "metadata": {},
   "outputs": [],
   "source": [
    "model.addConstrs(s[k,l,c]>= R[k]*x[k,l,c] for k in K for l in L for c in C);"
   ]
  },
  {
   "cell_type": "markdown",
   "metadata": {},
   "source": [
    "**(3) Containers going through leg 2 must go through leg 3**\n",
    "\n",
    "Each container k will have a x_klc value of 1 or 0 for both leg 2 and leg 3 depending on if they travel through them or not:\n",
    "\n",
    "   * $\\sum_{c \\in C}(x_{k2c}) = \\sum_{c \\in C}(x_{k3c})$,&nbsp;&nbsp;&nbsp;&nbsp;&nbsp;&nbsp;$\\forall k \\in K$"
   ]
  },
  {
   "cell_type": "code",
   "execution_count": 9,
   "metadata": {
    "scrolled": false
   },
   "outputs": [],
   "source": [
    "model.addConstrs(quicksum(x[k,2,c] for c in C)==quicksum(x[k,3,c] for c in C) for k in K);"
   ]
  },
  {
   "cell_type": "markdown",
   "metadata": {},
   "source": [
    "**(4) Container must go through leg 1 OR leg 2 AND 3**\n",
    "\n",
    "Each container ($k$) will have $x_klc = 1$ for either leg 1 or leg 2 so the sum of the two must be 1 for all containers ($k$) on all chassis ($c$).\n",
    "\n",
    "   * $\\sum_{c \\in C}(x_{k1c}) + \\sum_{c \\in C}(x_{k2c}) = 1$,&nbsp;&nbsp;&nbsp;&nbsp;&nbsp;&nbsp; $\\forall k \\in K$"
   ]
  },
  {
   "cell_type": "code",
   "execution_count": 10,
   "metadata": {},
   "outputs": [],
   "source": [
    "model.addConstrs(\n",
    "    (quicksum(x[k,1,c] for c in C) + quicksum(x[k,2,c] for c in C))==1 for k in K\n",
    ");"
   ]
  },
  {
   "cell_type": "markdown",
   "metadata": {},
   "source": [
    "**(5) Precedence Constraint: Leg 2 must be before Leg 3**\n",
    "\n",
    "Each container k will have a x_klc value of 1 for either leg 1 or leg 2 so the sum of the two must be 1 for all containers (k) on all chassis (c).\n",
    "\n",
    "   * $M\\sum_{c \\in C}(x_{k1c}) + \\sum_{c \\in C}(x_{k3c}s_{k3c}) \\geq = \\sum_{c \\in C}(x_{k2c}s_{k2c}) + \\Phi_{k2}$,&nbsp;&nbsp;&nbsp;&nbsp;&nbsp;&nbsp; $\\forall k \\in K$\n",
    "   "
   ]
  },
  {
   "cell_type": "code",
   "execution_count": 11,
   "metadata": {},
   "outputs": [],
   "source": [
    "model.addConstrs(\n",
    "    (quicksum(x[k,1,c] for c in C) + quicksum(x[k,3,c]*s[k,3,c] for c in C)) >= \n",
    "    (quicksum(x[k,2,c]*s[k,2,c] for c in C) + S) for k in K\n",
    ");\n",
    "#Note... Need to replace 'S' with 'Phi_k2' but haven't created that parameter yet"
   ]
  },
  {
   "cell_type": "markdown",
   "metadata": {},
   "source": [
    "**(6) Domain of $s_{klc}$**\n",
    "\n",
    "The start time ($s_{klc}$) must be greater than 0:\n",
    "\n",
    "   * $s_{klc} \\geq 0$,&nbsp;&nbsp;&nbsp;&nbsp;&nbsp;&nbsp; $\\forall k \\in K$, $l \\in L$, $c \\in C$"
   ]
  },
  {
   "cell_type": "code",
   "execution_count": 12,
   "metadata": {},
   "outputs": [],
   "source": [
    "model.addConstrs(s[k,l,c] >=0 for k in K for l in L for c in C);"
   ]
  }
 ],
 "metadata": {
  "kernelspec": {
   "display_name": "Python 3",
   "language": "python",
   "name": "python3"
  },
  "language_info": {
   "codemirror_mode": {
    "name": "ipython",
    "version": 3
   },
   "file_extension": ".py",
   "mimetype": "text/x-python",
   "name": "python",
   "nbconvert_exporter": "python",
   "pygments_lexer": "ipython3",
   "version": "3.7.7"
  }
 },
 "nbformat": 4,
 "nbformat_minor": 4
}
