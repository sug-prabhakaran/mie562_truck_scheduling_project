{
 "cells": [
  {
   "cell_type": "code",
   "execution_count": 1,
   "metadata": {
    "executionInfo": {
     "elapsed": 490,
     "status": "ok",
     "timestamp": 1604752582426,
     "user": {
      "displayName": "Dylan Camus",
      "photoUrl": "https://lh3.googleusercontent.com/a-/AOh14Gi7xkxR7Am2A9epLinwBcJ7DCJ2UPNAN2r99b9R=s64",
      "userId": "00670650821243485723"
     },
     "user_tz": 240
    },
    "id": "cqYl7VEce9Oy"
   },
   "outputs": [],
   "source": [
    "import pandas as pd\n",
    "import numpy as np\n",
    "import matplotlib.pyplot as plt\n",
    "import string\n",
    "from collections import Counter"
   ]
  },
  {
   "cell_type": "code",
   "execution_count": 2,
   "metadata": {
    "executionInfo": {
     "elapsed": 520,
     "status": "ok",
     "timestamp": 1604752601758,
     "user": {
      "displayName": "Dylan Camus",
      "photoUrl": "https://lh3.googleusercontent.com/a-/AOh14Gi7xkxR7Am2A9epLinwBcJ7DCJ2UPNAN2r99b9R=s64",
      "userId": "00670650821243485723"
     },
     "user_tz": 240
    },
    "id": "EPhCJXj1e9O4"
   },
   "outputs": [
    {
     "name": "stdout",
     "output_type": "stream",
     "text": [
      "instance_10.csv\n",
      "instance_10 -- 25 containers -- 3 carriers -- 5 chassis -- 30-day horizon\n"
     ]
    }
   ],
   "source": [
    "seed = 11\n",
    "\n",
    "#initialize integer params\n",
    "instance_number = 10\n",
    "num_containers = 25\n",
    "num_carriers = 3\n",
    "num_chassis = 5\n",
    "fixed_stack_cost = 300\n",
    "daily_stack_cost = 15\n",
    "\n",
    "#define horizon & # of arrivals (usually every 1,3 days, i think)\n",
    "num_ship_arrivals = 10\n",
    "horizon = 30\n",
    "\n",
    "#file_name\n",
    "instance = (\"instance_%i -- %i containers -- %i carriers -- %i chassis -- %i-day horizon\" \n",
    "            % (instance_number, num_containers, num_carriers, num_chassis, horizon))\n",
    "file_name = (\"instance_%i.csv\" % instance_number)\n",
    "\n",
    "#initializing choice ranges for carriers\n",
    "alphabet = string.ascii_lowercase.split()[0][0:num_carriers]\n",
    "used_alphabet = list(alphabet)\n",
    "demurrage_period_choices = [2,3,4,5,6,7]\n",
    "detention_period_choices = [14,21,28]\n",
    "demurrage_cost_choices = np.arange(1000,3500,step=100)\n",
    "detention_cost_choices = np.arange(50,200,step=50)\n",
    "\n",
    "#initialize lists/dicts + travel times to each destination\n",
    "containers,carriers,release_dates,transload_pt,priority = [],[],[],[],[]\n",
    "demurrage_free_period,demurrage_daily_cost,detention_free_period,detention_daily_cost = {},{},{},{}\n",
    "leg_travel_times = {'leg_1':1/8, 'leg_2':1/8, 'leg_3':1/8}  #% of daily shift (8 total hours)\n",
    "print(file_name)\n",
    "print(instance)"
   ]
  },
  {
   "cell_type": "markdown",
   "metadata": {
    "id": "1PluLy-5e9O9"
   },
   "source": [
    "### Container index "
   ]
  },
  {
   "cell_type": "code",
   "execution_count": 3,
   "metadata": {
    "executionInfo": {
     "elapsed": 531,
     "status": "ok",
     "timestamp": 1604752605254,
     "user": {
      "displayName": "Dylan Camus",
      "photoUrl": "https://lh3.googleusercontent.com/a-/AOh14Gi7xkxR7Am2A9epLinwBcJ7DCJ2UPNAN2r99b9R=s64",
      "userId": "00670650821243485723"
     },
     "user_tz": 240
    },
    "id": "up4sjHhye9O-"
   },
   "outputs": [
    {
     "data": {
      "text/plain": [
       "array([ 1,  2,  3,  4,  5,  6,  7,  8,  9, 10, 11, 12, 13, 14, 15, 16, 17,\n",
       "       18, 19, 20, 21, 22, 23, 24, 25])"
      ]
     },
     "execution_count": 3,
     "metadata": {},
     "output_type": "execute_result"
    }
   ],
   "source": [
    "containers = np.arange(1,num_containers+1)\n",
    "containers"
   ]
  },
  {
   "cell_type": "markdown",
   "metadata": {
    "id": "FGG9L4B6e9PC"
   },
   "source": [
    "### Assign a Carrier to Container i"
   ]
  },
  {
   "cell_type": "code",
   "execution_count": 4,
   "metadata": {
    "executionInfo": {
     "elapsed": 680,
     "status": "ok",
     "timestamp": 1604752607689,
     "user": {
      "displayName": "Dylan Camus",
      "photoUrl": "https://lh3.googleusercontent.com/a-/AOh14Gi7xkxR7Am2A9epLinwBcJ7DCJ2UPNAN2r99b9R=s64",
      "userId": "00670650821243485723"
     },
     "user_tz": 240
    },
    "id": "q7k6TwY6e9PD"
   },
   "outputs": [
    {
     "data": {
      "text/plain": [
       "array(['b', 'a', 'b', 'b', 'a', 'b', 'c', 'a', 'b', 'a', 'a', 'b', 'a',\n",
       "       'b', 'a', 'b', 'a', 'c', 'a', 'b', 'c', 'b', 'b', 'a', 'b'],\n",
       "      dtype='<U1')"
      ]
     },
     "execution_count": 4,
     "metadata": {},
     "output_type": "execute_result"
    }
   ],
   "source": [
    "np.random.seed(seed)\n",
    "carriers = np.random.choice(used_alphabet,num_containers)\n",
    "carriers"
   ]
  },
  {
   "cell_type": "code",
   "execution_count": 5,
   "metadata": {
    "colab": {
     "base_uri": "https://localhost:8080/",
     "height": 295
    },
    "executionInfo": {
     "elapsed": 520,
     "status": "ok",
     "timestamp": 1604752608358,
     "user": {
      "displayName": "Dylan Camus",
      "photoUrl": "https://lh3.googleusercontent.com/a-/AOh14Gi7xkxR7Am2A9epLinwBcJ7DCJ2UPNAN2r99b9R=s64",
      "userId": "00670650821243485723"
     },
     "user_tz": 240
    },
    "id": "3KLE_QVqe9PH",
    "outputId": "c8495d6e-6420-4765-b8af-62f3cee19e2e"
   },
   "outputs": [
    {
     "data": {
      "image/png": "[encoded data removed]",
      "text/plain": [
       "<Figure size 432x288 with 1 Axes>"
      ]
     },
     "metadata": {
      "needs_background": "light"
     },
     "output_type": "display_data"
    }
   ],
   "source": [
    "counts, count = Counter(carriers), []\n",
    "for i in used_alphabet:\n",
    "    count.append(counts[i])\n",
    "    \n",
    "plt.bar(used_alphabet,count,edgecolor='black',width=1.0)\n",
    "plt.title('Containers, by Carrier')\n",
    "plt.ylabel('Number of Containers',size=11)\n",
    "plt.xlabel('Carrier',size=11)\n",
    "plt.show()"
   ]
  },
  {
   "cell_type": "markdown",
   "metadata": {
    "id": "DQ_fQVsMe9PM"
   },
   "source": [
    "### Release Dates"
   ]
  },
  {
   "cell_type": "markdown",
   "metadata": {
    "id": "4H0UgbX6e9PN"
   },
   "source": [
    "Selecting one of the ship arrival days, assigning a carrier to that ship, then assigning release dates to each container from the possible carrier arrival days, then plotting arrival schedules "
   ]
  },
  {
   "cell_type": "code",
   "execution_count": 6,
   "metadata": {
    "executionInfo": {
     "elapsed": 467,
     "status": "ok",
     "timestamp": 1604752610716,
     "user": {
      "displayName": "Dylan Camus",
      "photoUrl": "https://lh3.googleusercontent.com/a-/AOh14Gi7xkxR7Am2A9epLinwBcJ7DCJ2UPNAN2r99b9R=s64",
      "userId": "00670650821243485723"
     },
     "user_tz": 240
    },
    "id": "uyrPEdExe9PO"
   },
   "outputs": [],
   "source": [
    "np.random.seed(seed)\n",
    "ship_arrival_dates = np.random.choice(horizon,num_ship_arrivals)\n",
    "release_dates = []\n",
    "\n",
    "#assign a ship arrival to a carrier\n",
    "assign_carriers = []\n",
    "container_list = used_alphabet.copy()\n",
    "for ship in ship_arrival_dates:\n",
    "    selected_container = np.random.choice(container_list)\n",
    "    assign_carriers.append(selected_container)\n",
    "    container_list.remove(selected_container)\n",
    "    if len(container_list) == 0:\n",
    "        container_list = used_alphabet.copy()\n",
    "\n",
    "#make dictionnary for all carrier arrivals\n",
    "carrier_arrivals, container_arrivals, pl= {},{},[]\n",
    "for letter in used_alphabet:\n",
    "    cont_arrivals = []\n",
    "    ship_arrivals = []\n",
    "    for s in range(num_ship_arrivals):\n",
    "        if assign_carriers[s] == letter:\n",
    "            ship_arrivals.append(ship_arrival_dates[s])\n",
    "    for i in range(num_containers):\n",
    "        if carriers[i] == letter:\n",
    "            cont_arrivals.append(i)\n",
    "            \n",
    "    #if no arrivals are from carrier then skip\n",
    "    if ship_arrivals != []:\n",
    "        carrier_arrivals[letter] = ship_arrivals\n",
    "    if cont_arrivals != []:\n",
    "        container_arrivals[letter] = cont_arrivals\n",
    "    pl.append(cont_arrivals)\n",
    "        \n",
    "#select a release date from possible carrier arrival dates\n",
    "for i in carriers:\n",
    "    release_dates.append(np.random.choice(carrier_arrivals[i]))\n",
    "\n",
    "release_dates = np.array(release_dates)\n",
    "\n",
    "#get container arrival dates, by carrier (to plot)\n",
    "for letter in used_alphabet:\n",
    "    cont_arrivals = []\n",
    "    for i in range(num_containers):\n",
    "        if carriers[i] == letter:\n",
    "            cont_arrivals.append(release_dates[i])\n",
    "    if cont_arrivals != []:\n",
    "        container_arrivals[letter] = cont_arrivals\n",
    "    pl.append(cont_arrivals)"
   ]
  },
  {
   "cell_type": "code",
   "execution_count": 7,
   "metadata": {
    "colab": {
     "base_uri": "https://localhost:8080/",
     "height": 295
    },
    "executionInfo": {
     "elapsed": 1143,
     "status": "ok",
     "timestamp": 1604752615873,
     "user": {
      "displayName": "Dylan Camus",
      "photoUrl": "https://lh3.googleusercontent.com/a-/AOh14Gi7xkxR7Am2A9epLinwBcJ7DCJ2UPNAN2r99b9R=s64",
      "userId": "00670650821243485723"
     },
     "user_tz": 240
    },
    "id": "h8Qaggk3e9PT",
    "outputId": "b1151b03-db0d-491e-d235-f36768e7e404"
   },
   "outputs": [
    {
     "data": {
      "image/png": "[encoded data removed]",
      "text/plain": [
       "<Figure size 1008x288 with 2 Axes>"
      ]
     },
     "metadata": {
      "needs_background": "light"
     },
     "output_type": "display_data"
    }
   ],
   "source": [
    "#getting max for figure\n",
    "arrivals = list(ship_arrival_dates)\n",
    "max_day_arrivals = max(set(arrivals),key=arrivals.count) \n",
    "\n",
    "#plotting ship arrival schedule and container arrival schedule for instance \n",
    "plt.figure(figsize=(14,4))\n",
    "\n",
    "plt.subplot(1,2,1)\n",
    "data = []\n",
    "for letter in carrier_arrivals:\n",
    "    data.append(carrier_arrivals[letter])\n",
    "plt.hist(data,bins=horizon,edgecolor='black',stacked=True,label=used_alphabet)\n",
    "plt.title('Ship Arrival Schedule by Day, by Carrier')\n",
    "plt.xlabel('Day')\n",
    "plt.ylabel('Frequency')\n",
    "plt.legend()\n",
    "plt.yticks(np.arange(0,max_day_arrivals,step=1))\n",
    "\n",
    "plt.subplot(1,2,2)\n",
    "data = []\n",
    "for letter in container_arrivals:\n",
    "    data.append(container_arrivals[letter])\n",
    "plt.hist(data,bins=horizon,edgecolor='black',stacked=True,label=used_alphabet)\n",
    "plt.title('Container Arrivals by Day, by Carrier')\n",
    "plt.xlabel('Day')\n",
    "plt.ylabel('Number of Containers')\n",
    "plt.legend()\n",
    "\n",
    "plt.show()"
   ]
  },
  {
   "cell_type": "markdown",
   "metadata": {
    "id": "ONIjlk0Re9PY"
   },
   "source": [
    "### Transload Processing Times (using Tria(1,2,5) distribution)"
   ]
  },
  {
   "cell_type": "code",
   "execution_count": 8,
   "metadata": {
    "colab": {
     "base_uri": "https://localhost:8080/",
     "height": 312
    },
    "executionInfo": {
     "elapsed": 498,
     "status": "ok",
     "timestamp": 1604752653076,
     "user": {
      "displayName": "Dylan Camus",
      "photoUrl": "https://lh3.googleusercontent.com/a-/AOh14Gi7xkxR7Am2A9epLinwBcJ7DCJ2UPNAN2r99b9R=s64",
      "userId": "00670650821243485723"
     },
     "user_tz": 240
    },
    "id": "ngMwQ_Jxe9PZ",
    "outputId": "0beb7735-bb44-456a-d3c7-77c998a9e418"
   },
   "outputs": [
    {
     "name": "stdout",
     "output_type": "stream",
     "text": [
      "[1.27910745 2.46201307 3.18319158 2.36228191]\n"
     ]
    },
    {
     "data": {
      "image/png": "[encoded data removed]",
      "text/plain": [
       "<Figure size 432x288 with 1 Axes>"
      ]
     },
     "metadata": {
      "needs_background": "light"
     },
     "output_type": "display_data"
    }
   ],
   "source": [
    "np.random.seed(seed)\n",
    "transload_pt = np.random.triangular(1,2,5,size=num_containers)\n",
    "print(transload_pt[1:5])\n",
    "\n",
    "plt.hist(transload_pt,bins=14,edgecolor='black')\n",
    "plt.title('Processing Time at Transload, in Days')\n",
    "plt.xlabel('Days')\n",
    "plt.ylabel('Frequency')\n",
    "plt.show()"
   ]
  },
  {
   "cell_type": "markdown",
   "metadata": {
    "id": "AJ_7rIP0e9Pf"
   },
   "source": [
    "### Priority (randomly assign 1-->num_containers, all unique)"
   ]
  },
  {
   "cell_type": "code",
   "execution_count": 9,
   "metadata": {
    "id": "qcenKpUJe9Pg"
   },
   "outputs": [],
   "source": [
    "np.random.seed(seed)\n",
    "priority = np.random.choice(np.arange(1,num_containers+1),num_containers,replace=False)"
   ]
  },
  {
   "cell_type": "markdown",
   "metadata": {
    "id": "0jw26lake9Pj"
   },
   "source": [
    "### Carrier Associated Costs"
   ]
  },
  {
   "cell_type": "code",
   "execution_count": 10,
   "metadata": {
    "id": "jB9XBEwme9Pk"
   },
   "outputs": [],
   "source": [
    "#choosing from possible period and cost values (define at beginning)\n",
    "np.random.seed(seed)\n",
    "for j in range(num_carriers):\n",
    "    demurrage_free_period[alphabet[j]] = np.random.choice(demurrage_period_choices)\n",
    "    demurrage_daily_cost[alphabet[j]] = np.random.choice(demurrage_cost_choices)\n",
    "    detention_free_period[alphabet[j]] = np.random.choice(detention_period_choices)\n",
    "    detention_daily_cost[alphabet[j]] = np.random.choice(detention_cost_choices) "
   ]
  },
  {
   "cell_type": "markdown",
   "metadata": {
    "id": "McT680Axe9Po"
   },
   "source": [
    "### Merging Parameters & Write to File_name"
   ]
  },
  {
   "cell_type": "code",
   "execution_count": 11,
   "metadata": {
    "colab": {
     "base_uri": "https://localhost:8080/",
     "height": 564
    },
    "executionInfo": {
     "elapsed": 592,
     "status": "ok",
     "timestamp": 1604698589138,
     "user": {
      "displayName": "Dylan Camus",
      "photoUrl": "https://lh3.googleusercontent.com/a-/AOh14Gi7xkxR7Am2A9epLinwBcJ7DCJ2UPNAN2r99b9R=s64",
      "userId": "00670650821243485723"
     },
     "user_tz": 240
    },
    "id": "8p7QvfI_e9Pp",
    "outputId": "ba42a1b2-6b31-4ac9-e32a-246822d7226e",
    "scrolled": true
   },
   "outputs": [
    {
     "data": {
      "text/html": [
       "<div>\n",
       "<style scoped>\n",
       "    .dataframe tbody tr th:only-of-type {\n",
       "        vertical-align: middle;\n",
       "    }\n",
       "\n",
       "    .dataframe tbody tr th {\n",
       "        vertical-align: top;\n",
       "    }\n",
       "\n",
       "    .dataframe thead th {\n",
       "        text-align: right;\n",
       "    }\n",
       "</style>\n",
       "<table border=\"1\" class=\"dataframe\">\n",
       "  <thead>\n",
       "    <tr style=\"text-align: right;\">\n",
       "      <th></th>\n",
       "      <th>instance_10 -- 25 containers -- 3 carriers -- 5 chassis -- 30-day horizon</th>\n",
       "      <th>NaN</th>\n",
       "      <th>NaN</th>\n",
       "      <th>NaN</th>\n",
       "      <th>NaN</th>\n",
       "      <th>NaN</th>\n",
       "      <th>NaN</th>\n",
       "      <th>NaN</th>\n",
       "      <th>NaN</th>\n",
       "      <th>NaN</th>\n",
       "      <th>...</th>\n",
       "      <th>NaN</th>\n",
       "      <th>NaN</th>\n",
       "      <th>NaN</th>\n",
       "      <th>NaN</th>\n",
       "      <th>NaN</th>\n",
       "      <th>NaN</th>\n",
       "      <th>NaN</th>\n",
       "      <th>NaN</th>\n",
       "      <th>NaN</th>\n",
       "      <th>NaN</th>\n",
       "    </tr>\n",
       "  </thead>\n",
       "  <tbody>\n",
       "    <tr>\n",
       "      <th>0</th>\n",
       "      <td>25</td>\n",
       "      <td>3</td>\n",
       "      <td>5</td>\n",
       "      <td>NaN</td>\n",
       "      <td>300</td>\n",
       "      <td>15</td>\n",
       "      <td>NaN</td>\n",
       "      <td>NaN</td>\n",
       "      <td>NaN</td>\n",
       "      <td>NaN</td>\n",
       "      <td>...</td>\n",
       "      <td>NaN</td>\n",
       "      <td>NaN</td>\n",
       "      <td>NaN</td>\n",
       "      <td>NaN</td>\n",
       "      <td>NaN</td>\n",
       "      <td>NaN</td>\n",
       "      <td>NaN</td>\n",
       "      <td>NaN</td>\n",
       "      <td>NaN</td>\n",
       "      <td>NaN</td>\n",
       "    </tr>\n",
       "    <tr>\n",
       "      <th>1</th>\n",
       "      <td>1</td>\n",
       "      <td>2</td>\n",
       "      <td>3</td>\n",
       "      <td>4</td>\n",
       "      <td>5</td>\n",
       "      <td>6</td>\n",
       "      <td>7</td>\n",
       "      <td>8</td>\n",
       "      <td>9</td>\n",
       "      <td>10</td>\n",
       "      <td>...</td>\n",
       "      <td>16</td>\n",
       "      <td>17</td>\n",
       "      <td>18</td>\n",
       "      <td>19</td>\n",
       "      <td>20</td>\n",
       "      <td>21</td>\n",
       "      <td>22</td>\n",
       "      <td>23</td>\n",
       "      <td>24</td>\n",
       "      <td>25</td>\n",
       "    </tr>\n",
       "    <tr>\n",
       "      <th>2</th>\n",
       "      <td>b</td>\n",
       "      <td>a</td>\n",
       "      <td>b</td>\n",
       "      <td>b</td>\n",
       "      <td>a</td>\n",
       "      <td>b</td>\n",
       "      <td>c</td>\n",
       "      <td>a</td>\n",
       "      <td>b</td>\n",
       "      <td>a</td>\n",
       "      <td>...</td>\n",
       "      <td>b</td>\n",
       "      <td>a</td>\n",
       "      <td>c</td>\n",
       "      <td>a</td>\n",
       "      <td>b</td>\n",
       "      <td>c</td>\n",
       "      <td>b</td>\n",
       "      <td>b</td>\n",
       "      <td>a</td>\n",
       "      <td>b</td>\n",
       "    </tr>\n",
       "    <tr>\n",
       "      <th>3</th>\n",
       "      <td>27</td>\n",
       "      <td>17</td>\n",
       "      <td>27</td>\n",
       "      <td>12</td>\n",
       "      <td>25</td>\n",
       "      <td>23</td>\n",
       "      <td>7</td>\n",
       "      <td>17</td>\n",
       "      <td>23</td>\n",
       "      <td>25</td>\n",
       "      <td>...</td>\n",
       "      <td>18</td>\n",
       "      <td>1</td>\n",
       "      <td>7</td>\n",
       "      <td>1</td>\n",
       "      <td>27</td>\n",
       "      <td>13</td>\n",
       "      <td>18</td>\n",
       "      <td>27</td>\n",
       "      <td>1</td>\n",
       "      <td>23</td>\n",
       "    </tr>\n",
       "    <tr>\n",
       "      <th>4</th>\n",
       "      <td>1.85</td>\n",
       "      <td>1.28</td>\n",
       "      <td>2.46</td>\n",
       "      <td>3.18</td>\n",
       "      <td>2.36</td>\n",
       "      <td>2.52</td>\n",
       "      <td>1.23</td>\n",
       "      <td>2.52</td>\n",
       "      <td>4.16</td>\n",
       "      <td>3.66</td>\n",
       "      <td>...</td>\n",
       "      <td>2.9</td>\n",
       "      <td>1.29</td>\n",
       "      <td>1.68</td>\n",
       "      <td>2.14</td>\n",
       "      <td>1.79</td>\n",
       "      <td>3.3</td>\n",
       "      <td>3.52</td>\n",
       "      <td>2.2</td>\n",
       "      <td>2.14</td>\n",
       "      <td>1.67</td>\n",
       "    </tr>\n",
       "    <tr>\n",
       "      <th>5</th>\n",
       "      <td>11</td>\n",
       "      <td>20</td>\n",
       "      <td>7</td>\n",
       "      <td>15</td>\n",
       "      <td>4</td>\n",
       "      <td>10</td>\n",
       "      <td>12</td>\n",
       "      <td>9</td>\n",
       "      <td>6</td>\n",
       "      <td>21</td>\n",
       "      <td>...</td>\n",
       "      <td>24</td>\n",
       "      <td>25</td>\n",
       "      <td>23</td>\n",
       "      <td>19</td>\n",
       "      <td>8</td>\n",
       "      <td>2</td>\n",
       "      <td>13</td>\n",
       "      <td>14</td>\n",
       "      <td>18</td>\n",
       "      <td>17</td>\n",
       "    </tr>\n",
       "    <tr>\n",
       "      <th>6</th>\n",
       "      <td>a</td>\n",
       "      <td>3</td>\n",
       "      <td>b</td>\n",
       "      <td>6</td>\n",
       "      <td>c</td>\n",
       "      <td>7</td>\n",
       "      <td>NaN</td>\n",
       "      <td>NaN</td>\n",
       "      <td>NaN</td>\n",
       "      <td>NaN</td>\n",
       "      <td>...</td>\n",
       "      <td>NaN</td>\n",
       "      <td>NaN</td>\n",
       "      <td>NaN</td>\n",
       "      <td>NaN</td>\n",
       "      <td>NaN</td>\n",
       "      <td>NaN</td>\n",
       "      <td>NaN</td>\n",
       "      <td>NaN</td>\n",
       "      <td>NaN</td>\n",
       "      <td>NaN</td>\n",
       "    </tr>\n",
       "    <tr>\n",
       "      <th>7</th>\n",
       "      <td>a</td>\n",
       "      <td>2600</td>\n",
       "      <td>b</td>\n",
       "      <td>1100</td>\n",
       "      <td>c</td>\n",
       "      <td>2600</td>\n",
       "      <td>NaN</td>\n",
       "      <td>NaN</td>\n",
       "      <td>NaN</td>\n",
       "      <td>NaN</td>\n",
       "      <td>...</td>\n",
       "      <td>NaN</td>\n",
       "      <td>NaN</td>\n",
       "      <td>NaN</td>\n",
       "      <td>NaN</td>\n",
       "      <td>NaN</td>\n",
       "      <td>NaN</td>\n",
       "      <td>NaN</td>\n",
       "      <td>NaN</td>\n",
       "      <td>NaN</td>\n",
       "      <td>NaN</td>\n",
       "    </tr>\n",
       "    <tr>\n",
       "      <th>8</th>\n",
       "      <td>a</td>\n",
       "      <td>21</td>\n",
       "      <td>b</td>\n",
       "      <td>28</td>\n",
       "      <td>c</td>\n",
       "      <td>21</td>\n",
       "      <td>NaN</td>\n",
       "      <td>NaN</td>\n",
       "      <td>NaN</td>\n",
       "      <td>NaN</td>\n",
       "      <td>...</td>\n",
       "      <td>NaN</td>\n",
       "      <td>NaN</td>\n",
       "      <td>NaN</td>\n",
       "      <td>NaN</td>\n",
       "      <td>NaN</td>\n",
       "      <td>NaN</td>\n",
       "      <td>NaN</td>\n",
       "      <td>NaN</td>\n",
       "      <td>NaN</td>\n",
       "      <td>NaN</td>\n",
       "    </tr>\n",
       "    <tr>\n",
       "      <th>9</th>\n",
       "      <td>a</td>\n",
       "      <td>100</td>\n",
       "      <td>b</td>\n",
       "      <td>50</td>\n",
       "      <td>c</td>\n",
       "      <td>50</td>\n",
       "      <td>NaN</td>\n",
       "      <td>NaN</td>\n",
       "      <td>NaN</td>\n",
       "      <td>NaN</td>\n",
       "      <td>...</td>\n",
       "      <td>NaN</td>\n",
       "      <td>NaN</td>\n",
       "      <td>NaN</td>\n",
       "      <td>NaN</td>\n",
       "      <td>NaN</td>\n",
       "      <td>NaN</td>\n",
       "      <td>NaN</td>\n",
       "      <td>NaN</td>\n",
       "      <td>NaN</td>\n",
       "      <td>NaN</td>\n",
       "    </tr>\n",
       "    <tr>\n",
       "      <th>10</th>\n",
       "      <td>leg_1</td>\n",
       "      <td>0.125</td>\n",
       "      <td>leg_2</td>\n",
       "      <td>0.125</td>\n",
       "      <td>leg_3</td>\n",
       "      <td>0.125</td>\n",
       "      <td>NaN</td>\n",
       "      <td>NaN</td>\n",
       "      <td>NaN</td>\n",
       "      <td>NaN</td>\n",
       "      <td>...</td>\n",
       "      <td>NaN</td>\n",
       "      <td>NaN</td>\n",
       "      <td>NaN</td>\n",
       "      <td>NaN</td>\n",
       "      <td>NaN</td>\n",
       "      <td>NaN</td>\n",
       "      <td>NaN</td>\n",
       "      <td>NaN</td>\n",
       "      <td>NaN</td>\n",
       "      <td>NaN</td>\n",
       "    </tr>\n",
       "    <tr>\n",
       "      <th>11</th>\n",
       "      <td>NaN</td>\n",
       "      <td>NaN</td>\n",
       "      <td>NaN</td>\n",
       "      <td>NaN</td>\n",
       "      <td>NaN</td>\n",
       "      <td>NaN</td>\n",
       "      <td>NaN</td>\n",
       "      <td>NaN</td>\n",
       "      <td>NaN</td>\n",
       "      <td>NaN</td>\n",
       "      <td>...</td>\n",
       "      <td>NaN</td>\n",
       "      <td>NaN</td>\n",
       "      <td>NaN</td>\n",
       "      <td>NaN</td>\n",
       "      <td>NaN</td>\n",
       "      <td>NaN</td>\n",
       "      <td>NaN</td>\n",
       "      <td>NaN</td>\n",
       "      <td>NaN</td>\n",
       "      <td>NaN</td>\n",
       "    </tr>\n",
       "  </tbody>\n",
       "</table>\n",
       "<p>12 rows × 25 columns</p>\n",
       "</div>"
      ],
      "text/plain": [
       "   instance_10 -- 25 containers -- 3 carriers -- 5 chassis -- 30-day horizon  \\\n",
       "0                                                  25                          \n",
       "1                                                   1                          \n",
       "2                                                   b                          \n",
       "3                                                  27                          \n",
       "4                                                1.85                          \n",
       "5                                                  11                          \n",
       "6                                                   a                          \n",
       "7                                                   a                          \n",
       "8                                                   a                          \n",
       "9                                                   a                          \n",
       "10                                              leg_1                          \n",
       "11                                                NaN                          \n",
       "\n",
       "      NaN    NaN    NaN    NaN    NaN   NaN   NaN   NaN   NaN  ...  NaN   NaN  \\\n",
       "0       3      5    NaN    300     15   NaN   NaN   NaN   NaN  ...  NaN   NaN   \n",
       "1       2      3      4      5      6     7     8     9    10  ...   16    17   \n",
       "2       a      b      b      a      b     c     a     b     a  ...    b     a   \n",
       "3      17     27     12     25     23     7    17    23    25  ...   18     1   \n",
       "4    1.28   2.46   3.18   2.36   2.52  1.23  2.52  4.16  3.66  ...  2.9  1.29   \n",
       "5      20      7     15      4     10    12     9     6    21  ...   24    25   \n",
       "6       3      b      6      c      7   NaN   NaN   NaN   NaN  ...  NaN   NaN   \n",
       "7    2600      b   1100      c   2600   NaN   NaN   NaN   NaN  ...  NaN   NaN   \n",
       "8      21      b     28      c     21   NaN   NaN   NaN   NaN  ...  NaN   NaN   \n",
       "9     100      b     50      c     50   NaN   NaN   NaN   NaN  ...  NaN   NaN   \n",
       "10  0.125  leg_2  0.125  leg_3  0.125   NaN   NaN   NaN   NaN  ...  NaN   NaN   \n",
       "11    NaN    NaN    NaN    NaN    NaN   NaN   NaN   NaN   NaN  ...  NaN   NaN   \n",
       "\n",
       "     NaN   NaN   NaN  NaN   NaN  NaN   NaN   NaN  \n",
       "0    NaN   NaN   NaN  NaN   NaN  NaN   NaN   NaN  \n",
       "1     18    19    20   21    22   23    24    25  \n",
       "2      c     a     b    c     b    b     a     b  \n",
       "3      7     1    27   13    18   27     1    23  \n",
       "4   1.68  2.14  1.79  3.3  3.52  2.2  2.14  1.67  \n",
       "5     23    19     8    2    13   14    18    17  \n",
       "6    NaN   NaN   NaN  NaN   NaN  NaN   NaN   NaN  \n",
       "7    NaN   NaN   NaN  NaN   NaN  NaN   NaN   NaN  \n",
       "8    NaN   NaN   NaN  NaN   NaN  NaN   NaN   NaN  \n",
       "9    NaN   NaN   NaN  NaN   NaN  NaN   NaN   NaN  \n",
       "10   NaN   NaN   NaN  NaN   NaN  NaN   NaN   NaN  \n",
       "11   NaN   NaN   NaN  NaN   NaN  NaN   NaN   NaN  \n",
       "\n",
       "[12 rows x 25 columns]"
      ]
     },
     "execution_count": 11,
     "metadata": {},
     "output_type": "execute_result"
    }
   ],
   "source": [
    "columns = np.empty(num_containers)\n",
    "columns[:] = np.nan\n",
    "columns = list(columns)\n",
    "columns[0] = instance\n",
    "export,export[:] = np.empty([12,num_containers]),np.nan\n",
    "export = pd.DataFrame(export,columns=columns)\n",
    "\n",
    "export.iloc[0,0],export.iloc[0,1],export.iloc[0,2] = int(num_containers),int(num_carriers),int(num_chassis)\n",
    "export.iloc[1] = containers\n",
    "export.iloc[2] = carriers\n",
    "export.iloc[3] = release_dates\n",
    "export.iloc[4] = np.round(transload_pt, 2)\n",
    "export.iloc[5] = priority\n",
    "export.iloc[0,4],export.iloc[0,5] = int(fixed_stack_cost), int(daily_stack_cost)\n",
    "#write carrier associated costs\n",
    "k = 0\n",
    "for c in used_alphabet:\n",
    "    export.iloc[6,k*2],export.iloc[7,k*2],export.iloc[8,k*2],export.iloc[9,k*2] = c,c,c,c\n",
    "    export.iloc[6,k*2+1],export.iloc[7,k*2+1],export.iloc[8,k*2+1],export.iloc[9,k*2+1] = demurrage_free_period[c],demurrage_daily_cost[c],detention_free_period[c],detention_daily_cost[c]\n",
    "    k+=1\n",
    "    \n",
    "#write travel times for each leg\n",
    "l = 0\n",
    "for leg in leg_travel_times:\n",
    "    export.iloc[10,l*2] = leg\n",
    "    export.iloc[10,l*2+1] = leg_travel_times[leg]\n",
    "    l+=1\n",
    "\n",
    "export"
   ]
  },
  {
   "cell_type": "code",
   "execution_count": 12,
   "metadata": {
    "id": "mW8PR6X9e9Pt"
   },
   "outputs": [],
   "source": [
    "#write to csv file. Make sure to close excel file if overwritting \n",
    "export.to_csv(file_name,index=False)"
   ]
  },
  {
   "cell_type": "code",
   "execution_count": null,
   "metadata": {
    "id": "XPhr3L_Fe9Py"
   },
   "outputs": [],
   "source": []
  }
 ],
 "metadata": {
  "colab": {
   "name": "instance_generator.ipynb",
   "provenance": []
  },
  "kernelspec": {
   "display_name": "Python 3",
   "language": "python",
   "name": "python3"
  },
  "language_info": {
   "codemirror_mode": {
    "name": "ipython",
    "version": 3
   },
   "file_extension": ".py",
   "mimetype": "text/x-python",
   "name": "python",
   "nbconvert_exporter": "python",
   "pygments_lexer": "ipython3",
   "version": "3.7.7"
  }
 },
 "nbformat": 4,
 "nbformat_minor": 1
}
