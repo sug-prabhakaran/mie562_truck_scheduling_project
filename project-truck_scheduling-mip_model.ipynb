{
 "cells": [
  {
   "cell_type": "markdown",
   "metadata": {},
   "source": [
    "# MIE562 Project - Truck Scheduling - MIP Model\n",
    "\n",
    "**Team 5 - Dylan Camus, Ryan Do, Fan Jia, Matheus Magalhaes, Sugumar Prabhakaran**\n",
    "\n",
    "**Date: 8 Nov 2020**"
   ]
  },
  {
   "cell_type": "code",
   "execution_count": 1,
   "metadata": {},
   "outputs": [],
   "source": [
    "import numpy as np\n",
    "import pandas as pd\n",
    "import plotly.express as px\n",
    "\n",
    "import gurobipy as gp\n",
    "from gurobipy import Model, GRB, quicksum, max_\n",
    "from random import randint, seed\n",
    "\n",
    "seed(0)"
   ]
  },
  {
   "cell_type": "markdown",
   "metadata": {},
   "source": [
    "## Introduction\n",
    "\n",
    "### 1. Sets\n",
    "       \n",
    "   * $j \\in J$: A carrier, $j$, in a set of carriers, $J$: \n",
    "       * Ex. $J = \\left \\{1,2,3,\\ldots,j  \\right \\}$\n",
    "       \n",
    "   * $|J|$ = n: number of carriers\n",
    "       \n",
    "   * $k_{j}$: number of containers for each carrier $j$:    \n",
    "   \n",
    "   * $k \\in K$: A container, $k$ in a set of containers, $K$: \n",
    "       * Ex. $K = \\left \\{1,2,3... \\right \\}$   \n",
    "\n",
    "   * $c \\in C$: A chassis, $c$, in a set of chassis, $C$: \n",
    "       * Ex. $C = \\left \\{1,2,3,\\ldots,c  \\right \\}$\n",
    " \n",
    "   * $L = \\left \\{1,2,3\\right\\}$: is the set of travel legs, where:\n",
    "       * $1$ : terminal to transloading facility leg\n",
    "       * $2$ : terminal to stack leg\n",
    "       * $3$ : stack to transloading facility leg"
   ]
  },
  {
   "cell_type": "markdown",
   "metadata": {},
   "source": [
    "### 2. Parameters\n",
    "\n",
    "   * $\\Phi_{kl}$  : Time duration transporting container k on leg l, which includes a variable processing time for legs 1 and 3 [days] \n",
    "   * $D_{ll'}$: Delay required for a chassis to start leg l' after completing l (including travel) [days]\n",
    "   * $M$     : Some large number\n",
    "   * $R_k$   : Release date for container $k$ [days]\n",
    "   \n",
    "   * $T_j^{''}$: free period before demurrage cost for carrier j at terminal [days]\n",
    "   \n",
    "   * $T_j$: demurrage cost/unit time for carrier j at terminal [($/days)/container]\n",
    "   \n",
    "   * $S$     : fixed cost at stack [$/container]\n",
    "   \n",
    "   * ${S}'$  : variable cost at stack [($/day)/container]\n",
    "   \n",
    "   * $\\delta_j^{''}$: free period before detention cost for containers of carrier j [days]\n",
    "   \n",
    "   * $\\delta_j$: detention cost/unit time for containers of carrier j [($/days)/container]\n",
    "   \n",
    "   * $\\rho_k$ : priority factor of container k (higher value is higher priority)\n",
    "\n",
    "   * $Y_{jk}$ : binary variable = 1 if container $k$ belongs to carrier $j$\n",
    "   "
   ]
  },
  {
   "cell_type": "code",
   "execution_count": 77,
   "metadata": {},
   "outputs": [
    {
     "name": "stdout",
     "output_type": "stream",
     "text": [
      "   test_instance Unnamed: 1 Unnamed: 2 Unnamed: 3 Unnamed: 4 Unnamed: 5  \\\n",
      "0             10          3          5        300         15        NaN   \n",
      "1              1          2          3          4          5          6   \n",
      "2              a          a          a          b          b          b   \n",
      "3              0          0          0          0          0          4   \n",
      "4             10         10         20         30         40          1   \n",
      "5              1          2          3          4          5          6   \n",
      "6              a          3          b          2          c          5   \n",
      "7              a       1000          b       1400          c       1800   \n",
      "8              a         21          b         14          c         18   \n",
      "9              a         50          b         75          c        100   \n",
      "10           300         15        NaN        NaN        NaN        NaN   \n",
      "11         leg_1      0.125      leg_2      0.125      leg_3      0.125   \n",
      "\n",
      "   Unnamed: 6 Unnamed: 7 Unnamed: 8 Unnamed: 9  \n",
      "0         NaN        NaN        NaN        NaN  \n",
      "1           7          8          9         10  \n",
      "2           b          c          c          c  \n",
      "3           4          6          6          1  \n",
      "4           2          1          2          2  \n",
      "5           7          8          9         10  \n",
      "6         NaN        NaN        NaN        NaN  \n",
      "7         NaN        NaN        NaN        NaN  \n",
      "8         NaN        NaN        NaN        NaN  \n",
      "9         NaN        NaN        NaN        NaN  \n",
      "10        NaN        NaN        NaN        NaN  \n",
      "11        NaN        NaN        NaN        NaN  \n"
     ]
    }
   ],
   "source": [
    "# read and construct parameters from standard instance interface\n",
    "instance_csv_path = \"test_instance.csv\"\n",
    "\n",
    "df = pd.read_csv(instance_csv_path)\n",
    "print(df)\n",
    "\n",
    "nK, nJ, nC, S, S_prime = tuple(df.iloc[0].dropna().astype(int))\n",
    "C = list(range(nC))\n",
    "K = [k for k in df.iloc[1].dropna().astype(int)]\n",
    "assert nK == len(K)\n",
    "J = list(set(df.iloc[2].dropna()))\n",
    "assert nJ == len(J)\n",
    "\n",
    "Y = {j:{k: 0 for k in K} for j in J}\n",
    "for i, k in enumerate(K):\n",
    "    Y[df.iloc[2].dropna()[i]][k] = 1\n",
    "    \n",
    "R = {k: int(df.iloc[3].dropna()[i]) for i, k in enumerate(K)}\n",
    "p = {k: int(df.iloc[4].dropna()[i]) for i, k in enumerate(K)}\n",
    "rho = {k: int(df.iloc[5].dropna()[i]) for i, k in enumerate(K)}\n",
    "\n",
    "T_prime = {df.iloc[6].dropna()[i]: int(df.iloc[6].dropna()[i+1]) for i in range(0, len(df.iloc[6].dropna()), 2)}\n",
    "T = {df.iloc[7].dropna()[i]: int(df.iloc[7].dropna()[i+1]) for i in range(0, len(df.iloc[7].dropna()), 2)}\n",
    "Delta_prime = {df.iloc[8].dropna()[i]: int(df.iloc[8].dropna()[i+1]) for i in range(0, len(df.iloc[8].dropna()), 2)}\n",
    "Delta = {df.iloc[9].dropna()[i]: int(df.iloc[9].dropna()[i+1]) for i in range(0, len(df.iloc[9].dropna()), 2)}\n",
    "S, S_prime = tuple(df.iloc[10].dropna().astype(int))\n",
    "\n",
    "L = [1, 2, 3]\n",
    "leg_times = {l: float(df.iloc[11][i*2+1]) for i, l in enumerate(L)}\n",
    "Phi = {k: {1: 2*leg_times[1] + p[k], 2: leg_times[2], 3: leg_times[3] + p[k] + leg_times[1]} for k in K} # time duration of leg l (including processing time) in hours #\n",
    "D = {1:{1: 0, 2: 0, 3: leg_times[2]}, \n",
    "     2:{1: leg_times[2], 2: leg_times[2], 3: 0}, \n",
    "     3:{1: 0, 2: 0, 3: leg_times[2]}} \n",
    "\n",
    "M = 1000   "
   ]
  },
  {
   "cell_type": "code",
   "execution_count": 3,
   "metadata": {},
   "outputs": [],
   "source": [
    "# create a list of tuples containing every iteration of k,l,c\n",
    "A = [(k,l,c) for k in K for l in L for c in C]"
   ]
  },
  {
   "cell_type": "code",
   "execution_count": 4,
   "metadata": {},
   "outputs": [
    {
     "name": "stdout",
     "output_type": "stream",
     "text": [
      "Using license file C:\\Users\\doryan\\gurobi.lic\n",
      "Academic license - for non-commercial use only\n",
      "Changed value of parameter TimeLimit to 30.0\n",
      "   Prev: inf  Min: 0.0  Max: inf  Default: inf\n"
     ]
    }
   ],
   "source": [
    "#Create a new model\n",
    "model = gp.Model(\"Truck_Scheduling\")\n",
    "model.setParam('TimeLimit', 60) # seconds"
   ]
  },
  {
   "cell_type": "markdown",
   "metadata": {},
   "source": [
    "### 3. Decision Variables\n",
    "\n",
    "   * Binary Variable: $x_{klc}$\n",
    "   $\\begin{equation}\n",
    "  =\\left\\{\n",
    "  \\begin{array}{@{}ll@{}}\n",
    "    1, & \\text{if}\\ \\text{container k travels leg l on chassis c} \\\\\n",
    "    0, & \\text{otherwise}\n",
    "  \\end{array}\\right.\n",
    "\\end{equation} $\n",
    "   * Start time $s$ of container $k$ on leg $l$ on chassis $c$: $s_{klc}$, where  $s_{klc} \\geq 0$\n",
    "   * $z_{klk^{'}l^{'}c} = 1$ if the transport job of container $k^{'}$ on chassis c along leg $l^{'}$ is scheduled after the transport job of container $k$ on chassis $c$ along leg $l$.\n"
   ]
  },
  {
   "cell_type": "code",
   "execution_count": 5,
   "metadata": {},
   "outputs": [],
   "source": [
    "#Create decision variables\n",
    "x = model.addVars(A, vtype=GRB.BINARY, name=\"x_klc\")\n",
    "s = model.addVars(A, vtype=GRB.CONTINUOUS, name=\"s_klc\")\n",
    "z = model.addVars(K, L, K, L, C, vtype=GRB.BINARY, name=\"z_klk'l'c\")\n",
    "\n",
    "#Max variables\n",
    "max_expression_resource_constraint_1 = model.addVars(K, L, K, L, C, vtype=GRB.CONTINUOUS, name=\"max resource a\")\n",
    "max_expression_resource_constraint_2 = model.addVars(K, L, K, L, C, vtype=GRB.CONTINUOUS, name=\"max resource b\")\n",
    "max_expression_demurrage = model.addVars(K, L, C, J, vtype=GRB.CONTINUOUS, name=\"max_expression_demurrage\")\n",
    "max_expression_detention = model.addVars(K, L, C, J, vtype=GRB.CONTINUOUS, name=\"max_expression_detention\")\n"
   ]
  },
  {
   "cell_type": "markdown",
   "metadata": {},
   "source": [
    "### 4. Objective Function\n",
    "\n",
    "We want to minimize the Total Cost ($c$) = (Demurrage cost}) + (Detention cost) + (Stack cost) + (Priority penalty cost)\n",
    "   \n",
    "   * **objective function:** $min$ $(c)$\n",
    "   \n",
    "   * $c = c_{dem} + c_{det} + c_{stk} + c_{pri}$\n",
    "\n",
    "**(1) Demurrage Cost:**\n",
    "\n",
    "The Demurrage Cost ($c_{dem}$) refers to cost associated with keeping containers in the terminal beyond the free period allotedin days ($T_{j}^{''}$) that is different for each carrier.\n",
    "\n",
    "If the start time for a container ($s_{klc}$) is higher than the release date ($R_{k}$) + the free period ($T_{j}^{''}$), there will be a variable cost per extra day ($T_{j}$) per container.\n",
    "   \n",
    "   * $c_{dem} = \\sum_{k \\in K}\\sum_{c \\in C}\\sum_{l \\in \\{1,2\\}}\\sum_{j \\in J}T_jx_{klc}Y_{jk}\\cdot max\\left [(s_{klc} - R_k - T_{j}^{''}), 0  \\right ]$\n",
    "   \n",
    "**(2) Detention Cost**\n",
    "\n",
    "The terminal also charges a detention cost ($c_{det}$) for containers that are not returned to the terminal for processing before return to the carrier.  Similar to demurrage, there is a free period before which the containers must be returned to the terminal ($\\delta_{j}^{''}$).\n",
    "\n",
    "If the start time for a container ($s_{klc}$) and the total travel time of a container back to the terminal including processing time ($\\phi_{kl}$) is greater than the release date ($R_{k}$) + the free period ($\\delta_{j}^{''}$), there will be a variable cost per extra day ($T_{j}$) per container.\n",
    "\n",
    "   * $c_{det} = \\sum_{k \\in K}\\sum_{c \\in C}\\sum_{l \\in \\{1,3\\}}\\sum_{j \\in J}\\delta_jx_{klc}Y_{jk}\\cdot max\\left [(s_{klc}+ \\phi_{kl} - (R_k+\\delta_{j}^{''})), 0  \\right ]$\n",
    "\n",
    "**(3) Stack Storage Cost**\n",
    "\n",
    "The stack cost ($c_{stk}$) is the sum of the fixed cost percontainer ($S$) and the variable cost per day per container ($S^{'}$) x the number of days that a container is in the stack, which is the difference between leg 3 and leg 2 start times ($s_{klc}$).\n",
    "\n",
    "   * $c_{stk} = \\sum_{k \\in K}\\sum_{c \\in C}x_{k2c}\\cdot (S + S'(s_{k3c} - (s_{k2c} + \\phi_{k2})))$\n",
    "\n",
    "**(4) Priority Penalty Cost**\n",
    "\n",
    "The priority penalty cost ($c_{pri}$) is applied for every day that a container sits in the terminal beyond the release day ($R_{k}$).  Since the priority factor per container ($\\rho_{k}$) is higher for higher priority containers, the associated penalty costs will be higher.\n",
    "\n",
    "   * $c_{det} = \\sum_{k \\in K}\\sum_{c \\in C}\\sum_{l \\in \\{1,2\\}}\\rho_k\\cdot(s_{klc} - R_k)\\cdot x_{klc}$"
   ]
  },
  {
   "cell_type": "code",
   "execution_count": 6,
   "metadata": {},
   "outputs": [],
   "source": [
    "# demurrage cost days max\n",
    "model.addConstrs(max_expression_demurrage[k,l,c,j] >= (s[k,l,c] - R[k] - T_prime[j]) for k in K for c in C for l in [1, 2] for j in J)\n",
    "model.addConstrs(max_expression_demurrage[k,l,c,j] >= 0 for k in K for c in C for l in [1, 2] for j in J)\n",
    "\n",
    "# detention cost days max\n",
    "model.addConstrs(max_expression_detention[k,l,c,j] >= (s[k,l,c] + Phi[k][l] - (R[k] + Delta_prime[j])) for k in K for c in C for l in [1, 3] for j in J)\n",
    "model.addConstrs(max_expression_detention[k,l,c,j] >= 0 for k in K for c in C for l in [1, 3] for j in J)\n",
    "\n",
    "#Define objective function\n",
    "demurrage_cost = quicksum(x[k,l,c]*T[j]*Y[j][k]*max_expression_demurrage[k,l,c,j] \n",
    "                          for k in K for c in C for l in [1, 2] for j in J) \n",
    "detention_cost = quicksum(x[k,l,c]*Delta[j]*Y[j][k]*max_expression_detention[k,l,c,j] \n",
    "                          for k in K for c in C for l in [1, 3] for j in J)\n",
    "stack_cost = quicksum(x[k,2,c]*(S + S_prime*(s[k,3,c] - (s[k,2,c] + Phi[k][2]))) for k in K for c in C)\n",
    "\n",
    "priority_cost = quicksum(x[k,l,c]*rho[k]*(s[k,l,c] - R[k]) for k in K for c in C for l in [1, 2])\n",
    "\n",
    "model.setObjective(demurrage_cost \n",
    "                   + detention_cost \n",
    "                   + stack_cost \n",
    "                   + priority_cost \n",
    "                   , GRB.MINIMIZE)\n",
    "# model.setObjective(0, GRB.MINIMIZE) demurrage_cost + detention_cost + stack_cost + priority_cost"
   ]
  },
  {
   "cell_type": "markdown",
   "metadata": {},
   "source": [
    "### 5. Constraints"
   ]
  },
  {
   "cell_type": "markdown",
   "metadata": {},
   "source": [
    "**(1) Resource constraints**\n",
    "\n",
    "For each chassis, transport jobs can't overlap and chassis (resources) may have to travel between jobs. \n",
    "\n",
    "For the case where job $klc$ scheduled after job $k'l'c$, i.e. $s_{klc} > s_{k'l'c}$:\n",
    "\n",
    "   * $M(1-x_{klc}) + M(1-x_{k'l'c}) + (s_{klc} - s_{k'l'c}) \\geq \\phi_{k'l'} + D_{l'l} - M\\cdot z_{klk'l'c}$, &nbsp;&nbsp;&nbsp;&nbsp;&nbsp;&nbsp;$\\forall k,k' \\in K, l,l'\\in L, c \\in C$ &nbsp;$s.t.$&nbsp; $(k=k' \\neg\\wedge l=l') \\wedge k\\leq k'$\n",
    "   \n",
    "For the case where job $k'l'c$ scheduled after job $klc$, i.e. $s_{klc} > s_{k'l'c}$:\n",
    "\n",
    "   * $M(1-x_{klc}) + M(1-x_{k'l'c}) + (s_{k'l'c} - s_{klc}) \\geq \\phi_{kl} + D_{ll'} - M\\cdot(1-z_{klk'l'c})$, &nbsp;&nbsp;&nbsp;&nbsp;&nbsp;&nbsp;$\\forall k,k' \\in K, l,l'\\in L, c \\in C$ &nbsp;$s.t.$&nbsp; $(k=k' \\neg\\wedge l=l') \\wedge k\\leq k'$"
   ]
  },
  {
   "cell_type": "code",
   "execution_count": 7,
   "metadata": {},
   "outputs": [
    {
     "data": {
      "text/plain": [
       "{(1, 1, 1, 2, 0): <gurobi.Constr *Awaiting Model Update*>,\n",
       " (1, 1, 1, 2, 1): <gurobi.Constr *Awaiting Model Update*>,\n",
       " (1, 1, 1, 2, 2): <gurobi.Constr *Awaiting Model Update*>,\n",
       " (1, 1, 1, 2, 3): <gurobi.Constr *Awaiting Model Update*>,\n",
       " (1, 1, 1, 2, 4): <gurobi.Constr *Awaiting Model Update*>,\n",
       " (1, 1, 1, 3, 0): <gurobi.Constr *Awaiting Model Update*>,\n",
       " (1, 1, 1, 3, 1): <gurobi.Constr *Awaiting Model Update*>,\n",
       " (1, 1, 1, 3, 2): <gurobi.Constr *Awaiting Model Update*>,\n",
       " (1, 1, 1, 3, 3): <gurobi.Constr *Awaiting Model Update*>,\n",
       " (1, 1, 1, 3, 4): <gurobi.Constr *Awaiting Model Update*>,\n",
       " (1, 1, 2, 1, 0): <gurobi.Constr *Awaiting Model Update*>,\n",
       " (1, 1, 2, 1, 1): <gurobi.Constr *Awaiting Model Update*>,\n",
       " (1, 1, 2, 1, 2): <gurobi.Constr *Awaiting Model Update*>,\n",
       " (1, 1, 2, 1, 3): <gurobi.Constr *Awaiting Model Update*>,\n",
       " (1, 1, 2, 1, 4): <gurobi.Constr *Awaiting Model Update*>,\n",
       " (1, 1, 2, 2, 0): <gurobi.Constr *Awaiting Model Update*>,\n",
       " (1, 1, 2, 2, 1): <gurobi.Constr *Awaiting Model Update*>,\n",
       " (1, 1, 2, 2, 2): <gurobi.Constr *Awaiting Model Update*>,\n",
       " (1, 1, 2, 2, 3): <gurobi.Constr *Awaiting Model Update*>,\n",
       " (1, 1, 2, 2, 4): <gurobi.Constr *Awaiting Model Update*>,\n",
       " (1, 1, 2, 3, 0): <gurobi.Constr *Awaiting Model Update*>,\n",
       " (1, 1, 2, 3, 1): <gurobi.Constr *Awaiting Model Update*>,\n",
       " (1, 1, 2, 3, 2): <gurobi.Constr *Awaiting Model Update*>,\n",
       " (1, 1, 2, 3, 3): <gurobi.Constr *Awaiting Model Update*>,\n",
       " (1, 1, 2, 3, 4): <gurobi.Constr *Awaiting Model Update*>,\n",
       " (1, 1, 3, 1, 0): <gurobi.Constr *Awaiting Model Update*>,\n",
       " (1, 1, 3, 1, 1): <gurobi.Constr *Awaiting Model Update*>,\n",
       " (1, 1, 3, 1, 2): <gurobi.Constr *Awaiting Model Update*>,\n",
       " (1, 1, 3, 1, 3): <gurobi.Constr *Awaiting Model Update*>,\n",
       " (1, 1, 3, 1, 4): <gurobi.Constr *Awaiting Model Update*>,\n",
       " (1, 1, 3, 2, 0): <gurobi.Constr *Awaiting Model Update*>,\n",
       " (1, 1, 3, 2, 1): <gurobi.Constr *Awaiting Model Update*>,\n",
       " (1, 1, 3, 2, 2): <gurobi.Constr *Awaiting Model Update*>,\n",
       " (1, 1, 3, 2, 3): <gurobi.Constr *Awaiting Model Update*>,\n",
       " (1, 1, 3, 2, 4): <gurobi.Constr *Awaiting Model Update*>,\n",
       " (1, 1, 3, 3, 0): <gurobi.Constr *Awaiting Model Update*>,\n",
       " (1, 1, 3, 3, 1): <gurobi.Constr *Awaiting Model Update*>,\n",
       " (1, 1, 3, 3, 2): <gurobi.Constr *Awaiting Model Update*>,\n",
       " (1, 1, 3, 3, 3): <gurobi.Constr *Awaiting Model Update*>,\n",
       " (1, 1, 3, 3, 4): <gurobi.Constr *Awaiting Model Update*>,\n",
       " (1, 1, 4, 1, 0): <gurobi.Constr *Awaiting Model Update*>,\n",
       " (1, 1, 4, 1, 1): <gurobi.Constr *Awaiting Model Update*>,\n",
       " (1, 1, 4, 1, 2): <gurobi.Constr *Awaiting Model Update*>,\n",
       " (1, 1, 4, 1, 3): <gurobi.Constr *Awaiting Model Update*>,\n",
       " (1, 1, 4, 1, 4): <gurobi.Constr *Awaiting Model Update*>,\n",
       " (1, 1, 4, 2, 0): <gurobi.Constr *Awaiting Model Update*>,\n",
       " (1, 1, 4, 2, 1): <gurobi.Constr *Awaiting Model Update*>,\n",
       " (1, 1, 4, 2, 2): <gurobi.Constr *Awaiting Model Update*>,\n",
       " (1, 1, 4, 2, 3): <gurobi.Constr *Awaiting Model Update*>,\n",
       " (1, 1, 4, 2, 4): <gurobi.Constr *Awaiting Model Update*>,\n",
       " (1, 1, 4, 3, 0): <gurobi.Constr *Awaiting Model Update*>,\n",
       " (1, 1, 4, 3, 1): <gurobi.Constr *Awaiting Model Update*>,\n",
       " (1, 1, 4, 3, 2): <gurobi.Constr *Awaiting Model Update*>,\n",
       " (1, 1, 4, 3, 3): <gurobi.Constr *Awaiting Model Update*>,\n",
       " (1, 1, 4, 3, 4): <gurobi.Constr *Awaiting Model Update*>,\n",
       " (1, 1, 5, 1, 0): <gurobi.Constr *Awaiting Model Update*>,\n",
       " (1, 1, 5, 1, 1): <gurobi.Constr *Awaiting Model Update*>,\n",
       " (1, 1, 5, 1, 2): <gurobi.Constr *Awaiting Model Update*>,\n",
       " (1, 1, 5, 1, 3): <gurobi.Constr *Awaiting Model Update*>,\n",
       " (1, 1, 5, 1, 4): <gurobi.Constr *Awaiting Model Update*>,\n",
       " (1, 1, 5, 2, 0): <gurobi.Constr *Awaiting Model Update*>,\n",
       " (1, 1, 5, 2, 1): <gurobi.Constr *Awaiting Model Update*>,\n",
       " (1, 1, 5, 2, 2): <gurobi.Constr *Awaiting Model Update*>,\n",
       " (1, 1, 5, 2, 3): <gurobi.Constr *Awaiting Model Update*>,\n",
       " (1, 1, 5, 2, 4): <gurobi.Constr *Awaiting Model Update*>,\n",
       " (1, 1, 5, 3, 0): <gurobi.Constr *Awaiting Model Update*>,\n",
       " (1, 1, 5, 3, 1): <gurobi.Constr *Awaiting Model Update*>,\n",
       " (1, 1, 5, 3, 2): <gurobi.Constr *Awaiting Model Update*>,\n",
       " (1, 1, 5, 3, 3): <gurobi.Constr *Awaiting Model Update*>,\n",
       " (1, 1, 5, 3, 4): <gurobi.Constr *Awaiting Model Update*>,\n",
       " (1, 1, 6, 1, 0): <gurobi.Constr *Awaiting Model Update*>,\n",
       " (1, 1, 6, 1, 1): <gurobi.Constr *Awaiting Model Update*>,\n",
       " (1, 1, 6, 1, 2): <gurobi.Constr *Awaiting Model Update*>,\n",
       " (1, 1, 6, 1, 3): <gurobi.Constr *Awaiting Model Update*>,\n",
       " (1, 1, 6, 1, 4): <gurobi.Constr *Awaiting Model Update*>,\n",
       " (1, 1, 6, 2, 0): <gurobi.Constr *Awaiting Model Update*>,\n",
       " (1, 1, 6, 2, 1): <gurobi.Constr *Awaiting Model Update*>,\n",
       " (1, 1, 6, 2, 2): <gurobi.Constr *Awaiting Model Update*>,\n",
       " (1, 1, 6, 2, 3): <gurobi.Constr *Awaiting Model Update*>,\n",
       " (1, 1, 6, 2, 4): <gurobi.Constr *Awaiting Model Update*>,\n",
       " (1, 1, 6, 3, 0): <gurobi.Constr *Awaiting Model Update*>,\n",
       " (1, 1, 6, 3, 1): <gurobi.Constr *Awaiting Model Update*>,\n",
       " (1, 1, 6, 3, 2): <gurobi.Constr *Awaiting Model Update*>,\n",
       " (1, 1, 6, 3, 3): <gurobi.Constr *Awaiting Model Update*>,\n",
       " (1, 1, 6, 3, 4): <gurobi.Constr *Awaiting Model Update*>,\n",
       " (1, 1, 7, 1, 0): <gurobi.Constr *Awaiting Model Update*>,\n",
       " (1, 1, 7, 1, 1): <gurobi.Constr *Awaiting Model Update*>,\n",
       " (1, 1, 7, 1, 2): <gurobi.Constr *Awaiting Model Update*>,\n",
       " (1, 1, 7, 1, 3): <gurobi.Constr *Awaiting Model Update*>,\n",
       " (1, 1, 7, 1, 4): <gurobi.Constr *Awaiting Model Update*>,\n",
       " (1, 1, 7, 2, 0): <gurobi.Constr *Awaiting Model Update*>,\n",
       " (1, 1, 7, 2, 1): <gurobi.Constr *Awaiting Model Update*>,\n",
       " (1, 1, 7, 2, 2): <gurobi.Constr *Awaiting Model Update*>,\n",
       " (1, 1, 7, 2, 3): <gurobi.Constr *Awaiting Model Update*>,\n",
       " (1, 1, 7, 2, 4): <gurobi.Constr *Awaiting Model Update*>,\n",
       " (1, 1, 7, 3, 0): <gurobi.Constr *Awaiting Model Update*>,\n",
       " (1, 1, 7, 3, 1): <gurobi.Constr *Awaiting Model Update*>,\n",
       " (1, 1, 7, 3, 2): <gurobi.Constr *Awaiting Model Update*>,\n",
       " (1, 1, 7, 3, 3): <gurobi.Constr *Awaiting Model Update*>,\n",
       " (1, 1, 7, 3, 4): <gurobi.Constr *Awaiting Model Update*>,\n",
       " (1, 1, 8, 1, 0): <gurobi.Constr *Awaiting Model Update*>,\n",
       " (1, 1, 8, 1, 1): <gurobi.Constr *Awaiting Model Update*>,\n",
       " (1, 1, 8, 1, 2): <gurobi.Constr *Awaiting Model Update*>,\n",
       " (1, 1, 8, 1, 3): <gurobi.Constr *Awaiting Model Update*>,\n",
       " (1, 1, 8, 1, 4): <gurobi.Constr *Awaiting Model Update*>,\n",
       " (1, 1, 8, 2, 0): <gurobi.Constr *Awaiting Model Update*>,\n",
       " (1, 1, 8, 2, 1): <gurobi.Constr *Awaiting Model Update*>,\n",
       " (1, 1, 8, 2, 2): <gurobi.Constr *Awaiting Model Update*>,\n",
       " (1, 1, 8, 2, 3): <gurobi.Constr *Awaiting Model Update*>,\n",
       " (1, 1, 8, 2, 4): <gurobi.Constr *Awaiting Model Update*>,\n",
       " (1, 1, 8, 3, 0): <gurobi.Constr *Awaiting Model Update*>,\n",
       " (1, 1, 8, 3, 1): <gurobi.Constr *Awaiting Model Update*>,\n",
       " (1, 1, 8, 3, 2): <gurobi.Constr *Awaiting Model Update*>,\n",
       " (1, 1, 8, 3, 3): <gurobi.Constr *Awaiting Model Update*>,\n",
       " (1, 1, 8, 3, 4): <gurobi.Constr *Awaiting Model Update*>,\n",
       " (1, 1, 9, 1, 0): <gurobi.Constr *Awaiting Model Update*>,\n",
       " (1, 1, 9, 1, 1): <gurobi.Constr *Awaiting Model Update*>,\n",
       " (1, 1, 9, 1, 2): <gurobi.Constr *Awaiting Model Update*>,\n",
       " (1, 1, 9, 1, 3): <gurobi.Constr *Awaiting Model Update*>,\n",
       " (1, 1, 9, 1, 4): <gurobi.Constr *Awaiting Model Update*>,\n",
       " (1, 1, 9, 2, 0): <gurobi.Constr *Awaiting Model Update*>,\n",
       " (1, 1, 9, 2, 1): <gurobi.Constr *Awaiting Model Update*>,\n",
       " (1, 1, 9, 2, 2): <gurobi.Constr *Awaiting Model Update*>,\n",
       " (1, 1, 9, 2, 3): <gurobi.Constr *Awaiting Model Update*>,\n",
       " (1, 1, 9, 2, 4): <gurobi.Constr *Awaiting Model Update*>,\n",
       " (1, 1, 9, 3, 0): <gurobi.Constr *Awaiting Model Update*>,\n",
       " (1, 1, 9, 3, 1): <gurobi.Constr *Awaiting Model Update*>,\n",
       " (1, 1, 9, 3, 2): <gurobi.Constr *Awaiting Model Update*>,\n",
       " (1, 1, 9, 3, 3): <gurobi.Constr *Awaiting Model Update*>,\n",
       " (1, 1, 9, 3, 4): <gurobi.Constr *Awaiting Model Update*>,\n",
       " (1, 1, 10, 1, 0): <gurobi.Constr *Awaiting Model Update*>,\n",
       " (1, 1, 10, 1, 1): <gurobi.Constr *Awaiting Model Update*>,\n",
       " (1, 1, 10, 1, 2): <gurobi.Constr *Awaiting Model Update*>,\n",
       " (1, 1, 10, 1, 3): <gurobi.Constr *Awaiting Model Update*>,\n",
       " (1, 1, 10, 1, 4): <gurobi.Constr *Awaiting Model Update*>,\n",
       " (1, 1, 10, 2, 0): <gurobi.Constr *Awaiting Model Update*>,\n",
       " (1, 1, 10, 2, 1): <gurobi.Constr *Awaiting Model Update*>,\n",
       " (1, 1, 10, 2, 2): <gurobi.Constr *Awaiting Model Update*>,\n",
       " (1, 1, 10, 2, 3): <gurobi.Constr *Awaiting Model Update*>,\n",
       " (1, 1, 10, 2, 4): <gurobi.Constr *Awaiting Model Update*>,\n",
       " (1, 1, 10, 3, 0): <gurobi.Constr *Awaiting Model Update*>,\n",
       " (1, 1, 10, 3, 1): <gurobi.Constr *Awaiting Model Update*>,\n",
       " (1, 1, 10, 3, 2): <gurobi.Constr *Awaiting Model Update*>,\n",
       " (1, 1, 10, 3, 3): <gurobi.Constr *Awaiting Model Update*>,\n",
       " (1, 1, 10, 3, 4): <gurobi.Constr *Awaiting Model Update*>,\n",
       " (1, 2, 1, 1, 0): <gurobi.Constr *Awaiting Model Update*>,\n",
       " (1, 2, 1, 1, 1): <gurobi.Constr *Awaiting Model Update*>,\n",
       " (1, 2, 1, 1, 2): <gurobi.Constr *Awaiting Model Update*>,\n",
       " (1, 2, 1, 1, 3): <gurobi.Constr *Awaiting Model Update*>,\n",
       " (1, 2, 1, 1, 4): <gurobi.Constr *Awaiting Model Update*>,\n",
       " (1, 2, 1, 3, 0): <gurobi.Constr *Awaiting Model Update*>,\n",
       " (1, 2, 1, 3, 1): <gurobi.Constr *Awaiting Model Update*>,\n",
       " (1, 2, 1, 3, 2): <gurobi.Constr *Awaiting Model Update*>,\n",
       " (1, 2, 1, 3, 3): <gurobi.Constr *Awaiting Model Update*>,\n",
       " (1, 2, 1, 3, 4): <gurobi.Constr *Awaiting Model Update*>,\n",
       " (1, 2, 2, 1, 0): <gurobi.Constr *Awaiting Model Update*>,\n",
       " (1, 2, 2, 1, 1): <gurobi.Constr *Awaiting Model Update*>,\n",
       " (1, 2, 2, 1, 2): <gurobi.Constr *Awaiting Model Update*>,\n",
       " (1, 2, 2, 1, 3): <gurobi.Constr *Awaiting Model Update*>,\n",
       " (1, 2, 2, 1, 4): <gurobi.Constr *Awaiting Model Update*>,\n",
       " (1, 2, 2, 2, 0): <gurobi.Constr *Awaiting Model Update*>,\n",
       " (1, 2, 2, 2, 1): <gurobi.Constr *Awaiting Model Update*>,\n",
       " (1, 2, 2, 2, 2): <gurobi.Constr *Awaiting Model Update*>,\n",
       " (1, 2, 2, 2, 3): <gurobi.Constr *Awaiting Model Update*>,\n",
       " (1, 2, 2, 2, 4): <gurobi.Constr *Awaiting Model Update*>,\n",
       " (1, 2, 2, 3, 0): <gurobi.Constr *Awaiting Model Update*>,\n",
       " (1, 2, 2, 3, 1): <gurobi.Constr *Awaiting Model Update*>,\n",
       " (1, 2, 2, 3, 2): <gurobi.Constr *Awaiting Model Update*>,\n",
       " (1, 2, 2, 3, 3): <gurobi.Constr *Awaiting Model Update*>,\n",
       " (1, 2, 2, 3, 4): <gurobi.Constr *Awaiting Model Update*>,\n",
       " (1, 2, 3, 1, 0): <gurobi.Constr *Awaiting Model Update*>,\n",
       " (1, 2, 3, 1, 1): <gurobi.Constr *Awaiting Model Update*>,\n",
       " (1, 2, 3, 1, 2): <gurobi.Constr *Awaiting Model Update*>,\n",
       " (1, 2, 3, 1, 3): <gurobi.Constr *Awaiting Model Update*>,\n",
       " (1, 2, 3, 1, 4): <gurobi.Constr *Awaiting Model Update*>,\n",
       " (1, 2, 3, 2, 0): <gurobi.Constr *Awaiting Model Update*>,\n",
       " (1, 2, 3, 2, 1): <gurobi.Constr *Awaiting Model Update*>,\n",
       " (1, 2, 3, 2, 2): <gurobi.Constr *Awaiting Model Update*>,\n",
       " (1, 2, 3, 2, 3): <gurobi.Constr *Awaiting Model Update*>,\n",
       " (1, 2, 3, 2, 4): <gurobi.Constr *Awaiting Model Update*>,\n",
       " (1, 2, 3, 3, 0): <gurobi.Constr *Awaiting Model Update*>,\n",
       " (1, 2, 3, 3, 1): <gurobi.Constr *Awaiting Model Update*>,\n",
       " (1, 2, 3, 3, 2): <gurobi.Constr *Awaiting Model Update*>,\n",
       " (1, 2, 3, 3, 3): <gurobi.Constr *Awaiting Model Update*>,\n",
       " (1, 2, 3, 3, 4): <gurobi.Constr *Awaiting Model Update*>,\n",
       " (1, 2, 4, 1, 0): <gurobi.Constr *Awaiting Model Update*>,\n",
       " (1, 2, 4, 1, 1): <gurobi.Constr *Awaiting Model Update*>,\n",
       " (1, 2, 4, 1, 2): <gurobi.Constr *Awaiting Model Update*>,\n",
       " (1, 2, 4, 1, 3): <gurobi.Constr *Awaiting Model Update*>,\n",
       " (1, 2, 4, 1, 4): <gurobi.Constr *Awaiting Model Update*>,\n",
       " (1, 2, 4, 2, 0): <gurobi.Constr *Awaiting Model Update*>,\n",
       " (1, 2, 4, 2, 1): <gurobi.Constr *Awaiting Model Update*>,\n",
       " (1, 2, 4, 2, 2): <gurobi.Constr *Awaiting Model Update*>,\n",
       " (1, 2, 4, 2, 3): <gurobi.Constr *Awaiting Model Update*>,\n",
       " (1, 2, 4, 2, 4): <gurobi.Constr *Awaiting Model Update*>,\n",
       " (1, 2, 4, 3, 0): <gurobi.Constr *Awaiting Model Update*>,\n",
       " (1, 2, 4, 3, 1): <gurobi.Constr *Awaiting Model Update*>,\n",
       " (1, 2, 4, 3, 2): <gurobi.Constr *Awaiting Model Update*>,\n",
       " (1, 2, 4, 3, 3): <gurobi.Constr *Awaiting Model Update*>,\n",
       " (1, 2, 4, 3, 4): <gurobi.Constr *Awaiting Model Update*>,\n",
       " (1, 2, 5, 1, 0): <gurobi.Constr *Awaiting Model Update*>,\n",
       " (1, 2, 5, 1, 1): <gurobi.Constr *Awaiting Model Update*>,\n",
       " (1, 2, 5, 1, 2): <gurobi.Constr *Awaiting Model Update*>,\n",
       " (1, 2, 5, 1, 3): <gurobi.Constr *Awaiting Model Update*>,\n",
       " (1, 2, 5, 1, 4): <gurobi.Constr *Awaiting Model Update*>,\n",
       " (1, 2, 5, 2, 0): <gurobi.Constr *Awaiting Model Update*>,\n",
       " (1, 2, 5, 2, 1): <gurobi.Constr *Awaiting Model Update*>,\n",
       " (1, 2, 5, 2, 2): <gurobi.Constr *Awaiting Model Update*>,\n",
       " (1, 2, 5, 2, 3): <gurobi.Constr *Awaiting Model Update*>,\n",
       " (1, 2, 5, 2, 4): <gurobi.Constr *Awaiting Model Update*>,\n",
       " (1, 2, 5, 3, 0): <gurobi.Constr *Awaiting Model Update*>,\n",
       " (1, 2, 5, 3, 1): <gurobi.Constr *Awaiting Model Update*>,\n",
       " (1, 2, 5, 3, 2): <gurobi.Constr *Awaiting Model Update*>,\n",
       " (1, 2, 5, 3, 3): <gurobi.Constr *Awaiting Model Update*>,\n",
       " (1, 2, 5, 3, 4): <gurobi.Constr *Awaiting Model Update*>,\n",
       " (1, 2, 6, 1, 0): <gurobi.Constr *Awaiting Model Update*>,\n",
       " (1, 2, 6, 1, 1): <gurobi.Constr *Awaiting Model Update*>,\n",
       " (1, 2, 6, 1, 2): <gurobi.Constr *Awaiting Model Update*>,\n",
       " (1, 2, 6, 1, 3): <gurobi.Constr *Awaiting Model Update*>,\n",
       " (1, 2, 6, 1, 4): <gurobi.Constr *Awaiting Model Update*>,\n",
       " (1, 2, 6, 2, 0): <gurobi.Constr *Awaiting Model Update*>,\n",
       " (1, 2, 6, 2, 1): <gurobi.Constr *Awaiting Model Update*>,\n",
       " (1, 2, 6, 2, 2): <gurobi.Constr *Awaiting Model Update*>,\n",
       " (1, 2, 6, 2, 3): <gurobi.Constr *Awaiting Model Update*>,\n",
       " (1, 2, 6, 2, 4): <gurobi.Constr *Awaiting Model Update*>,\n",
       " (1, 2, 6, 3, 0): <gurobi.Constr *Awaiting Model Update*>,\n",
       " (1, 2, 6, 3, 1): <gurobi.Constr *Awaiting Model Update*>,\n",
       " (1, 2, 6, 3, 2): <gurobi.Constr *Awaiting Model Update*>,\n",
       " (1, 2, 6, 3, 3): <gurobi.Constr *Awaiting Model Update*>,\n",
       " (1, 2, 6, 3, 4): <gurobi.Constr *Awaiting Model Update*>,\n",
       " (1, 2, 7, 1, 0): <gurobi.Constr *Awaiting Model Update*>,\n",
       " (1, 2, 7, 1, 1): <gurobi.Constr *Awaiting Model Update*>,\n",
       " (1, 2, 7, 1, 2): <gurobi.Constr *Awaiting Model Update*>,\n",
       " (1, 2, 7, 1, 3): <gurobi.Constr *Awaiting Model Update*>,\n",
       " (1, 2, 7, 1, 4): <gurobi.Constr *Awaiting Model Update*>,\n",
       " (1, 2, 7, 2, 0): <gurobi.Constr *Awaiting Model Update*>,\n",
       " (1, 2, 7, 2, 1): <gurobi.Constr *Awaiting Model Update*>,\n",
       " (1, 2, 7, 2, 2): <gurobi.Constr *Awaiting Model Update*>,\n",
       " (1, 2, 7, 2, 3): <gurobi.Constr *Awaiting Model Update*>,\n",
       " (1, 2, 7, 2, 4): <gurobi.Constr *Awaiting Model Update*>,\n",
       " (1, 2, 7, 3, 0): <gurobi.Constr *Awaiting Model Update*>,\n",
       " (1, 2, 7, 3, 1): <gurobi.Constr *Awaiting Model Update*>,\n",
       " (1, 2, 7, 3, 2): <gurobi.Constr *Awaiting Model Update*>,\n",
       " (1, 2, 7, 3, 3): <gurobi.Constr *Awaiting Model Update*>,\n",
       " (1, 2, 7, 3, 4): <gurobi.Constr *Awaiting Model Update*>,\n",
       " (1, 2, 8, 1, 0): <gurobi.Constr *Awaiting Model Update*>,\n",
       " (1, 2, 8, 1, 1): <gurobi.Constr *Awaiting Model Update*>,\n",
       " (1, 2, 8, 1, 2): <gurobi.Constr *Awaiting Model Update*>,\n",
       " (1, 2, 8, 1, 3): <gurobi.Constr *Awaiting Model Update*>,\n",
       " (1, 2, 8, 1, 4): <gurobi.Constr *Awaiting Model Update*>,\n",
       " (1, 2, 8, 2, 0): <gurobi.Constr *Awaiting Model Update*>,\n",
       " (1, 2, 8, 2, 1): <gurobi.Constr *Awaiting Model Update*>,\n",
       " (1, 2, 8, 2, 2): <gurobi.Constr *Awaiting Model Update*>,\n",
       " (1, 2, 8, 2, 3): <gurobi.Constr *Awaiting Model Update*>,\n",
       " (1, 2, 8, 2, 4): <gurobi.Constr *Awaiting Model Update*>,\n",
       " (1, 2, 8, 3, 0): <gurobi.Constr *Awaiting Model Update*>,\n",
       " (1, 2, 8, 3, 1): <gurobi.Constr *Awaiting Model Update*>,\n",
       " (1, 2, 8, 3, 2): <gurobi.Constr *Awaiting Model Update*>,\n",
       " (1, 2, 8, 3, 3): <gurobi.Constr *Awaiting Model Update*>,\n",
       " (1, 2, 8, 3, 4): <gurobi.Constr *Awaiting Model Update*>,\n",
       " (1, 2, 9, 1, 0): <gurobi.Constr *Awaiting Model Update*>,\n",
       " (1, 2, 9, 1, 1): <gurobi.Constr *Awaiting Model Update*>,\n",
       " (1, 2, 9, 1, 2): <gurobi.Constr *Awaiting Model Update*>,\n",
       " (1, 2, 9, 1, 3): <gurobi.Constr *Awaiting Model Update*>,\n",
       " (1, 2, 9, 1, 4): <gurobi.Constr *Awaiting Model Update*>,\n",
       " (1, 2, 9, 2, 0): <gurobi.Constr *Awaiting Model Update*>,\n",
       " (1, 2, 9, 2, 1): <gurobi.Constr *Awaiting Model Update*>,\n",
       " (1, 2, 9, 2, 2): <gurobi.Constr *Awaiting Model Update*>,\n",
       " (1, 2, 9, 2, 3): <gurobi.Constr *Awaiting Model Update*>,\n",
       " (1, 2, 9, 2, 4): <gurobi.Constr *Awaiting Model Update*>,\n",
       " (1, 2, 9, 3, 0): <gurobi.Constr *Awaiting Model Update*>,\n",
       " (1, 2, 9, 3, 1): <gurobi.Constr *Awaiting Model Update*>,\n",
       " (1, 2, 9, 3, 2): <gurobi.Constr *Awaiting Model Update*>,\n",
       " (1, 2, 9, 3, 3): <gurobi.Constr *Awaiting Model Update*>,\n",
       " (1, 2, 9, 3, 4): <gurobi.Constr *Awaiting Model Update*>,\n",
       " (1, 2, 10, 1, 0): <gurobi.Constr *Awaiting Model Update*>,\n",
       " (1, 2, 10, 1, 1): <gurobi.Constr *Awaiting Model Update*>,\n",
       " (1, 2, 10, 1, 2): <gurobi.Constr *Awaiting Model Update*>,\n",
       " (1, 2, 10, 1, 3): <gurobi.Constr *Awaiting Model Update*>,\n",
       " (1, 2, 10, 1, 4): <gurobi.Constr *Awaiting Model Update*>,\n",
       " (1, 2, 10, 2, 0): <gurobi.Constr *Awaiting Model Update*>,\n",
       " (1, 2, 10, 2, 1): <gurobi.Constr *Awaiting Model Update*>,\n",
       " (1, 2, 10, 2, 2): <gurobi.Constr *Awaiting Model Update*>,\n",
       " (1, 2, 10, 2, 3): <gurobi.Constr *Awaiting Model Update*>,\n",
       " (1, 2, 10, 2, 4): <gurobi.Constr *Awaiting Model Update*>,\n",
       " (1, 2, 10, 3, 0): <gurobi.Constr *Awaiting Model Update*>,\n",
       " (1, 2, 10, 3, 1): <gurobi.Constr *Awaiting Model Update*>,\n",
       " (1, 2, 10, 3, 2): <gurobi.Constr *Awaiting Model Update*>,\n",
       " (1, 2, 10, 3, 3): <gurobi.Constr *Awaiting Model Update*>,\n",
       " (1, 2, 10, 3, 4): <gurobi.Constr *Awaiting Model Update*>,\n",
       " (1, 3, 1, 1, 0): <gurobi.Constr *Awaiting Model Update*>,\n",
       " (1, 3, 1, 1, 1): <gurobi.Constr *Awaiting Model Update*>,\n",
       " (1, 3, 1, 1, 2): <gurobi.Constr *Awaiting Model Update*>,\n",
       " (1, 3, 1, 1, 3): <gurobi.Constr *Awaiting Model Update*>,\n",
       " (1, 3, 1, 1, 4): <gurobi.Constr *Awaiting Model Update*>,\n",
       " (1, 3, 1, 2, 0): <gurobi.Constr *Awaiting Model Update*>,\n",
       " (1, 3, 1, 2, 1): <gurobi.Constr *Awaiting Model Update*>,\n",
       " (1, 3, 1, 2, 2): <gurobi.Constr *Awaiting Model Update*>,\n",
       " (1, 3, 1, 2, 3): <gurobi.Constr *Awaiting Model Update*>,\n",
       " (1, 3, 1, 2, 4): <gurobi.Constr *Awaiting Model Update*>,\n",
       " (1, 3, 2, 1, 0): <gurobi.Constr *Awaiting Model Update*>,\n",
       " (1, 3, 2, 1, 1): <gurobi.Constr *Awaiting Model Update*>,\n",
       " (1, 3, 2, 1, 2): <gurobi.Constr *Awaiting Model Update*>,\n",
       " (1, 3, 2, 1, 3): <gurobi.Constr *Awaiting Model Update*>,\n",
       " (1, 3, 2, 1, 4): <gurobi.Constr *Awaiting Model Update*>,\n",
       " (1, 3, 2, 2, 0): <gurobi.Constr *Awaiting Model Update*>,\n",
       " (1, 3, 2, 2, 1): <gurobi.Constr *Awaiting Model Update*>,\n",
       " (1, 3, 2, 2, 2): <gurobi.Constr *Awaiting Model Update*>,\n",
       " (1, 3, 2, 2, 3): <gurobi.Constr *Awaiting Model Update*>,\n",
       " (1, 3, 2, 2, 4): <gurobi.Constr *Awaiting Model Update*>,\n",
       " (1, 3, 2, 3, 0): <gurobi.Constr *Awaiting Model Update*>,\n",
       " (1, 3, 2, 3, 1): <gurobi.Constr *Awaiting Model Update*>,\n",
       " (1, 3, 2, 3, 2): <gurobi.Constr *Awaiting Model Update*>,\n",
       " (1, 3, 2, 3, 3): <gurobi.Constr *Awaiting Model Update*>,\n",
       " (1, 3, 2, 3, 4): <gurobi.Constr *Awaiting Model Update*>,\n",
       " (1, 3, 3, 1, 0): <gurobi.Constr *Awaiting Model Update*>,\n",
       " (1, 3, 3, 1, 1): <gurobi.Constr *Awaiting Model Update*>,\n",
       " (1, 3, 3, 1, 2): <gurobi.Constr *Awaiting Model Update*>,\n",
       " (1, 3, 3, 1, 3): <gurobi.Constr *Awaiting Model Update*>,\n",
       " (1, 3, 3, 1, 4): <gurobi.Constr *Awaiting Model Update*>,\n",
       " (1, 3, 3, 2, 0): <gurobi.Constr *Awaiting Model Update*>,\n",
       " (1, 3, 3, 2, 1): <gurobi.Constr *Awaiting Model Update*>,\n",
       " (1, 3, 3, 2, 2): <gurobi.Constr *Awaiting Model Update*>,\n",
       " (1, 3, 3, 2, 3): <gurobi.Constr *Awaiting Model Update*>,\n",
       " (1, 3, 3, 2, 4): <gurobi.Constr *Awaiting Model Update*>,\n",
       " (1, 3, 3, 3, 0): <gurobi.Constr *Awaiting Model Update*>,\n",
       " (1, 3, 3, 3, 1): <gurobi.Constr *Awaiting Model Update*>,\n",
       " (1, 3, 3, 3, 2): <gurobi.Constr *Awaiting Model Update*>,\n",
       " (1, 3, 3, 3, 3): <gurobi.Constr *Awaiting Model Update*>,\n",
       " (1, 3, 3, 3, 4): <gurobi.Constr *Awaiting Model Update*>,\n",
       " (1, 3, 4, 1, 0): <gurobi.Constr *Awaiting Model Update*>,\n",
       " (1, 3, 4, 1, 1): <gurobi.Constr *Awaiting Model Update*>,\n",
       " (1, 3, 4, 1, 2): <gurobi.Constr *Awaiting Model Update*>,\n",
       " (1, 3, 4, 1, 3): <gurobi.Constr *Awaiting Model Update*>,\n",
       " (1, 3, 4, 1, 4): <gurobi.Constr *Awaiting Model Update*>,\n",
       " (1, 3, 4, 2, 0): <gurobi.Constr *Awaiting Model Update*>,\n",
       " (1, 3, 4, 2, 1): <gurobi.Constr *Awaiting Model Update*>,\n",
       " (1, 3, 4, 2, 2): <gurobi.Constr *Awaiting Model Update*>,\n",
       " (1, 3, 4, 2, 3): <gurobi.Constr *Awaiting Model Update*>,\n",
       " (1, 3, 4, 2, 4): <gurobi.Constr *Awaiting Model Update*>,\n",
       " (1, 3, 4, 3, 0): <gurobi.Constr *Awaiting Model Update*>,\n",
       " (1, 3, 4, 3, 1): <gurobi.Constr *Awaiting Model Update*>,\n",
       " (1, 3, 4, 3, 2): <gurobi.Constr *Awaiting Model Update*>,\n",
       " (1, 3, 4, 3, 3): <gurobi.Constr *Awaiting Model Update*>,\n",
       " (1, 3, 4, 3, 4): <gurobi.Constr *Awaiting Model Update*>,\n",
       " (1, 3, 5, 1, 0): <gurobi.Constr *Awaiting Model Update*>,\n",
       " (1, 3, 5, 1, 1): <gurobi.Constr *Awaiting Model Update*>,\n",
       " (1, 3, 5, 1, 2): <gurobi.Constr *Awaiting Model Update*>,\n",
       " (1, 3, 5, 1, 3): <gurobi.Constr *Awaiting Model Update*>,\n",
       " (1, 3, 5, 1, 4): <gurobi.Constr *Awaiting Model Update*>,\n",
       " (1, 3, 5, 2, 0): <gurobi.Constr *Awaiting Model Update*>,\n",
       " (1, 3, 5, 2, 1): <gurobi.Constr *Awaiting Model Update*>,\n",
       " (1, 3, 5, 2, 2): <gurobi.Constr *Awaiting Model Update*>,\n",
       " (1, 3, 5, 2, 3): <gurobi.Constr *Awaiting Model Update*>,\n",
       " (1, 3, 5, 2, 4): <gurobi.Constr *Awaiting Model Update*>,\n",
       " (1, 3, 5, 3, 0): <gurobi.Constr *Awaiting Model Update*>,\n",
       " (1, 3, 5, 3, 1): <gurobi.Constr *Awaiting Model Update*>,\n",
       " (1, 3, 5, 3, 2): <gurobi.Constr *Awaiting Model Update*>,\n",
       " (1, 3, 5, 3, 3): <gurobi.Constr *Awaiting Model Update*>,\n",
       " (1, 3, 5, 3, 4): <gurobi.Constr *Awaiting Model Update*>,\n",
       " (1, 3, 6, 1, 0): <gurobi.Constr *Awaiting Model Update*>,\n",
       " (1, 3, 6, 1, 1): <gurobi.Constr *Awaiting Model Update*>,\n",
       " (1, 3, 6, 1, 2): <gurobi.Constr *Awaiting Model Update*>,\n",
       " (1, 3, 6, 1, 3): <gurobi.Constr *Awaiting Model Update*>,\n",
       " (1, 3, 6, 1, 4): <gurobi.Constr *Awaiting Model Update*>,\n",
       " (1, 3, 6, 2, 0): <gurobi.Constr *Awaiting Model Update*>,\n",
       " (1, 3, 6, 2, 1): <gurobi.Constr *Awaiting Model Update*>,\n",
       " (1, 3, 6, 2, 2): <gurobi.Constr *Awaiting Model Update*>,\n",
       " (1, 3, 6, 2, 3): <gurobi.Constr *Awaiting Model Update*>,\n",
       " (1, 3, 6, 2, 4): <gurobi.Constr *Awaiting Model Update*>,\n",
       " (1, 3, 6, 3, 0): <gurobi.Constr *Awaiting Model Update*>,\n",
       " (1, 3, 6, 3, 1): <gurobi.Constr *Awaiting Model Update*>,\n",
       " (1, 3, 6, 3, 2): <gurobi.Constr *Awaiting Model Update*>,\n",
       " (1, 3, 6, 3, 3): <gurobi.Constr *Awaiting Model Update*>,\n",
       " (1, 3, 6, 3, 4): <gurobi.Constr *Awaiting Model Update*>,\n",
       " (1, 3, 7, 1, 0): <gurobi.Constr *Awaiting Model Update*>,\n",
       " (1, 3, 7, 1, 1): <gurobi.Constr *Awaiting Model Update*>,\n",
       " (1, 3, 7, 1, 2): <gurobi.Constr *Awaiting Model Update*>,\n",
       " (1, 3, 7, 1, 3): <gurobi.Constr *Awaiting Model Update*>,\n",
       " (1, 3, 7, 1, 4): <gurobi.Constr *Awaiting Model Update*>,\n",
       " (1, 3, 7, 2, 0): <gurobi.Constr *Awaiting Model Update*>,\n",
       " (1, 3, 7, 2, 1): <gurobi.Constr *Awaiting Model Update*>,\n",
       " (1, 3, 7, 2, 2): <gurobi.Constr *Awaiting Model Update*>,\n",
       " (1, 3, 7, 2, 3): <gurobi.Constr *Awaiting Model Update*>,\n",
       " (1, 3, 7, 2, 4): <gurobi.Constr *Awaiting Model Update*>,\n",
       " (1, 3, 7, 3, 0): <gurobi.Constr *Awaiting Model Update*>,\n",
       " (1, 3, 7, 3, 1): <gurobi.Constr *Awaiting Model Update*>,\n",
       " (1, 3, 7, 3, 2): <gurobi.Constr *Awaiting Model Update*>,\n",
       " (1, 3, 7, 3, 3): <gurobi.Constr *Awaiting Model Update*>,\n",
       " (1, 3, 7, 3, 4): <gurobi.Constr *Awaiting Model Update*>,\n",
       " (1, 3, 8, 1, 0): <gurobi.Constr *Awaiting Model Update*>,\n",
       " (1, 3, 8, 1, 1): <gurobi.Constr *Awaiting Model Update*>,\n",
       " (1, 3, 8, 1, 2): <gurobi.Constr *Awaiting Model Update*>,\n",
       " (1, 3, 8, 1, 3): <gurobi.Constr *Awaiting Model Update*>,\n",
       " (1, 3, 8, 1, 4): <gurobi.Constr *Awaiting Model Update*>,\n",
       " (1, 3, 8, 2, 0): <gurobi.Constr *Awaiting Model Update*>,\n",
       " (1, 3, 8, 2, 1): <gurobi.Constr *Awaiting Model Update*>,\n",
       " (1, 3, 8, 2, 2): <gurobi.Constr *Awaiting Model Update*>,\n",
       " (1, 3, 8, 2, 3): <gurobi.Constr *Awaiting Model Update*>,\n",
       " (1, 3, 8, 2, 4): <gurobi.Constr *Awaiting Model Update*>,\n",
       " (1, 3, 8, 3, 0): <gurobi.Constr *Awaiting Model Update*>,\n",
       " (1, 3, 8, 3, 1): <gurobi.Constr *Awaiting Model Update*>,\n",
       " (1, 3, 8, 3, 2): <gurobi.Constr *Awaiting Model Update*>,\n",
       " (1, 3, 8, 3, 3): <gurobi.Constr *Awaiting Model Update*>,\n",
       " (1, 3, 8, 3, 4): <gurobi.Constr *Awaiting Model Update*>,\n",
       " (1, 3, 9, 1, 0): <gurobi.Constr *Awaiting Model Update*>,\n",
       " (1, 3, 9, 1, 1): <gurobi.Constr *Awaiting Model Update*>,\n",
       " (1, 3, 9, 1, 2): <gurobi.Constr *Awaiting Model Update*>,\n",
       " (1, 3, 9, 1, 3): <gurobi.Constr *Awaiting Model Update*>,\n",
       " (1, 3, 9, 1, 4): <gurobi.Constr *Awaiting Model Update*>,\n",
       " (1, 3, 9, 2, 0): <gurobi.Constr *Awaiting Model Update*>,\n",
       " (1, 3, 9, 2, 1): <gurobi.Constr *Awaiting Model Update*>,\n",
       " (1, 3, 9, 2, 2): <gurobi.Constr *Awaiting Model Update*>,\n",
       " (1, 3, 9, 2, 3): <gurobi.Constr *Awaiting Model Update*>,\n",
       " (1, 3, 9, 2, 4): <gurobi.Constr *Awaiting Model Update*>,\n",
       " (1, 3, 9, 3, 0): <gurobi.Constr *Awaiting Model Update*>,\n",
       " (1, 3, 9, 3, 1): <gurobi.Constr *Awaiting Model Update*>,\n",
       " (1, 3, 9, 3, 2): <gurobi.Constr *Awaiting Model Update*>,\n",
       " (1, 3, 9, 3, 3): <gurobi.Constr *Awaiting Model Update*>,\n",
       " (1, 3, 9, 3, 4): <gurobi.Constr *Awaiting Model Update*>,\n",
       " (1, 3, 10, 1, 0): <gurobi.Constr *Awaiting Model Update*>,\n",
       " (1, 3, 10, 1, 1): <gurobi.Constr *Awaiting Model Update*>,\n",
       " (1, 3, 10, 1, 2): <gurobi.Constr *Awaiting Model Update*>,\n",
       " (1, 3, 10, 1, 3): <gurobi.Constr *Awaiting Model Update*>,\n",
       " (1, 3, 10, 1, 4): <gurobi.Constr *Awaiting Model Update*>,\n",
       " (1, 3, 10, 2, 0): <gurobi.Constr *Awaiting Model Update*>,\n",
       " (1, 3, 10, 2, 1): <gurobi.Constr *Awaiting Model Update*>,\n",
       " (1, 3, 10, 2, 2): <gurobi.Constr *Awaiting Model Update*>,\n",
       " (1, 3, 10, 2, 3): <gurobi.Constr *Awaiting Model Update*>,\n",
       " (1, 3, 10, 2, 4): <gurobi.Constr *Awaiting Model Update*>,\n",
       " (1, 3, 10, 3, 0): <gurobi.Constr *Awaiting Model Update*>,\n",
       " (1, 3, 10, 3, 1): <gurobi.Constr *Awaiting Model Update*>,\n",
       " (1, 3, 10, 3, 2): <gurobi.Constr *Awaiting Model Update*>,\n",
       " (1, 3, 10, 3, 3): <gurobi.Constr *Awaiting Model Update*>,\n",
       " (1, 3, 10, 3, 4): <gurobi.Constr *Awaiting Model Update*>,\n",
       " (2, 1, 2, 2, 0): <gurobi.Constr *Awaiting Model Update*>,\n",
       " (2, 1, 2, 2, 1): <gurobi.Constr *Awaiting Model Update*>,\n",
       " (2, 1, 2, 2, 2): <gurobi.Constr *Awaiting Model Update*>,\n",
       " (2, 1, 2, 2, 3): <gurobi.Constr *Awaiting Model Update*>,\n",
       " (2, 1, 2, 2, 4): <gurobi.Constr *Awaiting Model Update*>,\n",
       " (2, 1, 2, 3, 0): <gurobi.Constr *Awaiting Model Update*>,\n",
       " (2, 1, 2, 3, 1): <gurobi.Constr *Awaiting Model Update*>,\n",
       " (2, 1, 2, 3, 2): <gurobi.Constr *Awaiting Model Update*>,\n",
       " (2, 1, 2, 3, 3): <gurobi.Constr *Awaiting Model Update*>,\n",
       " (2, 1, 2, 3, 4): <gurobi.Constr *Awaiting Model Update*>,\n",
       " (2, 1, 3, 1, 0): <gurobi.Constr *Awaiting Model Update*>,\n",
       " (2, 1, 3, 1, 1): <gurobi.Constr *Awaiting Model Update*>,\n",
       " (2, 1, 3, 1, 2): <gurobi.Constr *Awaiting Model Update*>,\n",
       " (2, 1, 3, 1, 3): <gurobi.Constr *Awaiting Model Update*>,\n",
       " (2, 1, 3, 1, 4): <gurobi.Constr *Awaiting Model Update*>,\n",
       " (2, 1, 3, 2, 0): <gurobi.Constr *Awaiting Model Update*>,\n",
       " (2, 1, 3, 2, 1): <gurobi.Constr *Awaiting Model Update*>,\n",
       " (2, 1, 3, 2, 2): <gurobi.Constr *Awaiting Model Update*>,\n",
       " (2, 1, 3, 2, 3): <gurobi.Constr *Awaiting Model Update*>,\n",
       " (2, 1, 3, 2, 4): <gurobi.Constr *Awaiting Model Update*>,\n",
       " (2, 1, 3, 3, 0): <gurobi.Constr *Awaiting Model Update*>,\n",
       " (2, 1, 3, 3, 1): <gurobi.Constr *Awaiting Model Update*>,\n",
       " (2, 1, 3, 3, 2): <gurobi.Constr *Awaiting Model Update*>,\n",
       " (2, 1, 3, 3, 3): <gurobi.Constr *Awaiting Model Update*>,\n",
       " (2, 1, 3, 3, 4): <gurobi.Constr *Awaiting Model Update*>,\n",
       " (2, 1, 4, 1, 0): <gurobi.Constr *Awaiting Model Update*>,\n",
       " (2, 1, 4, 1, 1): <gurobi.Constr *Awaiting Model Update*>,\n",
       " (2, 1, 4, 1, 2): <gurobi.Constr *Awaiting Model Update*>,\n",
       " (2, 1, 4, 1, 3): <gurobi.Constr *Awaiting Model Update*>,\n",
       " (2, 1, 4, 1, 4): <gurobi.Constr *Awaiting Model Update*>,\n",
       " (2, 1, 4, 2, 0): <gurobi.Constr *Awaiting Model Update*>,\n",
       " (2, 1, 4, 2, 1): <gurobi.Constr *Awaiting Model Update*>,\n",
       " (2, 1, 4, 2, 2): <gurobi.Constr *Awaiting Model Update*>,\n",
       " (2, 1, 4, 2, 3): <gurobi.Constr *Awaiting Model Update*>,\n",
       " (2, 1, 4, 2, 4): <gurobi.Constr *Awaiting Model Update*>,\n",
       " (2, 1, 4, 3, 0): <gurobi.Constr *Awaiting Model Update*>,\n",
       " (2, 1, 4, 3, 1): <gurobi.Constr *Awaiting Model Update*>,\n",
       " (2, 1, 4, 3, 2): <gurobi.Constr *Awaiting Model Update*>,\n",
       " (2, 1, 4, 3, 3): <gurobi.Constr *Awaiting Model Update*>,\n",
       " (2, 1, 4, 3, 4): <gurobi.Constr *Awaiting Model Update*>,\n",
       " (2, 1, 5, 1, 0): <gurobi.Constr *Awaiting Model Update*>,\n",
       " (2, 1, 5, 1, 1): <gurobi.Constr *Awaiting Model Update*>,\n",
       " (2, 1, 5, 1, 2): <gurobi.Constr *Awaiting Model Update*>,\n",
       " (2, 1, 5, 1, 3): <gurobi.Constr *Awaiting Model Update*>,\n",
       " (2, 1, 5, 1, 4): <gurobi.Constr *Awaiting Model Update*>,\n",
       " (2, 1, 5, 2, 0): <gurobi.Constr *Awaiting Model Update*>,\n",
       " (2, 1, 5, 2, 1): <gurobi.Constr *Awaiting Model Update*>,\n",
       " (2, 1, 5, 2, 2): <gurobi.Constr *Awaiting Model Update*>,\n",
       " (2, 1, 5, 2, 3): <gurobi.Constr *Awaiting Model Update*>,\n",
       " (2, 1, 5, 2, 4): <gurobi.Constr *Awaiting Model Update*>,\n",
       " (2, 1, 5, 3, 0): <gurobi.Constr *Awaiting Model Update*>,\n",
       " (2, 1, 5, 3, 1): <gurobi.Constr *Awaiting Model Update*>,\n",
       " (2, 1, 5, 3, 2): <gurobi.Constr *Awaiting Model Update*>,\n",
       " (2, 1, 5, 3, 3): <gurobi.Constr *Awaiting Model Update*>,\n",
       " (2, 1, 5, 3, 4): <gurobi.Constr *Awaiting Model Update*>,\n",
       " (2, 1, 6, 1, 0): <gurobi.Constr *Awaiting Model Update*>,\n",
       " (2, 1, 6, 1, 1): <gurobi.Constr *Awaiting Model Update*>,\n",
       " (2, 1, 6, 1, 2): <gurobi.Constr *Awaiting Model Update*>,\n",
       " (2, 1, 6, 1, 3): <gurobi.Constr *Awaiting Model Update*>,\n",
       " (2, 1, 6, 1, 4): <gurobi.Constr *Awaiting Model Update*>,\n",
       " (2, 1, 6, 2, 0): <gurobi.Constr *Awaiting Model Update*>,\n",
       " (2, 1, 6, 2, 1): <gurobi.Constr *Awaiting Model Update*>,\n",
       " (2, 1, 6, 2, 2): <gurobi.Constr *Awaiting Model Update*>,\n",
       " (2, 1, 6, 2, 3): <gurobi.Constr *Awaiting Model Update*>,\n",
       " (2, 1, 6, 2, 4): <gurobi.Constr *Awaiting Model Update*>,\n",
       " (2, 1, 6, 3, 0): <gurobi.Constr *Awaiting Model Update*>,\n",
       " (2, 1, 6, 3, 1): <gurobi.Constr *Awaiting Model Update*>,\n",
       " (2, 1, 6, 3, 2): <gurobi.Constr *Awaiting Model Update*>,\n",
       " (2, 1, 6, 3, 3): <gurobi.Constr *Awaiting Model Update*>,\n",
       " (2, 1, 6, 3, 4): <gurobi.Constr *Awaiting Model Update*>,\n",
       " (2, 1, 7, 1, 0): <gurobi.Constr *Awaiting Model Update*>,\n",
       " (2, 1, 7, 1, 1): <gurobi.Constr *Awaiting Model Update*>,\n",
       " (2, 1, 7, 1, 2): <gurobi.Constr *Awaiting Model Update*>,\n",
       " (2, 1, 7, 1, 3): <gurobi.Constr *Awaiting Model Update*>,\n",
       " (2, 1, 7, 1, 4): <gurobi.Constr *Awaiting Model Update*>,\n",
       " (2, 1, 7, 2, 0): <gurobi.Constr *Awaiting Model Update*>,\n",
       " (2, 1, 7, 2, 1): <gurobi.Constr *Awaiting Model Update*>,\n",
       " (2, 1, 7, 2, 2): <gurobi.Constr *Awaiting Model Update*>,\n",
       " (2, 1, 7, 2, 3): <gurobi.Constr *Awaiting Model Update*>,\n",
       " (2, 1, 7, 2, 4): <gurobi.Constr *Awaiting Model Update*>,\n",
       " (2, 1, 7, 3, 0): <gurobi.Constr *Awaiting Model Update*>,\n",
       " (2, 1, 7, 3, 1): <gurobi.Constr *Awaiting Model Update*>,\n",
       " (2, 1, 7, 3, 2): <gurobi.Constr *Awaiting Model Update*>,\n",
       " (2, 1, 7, 3, 3): <gurobi.Constr *Awaiting Model Update*>,\n",
       " (2, 1, 7, 3, 4): <gurobi.Constr *Awaiting Model Update*>,\n",
       " (2, 1, 8, 1, 0): <gurobi.Constr *Awaiting Model Update*>,\n",
       " (2, 1, 8, 1, 1): <gurobi.Constr *Awaiting Model Update*>,\n",
       " (2, 1, 8, 1, 2): <gurobi.Constr *Awaiting Model Update*>,\n",
       " (2, 1, 8, 1, 3): <gurobi.Constr *Awaiting Model Update*>,\n",
       " (2, 1, 8, 1, 4): <gurobi.Constr *Awaiting Model Update*>,\n",
       " (2, 1, 8, 2, 0): <gurobi.Constr *Awaiting Model Update*>,\n",
       " (2, 1, 8, 2, 1): <gurobi.Constr *Awaiting Model Update*>,\n",
       " (2, 1, 8, 2, 2): <gurobi.Constr *Awaiting Model Update*>,\n",
       " (2, 1, 8, 2, 3): <gurobi.Constr *Awaiting Model Update*>,\n",
       " (2, 1, 8, 2, 4): <gurobi.Constr *Awaiting Model Update*>,\n",
       " (2, 1, 8, 3, 0): <gurobi.Constr *Awaiting Model Update*>,\n",
       " (2, 1, 8, 3, 1): <gurobi.Constr *Awaiting Model Update*>,\n",
       " (2, 1, 8, 3, 2): <gurobi.Constr *Awaiting Model Update*>,\n",
       " (2, 1, 8, 3, 3): <gurobi.Constr *Awaiting Model Update*>,\n",
       " (2, 1, 8, 3, 4): <gurobi.Constr *Awaiting Model Update*>,\n",
       " (2, 1, 9, 1, 0): <gurobi.Constr *Awaiting Model Update*>,\n",
       " (2, 1, 9, 1, 1): <gurobi.Constr *Awaiting Model Update*>,\n",
       " (2, 1, 9, 1, 2): <gurobi.Constr *Awaiting Model Update*>,\n",
       " (2, 1, 9, 1, 3): <gurobi.Constr *Awaiting Model Update*>,\n",
       " (2, 1, 9, 1, 4): <gurobi.Constr *Awaiting Model Update*>,\n",
       " (2, 1, 9, 2, 0): <gurobi.Constr *Awaiting Model Update*>,\n",
       " (2, 1, 9, 2, 1): <gurobi.Constr *Awaiting Model Update*>,\n",
       " (2, 1, 9, 2, 2): <gurobi.Constr *Awaiting Model Update*>,\n",
       " (2, 1, 9, 2, 3): <gurobi.Constr *Awaiting Model Update*>,\n",
       " (2, 1, 9, 2, 4): <gurobi.Constr *Awaiting Model Update*>,\n",
       " (2, 1, 9, 3, 0): <gurobi.Constr *Awaiting Model Update*>,\n",
       " (2, 1, 9, 3, 1): <gurobi.Constr *Awaiting Model Update*>,\n",
       " (2, 1, 9, 3, 2): <gurobi.Constr *Awaiting Model Update*>,\n",
       " (2, 1, 9, 3, 3): <gurobi.Constr *Awaiting Model Update*>,\n",
       " (2, 1, 9, 3, 4): <gurobi.Constr *Awaiting Model Update*>,\n",
       " (2, 1, 10, 1, 0): <gurobi.Constr *Awaiting Model Update*>,\n",
       " (2, 1, 10, 1, 1): <gurobi.Constr *Awaiting Model Update*>,\n",
       " (2, 1, 10, 1, 2): <gurobi.Constr *Awaiting Model Update*>,\n",
       " (2, 1, 10, 1, 3): <gurobi.Constr *Awaiting Model Update*>,\n",
       " (2, 1, 10, 1, 4): <gurobi.Constr *Awaiting Model Update*>,\n",
       " (2, 1, 10, 2, 0): <gurobi.Constr *Awaiting Model Update*>,\n",
       " (2, 1, 10, 2, 1): <gurobi.Constr *Awaiting Model Update*>,\n",
       " (2, 1, 10, 2, 2): <gurobi.Constr *Awaiting Model Update*>,\n",
       " (2, 1, 10, 2, 3): <gurobi.Constr *Awaiting Model Update*>,\n",
       " (2, 1, 10, 2, 4): <gurobi.Constr *Awaiting Model Update*>,\n",
       " (2, 1, 10, 3, 0): <gurobi.Constr *Awaiting Model Update*>,\n",
       " (2, 1, 10, 3, 1): <gurobi.Constr *Awaiting Model Update*>,\n",
       " (2, 1, 10, 3, 2): <gurobi.Constr *Awaiting Model Update*>,\n",
       " (2, 1, 10, 3, 3): <gurobi.Constr *Awaiting Model Update*>,\n",
       " (2, 1, 10, 3, 4): <gurobi.Constr *Awaiting Model Update*>,\n",
       " (2, 2, 2, 1, 0): <gurobi.Constr *Awaiting Model Update*>,\n",
       " (2, 2, 2, 1, 1): <gurobi.Constr *Awaiting Model Update*>,\n",
       " (2, 2, 2, 1, 2): <gurobi.Constr *Awaiting Model Update*>,\n",
       " (2, 2, 2, 1, 3): <gurobi.Constr *Awaiting Model Update*>,\n",
       " (2, 2, 2, 1, 4): <gurobi.Constr *Awaiting Model Update*>,\n",
       " (2, 2, 2, 3, 0): <gurobi.Constr *Awaiting Model Update*>,\n",
       " (2, 2, 2, 3, 1): <gurobi.Constr *Awaiting Model Update*>,\n",
       " (2, 2, 2, 3, 2): <gurobi.Constr *Awaiting Model Update*>,\n",
       " (2, 2, 2, 3, 3): <gurobi.Constr *Awaiting Model Update*>,\n",
       " (2, 2, 2, 3, 4): <gurobi.Constr *Awaiting Model Update*>,\n",
       " (2, 2, 3, 1, 0): <gurobi.Constr *Awaiting Model Update*>,\n",
       " (2, 2, 3, 1, 1): <gurobi.Constr *Awaiting Model Update*>,\n",
       " (2, 2, 3, 1, 2): <gurobi.Constr *Awaiting Model Update*>,\n",
       " (2, 2, 3, 1, 3): <gurobi.Constr *Awaiting Model Update*>,\n",
       " (2, 2, 3, 1, 4): <gurobi.Constr *Awaiting Model Update*>,\n",
       " (2, 2, 3, 2, 0): <gurobi.Constr *Awaiting Model Update*>,\n",
       " (2, 2, 3, 2, 1): <gurobi.Constr *Awaiting Model Update*>,\n",
       " (2, 2, 3, 2, 2): <gurobi.Constr *Awaiting Model Update*>,\n",
       " (2, 2, 3, 2, 3): <gurobi.Constr *Awaiting Model Update*>,\n",
       " (2, 2, 3, 2, 4): <gurobi.Constr *Awaiting Model Update*>,\n",
       " (2, 2, 3, 3, 0): <gurobi.Constr *Awaiting Model Update*>,\n",
       " (2, 2, 3, 3, 1): <gurobi.Constr *Awaiting Model Update*>,\n",
       " (2, 2, 3, 3, 2): <gurobi.Constr *Awaiting Model Update*>,\n",
       " (2, 2, 3, 3, 3): <gurobi.Constr *Awaiting Model Update*>,\n",
       " (2, 2, 3, 3, 4): <gurobi.Constr *Awaiting Model Update*>,\n",
       " (2, 2, 4, 1, 0): <gurobi.Constr *Awaiting Model Update*>,\n",
       " (2, 2, 4, 1, 1): <gurobi.Constr *Awaiting Model Update*>,\n",
       " (2, 2, 4, 1, 2): <gurobi.Constr *Awaiting Model Update*>,\n",
       " (2, 2, 4, 1, 3): <gurobi.Constr *Awaiting Model Update*>,\n",
       " (2, 2, 4, 1, 4): <gurobi.Constr *Awaiting Model Update*>,\n",
       " (2, 2, 4, 2, 0): <gurobi.Constr *Awaiting Model Update*>,\n",
       " (2, 2, 4, 2, 1): <gurobi.Constr *Awaiting Model Update*>,\n",
       " (2, 2, 4, 2, 2): <gurobi.Constr *Awaiting Model Update*>,\n",
       " (2, 2, 4, 2, 3): <gurobi.Constr *Awaiting Model Update*>,\n",
       " (2, 2, 4, 2, 4): <gurobi.Constr *Awaiting Model Update*>,\n",
       " (2, 2, 4, 3, 0): <gurobi.Constr *Awaiting Model Update*>,\n",
       " (2, 2, 4, 3, 1): <gurobi.Constr *Awaiting Model Update*>,\n",
       " (2, 2, 4, 3, 2): <gurobi.Constr *Awaiting Model Update*>,\n",
       " (2, 2, 4, 3, 3): <gurobi.Constr *Awaiting Model Update*>,\n",
       " (2, 2, 4, 3, 4): <gurobi.Constr *Awaiting Model Update*>,\n",
       " (2, 2, 5, 1, 0): <gurobi.Constr *Awaiting Model Update*>,\n",
       " (2, 2, 5, 1, 1): <gurobi.Constr *Awaiting Model Update*>,\n",
       " (2, 2, 5, 1, 2): <gurobi.Constr *Awaiting Model Update*>,\n",
       " (2, 2, 5, 1, 3): <gurobi.Constr *Awaiting Model Update*>,\n",
       " (2, 2, 5, 1, 4): <gurobi.Constr *Awaiting Model Update*>,\n",
       " (2, 2, 5, 2, 0): <gurobi.Constr *Awaiting Model Update*>,\n",
       " (2, 2, 5, 2, 1): <gurobi.Constr *Awaiting Model Update*>,\n",
       " (2, 2, 5, 2, 2): <gurobi.Constr *Awaiting Model Update*>,\n",
       " (2, 2, 5, 2, 3): <gurobi.Constr *Awaiting Model Update*>,\n",
       " (2, 2, 5, 2, 4): <gurobi.Constr *Awaiting Model Update*>,\n",
       " (2, 2, 5, 3, 0): <gurobi.Constr *Awaiting Model Update*>,\n",
       " (2, 2, 5, 3, 1): <gurobi.Constr *Awaiting Model Update*>,\n",
       " (2, 2, 5, 3, 2): <gurobi.Constr *Awaiting Model Update*>,\n",
       " (2, 2, 5, 3, 3): <gurobi.Constr *Awaiting Model Update*>,\n",
       " (2, 2, 5, 3, 4): <gurobi.Constr *Awaiting Model Update*>,\n",
       " (2, 2, 6, 1, 0): <gurobi.Constr *Awaiting Model Update*>,\n",
       " (2, 2, 6, 1, 1): <gurobi.Constr *Awaiting Model Update*>,\n",
       " (2, 2, 6, 1, 2): <gurobi.Constr *Awaiting Model Update*>,\n",
       " (2, 2, 6, 1, 3): <gurobi.Constr *Awaiting Model Update*>,\n",
       " (2, 2, 6, 1, 4): <gurobi.Constr *Awaiting Model Update*>,\n",
       " (2, 2, 6, 2, 0): <gurobi.Constr *Awaiting Model Update*>,\n",
       " (2, 2, 6, 2, 1): <gurobi.Constr *Awaiting Model Update*>,\n",
       " (2, 2, 6, 2, 2): <gurobi.Constr *Awaiting Model Update*>,\n",
       " (2, 2, 6, 2, 3): <gurobi.Constr *Awaiting Model Update*>,\n",
       " (2, 2, 6, 2, 4): <gurobi.Constr *Awaiting Model Update*>,\n",
       " (2, 2, 6, 3, 0): <gurobi.Constr *Awaiting Model Update*>,\n",
       " (2, 2, 6, 3, 1): <gurobi.Constr *Awaiting Model Update*>,\n",
       " (2, 2, 6, 3, 2): <gurobi.Constr *Awaiting Model Update*>,\n",
       " (2, 2, 6, 3, 3): <gurobi.Constr *Awaiting Model Update*>,\n",
       " (2, 2, 6, 3, 4): <gurobi.Constr *Awaiting Model Update*>,\n",
       " (2, 2, 7, 1, 0): <gurobi.Constr *Awaiting Model Update*>,\n",
       " (2, 2, 7, 1, 1): <gurobi.Constr *Awaiting Model Update*>,\n",
       " (2, 2, 7, 1, 2): <gurobi.Constr *Awaiting Model Update*>,\n",
       " (2, 2, 7, 1, 3): <gurobi.Constr *Awaiting Model Update*>,\n",
       " (2, 2, 7, 1, 4): <gurobi.Constr *Awaiting Model Update*>,\n",
       " (2, 2, 7, 2, 0): <gurobi.Constr *Awaiting Model Update*>,\n",
       " (2, 2, 7, 2, 1): <gurobi.Constr *Awaiting Model Update*>,\n",
       " (2, 2, 7, 2, 2): <gurobi.Constr *Awaiting Model Update*>,\n",
       " (2, 2, 7, 2, 3): <gurobi.Constr *Awaiting Model Update*>,\n",
       " (2, 2, 7, 2, 4): <gurobi.Constr *Awaiting Model Update*>,\n",
       " (2, 2, 7, 3, 0): <gurobi.Constr *Awaiting Model Update*>,\n",
       " (2, 2, 7, 3, 1): <gurobi.Constr *Awaiting Model Update*>,\n",
       " (2, 2, 7, 3, 2): <gurobi.Constr *Awaiting Model Update*>,\n",
       " (2, 2, 7, 3, 3): <gurobi.Constr *Awaiting Model Update*>,\n",
       " (2, 2, 7, 3, 4): <gurobi.Constr *Awaiting Model Update*>,\n",
       " (2, 2, 8, 1, 0): <gurobi.Constr *Awaiting Model Update*>,\n",
       " (2, 2, 8, 1, 1): <gurobi.Constr *Awaiting Model Update*>,\n",
       " (2, 2, 8, 1, 2): <gurobi.Constr *Awaiting Model Update*>,\n",
       " (2, 2, 8, 1, 3): <gurobi.Constr *Awaiting Model Update*>,\n",
       " (2, 2, 8, 1, 4): <gurobi.Constr *Awaiting Model Update*>,\n",
       " (2, 2, 8, 2, 0): <gurobi.Constr *Awaiting Model Update*>,\n",
       " (2, 2, 8, 2, 1): <gurobi.Constr *Awaiting Model Update*>,\n",
       " (2, 2, 8, 2, 2): <gurobi.Constr *Awaiting Model Update*>,\n",
       " (2, 2, 8, 2, 3): <gurobi.Constr *Awaiting Model Update*>,\n",
       " (2, 2, 8, 2, 4): <gurobi.Constr *Awaiting Model Update*>,\n",
       " (2, 2, 8, 3, 0): <gurobi.Constr *Awaiting Model Update*>,\n",
       " (2, 2, 8, 3, 1): <gurobi.Constr *Awaiting Model Update*>,\n",
       " (2, 2, 8, 3, 2): <gurobi.Constr *Awaiting Model Update*>,\n",
       " (2, 2, 8, 3, 3): <gurobi.Constr *Awaiting Model Update*>,\n",
       " (2, 2, 8, 3, 4): <gurobi.Constr *Awaiting Model Update*>,\n",
       " (2, 2, 9, 1, 0): <gurobi.Constr *Awaiting Model Update*>,\n",
       " (2, 2, 9, 1, 1): <gurobi.Constr *Awaiting Model Update*>,\n",
       " (2, 2, 9, 1, 2): <gurobi.Constr *Awaiting Model Update*>,\n",
       " (2, 2, 9, 1, 3): <gurobi.Constr *Awaiting Model Update*>,\n",
       " (2, 2, 9, 1, 4): <gurobi.Constr *Awaiting Model Update*>,\n",
       " (2, 2, 9, 2, 0): <gurobi.Constr *Awaiting Model Update*>,\n",
       " (2, 2, 9, 2, 1): <gurobi.Constr *Awaiting Model Update*>,\n",
       " (2, 2, 9, 2, 2): <gurobi.Constr *Awaiting Model Update*>,\n",
       " (2, 2, 9, 2, 3): <gurobi.Constr *Awaiting Model Update*>,\n",
       " (2, 2, 9, 2, 4): <gurobi.Constr *Awaiting Model Update*>,\n",
       " (2, 2, 9, 3, 0): <gurobi.Constr *Awaiting Model Update*>,\n",
       " (2, 2, 9, 3, 1): <gurobi.Constr *Awaiting Model Update*>,\n",
       " (2, 2, 9, 3, 2): <gurobi.Constr *Awaiting Model Update*>,\n",
       " (2, 2, 9, 3, 3): <gurobi.Constr *Awaiting Model Update*>,\n",
       " (2, 2, 9, 3, 4): <gurobi.Constr *Awaiting Model Update*>,\n",
       " (2, 2, 10, 1, 0): <gurobi.Constr *Awaiting Model Update*>,\n",
       " (2, 2, 10, 1, 1): <gurobi.Constr *Awaiting Model Update*>,\n",
       " (2, 2, 10, 1, 2): <gurobi.Constr *Awaiting Model Update*>,\n",
       " (2, 2, 10, 1, 3): <gurobi.Constr *Awaiting Model Update*>,\n",
       " (2, 2, 10, 1, 4): <gurobi.Constr *Awaiting Model Update*>,\n",
       " (2, 2, 10, 2, 0): <gurobi.Constr *Awaiting Model Update*>,\n",
       " (2, 2, 10, 2, 1): <gurobi.Constr *Awaiting Model Update*>,\n",
       " (2, 2, 10, 2, 2): <gurobi.Constr *Awaiting Model Update*>,\n",
       " (2, 2, 10, 2, 3): <gurobi.Constr *Awaiting Model Update*>,\n",
       " (2, 2, 10, 2, 4): <gurobi.Constr *Awaiting Model Update*>,\n",
       " (2, 2, 10, 3, 0): <gurobi.Constr *Awaiting Model Update*>,\n",
       " (2, 2, 10, 3, 1): <gurobi.Constr *Awaiting Model Update*>,\n",
       " (2, 2, 10, 3, 2): <gurobi.Constr *Awaiting Model Update*>,\n",
       " (2, 2, 10, 3, 3): <gurobi.Constr *Awaiting Model Update*>,\n",
       " (2, 2, 10, 3, 4): <gurobi.Constr *Awaiting Model Update*>,\n",
       " (2, 3, 2, 1, 0): <gurobi.Constr *Awaiting Model Update*>,\n",
       " (2, 3, 2, 1, 1): <gurobi.Constr *Awaiting Model Update*>,\n",
       " (2, 3, 2, 1, 2): <gurobi.Constr *Awaiting Model Update*>,\n",
       " (2, 3, 2, 1, 3): <gurobi.Constr *Awaiting Model Update*>,\n",
       " (2, 3, 2, 1, 4): <gurobi.Constr *Awaiting Model Update*>,\n",
       " (2, 3, 2, 2, 0): <gurobi.Constr *Awaiting Model Update*>,\n",
       " (2, 3, 2, 2, 1): <gurobi.Constr *Awaiting Model Update*>,\n",
       " (2, 3, 2, 2, 2): <gurobi.Constr *Awaiting Model Update*>,\n",
       " (2, 3, 2, 2, 3): <gurobi.Constr *Awaiting Model Update*>,\n",
       " (2, 3, 2, 2, 4): <gurobi.Constr *Awaiting Model Update*>,\n",
       " (2, 3, 3, 1, 0): <gurobi.Constr *Awaiting Model Update*>,\n",
       " (2, 3, 3, 1, 1): <gurobi.Constr *Awaiting Model Update*>,\n",
       " (2, 3, 3, 1, 2): <gurobi.Constr *Awaiting Model Update*>,\n",
       " (2, 3, 3, 1, 3): <gurobi.Constr *Awaiting Model Update*>,\n",
       " (2, 3, 3, 1, 4): <gurobi.Constr *Awaiting Model Update*>,\n",
       " (2, 3, 3, 2, 0): <gurobi.Constr *Awaiting Model Update*>,\n",
       " (2, 3, 3, 2, 1): <gurobi.Constr *Awaiting Model Update*>,\n",
       " (2, 3, 3, 2, 2): <gurobi.Constr *Awaiting Model Update*>,\n",
       " (2, 3, 3, 2, 3): <gurobi.Constr *Awaiting Model Update*>,\n",
       " (2, 3, 3, 2, 4): <gurobi.Constr *Awaiting Model Update*>,\n",
       " (2, 3, 3, 3, 0): <gurobi.Constr *Awaiting Model Update*>,\n",
       " (2, 3, 3, 3, 1): <gurobi.Constr *Awaiting Model Update*>,\n",
       " (2, 3, 3, 3, 2): <gurobi.Constr *Awaiting Model Update*>,\n",
       " (2, 3, 3, 3, 3): <gurobi.Constr *Awaiting Model Update*>,\n",
       " (2, 3, 3, 3, 4): <gurobi.Constr *Awaiting Model Update*>,\n",
       " (2, 3, 4, 1, 0): <gurobi.Constr *Awaiting Model Update*>,\n",
       " (2, 3, 4, 1, 1): <gurobi.Constr *Awaiting Model Update*>,\n",
       " (2, 3, 4, 1, 2): <gurobi.Constr *Awaiting Model Update*>,\n",
       " (2, 3, 4, 1, 3): <gurobi.Constr *Awaiting Model Update*>,\n",
       " (2, 3, 4, 1, 4): <gurobi.Constr *Awaiting Model Update*>,\n",
       " (2, 3, 4, 2, 0): <gurobi.Constr *Awaiting Model Update*>,\n",
       " (2, 3, 4, 2, 1): <gurobi.Constr *Awaiting Model Update*>,\n",
       " (2, 3, 4, 2, 2): <gurobi.Constr *Awaiting Model Update*>,\n",
       " (2, 3, 4, 2, 3): <gurobi.Constr *Awaiting Model Update*>,\n",
       " (2, 3, 4, 2, 4): <gurobi.Constr *Awaiting Model Update*>,\n",
       " (2, 3, 4, 3, 0): <gurobi.Constr *Awaiting Model Update*>,\n",
       " (2, 3, 4, 3, 1): <gurobi.Constr *Awaiting Model Update*>,\n",
       " (2, 3, 4, 3, 2): <gurobi.Constr *Awaiting Model Update*>,\n",
       " (2, 3, 4, 3, 3): <gurobi.Constr *Awaiting Model Update*>,\n",
       " (2, 3, 4, 3, 4): <gurobi.Constr *Awaiting Model Update*>,\n",
       " (2, 3, 5, 1, 0): <gurobi.Constr *Awaiting Model Update*>,\n",
       " (2, 3, 5, 1, 1): <gurobi.Constr *Awaiting Model Update*>,\n",
       " (2, 3, 5, 1, 2): <gurobi.Constr *Awaiting Model Update*>,\n",
       " (2, 3, 5, 1, 3): <gurobi.Constr *Awaiting Model Update*>,\n",
       " (2, 3, 5, 1, 4): <gurobi.Constr *Awaiting Model Update*>,\n",
       " (2, 3, 5, 2, 0): <gurobi.Constr *Awaiting Model Update*>,\n",
       " (2, 3, 5, 2, 1): <gurobi.Constr *Awaiting Model Update*>,\n",
       " (2, 3, 5, 2, 2): <gurobi.Constr *Awaiting Model Update*>,\n",
       " (2, 3, 5, 2, 3): <gurobi.Constr *Awaiting Model Update*>,\n",
       " (2, 3, 5, 2, 4): <gurobi.Constr *Awaiting Model Update*>,\n",
       " (2, 3, 5, 3, 0): <gurobi.Constr *Awaiting Model Update*>,\n",
       " (2, 3, 5, 3, 1): <gurobi.Constr *Awaiting Model Update*>,\n",
       " (2, 3, 5, 3, 2): <gurobi.Constr *Awaiting Model Update*>,\n",
       " (2, 3, 5, 3, 3): <gurobi.Constr *Awaiting Model Update*>,\n",
       " (2, 3, 5, 3, 4): <gurobi.Constr *Awaiting Model Update*>,\n",
       " (2, 3, 6, 1, 0): <gurobi.Constr *Awaiting Model Update*>,\n",
       " (2, 3, 6, 1, 1): <gurobi.Constr *Awaiting Model Update*>,\n",
       " (2, 3, 6, 1, 2): <gurobi.Constr *Awaiting Model Update*>,\n",
       " (2, 3, 6, 1, 3): <gurobi.Constr *Awaiting Model Update*>,\n",
       " (2, 3, 6, 1, 4): <gurobi.Constr *Awaiting Model Update*>,\n",
       " (2, 3, 6, 2, 0): <gurobi.Constr *Awaiting Model Update*>,\n",
       " (2, 3, 6, 2, 1): <gurobi.Constr *Awaiting Model Update*>,\n",
       " (2, 3, 6, 2, 2): <gurobi.Constr *Awaiting Model Update*>,\n",
       " (2, 3, 6, 2, 3): <gurobi.Constr *Awaiting Model Update*>,\n",
       " (2, 3, 6, 2, 4): <gurobi.Constr *Awaiting Model Update*>,\n",
       " (2, 3, 6, 3, 0): <gurobi.Constr *Awaiting Model Update*>,\n",
       " (2, 3, 6, 3, 1): <gurobi.Constr *Awaiting Model Update*>,\n",
       " (2, 3, 6, 3, 2): <gurobi.Constr *Awaiting Model Update*>,\n",
       " (2, 3, 6, 3, 3): <gurobi.Constr *Awaiting Model Update*>,\n",
       " (2, 3, 6, 3, 4): <gurobi.Constr *Awaiting Model Update*>,\n",
       " (2, 3, 7, 1, 0): <gurobi.Constr *Awaiting Model Update*>,\n",
       " (2, 3, 7, 1, 1): <gurobi.Constr *Awaiting Model Update*>,\n",
       " (2, 3, 7, 1, 2): <gurobi.Constr *Awaiting Model Update*>,\n",
       " (2, 3, 7, 1, 3): <gurobi.Constr *Awaiting Model Update*>,\n",
       " (2, 3, 7, 1, 4): <gurobi.Constr *Awaiting Model Update*>,\n",
       " (2, 3, 7, 2, 0): <gurobi.Constr *Awaiting Model Update*>,\n",
       " (2, 3, 7, 2, 1): <gurobi.Constr *Awaiting Model Update*>,\n",
       " (2, 3, 7, 2, 2): <gurobi.Constr *Awaiting Model Update*>,\n",
       " (2, 3, 7, 2, 3): <gurobi.Constr *Awaiting Model Update*>,\n",
       " (2, 3, 7, 2, 4): <gurobi.Constr *Awaiting Model Update*>,\n",
       " (2, 3, 7, 3, 0): <gurobi.Constr *Awaiting Model Update*>,\n",
       " (2, 3, 7, 3, 1): <gurobi.Constr *Awaiting Model Update*>,\n",
       " (2, 3, 7, 3, 2): <gurobi.Constr *Awaiting Model Update*>,\n",
       " (2, 3, 7, 3, 3): <gurobi.Constr *Awaiting Model Update*>,\n",
       " (2, 3, 7, 3, 4): <gurobi.Constr *Awaiting Model Update*>,\n",
       " (2, 3, 8, 1, 0): <gurobi.Constr *Awaiting Model Update*>,\n",
       " (2, 3, 8, 1, 1): <gurobi.Constr *Awaiting Model Update*>,\n",
       " (2, 3, 8, 1, 2): <gurobi.Constr *Awaiting Model Update*>,\n",
       " (2, 3, 8, 1, 3): <gurobi.Constr *Awaiting Model Update*>,\n",
       " (2, 3, 8, 1, 4): <gurobi.Constr *Awaiting Model Update*>,\n",
       " (2, 3, 8, 2, 0): <gurobi.Constr *Awaiting Model Update*>,\n",
       " (2, 3, 8, 2, 1): <gurobi.Constr *Awaiting Model Update*>,\n",
       " (2, 3, 8, 2, 2): <gurobi.Constr *Awaiting Model Update*>,\n",
       " (2, 3, 8, 2, 3): <gurobi.Constr *Awaiting Model Update*>,\n",
       " (2, 3, 8, 2, 4): <gurobi.Constr *Awaiting Model Update*>,\n",
       " (2, 3, 8, 3, 0): <gurobi.Constr *Awaiting Model Update*>,\n",
       " (2, 3, 8, 3, 1): <gurobi.Constr *Awaiting Model Update*>,\n",
       " (2, 3, 8, 3, 2): <gurobi.Constr *Awaiting Model Update*>,\n",
       " (2, 3, 8, 3, 3): <gurobi.Constr *Awaiting Model Update*>,\n",
       " (2, 3, 8, 3, 4): <gurobi.Constr *Awaiting Model Update*>,\n",
       " (2, 3, 9, 1, 0): <gurobi.Constr *Awaiting Model Update*>,\n",
       " (2, 3, 9, 1, 1): <gurobi.Constr *Awaiting Model Update*>,\n",
       " (2, 3, 9, 1, 2): <gurobi.Constr *Awaiting Model Update*>,\n",
       " (2, 3, 9, 1, 3): <gurobi.Constr *Awaiting Model Update*>,\n",
       " (2, 3, 9, 1, 4): <gurobi.Constr *Awaiting Model Update*>,\n",
       " (2, 3, 9, 2, 0): <gurobi.Constr *Awaiting Model Update*>,\n",
       " (2, 3, 9, 2, 1): <gurobi.Constr *Awaiting Model Update*>,\n",
       " (2, 3, 9, 2, 2): <gurobi.Constr *Awaiting Model Update*>,\n",
       " (2, 3, 9, 2, 3): <gurobi.Constr *Awaiting Model Update*>,\n",
       " (2, 3, 9, 2, 4): <gurobi.Constr *Awaiting Model Update*>,\n",
       " (2, 3, 9, 3, 0): <gurobi.Constr *Awaiting Model Update*>,\n",
       " (2, 3, 9, 3, 1): <gurobi.Constr *Awaiting Model Update*>,\n",
       " (2, 3, 9, 3, 2): <gurobi.Constr *Awaiting Model Update*>,\n",
       " (2, 3, 9, 3, 3): <gurobi.Constr *Awaiting Model Update*>,\n",
       " (2, 3, 9, 3, 4): <gurobi.Constr *Awaiting Model Update*>,\n",
       " (2, 3, 10, 1, 0): <gurobi.Constr *Awaiting Model Update*>,\n",
       " (2, 3, 10, 1, 1): <gurobi.Constr *Awaiting Model Update*>,\n",
       " (2, 3, 10, 1, 2): <gurobi.Constr *Awaiting Model Update*>,\n",
       " (2, 3, 10, 1, 3): <gurobi.Constr *Awaiting Model Update*>,\n",
       " (2, 3, 10, 1, 4): <gurobi.Constr *Awaiting Model Update*>,\n",
       " (2, 3, 10, 2, 0): <gurobi.Constr *Awaiting Model Update*>,\n",
       " (2, 3, 10, 2, 1): <gurobi.Constr *Awaiting Model Update*>,\n",
       " (2, 3, 10, 2, 2): <gurobi.Constr *Awaiting Model Update*>,\n",
       " (2, 3, 10, 2, 3): <gurobi.Constr *Awaiting Model Update*>,\n",
       " (2, 3, 10, 2, 4): <gurobi.Constr *Awaiting Model Update*>,\n",
       " (2, 3, 10, 3, 0): <gurobi.Constr *Awaiting Model Update*>,\n",
       " (2, 3, 10, 3, 1): <gurobi.Constr *Awaiting Model Update*>,\n",
       " (2, 3, 10, 3, 2): <gurobi.Constr *Awaiting Model Update*>,\n",
       " (2, 3, 10, 3, 3): <gurobi.Constr *Awaiting Model Update*>,\n",
       " (2, 3, 10, 3, 4): <gurobi.Constr *Awaiting Model Update*>,\n",
       " (3, 1, 3, 2, 0): <gurobi.Constr *Awaiting Model Update*>,\n",
       " (3, 1, 3, 2, 1): <gurobi.Constr *Awaiting Model Update*>,\n",
       " (3, 1, 3, 2, 2): <gurobi.Constr *Awaiting Model Update*>,\n",
       " (3, 1, 3, 2, 3): <gurobi.Constr *Awaiting Model Update*>,\n",
       " (3, 1, 3, 2, 4): <gurobi.Constr *Awaiting Model Update*>,\n",
       " (3, 1, 3, 3, 0): <gurobi.Constr *Awaiting Model Update*>,\n",
       " (3, 1, 3, 3, 1): <gurobi.Constr *Awaiting Model Update*>,\n",
       " (3, 1, 3, 3, 2): <gurobi.Constr *Awaiting Model Update*>,\n",
       " (3, 1, 3, 3, 3): <gurobi.Constr *Awaiting Model Update*>,\n",
       " (3, 1, 3, 3, 4): <gurobi.Constr *Awaiting Model Update*>,\n",
       " (3, 1, 4, 1, 0): <gurobi.Constr *Awaiting Model Update*>,\n",
       " (3, 1, 4, 1, 1): <gurobi.Constr *Awaiting Model Update*>,\n",
       " (3, 1, 4, 1, 2): <gurobi.Constr *Awaiting Model Update*>,\n",
       " (3, 1, 4, 1, 3): <gurobi.Constr *Awaiting Model Update*>,\n",
       " (3, 1, 4, 1, 4): <gurobi.Constr *Awaiting Model Update*>,\n",
       " (3, 1, 4, 2, 0): <gurobi.Constr *Awaiting Model Update*>,\n",
       " (3, 1, 4, 2, 1): <gurobi.Constr *Awaiting Model Update*>,\n",
       " (3, 1, 4, 2, 2): <gurobi.Constr *Awaiting Model Update*>,\n",
       " (3, 1, 4, 2, 3): <gurobi.Constr *Awaiting Model Update*>,\n",
       " (3, 1, 4, 2, 4): <gurobi.Constr *Awaiting Model Update*>,\n",
       " (3, 1, 4, 3, 0): <gurobi.Constr *Awaiting Model Update*>,\n",
       " (3, 1, 4, 3, 1): <gurobi.Constr *Awaiting Model Update*>,\n",
       " (3, 1, 4, 3, 2): <gurobi.Constr *Awaiting Model Update*>,\n",
       " (3, 1, 4, 3, 3): <gurobi.Constr *Awaiting Model Update*>,\n",
       " (3, 1, 4, 3, 4): <gurobi.Constr *Awaiting Model Update*>,\n",
       " (3, 1, 5, 1, 0): <gurobi.Constr *Awaiting Model Update*>,\n",
       " (3, 1, 5, 1, 1): <gurobi.Constr *Awaiting Model Update*>,\n",
       " (3, 1, 5, 1, 2): <gurobi.Constr *Awaiting Model Update*>,\n",
       " (3, 1, 5, 1, 3): <gurobi.Constr *Awaiting Model Update*>,\n",
       " (3, 1, 5, 1, 4): <gurobi.Constr *Awaiting Model Update*>,\n",
       " (3, 1, 5, 2, 0): <gurobi.Constr *Awaiting Model Update*>,\n",
       " (3, 1, 5, 2, 1): <gurobi.Constr *Awaiting Model Update*>,\n",
       " (3, 1, 5, 2, 2): <gurobi.Constr *Awaiting Model Update*>,\n",
       " (3, 1, 5, 2, 3): <gurobi.Constr *Awaiting Model Update*>,\n",
       " (3, 1, 5, 2, 4): <gurobi.Constr *Awaiting Model Update*>,\n",
       " (3, 1, 5, 3, 0): <gurobi.Constr *Awaiting Model Update*>,\n",
       " (3, 1, 5, 3, 1): <gurobi.Constr *Awaiting Model Update*>,\n",
       " (3, 1, 5, 3, 2): <gurobi.Constr *Awaiting Model Update*>,\n",
       " (3, 1, 5, 3, 3): <gurobi.Constr *Awaiting Model Update*>,\n",
       " (3, 1, 5, 3, 4): <gurobi.Constr *Awaiting Model Update*>,\n",
       " (3, 1, 6, 1, 0): <gurobi.Constr *Awaiting Model Update*>,\n",
       " (3, 1, 6, 1, 1): <gurobi.Constr *Awaiting Model Update*>,\n",
       " (3, 1, 6, 1, 2): <gurobi.Constr *Awaiting Model Update*>,\n",
       " (3, 1, 6, 1, 3): <gurobi.Constr *Awaiting Model Update*>,\n",
       " (3, 1, 6, 1, 4): <gurobi.Constr *Awaiting Model Update*>,\n",
       " (3, 1, 6, 2, 0): <gurobi.Constr *Awaiting Model Update*>,\n",
       " (3, 1, 6, 2, 1): <gurobi.Constr *Awaiting Model Update*>,\n",
       " (3, 1, 6, 2, 2): <gurobi.Constr *Awaiting Model Update*>,\n",
       " (3, 1, 6, 2, 3): <gurobi.Constr *Awaiting Model Update*>,\n",
       " (3, 1, 6, 2, 4): <gurobi.Constr *Awaiting Model Update*>,\n",
       " (3, 1, 6, 3, 0): <gurobi.Constr *Awaiting Model Update*>,\n",
       " (3, 1, 6, 3, 1): <gurobi.Constr *Awaiting Model Update*>,\n",
       " (3, 1, 6, 3, 2): <gurobi.Constr *Awaiting Model Update*>,\n",
       " (3, 1, 6, 3, 3): <gurobi.Constr *Awaiting Model Update*>,\n",
       " (3, 1, 6, 3, 4): <gurobi.Constr *Awaiting Model Update*>,\n",
       " (3, 1, 7, 1, 0): <gurobi.Constr *Awaiting Model Update*>,\n",
       " (3, 1, 7, 1, 1): <gurobi.Constr *Awaiting Model Update*>,\n",
       " (3, 1, 7, 1, 2): <gurobi.Constr *Awaiting Model Update*>,\n",
       " (3, 1, 7, 1, 3): <gurobi.Constr *Awaiting Model Update*>,\n",
       " (3, 1, 7, 1, 4): <gurobi.Constr *Awaiting Model Update*>,\n",
       " (3, 1, 7, 2, 0): <gurobi.Constr *Awaiting Model Update*>,\n",
       " (3, 1, 7, 2, 1): <gurobi.Constr *Awaiting Model Update*>,\n",
       " (3, 1, 7, 2, 2): <gurobi.Constr *Awaiting Model Update*>,\n",
       " (3, 1, 7, 2, 3): <gurobi.Constr *Awaiting Model Update*>,\n",
       " (3, 1, 7, 2, 4): <gurobi.Constr *Awaiting Model Update*>,\n",
       " (3, 1, 7, 3, 0): <gurobi.Constr *Awaiting Model Update*>,\n",
       " (3, 1, 7, 3, 1): <gurobi.Constr *Awaiting Model Update*>,\n",
       " (3, 1, 7, 3, 2): <gurobi.Constr *Awaiting Model Update*>,\n",
       " (3, 1, 7, 3, 3): <gurobi.Constr *Awaiting Model Update*>,\n",
       " (3, 1, 7, 3, 4): <gurobi.Constr *Awaiting Model Update*>,\n",
       " (3, 1, 8, 1, 0): <gurobi.Constr *Awaiting Model Update*>,\n",
       " (3, 1, 8, 1, 1): <gurobi.Constr *Awaiting Model Update*>,\n",
       " (3, 1, 8, 1, 2): <gurobi.Constr *Awaiting Model Update*>,\n",
       " (3, 1, 8, 1, 3): <gurobi.Constr *Awaiting Model Update*>,\n",
       " (3, 1, 8, 1, 4): <gurobi.Constr *Awaiting Model Update*>,\n",
       " (3, 1, 8, 2, 0): <gurobi.Constr *Awaiting Model Update*>,\n",
       " (3, 1, 8, 2, 1): <gurobi.Constr *Awaiting Model Update*>,\n",
       " (3, 1, 8, 2, 2): <gurobi.Constr *Awaiting Model Update*>,\n",
       " (3, 1, 8, 2, 3): <gurobi.Constr *Awaiting Model Update*>,\n",
       " (3, 1, 8, 2, 4): <gurobi.Constr *Awaiting Model Update*>,\n",
       " (3, 1, 8, 3, 0): <gurobi.Constr *Awaiting Model Update*>,\n",
       " (3, 1, 8, 3, 1): <gurobi.Constr *Awaiting Model Update*>,\n",
       " (3, 1, 8, 3, 2): <gurobi.Constr *Awaiting Model Update*>,\n",
       " (3, 1, 8, 3, 3): <gurobi.Constr *Awaiting Model Update*>,\n",
       " (3, 1, 8, 3, 4): <gurobi.Constr *Awaiting Model Update*>,\n",
       " (3, 1, 9, 1, 0): <gurobi.Constr *Awaiting Model Update*>,\n",
       " (3, 1, 9, 1, 1): <gurobi.Constr *Awaiting Model Update*>,\n",
       " (3, 1, 9, 1, 2): <gurobi.Constr *Awaiting Model Update*>,\n",
       " (3, 1, 9, 1, 3): <gurobi.Constr *Awaiting Model Update*>,\n",
       " (3, 1, 9, 1, 4): <gurobi.Constr *Awaiting Model Update*>,\n",
       " (3, 1, 9, 2, 0): <gurobi.Constr *Awaiting Model Update*>,\n",
       " (3, 1, 9, 2, 1): <gurobi.Constr *Awaiting Model Update*>,\n",
       " (3, 1, 9, 2, 2): <gurobi.Constr *Awaiting Model Update*>,\n",
       " (3, 1, 9, 2, 3): <gurobi.Constr *Awaiting Model Update*>,\n",
       " (3, 1, 9, 2, 4): <gurobi.Constr *Awaiting Model Update*>,\n",
       " (3, 1, 9, 3, 0): <gurobi.Constr *Awaiting Model Update*>,\n",
       " (3, 1, 9, 3, 1): <gurobi.Constr *Awaiting Model Update*>,\n",
       " (3, 1, 9, 3, 2): <gurobi.Constr *Awaiting Model Update*>,\n",
       " (3, 1, 9, 3, 3): <gurobi.Constr *Awaiting Model Update*>,\n",
       " (3, 1, 9, 3, 4): <gurobi.Constr *Awaiting Model Update*>,\n",
       " (3, 1, 10, 1, 0): <gurobi.Constr *Awaiting Model Update*>,\n",
       " (3, 1, 10, 1, 1): <gurobi.Constr *Awaiting Model Update*>,\n",
       " (3, 1, 10, 1, 2): <gurobi.Constr *Awaiting Model Update*>,\n",
       " (3, 1, 10, 1, 3): <gurobi.Constr *Awaiting Model Update*>,\n",
       " (3, 1, 10, 1, 4): <gurobi.Constr *Awaiting Model Update*>,\n",
       " (3, 1, 10, 2, 0): <gurobi.Constr *Awaiting Model Update*>,\n",
       " (3, 1, 10, 2, 1): <gurobi.Constr *Awaiting Model Update*>,\n",
       " (3, 1, 10, 2, 2): <gurobi.Constr *Awaiting Model Update*>,\n",
       " (3, 1, 10, 2, 3): <gurobi.Constr *Awaiting Model Update*>,\n",
       " (3, 1, 10, 2, 4): <gurobi.Constr *Awaiting Model Update*>,\n",
       " (3, 1, 10, 3, 0): <gurobi.Constr *Awaiting Model Update*>,\n",
       " (3, 1, 10, 3, 1): <gurobi.Constr *Awaiting Model Update*>,\n",
       " (3, 1, 10, 3, 2): <gurobi.Constr *Awaiting Model Update*>,\n",
       " (3, 1, 10, 3, 3): <gurobi.Constr *Awaiting Model Update*>,\n",
       " (3, 1, 10, 3, 4): <gurobi.Constr *Awaiting Model Update*>,\n",
       " (3, 2, 3, 1, 0): <gurobi.Constr *Awaiting Model Update*>,\n",
       " (3, 2, 3, 1, 1): <gurobi.Constr *Awaiting Model Update*>,\n",
       " (3, 2, 3, 1, 2): <gurobi.Constr *Awaiting Model Update*>,\n",
       " (3, 2, 3, 1, 3): <gurobi.Constr *Awaiting Model Update*>,\n",
       " (3, 2, 3, 1, 4): <gurobi.Constr *Awaiting Model Update*>,\n",
       " (3, 2, 3, 3, 0): <gurobi.Constr *Awaiting Model Update*>,\n",
       " (3, 2, 3, 3, 1): <gurobi.Constr *Awaiting Model Update*>,\n",
       " (3, 2, 3, 3, 2): <gurobi.Constr *Awaiting Model Update*>,\n",
       " (3, 2, 3, 3, 3): <gurobi.Constr *Awaiting Model Update*>,\n",
       " (3, 2, 3, 3, 4): <gurobi.Constr *Awaiting Model Update*>,\n",
       " (3, 2, 4, 1, 0): <gurobi.Constr *Awaiting Model Update*>,\n",
       " (3, 2, 4, 1, 1): <gurobi.Constr *Awaiting Model Update*>,\n",
       " (3, 2, 4, 1, 2): <gurobi.Constr *Awaiting Model Update*>,\n",
       " (3, 2, 4, 1, 3): <gurobi.Constr *Awaiting Model Update*>,\n",
       " (3, 2, 4, 1, 4): <gurobi.Constr *Awaiting Model Update*>,\n",
       " (3, 2, 4, 2, 0): <gurobi.Constr *Awaiting Model Update*>,\n",
       " (3, 2, 4, 2, 1): <gurobi.Constr *Awaiting Model Update*>,\n",
       " (3, 2, 4, 2, 2): <gurobi.Constr *Awaiting Model Update*>,\n",
       " (3, 2, 4, 2, 3): <gurobi.Constr *Awaiting Model Update*>,\n",
       " (3, 2, 4, 2, 4): <gurobi.Constr *Awaiting Model Update*>,\n",
       " (3, 2, 4, 3, 0): <gurobi.Constr *Awaiting Model Update*>,\n",
       " (3, 2, 4, 3, 1): <gurobi.Constr *Awaiting Model Update*>,\n",
       " (3, 2, 4, 3, 2): <gurobi.Constr *Awaiting Model Update*>,\n",
       " (3, 2, 4, 3, 3): <gurobi.Constr *Awaiting Model Update*>,\n",
       " (3, 2, 4, 3, 4): <gurobi.Constr *Awaiting Model Update*>,\n",
       " (3, 2, 5, 1, 0): <gurobi.Constr *Awaiting Model Update*>,\n",
       " (3, 2, 5, 1, 1): <gurobi.Constr *Awaiting Model Update*>,\n",
       " (3, 2, 5, 1, 2): <gurobi.Constr *Awaiting Model Update*>,\n",
       " (3, 2, 5, 1, 3): <gurobi.Constr *Awaiting Model Update*>,\n",
       " (3, 2, 5, 1, 4): <gurobi.Constr *Awaiting Model Update*>,\n",
       " (3, 2, 5, 2, 0): <gurobi.Constr *Awaiting Model Update*>,\n",
       " (3, 2, 5, 2, 1): <gurobi.Constr *Awaiting Model Update*>,\n",
       " (3, 2, 5, 2, 2): <gurobi.Constr *Awaiting Model Update*>,\n",
       " (3, 2, 5, 2, 3): <gurobi.Constr *Awaiting Model Update*>,\n",
       " (3, 2, 5, 2, 4): <gurobi.Constr *Awaiting Model Update*>,\n",
       " (3, 2, 5, 3, 0): <gurobi.Constr *Awaiting Model Update*>,\n",
       " (3, 2, 5, 3, 1): <gurobi.Constr *Awaiting Model Update*>,\n",
       " (3, 2, 5, 3, 2): <gurobi.Constr *Awaiting Model Update*>,\n",
       " (3, 2, 5, 3, 3): <gurobi.Constr *Awaiting Model Update*>,\n",
       " (3, 2, 5, 3, 4): <gurobi.Constr *Awaiting Model Update*>,\n",
       " (3, 2, 6, 1, 0): <gurobi.Constr *Awaiting Model Update*>,\n",
       " (3, 2, 6, 1, 1): <gurobi.Constr *Awaiting Model Update*>,\n",
       " (3, 2, 6, 1, 2): <gurobi.Constr *Awaiting Model Update*>,\n",
       " (3, 2, 6, 1, 3): <gurobi.Constr *Awaiting Model Update*>,\n",
       " (3, 2, 6, 1, 4): <gurobi.Constr *Awaiting Model Update*>,\n",
       " (3, 2, 6, 2, 0): <gurobi.Constr *Awaiting Model Update*>,\n",
       " (3, 2, 6, 2, 1): <gurobi.Constr *Awaiting Model Update*>,\n",
       " (3, 2, 6, 2, 2): <gurobi.Constr *Awaiting Model Update*>,\n",
       " (3, 2, 6, 2, 3): <gurobi.Constr *Awaiting Model Update*>,\n",
       " (3, 2, 6, 2, 4): <gurobi.Constr *Awaiting Model Update*>,\n",
       " (3, 2, 6, 3, 0): <gurobi.Constr *Awaiting Model Update*>,\n",
       " (3, 2, 6, 3, 1): <gurobi.Constr *Awaiting Model Update*>,\n",
       " (3, 2, 6, 3, 2): <gurobi.Constr *Awaiting Model Update*>,\n",
       " (3, 2, 6, 3, 3): <gurobi.Constr *Awaiting Model Update*>,\n",
       " (3, 2, 6, 3, 4): <gurobi.Constr *Awaiting Model Update*>,\n",
       " (3, 2, 7, 1, 0): <gurobi.Constr *Awaiting Model Update*>,\n",
       " (3, 2, 7, 1, 1): <gurobi.Constr *Awaiting Model Update*>,\n",
       " (3, 2, 7, 1, 2): <gurobi.Constr *Awaiting Model Update*>,\n",
       " (3, 2, 7, 1, 3): <gurobi.Constr *Awaiting Model Update*>,\n",
       " (3, 2, 7, 1, 4): <gurobi.Constr *Awaiting Model Update*>,\n",
       " ...}"
      ]
     },
     "execution_count": 7,
     "metadata": {},
     "output_type": "execute_result"
    }
   ],
   "source": [
    "# max constraints (necessary to keep max variable geq than arguments)\n",
    "# model.addConstrs(max_expression_resource_constraint_1[k,l,kp,lp,c] >= M * (1 - x[k,l,c]) \n",
    "#                  for k in K for l in L for kp in K for lp in L for c in C if (not(k == kp and l == lp) and (k <= kp)))\n",
    "# model.addConstrs(max_expression_resource_constraint_1[k,l,kp,lp,c] >= M * (1 - x[kp,lp,c]) \n",
    "#                  for k in K for l in L for kp in K for lp in L for c in C if (not(k == kp and l == lp) and (k <= kp)))\n",
    "# model.addConstrs(max_expression_resource_constraint_1[k,l,kp,lp,c] >= s[k,l,c] - s[kp,lp,c]\n",
    "#                  for k in K for l in L for kp in K for lp in L for c in C if (not(k == kp and l == lp) and (k <= kp)))\n",
    "\n",
    "# model.addConstrs(max_expression_resource_constraint_2[k,l,kp,lp,c] >= M * (1 - x[k,l,c]) \n",
    "#                  for k in K for l in L for kp in K for lp in L for c in C if (not(k == kp and l == lp) and (k <= kp)))\n",
    "# model.addConstrs(max_expression_resource_constraint_2[k,l,kp,lp,c] >= M * (1 - x[kp,lp,c]) \n",
    "#                  for k in K for l in L for kp in K for lp in L for c in C if (not(k == kp and l == lp) and (k <= kp)))\n",
    "# model.addConstrs(max_expression_resource_constraint_2[k,l,kp,lp,c] >= s[kp,lp,c] - s[k,l,c]\n",
    "#                  for k in K for l in L for kp in K for lp in L for c in C if (not(k == kp and l == lp) and (k <= kp)))\n",
    "\n",
    "# constrain max variable (necessary to keep max variable from being freely above s_klc - s_kplpc)\n",
    "# model.addConstrs(max_expression_resource_constraint_1[k,l,kp,lp,c] \n",
    "#                  == M*(1 - x[k,l,c]) + M*(1 - x[kp,lp,c]) + (s[k,l,c] - s[kp,lp,c])\n",
    "#                  for k in K for l in L for kp in K for lp in L for c in C if (not(k == kp and l == lp) and (k <= kp)))\n",
    "# model.addConstrs(max_expression_resource_constraint_2[k,l,kp,lp,c] \n",
    "#                  == M*(1 - x[k,l,c]) + M*(1 - x[kp,lp,c]) + (s[kp,lp,c] - s[k,l,c])\n",
    "#                  for k in K for l in L for kp in K for lp in L for c in C if (not(k == kp and l == lp) and (k <= kp)))\n",
    "\n",
    "# model.addConstrs(max_expression_resource_constraint_1[k,l,kp,lp,c] >= Phi[kp][lp] + D[lp][l] - M * z[k, l, kp, lp, c] \n",
    "#                  for k in K for l in L for kp in K for lp in L for c in C if (not(k == kp and l == lp) and (k <= kp)))\n",
    "# model.addConstrs(max_expression_resource_constraint_2[k,l,kp,lp,c] >= Phi[k][l] + D[l][lp] - M * (1-z[k, l, kp, lp, c])\n",
    "#                  for k in K for l in L for kp in K for lp in L for c in C if (not(k == kp and l == lp) and (k <= kp)))\n",
    "\n",
    "\n",
    "model.addConstrs(M*(1 - x[k,l,c]) + M*(1 - x[kp,lp,c]) + (s[k,l,c] - s[kp,lp,c]) >= Phi[kp][lp] + D[lp][l] - M * z[k, l, kp, lp, c] \n",
    "                 for k in K for l in L for kp in K for lp in L for c in C if (not(k == kp and l == lp) and (k <= kp)))\n",
    "model.addConstrs(M*(1 - x[k,l,c]) + M*(1 - x[kp,lp,c]) + (s[kp,lp,c] - s[k,l,c]) >= Phi[k][l] + D[l][lp] - M * (1-z[k, l, kp, lp, c])\n",
    "                 for k in K for l in L for kp in K for lp in L for c in C if (not(k == kp and l == lp) and (k <= kp)))\n",
    "\n"
   ]
  },
  {
   "cell_type": "markdown",
   "metadata": {},
   "source": [
    "**(2) Release date constraint**\n",
    "\n",
    "Start time ($s_{klc}$) must be after release date ($R_k$) for every container that leaves terminal on either leg 1 or leg 2 (ie. $x_{klc}=1$):\n",
    "\n",
    "   * $s_{klc} \\geq R_{k}x_{klc}$, &nbsp;&nbsp;&nbsp;&nbsp;&nbsp;&nbsp;$\\forall k \\in K$, $l\\in L$, $c \\in C$ "
   ]
  },
  {
   "cell_type": "code",
   "execution_count": 8,
   "metadata": {},
   "outputs": [
    {
     "data": {
      "text/plain": [
       "{(1, 1, 0): <gurobi.Constr *Awaiting Model Update*>,\n",
       " (1, 1, 1): <gurobi.Constr *Awaiting Model Update*>,\n",
       " (1, 1, 2): <gurobi.Constr *Awaiting Model Update*>,\n",
       " (1, 1, 3): <gurobi.Constr *Awaiting Model Update*>,\n",
       " (1, 1, 4): <gurobi.Constr *Awaiting Model Update*>,\n",
       " (1, 2, 0): <gurobi.Constr *Awaiting Model Update*>,\n",
       " (1, 2, 1): <gurobi.Constr *Awaiting Model Update*>,\n",
       " (1, 2, 2): <gurobi.Constr *Awaiting Model Update*>,\n",
       " (1, 2, 3): <gurobi.Constr *Awaiting Model Update*>,\n",
       " (1, 2, 4): <gurobi.Constr *Awaiting Model Update*>,\n",
       " (1, 3, 0): <gurobi.Constr *Awaiting Model Update*>,\n",
       " (1, 3, 1): <gurobi.Constr *Awaiting Model Update*>,\n",
       " (1, 3, 2): <gurobi.Constr *Awaiting Model Update*>,\n",
       " (1, 3, 3): <gurobi.Constr *Awaiting Model Update*>,\n",
       " (1, 3, 4): <gurobi.Constr *Awaiting Model Update*>,\n",
       " (2, 1, 0): <gurobi.Constr *Awaiting Model Update*>,\n",
       " (2, 1, 1): <gurobi.Constr *Awaiting Model Update*>,\n",
       " (2, 1, 2): <gurobi.Constr *Awaiting Model Update*>,\n",
       " (2, 1, 3): <gurobi.Constr *Awaiting Model Update*>,\n",
       " (2, 1, 4): <gurobi.Constr *Awaiting Model Update*>,\n",
       " (2, 2, 0): <gurobi.Constr *Awaiting Model Update*>,\n",
       " (2, 2, 1): <gurobi.Constr *Awaiting Model Update*>,\n",
       " (2, 2, 2): <gurobi.Constr *Awaiting Model Update*>,\n",
       " (2, 2, 3): <gurobi.Constr *Awaiting Model Update*>,\n",
       " (2, 2, 4): <gurobi.Constr *Awaiting Model Update*>,\n",
       " (2, 3, 0): <gurobi.Constr *Awaiting Model Update*>,\n",
       " (2, 3, 1): <gurobi.Constr *Awaiting Model Update*>,\n",
       " (2, 3, 2): <gurobi.Constr *Awaiting Model Update*>,\n",
       " (2, 3, 3): <gurobi.Constr *Awaiting Model Update*>,\n",
       " (2, 3, 4): <gurobi.Constr *Awaiting Model Update*>,\n",
       " (3, 1, 0): <gurobi.Constr *Awaiting Model Update*>,\n",
       " (3, 1, 1): <gurobi.Constr *Awaiting Model Update*>,\n",
       " (3, 1, 2): <gurobi.Constr *Awaiting Model Update*>,\n",
       " (3, 1, 3): <gurobi.Constr *Awaiting Model Update*>,\n",
       " (3, 1, 4): <gurobi.Constr *Awaiting Model Update*>,\n",
       " (3, 2, 0): <gurobi.Constr *Awaiting Model Update*>,\n",
       " (3, 2, 1): <gurobi.Constr *Awaiting Model Update*>,\n",
       " (3, 2, 2): <gurobi.Constr *Awaiting Model Update*>,\n",
       " (3, 2, 3): <gurobi.Constr *Awaiting Model Update*>,\n",
       " (3, 2, 4): <gurobi.Constr *Awaiting Model Update*>,\n",
       " (3, 3, 0): <gurobi.Constr *Awaiting Model Update*>,\n",
       " (3, 3, 1): <gurobi.Constr *Awaiting Model Update*>,\n",
       " (3, 3, 2): <gurobi.Constr *Awaiting Model Update*>,\n",
       " (3, 3, 3): <gurobi.Constr *Awaiting Model Update*>,\n",
       " (3, 3, 4): <gurobi.Constr *Awaiting Model Update*>,\n",
       " (4, 1, 0): <gurobi.Constr *Awaiting Model Update*>,\n",
       " (4, 1, 1): <gurobi.Constr *Awaiting Model Update*>,\n",
       " (4, 1, 2): <gurobi.Constr *Awaiting Model Update*>,\n",
       " (4, 1, 3): <gurobi.Constr *Awaiting Model Update*>,\n",
       " (4, 1, 4): <gurobi.Constr *Awaiting Model Update*>,\n",
       " (4, 2, 0): <gurobi.Constr *Awaiting Model Update*>,\n",
       " (4, 2, 1): <gurobi.Constr *Awaiting Model Update*>,\n",
       " (4, 2, 2): <gurobi.Constr *Awaiting Model Update*>,\n",
       " (4, 2, 3): <gurobi.Constr *Awaiting Model Update*>,\n",
       " (4, 2, 4): <gurobi.Constr *Awaiting Model Update*>,\n",
       " (4, 3, 0): <gurobi.Constr *Awaiting Model Update*>,\n",
       " (4, 3, 1): <gurobi.Constr *Awaiting Model Update*>,\n",
       " (4, 3, 2): <gurobi.Constr *Awaiting Model Update*>,\n",
       " (4, 3, 3): <gurobi.Constr *Awaiting Model Update*>,\n",
       " (4, 3, 4): <gurobi.Constr *Awaiting Model Update*>,\n",
       " (5, 1, 0): <gurobi.Constr *Awaiting Model Update*>,\n",
       " (5, 1, 1): <gurobi.Constr *Awaiting Model Update*>,\n",
       " (5, 1, 2): <gurobi.Constr *Awaiting Model Update*>,\n",
       " (5, 1, 3): <gurobi.Constr *Awaiting Model Update*>,\n",
       " (5, 1, 4): <gurobi.Constr *Awaiting Model Update*>,\n",
       " (5, 2, 0): <gurobi.Constr *Awaiting Model Update*>,\n",
       " (5, 2, 1): <gurobi.Constr *Awaiting Model Update*>,\n",
       " (5, 2, 2): <gurobi.Constr *Awaiting Model Update*>,\n",
       " (5, 2, 3): <gurobi.Constr *Awaiting Model Update*>,\n",
       " (5, 2, 4): <gurobi.Constr *Awaiting Model Update*>,\n",
       " (5, 3, 0): <gurobi.Constr *Awaiting Model Update*>,\n",
       " (5, 3, 1): <gurobi.Constr *Awaiting Model Update*>,\n",
       " (5, 3, 2): <gurobi.Constr *Awaiting Model Update*>,\n",
       " (5, 3, 3): <gurobi.Constr *Awaiting Model Update*>,\n",
       " (5, 3, 4): <gurobi.Constr *Awaiting Model Update*>,\n",
       " (6, 1, 0): <gurobi.Constr *Awaiting Model Update*>,\n",
       " (6, 1, 1): <gurobi.Constr *Awaiting Model Update*>,\n",
       " (6, 1, 2): <gurobi.Constr *Awaiting Model Update*>,\n",
       " (6, 1, 3): <gurobi.Constr *Awaiting Model Update*>,\n",
       " (6, 1, 4): <gurobi.Constr *Awaiting Model Update*>,\n",
       " (6, 2, 0): <gurobi.Constr *Awaiting Model Update*>,\n",
       " (6, 2, 1): <gurobi.Constr *Awaiting Model Update*>,\n",
       " (6, 2, 2): <gurobi.Constr *Awaiting Model Update*>,\n",
       " (6, 2, 3): <gurobi.Constr *Awaiting Model Update*>,\n",
       " (6, 2, 4): <gurobi.Constr *Awaiting Model Update*>,\n",
       " (6, 3, 0): <gurobi.Constr *Awaiting Model Update*>,\n",
       " (6, 3, 1): <gurobi.Constr *Awaiting Model Update*>,\n",
       " (6, 3, 2): <gurobi.Constr *Awaiting Model Update*>,\n",
       " (6, 3, 3): <gurobi.Constr *Awaiting Model Update*>,\n",
       " (6, 3, 4): <gurobi.Constr *Awaiting Model Update*>,\n",
       " (7, 1, 0): <gurobi.Constr *Awaiting Model Update*>,\n",
       " (7, 1, 1): <gurobi.Constr *Awaiting Model Update*>,\n",
       " (7, 1, 2): <gurobi.Constr *Awaiting Model Update*>,\n",
       " (7, 1, 3): <gurobi.Constr *Awaiting Model Update*>,\n",
       " (7, 1, 4): <gurobi.Constr *Awaiting Model Update*>,\n",
       " (7, 2, 0): <gurobi.Constr *Awaiting Model Update*>,\n",
       " (7, 2, 1): <gurobi.Constr *Awaiting Model Update*>,\n",
       " (7, 2, 2): <gurobi.Constr *Awaiting Model Update*>,\n",
       " (7, 2, 3): <gurobi.Constr *Awaiting Model Update*>,\n",
       " (7, 2, 4): <gurobi.Constr *Awaiting Model Update*>,\n",
       " (7, 3, 0): <gurobi.Constr *Awaiting Model Update*>,\n",
       " (7, 3, 1): <gurobi.Constr *Awaiting Model Update*>,\n",
       " (7, 3, 2): <gurobi.Constr *Awaiting Model Update*>,\n",
       " (7, 3, 3): <gurobi.Constr *Awaiting Model Update*>,\n",
       " (7, 3, 4): <gurobi.Constr *Awaiting Model Update*>,\n",
       " (8, 1, 0): <gurobi.Constr *Awaiting Model Update*>,\n",
       " (8, 1, 1): <gurobi.Constr *Awaiting Model Update*>,\n",
       " (8, 1, 2): <gurobi.Constr *Awaiting Model Update*>,\n",
       " (8, 1, 3): <gurobi.Constr *Awaiting Model Update*>,\n",
       " (8, 1, 4): <gurobi.Constr *Awaiting Model Update*>,\n",
       " (8, 2, 0): <gurobi.Constr *Awaiting Model Update*>,\n",
       " (8, 2, 1): <gurobi.Constr *Awaiting Model Update*>,\n",
       " (8, 2, 2): <gurobi.Constr *Awaiting Model Update*>,\n",
       " (8, 2, 3): <gurobi.Constr *Awaiting Model Update*>,\n",
       " (8, 2, 4): <gurobi.Constr *Awaiting Model Update*>,\n",
       " (8, 3, 0): <gurobi.Constr *Awaiting Model Update*>,\n",
       " (8, 3, 1): <gurobi.Constr *Awaiting Model Update*>,\n",
       " (8, 3, 2): <gurobi.Constr *Awaiting Model Update*>,\n",
       " (8, 3, 3): <gurobi.Constr *Awaiting Model Update*>,\n",
       " (8, 3, 4): <gurobi.Constr *Awaiting Model Update*>,\n",
       " (9, 1, 0): <gurobi.Constr *Awaiting Model Update*>,\n",
       " (9, 1, 1): <gurobi.Constr *Awaiting Model Update*>,\n",
       " (9, 1, 2): <gurobi.Constr *Awaiting Model Update*>,\n",
       " (9, 1, 3): <gurobi.Constr *Awaiting Model Update*>,\n",
       " (9, 1, 4): <gurobi.Constr *Awaiting Model Update*>,\n",
       " (9, 2, 0): <gurobi.Constr *Awaiting Model Update*>,\n",
       " (9, 2, 1): <gurobi.Constr *Awaiting Model Update*>,\n",
       " (9, 2, 2): <gurobi.Constr *Awaiting Model Update*>,\n",
       " (9, 2, 3): <gurobi.Constr *Awaiting Model Update*>,\n",
       " (9, 2, 4): <gurobi.Constr *Awaiting Model Update*>,\n",
       " (9, 3, 0): <gurobi.Constr *Awaiting Model Update*>,\n",
       " (9, 3, 1): <gurobi.Constr *Awaiting Model Update*>,\n",
       " (9, 3, 2): <gurobi.Constr *Awaiting Model Update*>,\n",
       " (9, 3, 3): <gurobi.Constr *Awaiting Model Update*>,\n",
       " (9, 3, 4): <gurobi.Constr *Awaiting Model Update*>,\n",
       " (10, 1, 0): <gurobi.Constr *Awaiting Model Update*>,\n",
       " (10, 1, 1): <gurobi.Constr *Awaiting Model Update*>,\n",
       " (10, 1, 2): <gurobi.Constr *Awaiting Model Update*>,\n",
       " (10, 1, 3): <gurobi.Constr *Awaiting Model Update*>,\n",
       " (10, 1, 4): <gurobi.Constr *Awaiting Model Update*>,\n",
       " (10, 2, 0): <gurobi.Constr *Awaiting Model Update*>,\n",
       " (10, 2, 1): <gurobi.Constr *Awaiting Model Update*>,\n",
       " (10, 2, 2): <gurobi.Constr *Awaiting Model Update*>,\n",
       " (10, 2, 3): <gurobi.Constr *Awaiting Model Update*>,\n",
       " (10, 2, 4): <gurobi.Constr *Awaiting Model Update*>,\n",
       " (10, 3, 0): <gurobi.Constr *Awaiting Model Update*>,\n",
       " (10, 3, 1): <gurobi.Constr *Awaiting Model Update*>,\n",
       " (10, 3, 2): <gurobi.Constr *Awaiting Model Update*>,\n",
       " (10, 3, 3): <gurobi.Constr *Awaiting Model Update*>,\n",
       " (10, 3, 4): <gurobi.Constr *Awaiting Model Update*>}"
      ]
     },
     "execution_count": 8,
     "metadata": {},
     "output_type": "execute_result"
    }
   ],
   "source": [
    "model.addConstrs(s[k,l,c]>= R[k]*x[k,l,c] for k in K for l in L for c in C)"
   ]
  },
  {
   "cell_type": "markdown",
   "metadata": {},
   "source": [
    "**(3) Containers going through leg 2 must go through leg 3**\n",
    "\n",
    "Each container k will have a x_klc value of 1 or 0 for both leg 2 and leg 3 depending on if they travel through them or not:\n",
    "\n",
    "   * $\\sum_{c \\in C}(x_{k2c}) = \\sum_{c \\in C}(x_{k3c})$,&nbsp;&nbsp;&nbsp;&nbsp;&nbsp;&nbsp;$\\forall k \\in K$"
   ]
  },
  {
   "cell_type": "code",
   "execution_count": 9,
   "metadata": {
    "scrolled": false
   },
   "outputs": [
    {
     "data": {
      "text/plain": [
       "{1: <gurobi.Constr *Awaiting Model Update*>,\n",
       " 2: <gurobi.Constr *Awaiting Model Update*>,\n",
       " 3: <gurobi.Constr *Awaiting Model Update*>,\n",
       " 4: <gurobi.Constr *Awaiting Model Update*>,\n",
       " 5: <gurobi.Constr *Awaiting Model Update*>,\n",
       " 6: <gurobi.Constr *Awaiting Model Update*>,\n",
       " 7: <gurobi.Constr *Awaiting Model Update*>,\n",
       " 8: <gurobi.Constr *Awaiting Model Update*>,\n",
       " 9: <gurobi.Constr *Awaiting Model Update*>,\n",
       " 10: <gurobi.Constr *Awaiting Model Update*>}"
      ]
     },
     "execution_count": 9,
     "metadata": {},
     "output_type": "execute_result"
    }
   ],
   "source": [
    "model.addConstrs(quicksum(x[k,2,c] for c in C)==quicksum(x[k,3,c] for c in C) for k in K)"
   ]
  },
  {
   "cell_type": "markdown",
   "metadata": {},
   "source": [
    "**(4) Container must go through leg 1 OR (leg 2 AND 3)**\n",
    "\n",
    "Each container ($k$) will have $x_klc = 1$ for either leg 1 or leg 2 so the sum of the two must be 1 for all containers ($k$) on all chassis ($c$).\n",
    "\n",
    "   * $\\sum_{c \\in C}(x_{k1c}) + \\sum_{c \\in C}(x_{k2c}) = 1$,&nbsp;&nbsp;&nbsp;&nbsp;&nbsp;&nbsp; $\\forall k \\in K$"
   ]
  },
  {
   "cell_type": "code",
   "execution_count": 10,
   "metadata": {},
   "outputs": [
    {
     "data": {
      "text/plain": [
       "{1: <gurobi.Constr *Awaiting Model Update*>,\n",
       " 2: <gurobi.Constr *Awaiting Model Update*>,\n",
       " 3: <gurobi.Constr *Awaiting Model Update*>,\n",
       " 4: <gurobi.Constr *Awaiting Model Update*>,\n",
       " 5: <gurobi.Constr *Awaiting Model Update*>,\n",
       " 6: <gurobi.Constr *Awaiting Model Update*>,\n",
       " 7: <gurobi.Constr *Awaiting Model Update*>,\n",
       " 8: <gurobi.Constr *Awaiting Model Update*>,\n",
       " 9: <gurobi.Constr *Awaiting Model Update*>,\n",
       " 10: <gurobi.Constr *Awaiting Model Update*>}"
      ]
     },
     "execution_count": 10,
     "metadata": {},
     "output_type": "execute_result"
    }
   ],
   "source": [
    "model.addConstrs(\n",
    "    (quicksum(x[k,1,c] for c in C) + quicksum(x[k,2,c] for c in C))==1 for k in K\n",
    ")"
   ]
  },
  {
   "cell_type": "markdown",
   "metadata": {},
   "source": [
    "**(5) Precedence Constraint: Leg 2 must be before Leg 3**\n",
    "\n",
    "Each container k will have a $x_{klc}$ value of 1 for either leg 1 or leg 2 so the sum of the two must be 1 for all containers (k) on all chassis (c).\n",
    "\n",
    "   * $M\\sum_{c \\in C}(x_{k1c}) + \\sum_{c \\in C}(s_{k3c}) \\geq = \\sum_{c \\in C}(s_{k2c}) + \\Phi_{k2}$,&nbsp;&nbsp;&nbsp;&nbsp;&nbsp;&nbsp; $\\forall k \\in K$\n",
    "   "
   ]
  },
  {
   "cell_type": "code",
   "execution_count": 11,
   "metadata": {},
   "outputs": [
    {
     "data": {
      "text/plain": [
       "{1: <gurobi.Constr *Awaiting Model Update*>,\n",
       " 2: <gurobi.Constr *Awaiting Model Update*>,\n",
       " 3: <gurobi.Constr *Awaiting Model Update*>,\n",
       " 4: <gurobi.Constr *Awaiting Model Update*>,\n",
       " 5: <gurobi.Constr *Awaiting Model Update*>,\n",
       " 6: <gurobi.Constr *Awaiting Model Update*>,\n",
       " 7: <gurobi.Constr *Awaiting Model Update*>,\n",
       " 8: <gurobi.Constr *Awaiting Model Update*>,\n",
       " 9: <gurobi.Constr *Awaiting Model Update*>,\n",
       " 10: <gurobi.Constr *Awaiting Model Update*>}"
      ]
     },
     "execution_count": 11,
     "metadata": {},
     "output_type": "execute_result"
    }
   ],
   "source": [
    "model.addConstrs(\n",
    "    M*(quicksum(x[k,1,c] for c in C)) + quicksum(s[k,3,c] for c in C) >= \n",
    "    (quicksum(s[k,2,c] for c in C) + Phi[k][2]) for k in K\n",
    ")"
   ]
  },
  {
   "cell_type": "markdown",
   "metadata": {},
   "source": [
    "**(6) Bind x=0 to s=0**\n",
    "\n",
    "When $x_{klc} = 0, s_{klc} = 0 $\n",
    "\n",
    "   * $Mx_{klc} \\geq s_{klc}$,&nbsp;&nbsp;&nbsp;&nbsp;&nbsp;&nbsp; $\\forall k \\in K$, $l \\in L$, $c \\in C$"
   ]
  },
  {
   "cell_type": "code",
   "execution_count": 12,
   "metadata": {},
   "outputs": [
    {
     "data": {
      "text/plain": [
       "{(1, 1, 0): <gurobi.Constr *Awaiting Model Update*>,\n",
       " (1, 1, 1): <gurobi.Constr *Awaiting Model Update*>,\n",
       " (1, 1, 2): <gurobi.Constr *Awaiting Model Update*>,\n",
       " (1, 1, 3): <gurobi.Constr *Awaiting Model Update*>,\n",
       " (1, 1, 4): <gurobi.Constr *Awaiting Model Update*>,\n",
       " (1, 2, 0): <gurobi.Constr *Awaiting Model Update*>,\n",
       " (1, 2, 1): <gurobi.Constr *Awaiting Model Update*>,\n",
       " (1, 2, 2): <gurobi.Constr *Awaiting Model Update*>,\n",
       " (1, 2, 3): <gurobi.Constr *Awaiting Model Update*>,\n",
       " (1, 2, 4): <gurobi.Constr *Awaiting Model Update*>,\n",
       " (1, 3, 0): <gurobi.Constr *Awaiting Model Update*>,\n",
       " (1, 3, 1): <gurobi.Constr *Awaiting Model Update*>,\n",
       " (1, 3, 2): <gurobi.Constr *Awaiting Model Update*>,\n",
       " (1, 3, 3): <gurobi.Constr *Awaiting Model Update*>,\n",
       " (1, 3, 4): <gurobi.Constr *Awaiting Model Update*>,\n",
       " (2, 1, 0): <gurobi.Constr *Awaiting Model Update*>,\n",
       " (2, 1, 1): <gurobi.Constr *Awaiting Model Update*>,\n",
       " (2, 1, 2): <gurobi.Constr *Awaiting Model Update*>,\n",
       " (2, 1, 3): <gurobi.Constr *Awaiting Model Update*>,\n",
       " (2, 1, 4): <gurobi.Constr *Awaiting Model Update*>,\n",
       " (2, 2, 0): <gurobi.Constr *Awaiting Model Update*>,\n",
       " (2, 2, 1): <gurobi.Constr *Awaiting Model Update*>,\n",
       " (2, 2, 2): <gurobi.Constr *Awaiting Model Update*>,\n",
       " (2, 2, 3): <gurobi.Constr *Awaiting Model Update*>,\n",
       " (2, 2, 4): <gurobi.Constr *Awaiting Model Update*>,\n",
       " (2, 3, 0): <gurobi.Constr *Awaiting Model Update*>,\n",
       " (2, 3, 1): <gurobi.Constr *Awaiting Model Update*>,\n",
       " (2, 3, 2): <gurobi.Constr *Awaiting Model Update*>,\n",
       " (2, 3, 3): <gurobi.Constr *Awaiting Model Update*>,\n",
       " (2, 3, 4): <gurobi.Constr *Awaiting Model Update*>,\n",
       " (3, 1, 0): <gurobi.Constr *Awaiting Model Update*>,\n",
       " (3, 1, 1): <gurobi.Constr *Awaiting Model Update*>,\n",
       " (3, 1, 2): <gurobi.Constr *Awaiting Model Update*>,\n",
       " (3, 1, 3): <gurobi.Constr *Awaiting Model Update*>,\n",
       " (3, 1, 4): <gurobi.Constr *Awaiting Model Update*>,\n",
       " (3, 2, 0): <gurobi.Constr *Awaiting Model Update*>,\n",
       " (3, 2, 1): <gurobi.Constr *Awaiting Model Update*>,\n",
       " (3, 2, 2): <gurobi.Constr *Awaiting Model Update*>,\n",
       " (3, 2, 3): <gurobi.Constr *Awaiting Model Update*>,\n",
       " (3, 2, 4): <gurobi.Constr *Awaiting Model Update*>,\n",
       " (3, 3, 0): <gurobi.Constr *Awaiting Model Update*>,\n",
       " (3, 3, 1): <gurobi.Constr *Awaiting Model Update*>,\n",
       " (3, 3, 2): <gurobi.Constr *Awaiting Model Update*>,\n",
       " (3, 3, 3): <gurobi.Constr *Awaiting Model Update*>,\n",
       " (3, 3, 4): <gurobi.Constr *Awaiting Model Update*>,\n",
       " (4, 1, 0): <gurobi.Constr *Awaiting Model Update*>,\n",
       " (4, 1, 1): <gurobi.Constr *Awaiting Model Update*>,\n",
       " (4, 1, 2): <gurobi.Constr *Awaiting Model Update*>,\n",
       " (4, 1, 3): <gurobi.Constr *Awaiting Model Update*>,\n",
       " (4, 1, 4): <gurobi.Constr *Awaiting Model Update*>,\n",
       " (4, 2, 0): <gurobi.Constr *Awaiting Model Update*>,\n",
       " (4, 2, 1): <gurobi.Constr *Awaiting Model Update*>,\n",
       " (4, 2, 2): <gurobi.Constr *Awaiting Model Update*>,\n",
       " (4, 2, 3): <gurobi.Constr *Awaiting Model Update*>,\n",
       " (4, 2, 4): <gurobi.Constr *Awaiting Model Update*>,\n",
       " (4, 3, 0): <gurobi.Constr *Awaiting Model Update*>,\n",
       " (4, 3, 1): <gurobi.Constr *Awaiting Model Update*>,\n",
       " (4, 3, 2): <gurobi.Constr *Awaiting Model Update*>,\n",
       " (4, 3, 3): <gurobi.Constr *Awaiting Model Update*>,\n",
       " (4, 3, 4): <gurobi.Constr *Awaiting Model Update*>,\n",
       " (5, 1, 0): <gurobi.Constr *Awaiting Model Update*>,\n",
       " (5, 1, 1): <gurobi.Constr *Awaiting Model Update*>,\n",
       " (5, 1, 2): <gurobi.Constr *Awaiting Model Update*>,\n",
       " (5, 1, 3): <gurobi.Constr *Awaiting Model Update*>,\n",
       " (5, 1, 4): <gurobi.Constr *Awaiting Model Update*>,\n",
       " (5, 2, 0): <gurobi.Constr *Awaiting Model Update*>,\n",
       " (5, 2, 1): <gurobi.Constr *Awaiting Model Update*>,\n",
       " (5, 2, 2): <gurobi.Constr *Awaiting Model Update*>,\n",
       " (5, 2, 3): <gurobi.Constr *Awaiting Model Update*>,\n",
       " (5, 2, 4): <gurobi.Constr *Awaiting Model Update*>,\n",
       " (5, 3, 0): <gurobi.Constr *Awaiting Model Update*>,\n",
       " (5, 3, 1): <gurobi.Constr *Awaiting Model Update*>,\n",
       " (5, 3, 2): <gurobi.Constr *Awaiting Model Update*>,\n",
       " (5, 3, 3): <gurobi.Constr *Awaiting Model Update*>,\n",
       " (5, 3, 4): <gurobi.Constr *Awaiting Model Update*>,\n",
       " (6, 1, 0): <gurobi.Constr *Awaiting Model Update*>,\n",
       " (6, 1, 1): <gurobi.Constr *Awaiting Model Update*>,\n",
       " (6, 1, 2): <gurobi.Constr *Awaiting Model Update*>,\n",
       " (6, 1, 3): <gurobi.Constr *Awaiting Model Update*>,\n",
       " (6, 1, 4): <gurobi.Constr *Awaiting Model Update*>,\n",
       " (6, 2, 0): <gurobi.Constr *Awaiting Model Update*>,\n",
       " (6, 2, 1): <gurobi.Constr *Awaiting Model Update*>,\n",
       " (6, 2, 2): <gurobi.Constr *Awaiting Model Update*>,\n",
       " (6, 2, 3): <gurobi.Constr *Awaiting Model Update*>,\n",
       " (6, 2, 4): <gurobi.Constr *Awaiting Model Update*>,\n",
       " (6, 3, 0): <gurobi.Constr *Awaiting Model Update*>,\n",
       " (6, 3, 1): <gurobi.Constr *Awaiting Model Update*>,\n",
       " (6, 3, 2): <gurobi.Constr *Awaiting Model Update*>,\n",
       " (6, 3, 3): <gurobi.Constr *Awaiting Model Update*>,\n",
       " (6, 3, 4): <gurobi.Constr *Awaiting Model Update*>,\n",
       " (7, 1, 0): <gurobi.Constr *Awaiting Model Update*>,\n",
       " (7, 1, 1): <gurobi.Constr *Awaiting Model Update*>,\n",
       " (7, 1, 2): <gurobi.Constr *Awaiting Model Update*>,\n",
       " (7, 1, 3): <gurobi.Constr *Awaiting Model Update*>,\n",
       " (7, 1, 4): <gurobi.Constr *Awaiting Model Update*>,\n",
       " (7, 2, 0): <gurobi.Constr *Awaiting Model Update*>,\n",
       " (7, 2, 1): <gurobi.Constr *Awaiting Model Update*>,\n",
       " (7, 2, 2): <gurobi.Constr *Awaiting Model Update*>,\n",
       " (7, 2, 3): <gurobi.Constr *Awaiting Model Update*>,\n",
       " (7, 2, 4): <gurobi.Constr *Awaiting Model Update*>,\n",
       " (7, 3, 0): <gurobi.Constr *Awaiting Model Update*>,\n",
       " (7, 3, 1): <gurobi.Constr *Awaiting Model Update*>,\n",
       " (7, 3, 2): <gurobi.Constr *Awaiting Model Update*>,\n",
       " (7, 3, 3): <gurobi.Constr *Awaiting Model Update*>,\n",
       " (7, 3, 4): <gurobi.Constr *Awaiting Model Update*>,\n",
       " (8, 1, 0): <gurobi.Constr *Awaiting Model Update*>,\n",
       " (8, 1, 1): <gurobi.Constr *Awaiting Model Update*>,\n",
       " (8, 1, 2): <gurobi.Constr *Awaiting Model Update*>,\n",
       " (8, 1, 3): <gurobi.Constr *Awaiting Model Update*>,\n",
       " (8, 1, 4): <gurobi.Constr *Awaiting Model Update*>,\n",
       " (8, 2, 0): <gurobi.Constr *Awaiting Model Update*>,\n",
       " (8, 2, 1): <gurobi.Constr *Awaiting Model Update*>,\n",
       " (8, 2, 2): <gurobi.Constr *Awaiting Model Update*>,\n",
       " (8, 2, 3): <gurobi.Constr *Awaiting Model Update*>,\n",
       " (8, 2, 4): <gurobi.Constr *Awaiting Model Update*>,\n",
       " (8, 3, 0): <gurobi.Constr *Awaiting Model Update*>,\n",
       " (8, 3, 1): <gurobi.Constr *Awaiting Model Update*>,\n",
       " (8, 3, 2): <gurobi.Constr *Awaiting Model Update*>,\n",
       " (8, 3, 3): <gurobi.Constr *Awaiting Model Update*>,\n",
       " (8, 3, 4): <gurobi.Constr *Awaiting Model Update*>,\n",
       " (9, 1, 0): <gurobi.Constr *Awaiting Model Update*>,\n",
       " (9, 1, 1): <gurobi.Constr *Awaiting Model Update*>,\n",
       " (9, 1, 2): <gurobi.Constr *Awaiting Model Update*>,\n",
       " (9, 1, 3): <gurobi.Constr *Awaiting Model Update*>,\n",
       " (9, 1, 4): <gurobi.Constr *Awaiting Model Update*>,\n",
       " (9, 2, 0): <gurobi.Constr *Awaiting Model Update*>,\n",
       " (9, 2, 1): <gurobi.Constr *Awaiting Model Update*>,\n",
       " (9, 2, 2): <gurobi.Constr *Awaiting Model Update*>,\n",
       " (9, 2, 3): <gurobi.Constr *Awaiting Model Update*>,\n",
       " (9, 2, 4): <gurobi.Constr *Awaiting Model Update*>,\n",
       " (9, 3, 0): <gurobi.Constr *Awaiting Model Update*>,\n",
       " (9, 3, 1): <gurobi.Constr *Awaiting Model Update*>,\n",
       " (9, 3, 2): <gurobi.Constr *Awaiting Model Update*>,\n",
       " (9, 3, 3): <gurobi.Constr *Awaiting Model Update*>,\n",
       " (9, 3, 4): <gurobi.Constr *Awaiting Model Update*>,\n",
       " (10, 1, 0): <gurobi.Constr *Awaiting Model Update*>,\n",
       " (10, 1, 1): <gurobi.Constr *Awaiting Model Update*>,\n",
       " (10, 1, 2): <gurobi.Constr *Awaiting Model Update*>,\n",
       " (10, 1, 3): <gurobi.Constr *Awaiting Model Update*>,\n",
       " (10, 1, 4): <gurobi.Constr *Awaiting Model Update*>,\n",
       " (10, 2, 0): <gurobi.Constr *Awaiting Model Update*>,\n",
       " (10, 2, 1): <gurobi.Constr *Awaiting Model Update*>,\n",
       " (10, 2, 2): <gurobi.Constr *Awaiting Model Update*>,\n",
       " (10, 2, 3): <gurobi.Constr *Awaiting Model Update*>,\n",
       " (10, 2, 4): <gurobi.Constr *Awaiting Model Update*>,\n",
       " (10, 3, 0): <gurobi.Constr *Awaiting Model Update*>,\n",
       " (10, 3, 1): <gurobi.Constr *Awaiting Model Update*>,\n",
       " (10, 3, 2): <gurobi.Constr *Awaiting Model Update*>,\n",
       " (10, 3, 3): <gurobi.Constr *Awaiting Model Update*>,\n",
       " (10, 3, 4): <gurobi.Constr *Awaiting Model Update*>}"
      ]
     },
     "execution_count": 12,
     "metadata": {},
     "output_type": "execute_result"
    }
   ],
   "source": [
    "model.addConstrs(M*x[k,l,c] >= s[k,l,c] for k in K for l in L for c in C)"
   ]
  },
  {
   "cell_type": "markdown",
   "metadata": {},
   "source": [
    "**(7) Domain of $s_{klc}$**\n",
    "\n",
    "The start time ($s_{klc}$) must be greater than 0:\n",
    "\n",
    "   * $s_{klc} \\geq 0$,&nbsp;&nbsp;&nbsp;&nbsp;&nbsp;&nbsp; $\\forall k \\in K$, $l \\in L$, $c \\in C$"
   ]
  },
  {
   "cell_type": "code",
   "execution_count": 13,
   "metadata": {},
   "outputs": [
    {
     "data": {
      "text/plain": [
       "{(1, 1, 0): <gurobi.Constr *Awaiting Model Update*>,\n",
       " (1, 1, 1): <gurobi.Constr *Awaiting Model Update*>,\n",
       " (1, 1, 2): <gurobi.Constr *Awaiting Model Update*>,\n",
       " (1, 1, 3): <gurobi.Constr *Awaiting Model Update*>,\n",
       " (1, 1, 4): <gurobi.Constr *Awaiting Model Update*>,\n",
       " (1, 2, 0): <gurobi.Constr *Awaiting Model Update*>,\n",
       " (1, 2, 1): <gurobi.Constr *Awaiting Model Update*>,\n",
       " (1, 2, 2): <gurobi.Constr *Awaiting Model Update*>,\n",
       " (1, 2, 3): <gurobi.Constr *Awaiting Model Update*>,\n",
       " (1, 2, 4): <gurobi.Constr *Awaiting Model Update*>,\n",
       " (1, 3, 0): <gurobi.Constr *Awaiting Model Update*>,\n",
       " (1, 3, 1): <gurobi.Constr *Awaiting Model Update*>,\n",
       " (1, 3, 2): <gurobi.Constr *Awaiting Model Update*>,\n",
       " (1, 3, 3): <gurobi.Constr *Awaiting Model Update*>,\n",
       " (1, 3, 4): <gurobi.Constr *Awaiting Model Update*>,\n",
       " (2, 1, 0): <gurobi.Constr *Awaiting Model Update*>,\n",
       " (2, 1, 1): <gurobi.Constr *Awaiting Model Update*>,\n",
       " (2, 1, 2): <gurobi.Constr *Awaiting Model Update*>,\n",
       " (2, 1, 3): <gurobi.Constr *Awaiting Model Update*>,\n",
       " (2, 1, 4): <gurobi.Constr *Awaiting Model Update*>,\n",
       " (2, 2, 0): <gurobi.Constr *Awaiting Model Update*>,\n",
       " (2, 2, 1): <gurobi.Constr *Awaiting Model Update*>,\n",
       " (2, 2, 2): <gurobi.Constr *Awaiting Model Update*>,\n",
       " (2, 2, 3): <gurobi.Constr *Awaiting Model Update*>,\n",
       " (2, 2, 4): <gurobi.Constr *Awaiting Model Update*>,\n",
       " (2, 3, 0): <gurobi.Constr *Awaiting Model Update*>,\n",
       " (2, 3, 1): <gurobi.Constr *Awaiting Model Update*>,\n",
       " (2, 3, 2): <gurobi.Constr *Awaiting Model Update*>,\n",
       " (2, 3, 3): <gurobi.Constr *Awaiting Model Update*>,\n",
       " (2, 3, 4): <gurobi.Constr *Awaiting Model Update*>,\n",
       " (3, 1, 0): <gurobi.Constr *Awaiting Model Update*>,\n",
       " (3, 1, 1): <gurobi.Constr *Awaiting Model Update*>,\n",
       " (3, 1, 2): <gurobi.Constr *Awaiting Model Update*>,\n",
       " (3, 1, 3): <gurobi.Constr *Awaiting Model Update*>,\n",
       " (3, 1, 4): <gurobi.Constr *Awaiting Model Update*>,\n",
       " (3, 2, 0): <gurobi.Constr *Awaiting Model Update*>,\n",
       " (3, 2, 1): <gurobi.Constr *Awaiting Model Update*>,\n",
       " (3, 2, 2): <gurobi.Constr *Awaiting Model Update*>,\n",
       " (3, 2, 3): <gurobi.Constr *Awaiting Model Update*>,\n",
       " (3, 2, 4): <gurobi.Constr *Awaiting Model Update*>,\n",
       " (3, 3, 0): <gurobi.Constr *Awaiting Model Update*>,\n",
       " (3, 3, 1): <gurobi.Constr *Awaiting Model Update*>,\n",
       " (3, 3, 2): <gurobi.Constr *Awaiting Model Update*>,\n",
       " (3, 3, 3): <gurobi.Constr *Awaiting Model Update*>,\n",
       " (3, 3, 4): <gurobi.Constr *Awaiting Model Update*>,\n",
       " (4, 1, 0): <gurobi.Constr *Awaiting Model Update*>,\n",
       " (4, 1, 1): <gurobi.Constr *Awaiting Model Update*>,\n",
       " (4, 1, 2): <gurobi.Constr *Awaiting Model Update*>,\n",
       " (4, 1, 3): <gurobi.Constr *Awaiting Model Update*>,\n",
       " (4, 1, 4): <gurobi.Constr *Awaiting Model Update*>,\n",
       " (4, 2, 0): <gurobi.Constr *Awaiting Model Update*>,\n",
       " (4, 2, 1): <gurobi.Constr *Awaiting Model Update*>,\n",
       " (4, 2, 2): <gurobi.Constr *Awaiting Model Update*>,\n",
       " (4, 2, 3): <gurobi.Constr *Awaiting Model Update*>,\n",
       " (4, 2, 4): <gurobi.Constr *Awaiting Model Update*>,\n",
       " (4, 3, 0): <gurobi.Constr *Awaiting Model Update*>,\n",
       " (4, 3, 1): <gurobi.Constr *Awaiting Model Update*>,\n",
       " (4, 3, 2): <gurobi.Constr *Awaiting Model Update*>,\n",
       " (4, 3, 3): <gurobi.Constr *Awaiting Model Update*>,\n",
       " (4, 3, 4): <gurobi.Constr *Awaiting Model Update*>,\n",
       " (5, 1, 0): <gurobi.Constr *Awaiting Model Update*>,\n",
       " (5, 1, 1): <gurobi.Constr *Awaiting Model Update*>,\n",
       " (5, 1, 2): <gurobi.Constr *Awaiting Model Update*>,\n",
       " (5, 1, 3): <gurobi.Constr *Awaiting Model Update*>,\n",
       " (5, 1, 4): <gurobi.Constr *Awaiting Model Update*>,\n",
       " (5, 2, 0): <gurobi.Constr *Awaiting Model Update*>,\n",
       " (5, 2, 1): <gurobi.Constr *Awaiting Model Update*>,\n",
       " (5, 2, 2): <gurobi.Constr *Awaiting Model Update*>,\n",
       " (5, 2, 3): <gurobi.Constr *Awaiting Model Update*>,\n",
       " (5, 2, 4): <gurobi.Constr *Awaiting Model Update*>,\n",
       " (5, 3, 0): <gurobi.Constr *Awaiting Model Update*>,\n",
       " (5, 3, 1): <gurobi.Constr *Awaiting Model Update*>,\n",
       " (5, 3, 2): <gurobi.Constr *Awaiting Model Update*>,\n",
       " (5, 3, 3): <gurobi.Constr *Awaiting Model Update*>,\n",
       " (5, 3, 4): <gurobi.Constr *Awaiting Model Update*>,\n",
       " (6, 1, 0): <gurobi.Constr *Awaiting Model Update*>,\n",
       " (6, 1, 1): <gurobi.Constr *Awaiting Model Update*>,\n",
       " (6, 1, 2): <gurobi.Constr *Awaiting Model Update*>,\n",
       " (6, 1, 3): <gurobi.Constr *Awaiting Model Update*>,\n",
       " (6, 1, 4): <gurobi.Constr *Awaiting Model Update*>,\n",
       " (6, 2, 0): <gurobi.Constr *Awaiting Model Update*>,\n",
       " (6, 2, 1): <gurobi.Constr *Awaiting Model Update*>,\n",
       " (6, 2, 2): <gurobi.Constr *Awaiting Model Update*>,\n",
       " (6, 2, 3): <gurobi.Constr *Awaiting Model Update*>,\n",
       " (6, 2, 4): <gurobi.Constr *Awaiting Model Update*>,\n",
       " (6, 3, 0): <gurobi.Constr *Awaiting Model Update*>,\n",
       " (6, 3, 1): <gurobi.Constr *Awaiting Model Update*>,\n",
       " (6, 3, 2): <gurobi.Constr *Awaiting Model Update*>,\n",
       " (6, 3, 3): <gurobi.Constr *Awaiting Model Update*>,\n",
       " (6, 3, 4): <gurobi.Constr *Awaiting Model Update*>,\n",
       " (7, 1, 0): <gurobi.Constr *Awaiting Model Update*>,\n",
       " (7, 1, 1): <gurobi.Constr *Awaiting Model Update*>,\n",
       " (7, 1, 2): <gurobi.Constr *Awaiting Model Update*>,\n",
       " (7, 1, 3): <gurobi.Constr *Awaiting Model Update*>,\n",
       " (7, 1, 4): <gurobi.Constr *Awaiting Model Update*>,\n",
       " (7, 2, 0): <gurobi.Constr *Awaiting Model Update*>,\n",
       " (7, 2, 1): <gurobi.Constr *Awaiting Model Update*>,\n",
       " (7, 2, 2): <gurobi.Constr *Awaiting Model Update*>,\n",
       " (7, 2, 3): <gurobi.Constr *Awaiting Model Update*>,\n",
       " (7, 2, 4): <gurobi.Constr *Awaiting Model Update*>,\n",
       " (7, 3, 0): <gurobi.Constr *Awaiting Model Update*>,\n",
       " (7, 3, 1): <gurobi.Constr *Awaiting Model Update*>,\n",
       " (7, 3, 2): <gurobi.Constr *Awaiting Model Update*>,\n",
       " (7, 3, 3): <gurobi.Constr *Awaiting Model Update*>,\n",
       " (7, 3, 4): <gurobi.Constr *Awaiting Model Update*>,\n",
       " (8, 1, 0): <gurobi.Constr *Awaiting Model Update*>,\n",
       " (8, 1, 1): <gurobi.Constr *Awaiting Model Update*>,\n",
       " (8, 1, 2): <gurobi.Constr *Awaiting Model Update*>,\n",
       " (8, 1, 3): <gurobi.Constr *Awaiting Model Update*>,\n",
       " (8, 1, 4): <gurobi.Constr *Awaiting Model Update*>,\n",
       " (8, 2, 0): <gurobi.Constr *Awaiting Model Update*>,\n",
       " (8, 2, 1): <gurobi.Constr *Awaiting Model Update*>,\n",
       " (8, 2, 2): <gurobi.Constr *Awaiting Model Update*>,\n",
       " (8, 2, 3): <gurobi.Constr *Awaiting Model Update*>,\n",
       " (8, 2, 4): <gurobi.Constr *Awaiting Model Update*>,\n",
       " (8, 3, 0): <gurobi.Constr *Awaiting Model Update*>,\n",
       " (8, 3, 1): <gurobi.Constr *Awaiting Model Update*>,\n",
       " (8, 3, 2): <gurobi.Constr *Awaiting Model Update*>,\n",
       " (8, 3, 3): <gurobi.Constr *Awaiting Model Update*>,\n",
       " (8, 3, 4): <gurobi.Constr *Awaiting Model Update*>,\n",
       " (9, 1, 0): <gurobi.Constr *Awaiting Model Update*>,\n",
       " (9, 1, 1): <gurobi.Constr *Awaiting Model Update*>,\n",
       " (9, 1, 2): <gurobi.Constr *Awaiting Model Update*>,\n",
       " (9, 1, 3): <gurobi.Constr *Awaiting Model Update*>,\n",
       " (9, 1, 4): <gurobi.Constr *Awaiting Model Update*>,\n",
       " (9, 2, 0): <gurobi.Constr *Awaiting Model Update*>,\n",
       " (9, 2, 1): <gurobi.Constr *Awaiting Model Update*>,\n",
       " (9, 2, 2): <gurobi.Constr *Awaiting Model Update*>,\n",
       " (9, 2, 3): <gurobi.Constr *Awaiting Model Update*>,\n",
       " (9, 2, 4): <gurobi.Constr *Awaiting Model Update*>,\n",
       " (9, 3, 0): <gurobi.Constr *Awaiting Model Update*>,\n",
       " (9, 3, 1): <gurobi.Constr *Awaiting Model Update*>,\n",
       " (9, 3, 2): <gurobi.Constr *Awaiting Model Update*>,\n",
       " (9, 3, 3): <gurobi.Constr *Awaiting Model Update*>,\n",
       " (9, 3, 4): <gurobi.Constr *Awaiting Model Update*>,\n",
       " (10, 1, 0): <gurobi.Constr *Awaiting Model Update*>,\n",
       " (10, 1, 1): <gurobi.Constr *Awaiting Model Update*>,\n",
       " (10, 1, 2): <gurobi.Constr *Awaiting Model Update*>,\n",
       " (10, 1, 3): <gurobi.Constr *Awaiting Model Update*>,\n",
       " (10, 1, 4): <gurobi.Constr *Awaiting Model Update*>,\n",
       " (10, 2, 0): <gurobi.Constr *Awaiting Model Update*>,\n",
       " (10, 2, 1): <gurobi.Constr *Awaiting Model Update*>,\n",
       " (10, 2, 2): <gurobi.Constr *Awaiting Model Update*>,\n",
       " (10, 2, 3): <gurobi.Constr *Awaiting Model Update*>,\n",
       " (10, 2, 4): <gurobi.Constr *Awaiting Model Update*>,\n",
       " (10, 3, 0): <gurobi.Constr *Awaiting Model Update*>,\n",
       " (10, 3, 1): <gurobi.Constr *Awaiting Model Update*>,\n",
       " (10, 3, 2): <gurobi.Constr *Awaiting Model Update*>,\n",
       " (10, 3, 3): <gurobi.Constr *Awaiting Model Update*>,\n",
       " (10, 3, 4): <gurobi.Constr *Awaiting Model Update*>}"
      ]
     },
     "execution_count": 13,
     "metadata": {},
     "output_type": "execute_result"
    }
   ],
   "source": [
    "model.addConstrs(s[k,l,c] >=0 for k in K for l in L for c in C)"
   ]
  },
  {
   "cell_type": "code",
   "execution_count": 14,
   "metadata": {},
   "outputs": [
    {
     "name": "stdout",
     "output_type": "stream",
     "text": [
      "Gurobi Optimizer version 9.0.3 build v9.0.3rc0 (win64)\n",
      "Optimize a model with 6330 rows, 14700 columns and 26075 nonzeros\n",
      "Model fingerprint: 0xb6ce0be1\n",
      "Model has 350 quadratic objective terms\n",
      "Variable types: 10050 continuous, 4650 integer (4650 binary)\n",
      "Coefficient statistics:\n",
      "  Matrix range     [1e+00, 1e+03]\n",
      "  Objective range  [1e+01, 3e+02]\n",
      "  QObjective range [2e+00, 4e+03]\n",
      "  Bounds range     [1e+00, 1e+00]\n",
      "  RHS range        [1e-01, 3e+03]\n",
      "Found heuristic solution: objective 2.950000e+13\n",
      "Presolve removed 1225 rows and 11875 columns\n",
      "Presolve time: 0.05s\n",
      "Presolved: 5705 rows, 3575 columns, 50402 nonzeros\n",
      "Presolved model has 400 SOS constraint(s)\n",
      "Variable types: 900 continuous, 2675 integer (2675 binary)\n",
      "\n",
      "Root relaxation: objective -9.217088e+04, 1307 iterations, 0.03 seconds\n",
      "\n",
      "    Nodes    |    Current Node    |     Objective Bounds      |     Work\n",
      " Expl Unexpl |  Obj  Depth IntInf | Incumbent    BestBd   Gap | It/Node Time\n",
      "\n",
      "     0     0 -92170.875    0   56 2.9500e+13 -92170.875   100%     -    0s\n",
      "H    0     0                    10361.500000 -92170.875   990%     -    0s\n",
      "H    0     0                    7668.0000000 -92170.875  1302%     -    0s\n",
      "     0     0 -80491.217    0   82 7668.00000 -80491.217  1150%     -    0s\n",
      "     0     0 -73794.563    0   94 7668.00000 -73794.563  1062%     -    0s\n",
      "     0     0 -73794.563    0  100 7668.00000 -73794.563  1062%     -    0s\n",
      "H    0     0                    7445.1250000 -73794.563  1091%     -    0s\n",
      "H    0     0                    7432.5000000 -72682.479  1078%     -    0s\n",
      "H    0     0                    7137.6250000 -72682.479  1118%     -    0s\n",
      "     0     0 -27865.235    0  152 7137.62500 -27865.235   490%     -    0s\n",
      "     0     0 -27865.235    0  152 7137.62500 -27865.235   490%     -    0s\n",
      "H    0     0                    6787.8750000 -27865.235   511%     -    0s\n",
      "     0     0 -5718.2048    0   69 6787.87500 -5718.2048   184%     -    0s\n",
      "     0     0 -2368.2247    0   54 6787.87500 -2368.2247   135%     -    0s\n",
      "H    0     0                    5983.5000000 -2368.2247   140%     -    1s\n",
      "     0     0 -2368.2247    0   54 5983.50000 -2368.2247   140%     -    1s\n",
      "     0     0 -2320.2247    0   43 5983.50000 -2320.2247   139%     -    1s\n",
      "     0     0 -2320.2247    0   43 5983.50000 -2320.2247   139%     -    1s\n",
      "H    0     0                    5710.5000000 -2320.2247   141%     -    1s\n",
      "     0     0 -2268.4051    0   38 5710.50000 -2268.4051   140%     -    1s\n",
      "H    0     0                    5217.7500000 -2268.4051   143%     -    1s\n",
      "     0     0 -2268.4051    0   32 5217.75000 -2268.4051   143%     -    1s\n",
      "     0     0 -2258.4151    0   28 5217.75000 -2258.4151   143%     -    1s\n",
      "H    0     0                    5142.7500000 -2258.4151   144%     -    1s\n",
      "     0     0 -2258.4151    0   26 5142.75000 -2258.4151   144%     -    1s\n",
      "     0     0 -2237.7717    0   21 5142.75000 -2237.7717   144%     -    1s\n",
      "     0     0 -2237.7717    0   19 5142.75000 -2237.7717   144%     -    1s\n",
      "H    0     0                    4682.5000000 -2237.7717   148%     -    1s\n",
      "     0     0 -2237.7717    0   13 4682.50000 -2237.7717   148%     -    1s\n",
      "     0     0 -2237.7717    0   13 4682.50000 -2237.7717   148%     -    1s\n",
      "     0     0 -2062.4163    0   17 4682.50000 -2062.4163   144%     -    1s\n",
      "     0     0 -2062.4163    0   17 4682.50000 -2062.4163   144%     -    1s\n",
      "     0     2 -2062.4163    0   17 4682.50000 -2062.4163   144%     -    1s\n",
      "*  746   508              47    4583.6250000   19.78341   100%   6.3    2s\n",
      "*  951   598              50    4470.1250000   19.78341   100%   6.1    2s\n",
      "H 1009   589                    4445.1250000   19.78341   100%   6.0    2s\n",
      "H 1038   589                    4440.5000000   19.78341   100%   6.0    2s\n",
      "H 1332   758                    4371.6250000 3187.50000  27.1%   6.1    3s\n",
      "H 1337   722                    4149.8750000 3187.50000  23.2%   6.1    4s\n",
      "H 1337   686                    3824.8750000 3187.50000  16.7%   6.1    4s\n",
      "H 1339   653                    3517.3750000 3187.50000  9.38%   6.1    4s\n",
      "  1345   657 3517.37500   21   15 3517.37500 3187.50000  9.38%   6.0    5s\n",
      "H 1346   625                    3517.1250000 3187.50000  9.37%   6.0    5s\n",
      "  4421  1092     cutoff   28      3517.12500 3187.50000  9.37%   8.4   10s\n",
      "H 8982  2311                    3517.1249864 3187.50000  9.37%   8.4   13s\n",
      "H 9180  2416                    3517.1249840 3187.50000  9.37%   8.4   14s\n",
      " 10508  2772 infeasible   30      3517.12498 3187.50000  9.37%   8.4   15s\n",
      "H10511  2772                    3517.1249772 3187.50000  9.37%   8.4   15s\n",
      "H11205  2881                    3517.1249730 3187.50000  9.37%   8.4   15s\n",
      "H11873  3107                    3517.1249643 3187.50000  9.37%   8.5   15s\n",
      " 12895  3238 3452.37500   35    8 3517.12496 3187.50000  9.37%   8.4   20s\n",
      "H13038  3156                    3517.1249554 3187.50000  9.37%   8.7   20s\n",
      "H13147  2993                    3517.1249469 3187.50000  9.37%   8.7   20s\n",
      "H13221  2854                    3517.1249464 3187.50000  9.37%   8.7   20s\n",
      " 18121  2802 3399.06910   38   14 3517.12495 3187.50000  9.37%   8.9   25s\n",
      " 26802  3076 3487.97845   52   11 3517.12495 3388.77561  3.65%   9.1   30s\n",
      "\n",
      "Cutting planes:\n",
      "  Learned: 3\n",
      "  Clique: 1\n",
      "  MIR: 1\n",
      "  Flow cover: 1\n",
      "\n",
      "Explored 26830 nodes (246219 simplex iterations) in 30.03 seconds\n",
      "Thread count was 12 (of 12 available processors)\n",
      "\n",
      "Solution count 10: 3517.12 3517.12 3517.12 ... 3517.13\n",
      "\n",
      "Time limit reached\n",
      "Best objective 3.517124946388e+03, best bound 3.388775610121e+03, gap 3.6493%\n",
      "<gurobi.Var x_klc[1,1,3] (value 1.0)> <gurobi.Var s_klc[1,1,3] (value 3.0)>\n",
      "<gurobi.Var x_klc[2,2,3] (value 1.0)> <gurobi.Var s_klc[2,2,3] (value 2.75)>\n",
      "<gurobi.Var x_klc[2,3,4] (value 1.0)> <gurobi.Var s_klc[2,3,4] (value 11.124999094790928)>\n",
      "<gurobi.Var x_klc[3,1,0] (value 1.0)> <gurobi.Var s_klc[3,1,0] (value 0.0)>\n",
      "<gurobi.Var x_klc[4,1,1] (value 1.0)> <gurobi.Var s_klc[4,1,1] (value -0.0)>\n",
      "<gurobi.Var x_klc[5,1,2] (value 1.0)> <gurobi.Var s_klc[5,1,2] (value 0.0)>\n",
      "<gurobi.Var x_klc[6,1,4] (value 1.0)> <gurobi.Var s_klc[6,1,4] (value 4.0)>\n",
      "<gurobi.Var x_klc[7,1,4] (value 1.0)> <gurobi.Var s_klc[7,1,4] (value 5.249999999999994)>\n",
      "<gurobi.Var x_klc[8,1,4] (value 1.0)> <gurobi.Var s_klc[8,1,4] (value 7.499999999999972)>\n",
      "<gurobi.Var x_klc[9,1,4] (value 1.0)> <gurobi.Var s_klc[9,1,4] (value 8.749999099790928)>\n",
      "<gurobi.Var x_klc[10,1,4] (value 1.0)> <gurobi.Var s_klc[10,1,4] (value 1.0)>\n",
      "0.0 3206.2499544895463 256.875 53.99999189811808\n"
     ]
    }
   ],
   "source": [
    "model.optimize()\n",
    "\n",
    "for k in K:\n",
    "    for l in L:\n",
    "        for c in C:\n",
    "            if (x[k,l,c].X != 0):\n",
    "                print(x[k,l,c], s[k,l,c])\n",
    "#             for kp in K:\n",
    "#                 for lp in L:\n",
    "#                     print(x[k,l,c], s[k,l,c], x[kp, lp, c], s[kp, lp, c], z[k, l, kp, lp, c])\n",
    "\n",
    "print(demurrage_cost.getValue(),\n",
    "detention_cost.getValue(),\n",
    "stack_cost.getValue(),\n",
    "priority_cost.getValue())\n"
   ]
  },
  {
   "cell_type": "code",
   "execution_count": 76,
   "metadata": {},
   "outputs": [
    {
     "data": {
      "application/vnd.plotly.v1+json": {
       "config": {
        "plotlyServerURL": "https://plot.ly"
       },
       "data": [
        {
         "alignmentgroup": "True",
         "base": [
          "2020-11-04T00:00:00",
          "2020-11-01T00:00:00",
          "2020-11-01T00:00:00",
          "2020-11-01T00:00:00",
          "2020-11-05T00:00:00",
          "2020-11-06T06:00:00",
          "2020-11-08T12:00:00",
          "2020-11-09T17:59:59.922222",
          "2020-11-02T00:00:00"
         ],
         "hovertemplate": "Leg=1<br>Start=%{base}<br>Finish=%{x}<br>Chassis=%{y}<extra></extra>",
         "legendgroup": "1",
         "marker": {
          "color": "#636efa"
         },
         "name": "1",
         "offsetgroup": "1",
         "orientation": "h",
         "showlegend": true,
         "textposition": "auto",
         "type": "bar",
         "x": [
          885600000,
          1749600000,
          2613600000,
          3477600000,
          108000000,
          194400000,
          108000000,
          194400000,
          194400000
         ],
         "xaxis": "x",
         "y": [
          "3",
          "0",
          "1",
          "2",
          "4",
          "4",
          "4",
          "4",
          "4"
         ],
         "yaxis": "y"
        },
        {
         "alignmentgroup": "True",
         "base": [
          "2020-11-03T18:00:00"
         ],
         "hovertemplate": "Leg=2<br>Start=%{base}<br>Finish=%{x}<br>Chassis=%{y}<extra></extra>",
         "legendgroup": "2",
         "marker": {
          "color": "#EF553B"
         },
         "name": "2",
         "offsetgroup": "2",
         "orientation": "h",
         "showlegend": true,
         "textposition": "auto",
         "type": "bar",
         "x": [
          10800000
         ],
         "xaxis": "x",
         "y": [
          "3"
         ],
         "yaxis": "y"
        },
        {
         "alignmentgroup": "True",
         "base": [
          "2020-11-12T02:59:59.921790"
         ],
         "hovertemplate": "Leg=3<br>Start=%{base}<br>Finish=%{x}<br>Chassis=%{y}<extra></extra>",
         "legendgroup": "3",
         "marker": {
          "color": "#00cc96"
         },
         "name": "3",
         "offsetgroup": "3",
         "orientation": "h",
         "showlegend": true,
         "textposition": "auto",
         "type": "bar",
         "x": [
          885600000
         ],
         "xaxis": "x",
         "y": [
          "4"
         ],
         "yaxis": "y"
        }
       ],
       "layout": {
        "barmode": "overlay",
        "legend": {
         "title": {
          "text": "Leg"
         },
         "tracegroupgap": 0
        },
        "margin": {
         "t": 60
        },
        "template": {
         "data": {
          "bar": [
           {
            "error_x": {
             "color": "#2a3f5f"
            },
            "error_y": {
             "color": "#2a3f5f"
            },
            "marker": {
             "line": {
              "color": "#E5ECF6",
              "width": 0.5
             }
            },
            "type": "bar"
           }
          ],
          "barpolar": [
           {
            "marker": {
             "line": {
              "color": "#E5ECF6",
              "width": 0.5
             }
            },
            "type": "barpolar"
           }
          ],
          "carpet": [
           {
            "aaxis": {
             "endlinecolor": "#2a3f5f",
             "gridcolor": "white",
             "linecolor": "white",
             "minorgridcolor": "white",
             "startlinecolor": "#2a3f5f"
            },
            "baxis": {
             "endlinecolor": "#2a3f5f",
             "gridcolor": "white",
             "linecolor": "white",
             "minorgridcolor": "white",
             "startlinecolor": "#2a3f5f"
            },
            "type": "carpet"
           }
          ],
          "choropleth": [
           {
            "colorbar": {
             "outlinewidth": 0,
             "ticks": ""
            },
            "type": "choropleth"
           }
          ],
          "contour": [
           {
            "colorbar": {
             "outlinewidth": 0,
             "ticks": ""
            },
            "colorscale": [
             [
              0,
              "#0d0887"
             ],
             [
              0.1111111111111111,
              "#46039f"
             ],
             [
              0.2222222222222222,
              "#7201a8"
             ],
             [
              0.3333333333333333,
              "#9c179e"
             ],
             [
              0.4444444444444444,
              "#bd3786"
             ],
             [
              0.5555555555555556,
              "#d8576b"
             ],
             [
              0.6666666666666666,
              "#ed7953"
             ],
             [
              0.7777777777777778,
              "#fb9f3a"
             ],
             [
              0.8888888888888888,
              "#fdca26"
             ],
             [
              1,
              "#f0f921"
             ]
            ],
            "type": "contour"
           }
          ],
          "contourcarpet": [
           {
            "colorbar": {
             "outlinewidth": 0,
             "ticks": ""
            },
            "type": "contourcarpet"
           }
          ],
          "heatmap": [
           {
            "colorbar": {
             "outlinewidth": 0,
             "ticks": ""
            },
            "colorscale": [
             [
              0,
              "#0d0887"
             ],
             [
              0.1111111111111111,
              "#46039f"
             ],
             [
              0.2222222222222222,
              "#7201a8"
             ],
             [
              0.3333333333333333,
              "#9c179e"
             ],
             [
              0.4444444444444444,
              "#bd3786"
             ],
             [
              0.5555555555555556,
              "#d8576b"
             ],
             [
              0.6666666666666666,
              "#ed7953"
             ],
             [
              0.7777777777777778,
              "#fb9f3a"
             ],
             [
              0.8888888888888888,
              "#fdca26"
             ],
             [
              1,
              "#f0f921"
             ]
            ],
            "type": "heatmap"
           }
          ],
          "heatmapgl": [
           {
            "colorbar": {
             "outlinewidth": 0,
             "ticks": ""
            },
            "colorscale": [
             [
              0,
              "#0d0887"
             ],
             [
              0.1111111111111111,
              "#46039f"
             ],
             [
              0.2222222222222222,
              "#7201a8"
             ],
             [
              0.3333333333333333,
              "#9c179e"
             ],
             [
              0.4444444444444444,
              "#bd3786"
             ],
             [
              0.5555555555555556,
              "#d8576b"
             ],
             [
              0.6666666666666666,
              "#ed7953"
             ],
             [
              0.7777777777777778,
              "#fb9f3a"
             ],
             [
              0.8888888888888888,
              "#fdca26"
             ],
             [
              1,
              "#f0f921"
             ]
            ],
            "type": "heatmapgl"
           }
          ],
          "histogram": [
           {
            "marker": {
             "colorbar": {
              "outlinewidth": 0,
              "ticks": ""
             }
            },
            "type": "histogram"
           }
          ],
          "histogram2d": [
           {
            "colorbar": {
             "outlinewidth": 0,
             "ticks": ""
            },
            "colorscale": [
             [
              0,
              "#0d0887"
             ],
             [
              0.1111111111111111,
              "#46039f"
             ],
             [
              0.2222222222222222,
              "#7201a8"
             ],
             [
              0.3333333333333333,
              "#9c179e"
             ],
             [
              0.4444444444444444,
              "#bd3786"
             ],
             [
              0.5555555555555556,
              "#d8576b"
             ],
             [
              0.6666666666666666,
              "#ed7953"
             ],
             [
              0.7777777777777778,
              "#fb9f3a"
             ],
             [
              0.8888888888888888,
              "#fdca26"
             ],
             [
              1,
              "#f0f921"
             ]
            ],
            "type": "histogram2d"
           }
          ],
          "histogram2dcontour": [
           {
            "colorbar": {
             "outlinewidth": 0,
             "ticks": ""
            },
            "colorscale": [
             [
              0,
              "#0d0887"
             ],
             [
              0.1111111111111111,
              "#46039f"
             ],
             [
              0.2222222222222222,
              "#7201a8"
             ],
             [
              0.3333333333333333,
              "#9c179e"
             ],
             [
              0.4444444444444444,
              "#bd3786"
             ],
             [
              0.5555555555555556,
              "#d8576b"
             ],
             [
              0.6666666666666666,
              "#ed7953"
             ],
             [
              0.7777777777777778,
              "#fb9f3a"
             ],
             [
              0.8888888888888888,
              "#fdca26"
             ],
             [
              1,
              "#f0f921"
             ]
            ],
            "type": "histogram2dcontour"
           }
          ],
          "mesh3d": [
           {
            "colorbar": {
             "outlinewidth": 0,
             "ticks": ""
            },
            "type": "mesh3d"
           }
          ],
          "parcoords": [
           {
            "line": {
             "colorbar": {
              "outlinewidth": 0,
              "ticks": ""
             }
            },
            "type": "parcoords"
           }
          ],
          "pie": [
           {
            "automargin": true,
            "type": "pie"
           }
          ],
          "scatter": [
           {
            "marker": {
             "colorbar": {
              "outlinewidth": 0,
              "ticks": ""
             }
            },
            "type": "scatter"
           }
          ],
          "scatter3d": [
           {
            "line": {
             "colorbar": {
              "outlinewidth": 0,
              "ticks": ""
             }
            },
            "marker": {
             "colorbar": {
              "outlinewidth": 0,
              "ticks": ""
             }
            },
            "type": "scatter3d"
           }
          ],
          "scattercarpet": [
           {
            "marker": {
             "colorbar": {
              "outlinewidth": 0,
              "ticks": ""
             }
            },
            "type": "scattercarpet"
           }
          ],
          "scattergeo": [
           {
            "marker": {
             "colorbar": {
              "outlinewidth": 0,
              "ticks": ""
             }
            },
            "type": "scattergeo"
           }
          ],
          "scattergl": [
           {
            "marker": {
             "colorbar": {
              "outlinewidth": 0,
              "ticks": ""
             }
            },
            "type": "scattergl"
           }
          ],
          "scattermapbox": [
           {
            "marker": {
             "colorbar": {
              "outlinewidth": 0,
              "ticks": ""
             }
            },
            "type": "scattermapbox"
           }
          ],
          "scatterpolar": [
           {
            "marker": {
             "colorbar": {
              "outlinewidth": 0,
              "ticks": ""
             }
            },
            "type": "scatterpolar"
           }
          ],
          "scatterpolargl": [
           {
            "marker": {
             "colorbar": {
              "outlinewidth": 0,
              "ticks": ""
             }
            },
            "type": "scatterpolargl"
           }
          ],
          "scatterternary": [
           {
            "marker": {
             "colorbar": {
              "outlinewidth": 0,
              "ticks": ""
             }
            },
            "type": "scatterternary"
           }
          ],
          "surface": [
           {
            "colorbar": {
             "outlinewidth": 0,
             "ticks": ""
            },
            "colorscale": [
             [
              0,
              "#0d0887"
             ],
             [
              0.1111111111111111,
              "#46039f"
             ],
             [
              0.2222222222222222,
              "#7201a8"
             ],
             [
              0.3333333333333333,
              "#9c179e"
             ],
             [
              0.4444444444444444,
              "#bd3786"
             ],
             [
              0.5555555555555556,
              "#d8576b"
             ],
             [
              0.6666666666666666,
              "#ed7953"
             ],
             [
              0.7777777777777778,
              "#fb9f3a"
             ],
             [
              0.8888888888888888,
              "#fdca26"
             ],
             [
              1,
              "#f0f921"
             ]
            ],
            "type": "surface"
           }
          ],
          "table": [
           {
            "cells": {
             "fill": {
              "color": "#EBF0F8"
             },
             "line": {
              "color": "white"
             }
            },
            "header": {
             "fill": {
              "color": "#C8D4E3"
             },
             "line": {
              "color": "white"
             }
            },
            "type": "table"
           }
          ]
         },
         "layout": {
          "annotationdefaults": {
           "arrowcolor": "#2a3f5f",
           "arrowhead": 0,
           "arrowwidth": 1
          },
          "coloraxis": {
           "colorbar": {
            "outlinewidth": 0,
            "ticks": ""
           }
          },
          "colorscale": {
           "diverging": [
            [
             0,
             "#8e0152"
            ],
            [
             0.1,
             "#c51b7d"
            ],
            [
             0.2,
             "#de77ae"
            ],
            [
             0.3,
             "#f1b6da"
            ],
            [
             0.4,
             "#fde0ef"
            ],
            [
             0.5,
             "#f7f7f7"
            ],
            [
             0.6,
             "#e6f5d0"
            ],
            [
             0.7,
             "#b8e186"
            ],
            [
             0.8,
             "#7fbc41"
            ],
            [
             0.9,
             "#4d9221"
            ],
            [
             1,
             "#276419"
            ]
           ],
           "sequential": [
            [
             0,
             "#0d0887"
            ],
            [
             0.1111111111111111,
             "#46039f"
            ],
            [
             0.2222222222222222,
             "#7201a8"
            ],
            [
             0.3333333333333333,
             "#9c179e"
            ],
            [
             0.4444444444444444,
             "#bd3786"
            ],
            [
             0.5555555555555556,
             "#d8576b"
            ],
            [
             0.6666666666666666,
             "#ed7953"
            ],
            [
             0.7777777777777778,
             "#fb9f3a"
            ],
            [
             0.8888888888888888,
             "#fdca26"
            ],
            [
             1,
             "#f0f921"
            ]
           ],
           "sequentialminus": [
            [
             0,
             "#0d0887"
            ],
            [
             0.1111111111111111,
             "#46039f"
            ],
            [
             0.2222222222222222,
             "#7201a8"
            ],
            [
             0.3333333333333333,
             "#9c179e"
            ],
            [
             0.4444444444444444,
             "#bd3786"
            ],
            [
             0.5555555555555556,
             "#d8576b"
            ],
            [
             0.6666666666666666,
             "#ed7953"
            ],
            [
             0.7777777777777778,
             "#fb9f3a"
            ],
            [
             0.8888888888888888,
             "#fdca26"
            ],
            [
             1,
             "#f0f921"
            ]
           ]
          },
          "colorway": [
           "#636efa",
           "#EF553B",
           "#00cc96",
           "#ab63fa",
           "#FFA15A",
           "#19d3f3",
           "#FF6692",
           "#B6E880",
           "#FF97FF",
           "#FECB52"
          ],
          "font": {
           "color": "#2a3f5f"
          },
          "geo": {
           "bgcolor": "white",
           "lakecolor": "white",
           "landcolor": "#E5ECF6",
           "showlakes": true,
           "showland": true,
           "subunitcolor": "white"
          },
          "hoverlabel": {
           "align": "left"
          },
          "hovermode": "closest",
          "mapbox": {
           "style": "light"
          },
          "paper_bgcolor": "white",
          "plot_bgcolor": "#E5ECF6",
          "polar": {
           "angularaxis": {
            "gridcolor": "white",
            "linecolor": "white",
            "ticks": ""
           },
           "bgcolor": "#E5ECF6",
           "radialaxis": {
            "gridcolor": "white",
            "linecolor": "white",
            "ticks": ""
           }
          },
          "scene": {
           "xaxis": {
            "backgroundcolor": "#E5ECF6",
            "gridcolor": "white",
            "gridwidth": 2,
            "linecolor": "white",
            "showbackground": true,
            "ticks": "",
            "zerolinecolor": "white"
           },
           "yaxis": {
            "backgroundcolor": "#E5ECF6",
            "gridcolor": "white",
            "gridwidth": 2,
            "linecolor": "white",
            "showbackground": true,
            "ticks": "",
            "zerolinecolor": "white"
           },
           "zaxis": {
            "backgroundcolor": "#E5ECF6",
            "gridcolor": "white",
            "gridwidth": 2,
            "linecolor": "white",
            "showbackground": true,
            "ticks": "",
            "zerolinecolor": "white"
           }
          },
          "shapedefaults": {
           "line": {
            "color": "#2a3f5f"
           }
          },
          "ternary": {
           "aaxis": {
            "gridcolor": "white",
            "linecolor": "white",
            "ticks": ""
           },
           "baxis": {
            "gridcolor": "white",
            "linecolor": "white",
            "ticks": ""
           },
           "bgcolor": "#E5ECF6",
           "caxis": {
            "gridcolor": "white",
            "linecolor": "white",
            "ticks": ""
           }
          },
          "title": {
           "x": 0.05
          },
          "xaxis": {
           "automargin": true,
           "gridcolor": "white",
           "linecolor": "white",
           "ticks": "",
           "title": {
            "standoff": 15
           },
           "zerolinecolor": "white",
           "zerolinewidth": 2
          },
          "yaxis": {
           "automargin": true,
           "gridcolor": "white",
           "linecolor": "white",
           "ticks": "",
           "title": {
            "standoff": 15
           },
           "zerolinecolor": "white",
           "zerolinewidth": 2
          }
         }
        },
        "xaxis": {
         "anchor": "y",
         "domain": [
          0,
          1
         ],
         "type": "date"
        },
        "yaxis": {
         "anchor": "x",
         "domain": [
          0,
          1
         ],
         "title": {
          "text": "Chassis"
         }
        }
       }
      },
      "text/html": [
       "<div>                            <div id=\"a4aeeaef-ef5c-499e-a2ac-13c74f1b8ff3\" class=\"plotly-graph-div\" style=\"height:525px; width:100%;\"></div>            <script type=\"text/javascript\">                require([\"plotly\"], function(Plotly) {                    window.PLOTLYENV=window.PLOTLYENV || {};                                    if (document.getElementById(\"a4aeeaef-ef5c-499e-a2ac-13c74f1b8ff3\")) {                    Plotly.newPlot(                        \"a4aeeaef-ef5c-499e-a2ac-13c74f1b8ff3\",                        [{\"alignmentgroup\": \"True\", \"base\": [\"2020-11-04T00:00:00\", \"2020-11-01T00:00:00\", \"2020-11-01T00:00:00\", \"2020-11-01T00:00:00\", \"2020-11-05T00:00:00\", \"2020-11-06T06:00:00\", \"2020-11-08T12:00:00\", \"2020-11-09T17:59:59.922222\", \"2020-11-02T00:00:00\"], \"hovertemplate\": \"Leg=1<br>Start=%{base}<br>Finish=%{x}<br>Chassis=%{y}<extra></extra>\", \"legendgroup\": \"1\", \"marker\": {\"color\": \"#636efa\"}, \"name\": \"1\", \"offsetgroup\": \"1\", \"orientation\": \"h\", \"showlegend\": true, \"textposition\": \"auto\", \"type\": \"bar\", \"x\": [885600000.0, 1749600000.0, 2613600000.0, 3477600000.0, 108000000.0, 194400000.0, 108000000.0, 194400000.0, 194400000.0], \"xaxis\": \"x\", \"y\": [\"3\", \"0\", \"1\", \"2\", \"4\", \"4\", \"4\", \"4\", \"4\"], \"yaxis\": \"y\"}, {\"alignmentgroup\": \"True\", \"base\": [\"2020-11-03T18:00:00\"], \"hovertemplate\": \"Leg=2<br>Start=%{base}<br>Finish=%{x}<br>Chassis=%{y}<extra></extra>\", \"legendgroup\": \"2\", \"marker\": {\"color\": \"#EF553B\"}, \"name\": \"2\", \"offsetgroup\": \"2\", \"orientation\": \"h\", \"showlegend\": true, \"textposition\": \"auto\", \"type\": \"bar\", \"x\": [10800000.0], \"xaxis\": \"x\", \"y\": [\"3\"], \"yaxis\": \"y\"}, {\"alignmentgroup\": \"True\", \"base\": [\"2020-11-12T02:59:59.921790\"], \"hovertemplate\": \"Leg=3<br>Start=%{base}<br>Finish=%{x}<br>Chassis=%{y}<extra></extra>\", \"legendgroup\": \"3\", \"marker\": {\"color\": \"#00cc96\"}, \"name\": \"3\", \"offsetgroup\": \"3\", \"orientation\": \"h\", \"showlegend\": true, \"textposition\": \"auto\", \"type\": \"bar\", \"x\": [885600000.0], \"xaxis\": \"x\", \"y\": [\"4\"], \"yaxis\": \"y\"}],                        {\"barmode\": \"overlay\", \"legend\": {\"title\": {\"text\": \"Leg\"}, \"tracegroupgap\": 0}, \"margin\": {\"t\": 60}, \"template\": {\"data\": {\"bar\": [{\"error_x\": {\"color\": \"#2a3f5f\"}, \"error_y\": {\"color\": \"#2a3f5f\"}, \"marker\": {\"line\": {\"color\": \"#E5ECF6\", \"width\": 0.5}}, \"type\": \"bar\"}], \"barpolar\": [{\"marker\": {\"line\": {\"color\": \"#E5ECF6\", \"width\": 0.5}}, \"type\": \"barpolar\"}], \"carpet\": [{\"aaxis\": {\"endlinecolor\": \"#2a3f5f\", \"gridcolor\": \"white\", \"linecolor\": \"white\", \"minorgridcolor\": \"white\", \"startlinecolor\": \"#2a3f5f\"}, \"baxis\": {\"endlinecolor\": \"#2a3f5f\", \"gridcolor\": \"white\", \"linecolor\": \"white\", \"minorgridcolor\": \"white\", \"startlinecolor\": \"#2a3f5f\"}, \"type\": \"carpet\"}], \"choropleth\": [{\"colorbar\": {\"outlinewidth\": 0, \"ticks\": \"\"}, \"type\": \"choropleth\"}], \"contour\": [{\"colorbar\": {\"outlinewidth\": 0, \"ticks\": \"\"}, \"colorscale\": [[0.0, \"#0d0887\"], [0.1111111111111111, \"#46039f\"], [0.2222222222222222, \"#7201a8\"], [0.3333333333333333, \"#9c179e\"], [0.4444444444444444, \"#bd3786\"], [0.5555555555555556, \"#d8576b\"], [0.6666666666666666, \"#ed7953\"], [0.7777777777777778, \"#fb9f3a\"], [0.8888888888888888, \"#fdca26\"], [1.0, \"#f0f921\"]], \"type\": \"contour\"}], \"contourcarpet\": [{\"colorbar\": {\"outlinewidth\": 0, \"ticks\": \"\"}, \"type\": \"contourcarpet\"}], \"heatmap\": [{\"colorbar\": {\"outlinewidth\": 0, \"ticks\": \"\"}, \"colorscale\": [[0.0, \"#0d0887\"], [0.1111111111111111, \"#46039f\"], [0.2222222222222222, \"#7201a8\"], [0.3333333333333333, \"#9c179e\"], [0.4444444444444444, \"#bd3786\"], [0.5555555555555556, \"#d8576b\"], [0.6666666666666666, \"#ed7953\"], [0.7777777777777778, \"#fb9f3a\"], [0.8888888888888888, \"#fdca26\"], [1.0, \"#f0f921\"]], \"type\": \"heatmap\"}], \"heatmapgl\": [{\"colorbar\": {\"outlinewidth\": 0, \"ticks\": \"\"}, \"colorscale\": [[0.0, \"#0d0887\"], [0.1111111111111111, \"#46039f\"], [0.2222222222222222, \"#7201a8\"], [0.3333333333333333, \"#9c179e\"], [0.4444444444444444, \"#bd3786\"], [0.5555555555555556, \"#d8576b\"], [0.6666666666666666, \"#ed7953\"], [0.7777777777777778, \"#fb9f3a\"], [0.8888888888888888, \"#fdca26\"], [1.0, \"#f0f921\"]], \"type\": \"heatmapgl\"}], \"histogram\": [{\"marker\": {\"colorbar\": {\"outlinewidth\": 0, \"ticks\": \"\"}}, \"type\": \"histogram\"}], \"histogram2d\": [{\"colorbar\": {\"outlinewidth\": 0, \"ticks\": \"\"}, \"colorscale\": [[0.0, \"#0d0887\"], [0.1111111111111111, \"#46039f\"], [0.2222222222222222, \"#7201a8\"], [0.3333333333333333, \"#9c179e\"], [0.4444444444444444, \"#bd3786\"], [0.5555555555555556, \"#d8576b\"], [0.6666666666666666, \"#ed7953\"], [0.7777777777777778, \"#fb9f3a\"], [0.8888888888888888, \"#fdca26\"], [1.0, \"#f0f921\"]], \"type\": \"histogram2d\"}], \"histogram2dcontour\": [{\"colorbar\": {\"outlinewidth\": 0, \"ticks\": \"\"}, \"colorscale\": [[0.0, \"#0d0887\"], [0.1111111111111111, \"#46039f\"], [0.2222222222222222, \"#7201a8\"], [0.3333333333333333, \"#9c179e\"], [0.4444444444444444, \"#bd3786\"], [0.5555555555555556, \"#d8576b\"], [0.6666666666666666, \"#ed7953\"], [0.7777777777777778, \"#fb9f3a\"], [0.8888888888888888, \"#fdca26\"], [1.0, \"#f0f921\"]], \"type\": \"histogram2dcontour\"}], \"mesh3d\": [{\"colorbar\": {\"outlinewidth\": 0, \"ticks\": \"\"}, \"type\": \"mesh3d\"}], \"parcoords\": [{\"line\": {\"colorbar\": {\"outlinewidth\": 0, \"ticks\": \"\"}}, \"type\": \"parcoords\"}], \"pie\": [{\"automargin\": true, \"type\": \"pie\"}], \"scatter\": [{\"marker\": {\"colorbar\": {\"outlinewidth\": 0, \"ticks\": \"\"}}, \"type\": \"scatter\"}], \"scatter3d\": [{\"line\": {\"colorbar\": {\"outlinewidth\": 0, \"ticks\": \"\"}}, \"marker\": {\"colorbar\": {\"outlinewidth\": 0, \"ticks\": \"\"}}, \"type\": \"scatter3d\"}], \"scattercarpet\": [{\"marker\": {\"colorbar\": {\"outlinewidth\": 0, \"ticks\": \"\"}}, \"type\": \"scattercarpet\"}], \"scattergeo\": [{\"marker\": {\"colorbar\": {\"outlinewidth\": 0, \"ticks\": \"\"}}, \"type\": \"scattergeo\"}], \"scattergl\": [{\"marker\": {\"colorbar\": {\"outlinewidth\": 0, \"ticks\": \"\"}}, \"type\": \"scattergl\"}], \"scattermapbox\": [{\"marker\": {\"colorbar\": {\"outlinewidth\": 0, \"ticks\": \"\"}}, \"type\": \"scattermapbox\"}], \"scatterpolar\": [{\"marker\": {\"colorbar\": {\"outlinewidth\": 0, \"ticks\": \"\"}}, \"type\": \"scatterpolar\"}], \"scatterpolargl\": [{\"marker\": {\"colorbar\": {\"outlinewidth\": 0, \"ticks\": \"\"}}, \"type\": \"scatterpolargl\"}], \"scatterternary\": [{\"marker\": {\"colorbar\": {\"outlinewidth\": 0, \"ticks\": \"\"}}, \"type\": \"scatterternary\"}], \"surface\": [{\"colorbar\": {\"outlinewidth\": 0, \"ticks\": \"\"}, \"colorscale\": [[0.0, \"#0d0887\"], [0.1111111111111111, \"#46039f\"], [0.2222222222222222, \"#7201a8\"], [0.3333333333333333, \"#9c179e\"], [0.4444444444444444, \"#bd3786\"], [0.5555555555555556, \"#d8576b\"], [0.6666666666666666, \"#ed7953\"], [0.7777777777777778, \"#fb9f3a\"], [0.8888888888888888, \"#fdca26\"], [1.0, \"#f0f921\"]], \"type\": \"surface\"}], \"table\": [{\"cells\": {\"fill\": {\"color\": \"#EBF0F8\"}, \"line\": {\"color\": \"white\"}}, \"header\": {\"fill\": {\"color\": \"#C8D4E3\"}, \"line\": {\"color\": \"white\"}}, \"type\": \"table\"}]}, \"layout\": {\"annotationdefaults\": {\"arrowcolor\": \"#2a3f5f\", \"arrowhead\": 0, \"arrowwidth\": 1}, \"coloraxis\": {\"colorbar\": {\"outlinewidth\": 0, \"ticks\": \"\"}}, \"colorscale\": {\"diverging\": [[0, \"#8e0152\"], [0.1, \"#c51b7d\"], [0.2, \"#de77ae\"], [0.3, \"#f1b6da\"], [0.4, \"#fde0ef\"], [0.5, \"#f7f7f7\"], [0.6, \"#e6f5d0\"], [0.7, \"#b8e186\"], [0.8, \"#7fbc41\"], [0.9, \"#4d9221\"], [1, \"#276419\"]], \"sequential\": [[0.0, \"#0d0887\"], [0.1111111111111111, \"#46039f\"], [0.2222222222222222, \"#7201a8\"], [0.3333333333333333, \"#9c179e\"], [0.4444444444444444, \"#bd3786\"], [0.5555555555555556, \"#d8576b\"], [0.6666666666666666, \"#ed7953\"], [0.7777777777777778, \"#fb9f3a\"], [0.8888888888888888, \"#fdca26\"], [1.0, \"#f0f921\"]], \"sequentialminus\": [[0.0, \"#0d0887\"], [0.1111111111111111, \"#46039f\"], [0.2222222222222222, \"#7201a8\"], [0.3333333333333333, \"#9c179e\"], [0.4444444444444444, \"#bd3786\"], [0.5555555555555556, \"#d8576b\"], [0.6666666666666666, \"#ed7953\"], [0.7777777777777778, \"#fb9f3a\"], [0.8888888888888888, \"#fdca26\"], [1.0, \"#f0f921\"]]}, \"colorway\": [\"#636efa\", \"#EF553B\", \"#00cc96\", \"#ab63fa\", \"#FFA15A\", \"#19d3f3\", \"#FF6692\", \"#B6E880\", \"#FF97FF\", \"#FECB52\"], \"font\": {\"color\": \"#2a3f5f\"}, \"geo\": {\"bgcolor\": \"white\", \"lakecolor\": \"white\", \"landcolor\": \"#E5ECF6\", \"showlakes\": true, \"showland\": true, \"subunitcolor\": \"white\"}, \"hoverlabel\": {\"align\": \"left\"}, \"hovermode\": \"closest\", \"mapbox\": {\"style\": \"light\"}, \"paper_bgcolor\": \"white\", \"plot_bgcolor\": \"#E5ECF6\", \"polar\": {\"angularaxis\": {\"gridcolor\": \"white\", \"linecolor\": \"white\", \"ticks\": \"\"}, \"bgcolor\": \"#E5ECF6\", \"radialaxis\": {\"gridcolor\": \"white\", \"linecolor\": \"white\", \"ticks\": \"\"}}, \"scene\": {\"xaxis\": {\"backgroundcolor\": \"#E5ECF6\", \"gridcolor\": \"white\", \"gridwidth\": 2, \"linecolor\": \"white\", \"showbackground\": true, \"ticks\": \"\", \"zerolinecolor\": \"white\"}, \"yaxis\": {\"backgroundcolor\": \"#E5ECF6\", \"gridcolor\": \"white\", \"gridwidth\": 2, \"linecolor\": \"white\", \"showbackground\": true, \"ticks\": \"\", \"zerolinecolor\": \"white\"}, \"zaxis\": {\"backgroundcolor\": \"#E5ECF6\", \"gridcolor\": \"white\", \"gridwidth\": 2, \"linecolor\": \"white\", \"showbackground\": true, \"ticks\": \"\", \"zerolinecolor\": \"white\"}}, \"shapedefaults\": {\"line\": {\"color\": \"#2a3f5f\"}}, \"ternary\": {\"aaxis\": {\"gridcolor\": \"white\", \"linecolor\": \"white\", \"ticks\": \"\"}, \"baxis\": {\"gridcolor\": \"white\", \"linecolor\": \"white\", \"ticks\": \"\"}, \"bgcolor\": \"#E5ECF6\", \"caxis\": {\"gridcolor\": \"white\", \"linecolor\": \"white\", \"ticks\": \"\"}}, \"title\": {\"x\": 0.05}, \"xaxis\": {\"automargin\": true, \"gridcolor\": \"white\", \"linecolor\": \"white\", \"ticks\": \"\", \"title\": {\"standoff\": 15}, \"zerolinecolor\": \"white\", \"zerolinewidth\": 2}, \"yaxis\": {\"automargin\": true, \"gridcolor\": \"white\", \"linecolor\": \"white\", \"ticks\": \"\", \"title\": {\"standoff\": 15}, \"zerolinecolor\": \"white\", \"zerolinewidth\": 2}}}, \"xaxis\": {\"anchor\": \"y\", \"domain\": [0.0, 1.0], \"type\": \"date\"}, \"yaxis\": {\"anchor\": \"x\", \"domain\": [0.0, 1.0], \"title\": {\"text\": \"Chassis\"}}},                        {\"responsive\": true}                    ).then(function(){\n",
       "                            \n",
       "var gd = document.getElementById('a4aeeaef-ef5c-499e-a2ac-13c74f1b8ff3');\n",
       "var x = new MutationObserver(function (mutations, observer) {{\n",
       "        var display = window.getComputedStyle(gd).display;\n",
       "        if (!display || display === 'none') {{\n",
       "            console.log([gd, 'removed!']);\n",
       "            Plotly.purge(gd);\n",
       "            observer.disconnect();\n",
       "        }}\n",
       "}});\n",
       "\n",
       "// Listen for the removal of the full notebook cells\n",
       "var notebookContainer = gd.closest('#notebook-container');\n",
       "if (notebookContainer) {{\n",
       "    x.observe(notebookContainer, {childList: true});\n",
       "}}\n",
       "\n",
       "// Listen for the clearing of the current output cell\n",
       "var outputEl = gd.closest('.output');\n",
       "if (outputEl) {{\n",
       "    x.observe(outputEl, {childList: true});\n",
       "}}\n",
       "\n",
       "                        })                };                });            </script>        </div>"
      ]
     },
     "metadata": {},
     "output_type": "display_data"
    },
    {
     "data": {
      "application/vnd.plotly.v1+json": {
       "config": {
        "plotlyServerURL": "https://plot.ly"
       },
       "data": [
        {
         "alignmentgroup": "True",
         "base": [
          "2020-11-04T00:00:00",
          "2020-11-03T18:00:00"
         ],
         "hovertemplate": "Chassis=3<br>Start=%{base}<br>Finish=%{x}<br>Container=%{y}<extra></extra>",
         "legendgroup": "3",
         "marker": {
          "color": "#636efa"
         },
         "name": "3",
         "offsetgroup": "3",
         "orientation": "h",
         "showlegend": true,
         "textposition": "auto",
         "type": "bar",
         "x": [
          885600000,
          10800000
         ],
         "xaxis": "x",
         "y": [
          "1",
          "2"
         ],
         "yaxis": "y"
        },
        {
         "alignmentgroup": "True",
         "base": [
          "2020-11-12T02:59:59.921790",
          "2020-11-05T00:00:00",
          "2020-11-06T06:00:00",
          "2020-11-08T12:00:00",
          "2020-11-09T17:59:59.922222",
          "2020-11-02T00:00:00"
         ],
         "hovertemplate": "Chassis=4<br>Start=%{base}<br>Finish=%{x}<br>Container=%{y}<extra></extra>",
         "legendgroup": "4",
         "marker": {
          "color": "#EF553B"
         },
         "name": "4",
         "offsetgroup": "4",
         "orientation": "h",
         "showlegend": true,
         "textposition": "auto",
         "type": "bar",
         "x": [
          885600000,
          108000000,
          194400000,
          108000000,
          194400000,
          194400000
         ],
         "xaxis": "x",
         "y": [
          "2",
          "6",
          "7",
          "8",
          "9",
          "10"
         ],
         "yaxis": "y"
        },
        {
         "alignmentgroup": "True",
         "base": [
          "2020-11-01T00:00:00"
         ],
         "hovertemplate": "Chassis=0<br>Start=%{base}<br>Finish=%{x}<br>Container=%{y}<extra></extra>",
         "legendgroup": "0",
         "marker": {
          "color": "#00cc96"
         },
         "name": "0",
         "offsetgroup": "0",
         "orientation": "h",
         "showlegend": true,
         "textposition": "auto",
         "type": "bar",
         "x": [
          1749600000
         ],
         "xaxis": "x",
         "y": [
          "3"
         ],
         "yaxis": "y"
        },
        {
         "alignmentgroup": "True",
         "base": [
          "2020-11-01T00:00:00"
         ],
         "hovertemplate": "Chassis=1<br>Start=%{base}<br>Finish=%{x}<br>Container=%{y}<extra></extra>",
         "legendgroup": "1",
         "marker": {
          "color": "#ab63fa"
         },
         "name": "1",
         "offsetgroup": "1",
         "orientation": "h",
         "showlegend": true,
         "textposition": "auto",
         "type": "bar",
         "x": [
          2613600000
         ],
         "xaxis": "x",
         "y": [
          "4"
         ],
         "yaxis": "y"
        },
        {
         "alignmentgroup": "True",
         "base": [
          "2020-11-01T00:00:00"
         ],
         "hovertemplate": "Chassis=2<br>Start=%{base}<br>Finish=%{x}<br>Container=%{y}<extra></extra>",
         "legendgroup": "2",
         "marker": {
          "color": "#FFA15A"
         },
         "name": "2",
         "offsetgroup": "2",
         "orientation": "h",
         "showlegend": true,
         "textposition": "auto",
         "type": "bar",
         "x": [
          3477600000
         ],
         "xaxis": "x",
         "y": [
          "5"
         ],
         "yaxis": "y"
        },
        {
         "line": {
          "color": "black",
          "width": 1
         },
         "mode": "lines",
         "showlegend": false,
         "type": "scatter",
         "x": [
          "2020-11-01T00:00:00",
          "2020-11-01T00:00:00"
         ],
         "y": [
          0.6,
          1.4
         ]
        },
        {
         "line": {
          "color": "black",
          "width": 1
         },
         "mode": "lines",
         "showlegend": false,
         "type": "scatter",
         "x": [
          "2020-11-01T00:00:00",
          "2020-11-01T00:00:00"
         ],
         "y": [
          1.6,
          2.4
         ]
        },
        {
         "line": {
          "color": "black",
          "width": 1
         },
         "mode": "lines",
         "showlegend": false,
         "type": "scatter",
         "x": [
          "2020-11-01T00:00:00",
          "2020-11-01T00:00:00"
         ],
         "y": [
          2.6,
          3.4
         ]
        },
        {
         "line": {
          "color": "black",
          "width": 1
         },
         "mode": "lines",
         "showlegend": false,
         "type": "scatter",
         "x": [
          "2020-11-01T00:00:00",
          "2020-11-01T00:00:00"
         ],
         "y": [
          3.6,
          4.4
         ]
        },
        {
         "line": {
          "color": "black",
          "width": 1
         },
         "mode": "lines",
         "showlegend": false,
         "type": "scatter",
         "x": [
          "2020-11-01T00:00:00",
          "2020-11-01T00:00:00"
         ],
         "y": [
          4.6,
          5.4
         ]
        },
        {
         "line": {
          "color": "black",
          "width": 1
         },
         "mode": "lines",
         "showlegend": false,
         "type": "scatter",
         "x": [
          "2020-11-05T00:00:00",
          "2020-11-05T00:00:00"
         ],
         "y": [
          5.6,
          6.4
         ]
        },
        {
         "line": {
          "color": "black",
          "width": 1
         },
         "mode": "lines",
         "showlegend": false,
         "type": "scatter",
         "x": [
          "2020-11-05T00:00:00",
          "2020-11-05T00:00:00"
         ],
         "y": [
          6.6,
          7.4
         ]
        },
        {
         "line": {
          "color": "black",
          "width": 1
         },
         "mode": "lines",
         "showlegend": false,
         "type": "scatter",
         "x": [
          "2020-11-07T00:00:00",
          "2020-11-07T00:00:00"
         ],
         "y": [
          7.6,
          8.4
         ]
        },
        {
         "line": {
          "color": "black",
          "width": 1
         },
         "mode": "lines",
         "showlegend": false,
         "type": "scatter",
         "x": [
          "2020-11-07T00:00:00",
          "2020-11-07T00:00:00"
         ],
         "y": [
          8.6,
          9.4
         ]
        },
        {
         "line": {
          "color": "black",
          "width": 1
         },
         "mode": "lines",
         "showlegend": false,
         "type": "scatter",
         "x": [
          "2020-11-02T00:00:00",
          "2020-11-02T00:00:00"
         ],
         "y": [
          9.6,
          10.4
         ]
        }
       ],
       "layout": {
        "barmode": "overlay",
        "legend": {
         "title": {
          "text": "Chassis"
         },
         "tracegroupgap": 0
        },
        "margin": {
         "t": 60
        },
        "template": {
         "data": {
          "bar": [
           {
            "error_x": {
             "color": "#2a3f5f"
            },
            "error_y": {
             "color": "#2a3f5f"
            },
            "marker": {
             "line": {
              "color": "#E5ECF6",
              "width": 0.5
             }
            },
            "type": "bar"
           }
          ],
          "barpolar": [
           {
            "marker": {
             "line": {
              "color": "#E5ECF6",
              "width": 0.5
             }
            },
            "type": "barpolar"
           }
          ],
          "carpet": [
           {
            "aaxis": {
             "endlinecolor": "#2a3f5f",
             "gridcolor": "white",
             "linecolor": "white",
             "minorgridcolor": "white",
             "startlinecolor": "#2a3f5f"
            },
            "baxis": {
             "endlinecolor": "#2a3f5f",
             "gridcolor": "white",
             "linecolor": "white",
             "minorgridcolor": "white",
             "startlinecolor": "#2a3f5f"
            },
            "type": "carpet"
           }
          ],
          "choropleth": [
           {
            "colorbar": {
             "outlinewidth": 0,
             "ticks": ""
            },
            "type": "choropleth"
           }
          ],
          "contour": [
           {
            "colorbar": {
             "outlinewidth": 0,
             "ticks": ""
            },
            "colorscale": [
             [
              0,
              "#0d0887"
             ],
             [
              0.1111111111111111,
              "#46039f"
             ],
             [
              0.2222222222222222,
              "#7201a8"
             ],
             [
              0.3333333333333333,
              "#9c179e"
             ],
             [
              0.4444444444444444,
              "#bd3786"
             ],
             [
              0.5555555555555556,
              "#d8576b"
             ],
             [
              0.6666666666666666,
              "#ed7953"
             ],
             [
              0.7777777777777778,
              "#fb9f3a"
             ],
             [
              0.8888888888888888,
              "#fdca26"
             ],
             [
              1,
              "#f0f921"
             ]
            ],
            "type": "contour"
           }
          ],
          "contourcarpet": [
           {
            "colorbar": {
             "outlinewidth": 0,
             "ticks": ""
            },
            "type": "contourcarpet"
           }
          ],
          "heatmap": [
           {
            "colorbar": {
             "outlinewidth": 0,
             "ticks": ""
            },
            "colorscale": [
             [
              0,
              "#0d0887"
             ],
             [
              0.1111111111111111,
              "#46039f"
             ],
             [
              0.2222222222222222,
              "#7201a8"
             ],
             [
              0.3333333333333333,
              "#9c179e"
             ],
             [
              0.4444444444444444,
              "#bd3786"
             ],
             [
              0.5555555555555556,
              "#d8576b"
             ],
             [
              0.6666666666666666,
              "#ed7953"
             ],
             [
              0.7777777777777778,
              "#fb9f3a"
             ],
             [
              0.8888888888888888,
              "#fdca26"
             ],
             [
              1,
              "#f0f921"
             ]
            ],
            "type": "heatmap"
           }
          ],
          "heatmapgl": [
           {
            "colorbar": {
             "outlinewidth": 0,
             "ticks": ""
            },
            "colorscale": [
             [
              0,
              "#0d0887"
             ],
             [
              0.1111111111111111,
              "#46039f"
             ],
             [
              0.2222222222222222,
              "#7201a8"
             ],
             [
              0.3333333333333333,
              "#9c179e"
             ],
             [
              0.4444444444444444,
              "#bd3786"
             ],
             [
              0.5555555555555556,
              "#d8576b"
             ],
             [
              0.6666666666666666,
              "#ed7953"
             ],
             [
              0.7777777777777778,
              "#fb9f3a"
             ],
             [
              0.8888888888888888,
              "#fdca26"
             ],
             [
              1,
              "#f0f921"
             ]
            ],
            "type": "heatmapgl"
           }
          ],
          "histogram": [
           {
            "marker": {
             "colorbar": {
              "outlinewidth": 0,
              "ticks": ""
             }
            },
            "type": "histogram"
           }
          ],
          "histogram2d": [
           {
            "colorbar": {
             "outlinewidth": 0,
             "ticks": ""
            },
            "colorscale": [
             [
              0,
              "#0d0887"
             ],
             [
              0.1111111111111111,
              "#46039f"
             ],
             [
              0.2222222222222222,
              "#7201a8"
             ],
             [
              0.3333333333333333,
              "#9c179e"
             ],
             [
              0.4444444444444444,
              "#bd3786"
             ],
             [
              0.5555555555555556,
              "#d8576b"
             ],
             [
              0.6666666666666666,
              "#ed7953"
             ],
             [
              0.7777777777777778,
              "#fb9f3a"
             ],
             [
              0.8888888888888888,
              "#fdca26"
             ],
             [
              1,
              "#f0f921"
             ]
            ],
            "type": "histogram2d"
           }
          ],
          "histogram2dcontour": [
           {
            "colorbar": {
             "outlinewidth": 0,
             "ticks": ""
            },
            "colorscale": [
             [
              0,
              "#0d0887"
             ],
             [
              0.1111111111111111,
              "#46039f"
             ],
             [
              0.2222222222222222,
              "#7201a8"
             ],
             [
              0.3333333333333333,
              "#9c179e"
             ],
             [
              0.4444444444444444,
              "#bd3786"
             ],
             [
              0.5555555555555556,
              "#d8576b"
             ],
             [
              0.6666666666666666,
              "#ed7953"
             ],
             [
              0.7777777777777778,
              "#fb9f3a"
             ],
             [
              0.8888888888888888,
              "#fdca26"
             ],
             [
              1,
              "#f0f921"
             ]
            ],
            "type": "histogram2dcontour"
           }
          ],
          "mesh3d": [
           {
            "colorbar": {
             "outlinewidth": 0,
             "ticks": ""
            },
            "type": "mesh3d"
           }
          ],
          "parcoords": [
           {
            "line": {
             "colorbar": {
              "outlinewidth": 0,
              "ticks": ""
             }
            },
            "type": "parcoords"
           }
          ],
          "pie": [
           {
            "automargin": true,
            "type": "pie"
           }
          ],
          "scatter": [
           {
            "marker": {
             "colorbar": {
              "outlinewidth": 0,
              "ticks": ""
             }
            },
            "type": "scatter"
           }
          ],
          "scatter3d": [
           {
            "line": {
             "colorbar": {
              "outlinewidth": 0,
              "ticks": ""
             }
            },
            "marker": {
             "colorbar": {
              "outlinewidth": 0,
              "ticks": ""
             }
            },
            "type": "scatter3d"
           }
          ],
          "scattercarpet": [
           {
            "marker": {
             "colorbar": {
              "outlinewidth": 0,
              "ticks": ""
             }
            },
            "type": "scattercarpet"
           }
          ],
          "scattergeo": [
           {
            "marker": {
             "colorbar": {
              "outlinewidth": 0,
              "ticks": ""
             }
            },
            "type": "scattergeo"
           }
          ],
          "scattergl": [
           {
            "marker": {
             "colorbar": {
              "outlinewidth": 0,
              "ticks": ""
             }
            },
            "type": "scattergl"
           }
          ],
          "scattermapbox": [
           {
            "marker": {
             "colorbar": {
              "outlinewidth": 0,
              "ticks": ""
             }
            },
            "type": "scattermapbox"
           }
          ],
          "scatterpolar": [
           {
            "marker": {
             "colorbar": {
              "outlinewidth": 0,
              "ticks": ""
             }
            },
            "type": "scatterpolar"
           }
          ],
          "scatterpolargl": [
           {
            "marker": {
             "colorbar": {
              "outlinewidth": 0,
              "ticks": ""
             }
            },
            "type": "scatterpolargl"
           }
          ],
          "scatterternary": [
           {
            "marker": {
             "colorbar": {
              "outlinewidth": 0,
              "ticks": ""
             }
            },
            "type": "scatterternary"
           }
          ],
          "surface": [
           {
            "colorbar": {
             "outlinewidth": 0,
             "ticks": ""
            },
            "colorscale": [
             [
              0,
              "#0d0887"
             ],
             [
              0.1111111111111111,
              "#46039f"
             ],
             [
              0.2222222222222222,
              "#7201a8"
             ],
             [
              0.3333333333333333,
              "#9c179e"
             ],
             [
              0.4444444444444444,
              "#bd3786"
             ],
             [
              0.5555555555555556,
              "#d8576b"
             ],
             [
              0.6666666666666666,
              "#ed7953"
             ],
             [
              0.7777777777777778,
              "#fb9f3a"
             ],
             [
              0.8888888888888888,
              "#fdca26"
             ],
             [
              1,
              "#f0f921"
             ]
            ],
            "type": "surface"
           }
          ],
          "table": [
           {
            "cells": {
             "fill": {
              "color": "#EBF0F8"
             },
             "line": {
              "color": "white"
             }
            },
            "header": {
             "fill": {
              "color": "#C8D4E3"
             },
             "line": {
              "color": "white"
             }
            },
            "type": "table"
           }
          ]
         },
         "layout": {
          "annotationdefaults": {
           "arrowcolor": "#2a3f5f",
           "arrowhead": 0,
           "arrowwidth": 1
          },
          "coloraxis": {
           "colorbar": {
            "outlinewidth": 0,
            "ticks": ""
           }
          },
          "colorscale": {
           "diverging": [
            [
             0,
             "#8e0152"
            ],
            [
             0.1,
             "#c51b7d"
            ],
            [
             0.2,
             "#de77ae"
            ],
            [
             0.3,
             "#f1b6da"
            ],
            [
             0.4,
             "#fde0ef"
            ],
            [
             0.5,
             "#f7f7f7"
            ],
            [
             0.6,
             "#e6f5d0"
            ],
            [
             0.7,
             "#b8e186"
            ],
            [
             0.8,
             "#7fbc41"
            ],
            [
             0.9,
             "#4d9221"
            ],
            [
             1,
             "#276419"
            ]
           ],
           "sequential": [
            [
             0,
             "#0d0887"
            ],
            [
             0.1111111111111111,
             "#46039f"
            ],
            [
             0.2222222222222222,
             "#7201a8"
            ],
            [
             0.3333333333333333,
             "#9c179e"
            ],
            [
             0.4444444444444444,
             "#bd3786"
            ],
            [
             0.5555555555555556,
             "#d8576b"
            ],
            [
             0.6666666666666666,
             "#ed7953"
            ],
            [
             0.7777777777777778,
             "#fb9f3a"
            ],
            [
             0.8888888888888888,
             "#fdca26"
            ],
            [
             1,
             "#f0f921"
            ]
           ],
           "sequentialminus": [
            [
             0,
             "#0d0887"
            ],
            [
             0.1111111111111111,
             "#46039f"
            ],
            [
             0.2222222222222222,
             "#7201a8"
            ],
            [
             0.3333333333333333,
             "#9c179e"
            ],
            [
             0.4444444444444444,
             "#bd3786"
            ],
            [
             0.5555555555555556,
             "#d8576b"
            ],
            [
             0.6666666666666666,
             "#ed7953"
            ],
            [
             0.7777777777777778,
             "#fb9f3a"
            ],
            [
             0.8888888888888888,
             "#fdca26"
            ],
            [
             1,
             "#f0f921"
            ]
           ]
          },
          "colorway": [
           "#636efa",
           "#EF553B",
           "#00cc96",
           "#ab63fa",
           "#FFA15A",
           "#19d3f3",
           "#FF6692",
           "#B6E880",
           "#FF97FF",
           "#FECB52"
          ],
          "font": {
           "color": "#2a3f5f"
          },
          "geo": {
           "bgcolor": "white",
           "lakecolor": "white",
           "landcolor": "#E5ECF6",
           "showlakes": true,
           "showland": true,
           "subunitcolor": "white"
          },
          "hoverlabel": {
           "align": "left"
          },
          "hovermode": "closest",
          "mapbox": {
           "style": "light"
          },
          "paper_bgcolor": "white",
          "plot_bgcolor": "#E5ECF6",
          "polar": {
           "angularaxis": {
            "gridcolor": "white",
            "linecolor": "white",
            "ticks": ""
           },
           "bgcolor": "#E5ECF6",
           "radialaxis": {
            "gridcolor": "white",
            "linecolor": "white",
            "ticks": ""
           }
          },
          "scene": {
           "xaxis": {
            "backgroundcolor": "#E5ECF6",
            "gridcolor": "white",
            "gridwidth": 2,
            "linecolor": "white",
            "showbackground": true,
            "ticks": "",
            "zerolinecolor": "white"
           },
           "yaxis": {
            "backgroundcolor": "#E5ECF6",
            "gridcolor": "white",
            "gridwidth": 2,
            "linecolor": "white",
            "showbackground": true,
            "ticks": "",
            "zerolinecolor": "white"
           },
           "zaxis": {
            "backgroundcolor": "#E5ECF6",
            "gridcolor": "white",
            "gridwidth": 2,
            "linecolor": "white",
            "showbackground": true,
            "ticks": "",
            "zerolinecolor": "white"
           }
          },
          "shapedefaults": {
           "line": {
            "color": "#2a3f5f"
           }
          },
          "ternary": {
           "aaxis": {
            "gridcolor": "white",
            "linecolor": "white",
            "ticks": ""
           },
           "baxis": {
            "gridcolor": "white",
            "linecolor": "white",
            "ticks": ""
           },
           "bgcolor": "#E5ECF6",
           "caxis": {
            "gridcolor": "white",
            "linecolor": "white",
            "ticks": ""
           }
          },
          "title": {
           "x": 0.05
          },
          "xaxis": {
           "automargin": true,
           "gridcolor": "white",
           "linecolor": "white",
           "ticks": "",
           "title": {
            "standoff": 15
           },
           "zerolinecolor": "white",
           "zerolinewidth": 2
          },
          "yaxis": {
           "automargin": true,
           "gridcolor": "white",
           "linecolor": "white",
           "ticks": "",
           "title": {
            "standoff": 15
           },
           "zerolinecolor": "white",
           "zerolinewidth": 2
          }
         }
        },
        "xaxis": {
         "anchor": "y",
         "domain": [
          0,
          1
         ],
         "type": "date"
        },
        "yaxis": {
         "anchor": "x",
         "domain": [
          0,
          1
         ],
         "title": {
          "text": "Container"
         }
        }
       }
      },
      "text/html": [
       "<div>                            <div id=\"0aa1723f-a9c3-4238-80cd-f72fcc3b88f3\" class=\"plotly-graph-div\" style=\"height:525px; width:100%;\"></div>            <script type=\"text/javascript\">                require([\"plotly\"], function(Plotly) {                    window.PLOTLYENV=window.PLOTLYENV || {};                                    if (document.getElementById(\"0aa1723f-a9c3-4238-80cd-f72fcc3b88f3\")) {                    Plotly.newPlot(                        \"0aa1723f-a9c3-4238-80cd-f72fcc3b88f3\",                        [{\"alignmentgroup\": \"True\", \"base\": [\"2020-11-04T00:00:00\", \"2020-11-03T18:00:00\"], \"hovertemplate\": \"Chassis=3<br>Start=%{base}<br>Finish=%{x}<br>Container=%{y}<extra></extra>\", \"legendgroup\": \"3\", \"marker\": {\"color\": \"#636efa\"}, \"name\": \"3\", \"offsetgroup\": \"3\", \"orientation\": \"h\", \"showlegend\": true, \"textposition\": \"auto\", \"type\": \"bar\", \"x\": [885600000.0, 10800000.0], \"xaxis\": \"x\", \"y\": [\"1\", \"2\"], \"yaxis\": \"y\"}, {\"alignmentgroup\": \"True\", \"base\": [\"2020-11-12T02:59:59.921790\", \"2020-11-05T00:00:00\", \"2020-11-06T06:00:00\", \"2020-11-08T12:00:00\", \"2020-11-09T17:59:59.922222\", \"2020-11-02T00:00:00\"], \"hovertemplate\": \"Chassis=4<br>Start=%{base}<br>Finish=%{x}<br>Container=%{y}<extra></extra>\", \"legendgroup\": \"4\", \"marker\": {\"color\": \"#EF553B\"}, \"name\": \"4\", \"offsetgroup\": \"4\", \"orientation\": \"h\", \"showlegend\": true, \"textposition\": \"auto\", \"type\": \"bar\", \"x\": [885600000.0, 108000000.0, 194400000.0, 108000000.0, 194400000.0, 194400000.0], \"xaxis\": \"x\", \"y\": [\"2\", \"6\", \"7\", \"8\", \"9\", \"10\"], \"yaxis\": \"y\"}, {\"alignmentgroup\": \"True\", \"base\": [\"2020-11-01T00:00:00\"], \"hovertemplate\": \"Chassis=0<br>Start=%{base}<br>Finish=%{x}<br>Container=%{y}<extra></extra>\", \"legendgroup\": \"0\", \"marker\": {\"color\": \"#00cc96\"}, \"name\": \"0\", \"offsetgroup\": \"0\", \"orientation\": \"h\", \"showlegend\": true, \"textposition\": \"auto\", \"type\": \"bar\", \"x\": [1749600000.0], \"xaxis\": \"x\", \"y\": [\"3\"], \"yaxis\": \"y\"}, {\"alignmentgroup\": \"True\", \"base\": [\"2020-11-01T00:00:00\"], \"hovertemplate\": \"Chassis=1<br>Start=%{base}<br>Finish=%{x}<br>Container=%{y}<extra></extra>\", \"legendgroup\": \"1\", \"marker\": {\"color\": \"#ab63fa\"}, \"name\": \"1\", \"offsetgroup\": \"1\", \"orientation\": \"h\", \"showlegend\": true, \"textposition\": \"auto\", \"type\": \"bar\", \"x\": [2613600000.0], \"xaxis\": \"x\", \"y\": [\"4\"], \"yaxis\": \"y\"}, {\"alignmentgroup\": \"True\", \"base\": [\"2020-11-01T00:00:00\"], \"hovertemplate\": \"Chassis=2<br>Start=%{base}<br>Finish=%{x}<br>Container=%{y}<extra></extra>\", \"legendgroup\": \"2\", \"marker\": {\"color\": \"#FFA15A\"}, \"name\": \"2\", \"offsetgroup\": \"2\", \"orientation\": \"h\", \"showlegend\": true, \"textposition\": \"auto\", \"type\": \"bar\", \"x\": [3477600000.0], \"xaxis\": \"x\", \"y\": [\"5\"], \"yaxis\": \"y\"}, {\"line\": {\"color\": \"black\", \"width\": 1}, \"mode\": \"lines\", \"showlegend\": false, \"type\": \"scatter\", \"x\": [\"2020-11-01T00:00:00\", \"2020-11-01T00:00:00\"], \"y\": [0.6, 1.4]}, {\"line\": {\"color\": \"black\", \"width\": 1}, \"mode\": \"lines\", \"showlegend\": false, \"type\": \"scatter\", \"x\": [\"2020-11-01T00:00:00\", \"2020-11-01T00:00:00\"], \"y\": [1.6, 2.4]}, {\"line\": {\"color\": \"black\", \"width\": 1}, \"mode\": \"lines\", \"showlegend\": false, \"type\": \"scatter\", \"x\": [\"2020-11-01T00:00:00\", \"2020-11-01T00:00:00\"], \"y\": [2.6, 3.4]}, {\"line\": {\"color\": \"black\", \"width\": 1}, \"mode\": \"lines\", \"showlegend\": false, \"type\": \"scatter\", \"x\": [\"2020-11-01T00:00:00\", \"2020-11-01T00:00:00\"], \"y\": [3.6, 4.4]}, {\"line\": {\"color\": \"black\", \"width\": 1}, \"mode\": \"lines\", \"showlegend\": false, \"type\": \"scatter\", \"x\": [\"2020-11-01T00:00:00\", \"2020-11-01T00:00:00\"], \"y\": [4.6, 5.4]}, {\"line\": {\"color\": \"black\", \"width\": 1}, \"mode\": \"lines\", \"showlegend\": false, \"type\": \"scatter\", \"x\": [\"2020-11-05T00:00:00\", \"2020-11-05T00:00:00\"], \"y\": [5.6, 6.4]}, {\"line\": {\"color\": \"black\", \"width\": 1}, \"mode\": \"lines\", \"showlegend\": false, \"type\": \"scatter\", \"x\": [\"2020-11-05T00:00:00\", \"2020-11-05T00:00:00\"], \"y\": [6.6, 7.4]}, {\"line\": {\"color\": \"black\", \"width\": 1}, \"mode\": \"lines\", \"showlegend\": false, \"type\": \"scatter\", \"x\": [\"2020-11-07T00:00:00\", \"2020-11-07T00:00:00\"], \"y\": [7.6, 8.4]}, {\"line\": {\"color\": \"black\", \"width\": 1}, \"mode\": \"lines\", \"showlegend\": false, \"type\": \"scatter\", \"x\": [\"2020-11-07T00:00:00\", \"2020-11-07T00:00:00\"], \"y\": [8.6, 9.4]}, {\"line\": {\"color\": \"black\", \"width\": 1}, \"mode\": \"lines\", \"showlegend\": false, \"type\": \"scatter\", \"x\": [\"2020-11-02T00:00:00\", \"2020-11-02T00:00:00\"], \"y\": [9.6, 10.4]}],                        {\"barmode\": \"overlay\", \"legend\": {\"title\": {\"text\": \"Chassis\"}, \"tracegroupgap\": 0}, \"margin\": {\"t\": 60}, \"template\": {\"data\": {\"bar\": [{\"error_x\": {\"color\": \"#2a3f5f\"}, \"error_y\": {\"color\": \"#2a3f5f\"}, \"marker\": {\"line\": {\"color\": \"#E5ECF6\", \"width\": 0.5}}, \"type\": \"bar\"}], \"barpolar\": [{\"marker\": {\"line\": {\"color\": \"#E5ECF6\", \"width\": 0.5}}, \"type\": \"barpolar\"}], \"carpet\": [{\"aaxis\": {\"endlinecolor\": \"#2a3f5f\", \"gridcolor\": \"white\", \"linecolor\": \"white\", \"minorgridcolor\": \"white\", \"startlinecolor\": \"#2a3f5f\"}, \"baxis\": {\"endlinecolor\": \"#2a3f5f\", \"gridcolor\": \"white\", \"linecolor\": \"white\", \"minorgridcolor\": \"white\", \"startlinecolor\": \"#2a3f5f\"}, \"type\": \"carpet\"}], \"choropleth\": [{\"colorbar\": {\"outlinewidth\": 0, \"ticks\": \"\"}, \"type\": \"choropleth\"}], \"contour\": [{\"colorbar\": {\"outlinewidth\": 0, \"ticks\": \"\"}, \"colorscale\": [[0.0, \"#0d0887\"], [0.1111111111111111, \"#46039f\"], [0.2222222222222222, \"#7201a8\"], [0.3333333333333333, \"#9c179e\"], [0.4444444444444444, \"#bd3786\"], [0.5555555555555556, \"#d8576b\"], [0.6666666666666666, \"#ed7953\"], [0.7777777777777778, \"#fb9f3a\"], [0.8888888888888888, \"#fdca26\"], [1.0, \"#f0f921\"]], \"type\": \"contour\"}], \"contourcarpet\": [{\"colorbar\": {\"outlinewidth\": 0, \"ticks\": \"\"}, \"type\": \"contourcarpet\"}], \"heatmap\": [{\"colorbar\": {\"outlinewidth\": 0, \"ticks\": \"\"}, \"colorscale\": [[0.0, \"#0d0887\"], [0.1111111111111111, \"#46039f\"], [0.2222222222222222, \"#7201a8\"], [0.3333333333333333, \"#9c179e\"], [0.4444444444444444, \"#bd3786\"], [0.5555555555555556, \"#d8576b\"], [0.6666666666666666, \"#ed7953\"], [0.7777777777777778, \"#fb9f3a\"], [0.8888888888888888, \"#fdca26\"], [1.0, \"#f0f921\"]], \"type\": \"heatmap\"}], \"heatmapgl\": [{\"colorbar\": {\"outlinewidth\": 0, \"ticks\": \"\"}, \"colorscale\": [[0.0, \"#0d0887\"], [0.1111111111111111, \"#46039f\"], [0.2222222222222222, \"#7201a8\"], [0.3333333333333333, \"#9c179e\"], [0.4444444444444444, \"#bd3786\"], [0.5555555555555556, \"#d8576b\"], [0.6666666666666666, \"#ed7953\"], [0.7777777777777778, \"#fb9f3a\"], [0.8888888888888888, \"#fdca26\"], [1.0, \"#f0f921\"]], \"type\": \"heatmapgl\"}], \"histogram\": [{\"marker\": {\"colorbar\": {\"outlinewidth\": 0, \"ticks\": \"\"}}, \"type\": \"histogram\"}], \"histogram2d\": [{\"colorbar\": {\"outlinewidth\": 0, \"ticks\": \"\"}, \"colorscale\": [[0.0, \"#0d0887\"], [0.1111111111111111, \"#46039f\"], [0.2222222222222222, \"#7201a8\"], [0.3333333333333333, \"#9c179e\"], [0.4444444444444444, \"#bd3786\"], [0.5555555555555556, \"#d8576b\"], [0.6666666666666666, \"#ed7953\"], [0.7777777777777778, \"#fb9f3a\"], [0.8888888888888888, \"#fdca26\"], [1.0, \"#f0f921\"]], \"type\": \"histogram2d\"}], \"histogram2dcontour\": [{\"colorbar\": {\"outlinewidth\": 0, \"ticks\": \"\"}, \"colorscale\": [[0.0, \"#0d0887\"], [0.1111111111111111, \"#46039f\"], [0.2222222222222222, \"#7201a8\"], [0.3333333333333333, \"#9c179e\"], [0.4444444444444444, \"#bd3786\"], [0.5555555555555556, \"#d8576b\"], [0.6666666666666666, \"#ed7953\"], [0.7777777777777778, \"#fb9f3a\"], [0.8888888888888888, \"#fdca26\"], [1.0, \"#f0f921\"]], \"type\": \"histogram2dcontour\"}], \"mesh3d\": [{\"colorbar\": {\"outlinewidth\": 0, \"ticks\": \"\"}, \"type\": \"mesh3d\"}], \"parcoords\": [{\"line\": {\"colorbar\": {\"outlinewidth\": 0, \"ticks\": \"\"}}, \"type\": \"parcoords\"}], \"pie\": [{\"automargin\": true, \"type\": \"pie\"}], \"scatter\": [{\"marker\": {\"colorbar\": {\"outlinewidth\": 0, \"ticks\": \"\"}}, \"type\": \"scatter\"}], \"scatter3d\": [{\"line\": {\"colorbar\": {\"outlinewidth\": 0, \"ticks\": \"\"}}, \"marker\": {\"colorbar\": {\"outlinewidth\": 0, \"ticks\": \"\"}}, \"type\": \"scatter3d\"}], \"scattercarpet\": [{\"marker\": {\"colorbar\": {\"outlinewidth\": 0, \"ticks\": \"\"}}, \"type\": \"scattercarpet\"}], \"scattergeo\": [{\"marker\": {\"colorbar\": {\"outlinewidth\": 0, \"ticks\": \"\"}}, \"type\": \"scattergeo\"}], \"scattergl\": [{\"marker\": {\"colorbar\": {\"outlinewidth\": 0, \"ticks\": \"\"}}, \"type\": \"scattergl\"}], \"scattermapbox\": [{\"marker\": {\"colorbar\": {\"outlinewidth\": 0, \"ticks\": \"\"}}, \"type\": \"scattermapbox\"}], \"scatterpolar\": [{\"marker\": {\"colorbar\": {\"outlinewidth\": 0, \"ticks\": \"\"}}, \"type\": \"scatterpolar\"}], \"scatterpolargl\": [{\"marker\": {\"colorbar\": {\"outlinewidth\": 0, \"ticks\": \"\"}}, \"type\": \"scatterpolargl\"}], \"scatterternary\": [{\"marker\": {\"colorbar\": {\"outlinewidth\": 0, \"ticks\": \"\"}}, \"type\": \"scatterternary\"}], \"surface\": [{\"colorbar\": {\"outlinewidth\": 0, \"ticks\": \"\"}, \"colorscale\": [[0.0, \"#0d0887\"], [0.1111111111111111, \"#46039f\"], [0.2222222222222222, \"#7201a8\"], [0.3333333333333333, \"#9c179e\"], [0.4444444444444444, \"#bd3786\"], [0.5555555555555556, \"#d8576b\"], [0.6666666666666666, \"#ed7953\"], [0.7777777777777778, \"#fb9f3a\"], [0.8888888888888888, \"#fdca26\"], [1.0, \"#f0f921\"]], \"type\": \"surface\"}], \"table\": [{\"cells\": {\"fill\": {\"color\": \"#EBF0F8\"}, \"line\": {\"color\": \"white\"}}, \"header\": {\"fill\": {\"color\": \"#C8D4E3\"}, \"line\": {\"color\": \"white\"}}, \"type\": \"table\"}]}, \"layout\": {\"annotationdefaults\": {\"arrowcolor\": \"#2a3f5f\", \"arrowhead\": 0, \"arrowwidth\": 1}, \"coloraxis\": {\"colorbar\": {\"outlinewidth\": 0, \"ticks\": \"\"}}, \"colorscale\": {\"diverging\": [[0, \"#8e0152\"], [0.1, \"#c51b7d\"], [0.2, \"#de77ae\"], [0.3, \"#f1b6da\"], [0.4, \"#fde0ef\"], [0.5, \"#f7f7f7\"], [0.6, \"#e6f5d0\"], [0.7, \"#b8e186\"], [0.8, \"#7fbc41\"], [0.9, \"#4d9221\"], [1, \"#276419\"]], \"sequential\": [[0.0, \"#0d0887\"], [0.1111111111111111, \"#46039f\"], [0.2222222222222222, \"#7201a8\"], [0.3333333333333333, \"#9c179e\"], [0.4444444444444444, \"#bd3786\"], [0.5555555555555556, \"#d8576b\"], [0.6666666666666666, \"#ed7953\"], [0.7777777777777778, \"#fb9f3a\"], [0.8888888888888888, \"#fdca26\"], [1.0, \"#f0f921\"]], \"sequentialminus\": [[0.0, \"#0d0887\"], [0.1111111111111111, \"#46039f\"], [0.2222222222222222, \"#7201a8\"], [0.3333333333333333, \"#9c179e\"], [0.4444444444444444, \"#bd3786\"], [0.5555555555555556, \"#d8576b\"], [0.6666666666666666, \"#ed7953\"], [0.7777777777777778, \"#fb9f3a\"], [0.8888888888888888, \"#fdca26\"], [1.0, \"#f0f921\"]]}, \"colorway\": [\"#636efa\", \"#EF553B\", \"#00cc96\", \"#ab63fa\", \"#FFA15A\", \"#19d3f3\", \"#FF6692\", \"#B6E880\", \"#FF97FF\", \"#FECB52\"], \"font\": {\"color\": \"#2a3f5f\"}, \"geo\": {\"bgcolor\": \"white\", \"lakecolor\": \"white\", \"landcolor\": \"#E5ECF6\", \"showlakes\": true, \"showland\": true, \"subunitcolor\": \"white\"}, \"hoverlabel\": {\"align\": \"left\"}, \"hovermode\": \"closest\", \"mapbox\": {\"style\": \"light\"}, \"paper_bgcolor\": \"white\", \"plot_bgcolor\": \"#E5ECF6\", \"polar\": {\"angularaxis\": {\"gridcolor\": \"white\", \"linecolor\": \"white\", \"ticks\": \"\"}, \"bgcolor\": \"#E5ECF6\", \"radialaxis\": {\"gridcolor\": \"white\", \"linecolor\": \"white\", \"ticks\": \"\"}}, \"scene\": {\"xaxis\": {\"backgroundcolor\": \"#E5ECF6\", \"gridcolor\": \"white\", \"gridwidth\": 2, \"linecolor\": \"white\", \"showbackground\": true, \"ticks\": \"\", \"zerolinecolor\": \"white\"}, \"yaxis\": {\"backgroundcolor\": \"#E5ECF6\", \"gridcolor\": \"white\", \"gridwidth\": 2, \"linecolor\": \"white\", \"showbackground\": true, \"ticks\": \"\", \"zerolinecolor\": \"white\"}, \"zaxis\": {\"backgroundcolor\": \"#E5ECF6\", \"gridcolor\": \"white\", \"gridwidth\": 2, \"linecolor\": \"white\", \"showbackground\": true, \"ticks\": \"\", \"zerolinecolor\": \"white\"}}, \"shapedefaults\": {\"line\": {\"color\": \"#2a3f5f\"}}, \"ternary\": {\"aaxis\": {\"gridcolor\": \"white\", \"linecolor\": \"white\", \"ticks\": \"\"}, \"baxis\": {\"gridcolor\": \"white\", \"linecolor\": \"white\", \"ticks\": \"\"}, \"bgcolor\": \"#E5ECF6\", \"caxis\": {\"gridcolor\": \"white\", \"linecolor\": \"white\", \"ticks\": \"\"}}, \"title\": {\"x\": 0.05}, \"xaxis\": {\"automargin\": true, \"gridcolor\": \"white\", \"linecolor\": \"white\", \"ticks\": \"\", \"title\": {\"standoff\": 15}, \"zerolinecolor\": \"white\", \"zerolinewidth\": 2}, \"yaxis\": {\"automargin\": true, \"gridcolor\": \"white\", \"linecolor\": \"white\", \"ticks\": \"\", \"title\": {\"standoff\": 15}, \"zerolinecolor\": \"white\", \"zerolinewidth\": 2}}}, \"xaxis\": {\"anchor\": \"y\", \"domain\": [0.0, 1.0], \"type\": \"date\"}, \"yaxis\": {\"anchor\": \"x\", \"domain\": [0.0, 1.0], \"title\": {\"text\": \"Container\"}}},                        {\"responsive\": true}                    ).then(function(){\n",
       "                            \n",
       "var gd = document.getElementById('0aa1723f-a9c3-4238-80cd-f72fcc3b88f3');\n",
       "var x = new MutationObserver(function (mutations, observer) {{\n",
       "        var display = window.getComputedStyle(gd).display;\n",
       "        if (!display || display === 'none') {{\n",
       "            console.log([gd, 'removed!']);\n",
       "            Plotly.purge(gd);\n",
       "            observer.disconnect();\n",
       "        }}\n",
       "}});\n",
       "\n",
       "// Listen for the removal of the full notebook cells\n",
       "var notebookContainer = gd.closest('#notebook-container');\n",
       "if (notebookContainer) {{\n",
       "    x.observe(notebookContainer, {childList: true});\n",
       "}}\n",
       "\n",
       "// Listen for the clearing of the current output cell\n",
       "var outputEl = gd.closest('.output');\n",
       "if (outputEl) {{\n",
       "    x.observe(outputEl, {childList: true});\n",
       "}}\n",
       "\n",
       "                        })                };                });            </script>        </div>"
      ]
     },
     "metadata": {},
     "output_type": "display_data"
    }
   ],
   "source": [
    "# Visualize optimized schedule\n",
    "from datetime import datetime, timedelta\n",
    "import plotly.graph_objects as go\n",
    "\n",
    "raw_df = []\n",
    "start_date = datetime(2020, 11, 1, 0, 0)\n",
    "\n",
    "for k in K:\n",
    "    for l in L:\n",
    "        for c in C:\n",
    "            if (x[k,l,c].X != 0):\n",
    "                raw_df.append(dict(Chassis=str(c), \n",
    "                                   Start=start_date + timedelta(days=int(s[k,l,c].X), \n",
    "                                                                hours=(s[k,l,c].X % 1 * 24)),\n",
    "                                   Finish=start_date + timedelta(days=int(s[k,l,c].X + Phi[k][l]), \n",
    "                                                                 hours=((s[k,l,c].X + Phi[k][l]) % 1 * 24)),\n",
    "                                   Leg=str(l), \n",
    "                                   Container=str(k))\n",
    "                             )\n",
    "                \n",
    "df = pd.DataFrame(raw_df)\n",
    "fig_chassis = px.timeline(df, x_start=\"Start\", x_end=\"Finish\", y=\"Chassis\", color=\"Leg\")\n",
    "fig_chassis.show()\n",
    "\n",
    "\n",
    "fig_container = px.timeline(df, x_start=\"Start\", x_end=\"Finish\", y=\"Container\", color=\"Chassis\")\n",
    "\n",
    "for k in K:\n",
    "    fig_container.add_trace(\n",
    "        go.Scatter(\n",
    "            x = [start_date + timedelta(days=int(R[k]), hours=(R[k] % 1 * 24)),\n",
    "                 start_date + timedelta(days=int(R[k]), hours=(R[k] % 1 * 24))],\n",
    "            y = [k-0.4, k+0.4],\n",
    "            mode = \"lines\",\n",
    "            line = go.scatter.Line(color = \"black\", width = 1),\n",
    "            showlegend = False\n",
    "        )\n",
    "    )\n",
    "fig_container.show()\n",
    "\n",
    "fig_chassis.write_html(f\"{instance_csv_path}_schedule_.html\")\n",
    "fig_container.write_html(\"\")\n",
    "                \n"
   ]
  },
  {
   "cell_type": "markdown",
   "metadata": {},
   "source": [
    "# "
   ]
  }
 ],
 "metadata": {
  "kernelspec": {
   "display_name": "Python 3",
   "language": "python",
   "name": "python3"
  },
  "language_info": {
   "codemirror_mode": {
    "name": "ipython",
    "version": 3
   },
   "file_extension": ".py",
   "mimetype": "text/x-python",
   "name": "python",
   "nbconvert_exporter": "python",
   "pygments_lexer": "ipython3",
   "version": "3.7.1"
  }
 },
 "nbformat": 4,
 "nbformat_minor": 4
}
