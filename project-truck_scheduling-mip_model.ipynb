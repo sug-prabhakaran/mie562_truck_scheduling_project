{
 "cells": [
  {
   "cell_type": "markdown",
   "metadata": {},
   "source": [
    "# MIE562 Project - Truck Scheduling - MIP Model\n",
    "\n",
    "**Team 5 - Dylan Camus, Ryan Do, Fan Jia, Matheus Magalhaes, Sugumar Prabhakaran**\n",
    "\n",
    "**Date: 8 Nov 2020**"
   ]
  },
  {
   "cell_type": "code",
   "execution_count": 1,
   "metadata": {},
   "outputs": [],
   "source": [
    "import numpy as np\n",
    "import gurobipy as gp\n",
    "from gurobipy import Model, GRB, quicksum, max_\n",
    "from random import randint, seed\n",
    "\n",
    "seed(0)"
   ]
  },
  {
   "cell_type": "markdown",
   "metadata": {},
   "source": [
    "## Introduction\n",
    "\n",
    "### 1. Sets\n",
    "       \n",
    "   * $j \\in J$: A carrier, $j$, in a set of carriers, $J$: \n",
    "       * Ex. $J = \\left \\{1,2,3,\\ldots,j  \\right \\}$\n",
    "       \n",
    "   * $|J|$ = n: number of carriers\n",
    "       \n",
    "   * $k_{j}$: number of containers for each carrier $j$:    \n",
    "   \n",
    "   * $k \\in K$: A container, $k$ in a set of containers, $K$: \n",
    "       * Ex. $K = \\left \\{1,2,3... \\right \\}$   \n",
    "\n",
    "   * $c \\in C$: A chassis, $c$, in a set of chassis, $C$: \n",
    "       * Ex. $C = \\left \\{1,2,3,\\ldots,c  \\right \\}$\n",
    " \n",
    "   * $L = \\left \\{1,2,3\\right\\}$: is the set of travel legs, where:\n",
    "       * $1$ : terminal to transloading facility leg\n",
    "       * $2$ : terminal to stack leg\n",
    "       * $3$ : stack to transloading facility leg"
   ]
  },
  {
   "cell_type": "code",
   "execution_count": 2,
   "metadata": {},
   "outputs": [
    {
     "name": "stdout",
     "output_type": "stream",
     "text": [
      "\n",
      "Carriers J: [0, 1]\n",
      "Containers K: [0, 1, 2, 3]\n",
      "Chassis C: [0, 1]\n",
      "Legs L: [1, 2, 3]\n",
      "Set of Binary Variables Y: [[1, 1, 1, 1], [0, 0, 0, 0]]\n"
     ]
    }
   ],
   "source": [
    "# instance intialization\n",
    "\n",
    "# input: number of arriers, number of chassis, list of containers with release dates, carrier and priority.\n",
    "nJ = 2\n",
    "nC = 2\n",
    "containers = [(3,0,0), (3,0,0), (3,0,0), (12,0,0)] # (release date, carrier, priority)\n",
    "# containers = [(3, 0, 1)] # (release date, carrier, priority)\n",
    "\n",
    "# construct sets\n",
    "J = list(range(nJ))\n",
    "C = list(range(nC))\n",
    "K = list(range(len(containers)))\n",
    "Y = [[0 for _ in K] for _ in J]\n",
    "L = [1, 2, 3]\n",
    "\n",
    "for k in K:\n",
    "    Y[containers[k][1]][k] = 1\n",
    "\n",
    "print(\"\\nCarriers J:\", J)\n",
    "print(\"Containers K:\", K)\n",
    "print(\"Chassis C:\", C)\n",
    "print(\"Legs L:\", L)\n",
    "print(\"Set of Binary Variables Y:\", Y)"
   ]
  },
  {
   "cell_type": "code",
   "execution_count": 3,
   "metadata": {},
   "outputs": [],
   "source": [
    "# create a list of tuples containing every iteration of k,l,c\n",
    "A = [(k,l,c) for k in K for l in L for c in C]"
   ]
  },
  {
   "cell_type": "markdown",
   "metadata": {},
   "source": [
    "### 2. Parameters\n",
    "\n",
    "   * $\\Phi_{l}$  : Time duration of trip on leg l [hours] \n",
    "   * $D_{ll'}$: Delay required for a chassis to start leg l' after completing l (including travel) [days]\n",
    "   * $M$     : Some large number\n",
    "   * $R_k$   : Release date for container $k$ [days]\n",
    "   \n",
    "   * $T_j^{''}$: free period before demurrage cost for carrier j at terminal [days]\n",
    "   \n",
    "   * $T_j$: demurrage cost/unit time for carrier j at terminal [($/days)/container]\n",
    "   \n",
    "   * $S$     : fixed cost at stack [$/container]\n",
    "   \n",
    "   * ${S}'$  : variable cost at stack [($/day)/container]\n",
    "   \n",
    "   * $\\delta_j^{''}$: free period before detention cost for containers of carrier j [days]\n",
    "   \n",
    "   * $\\delta_j$: detention cost/unit time for containers of carrier j [($/days)/container]\n",
    "   \n",
    "   * $\\rho_k$ : priority factor of container k (higher value is higher priority)\n",
    "   * $p_{k}$  : processing time at transload facility for container k [days]\n",
    "   \n",
    "   * $Y_{jk}$ : binary variable = 1 if container $k$ belongs to carrier $j$\n",
    "   "
   ]
  },
  {
   "cell_type": "code",
   "execution_count": 4,
   "metadata": {},
   "outputs": [],
   "source": [
    "#Set Parameters\n",
    "\n",
    "Phi = {1: 6, 2: 2, 3: 5} # time duration of leg l in hours #\n",
    "D = {1:{1: 0, 2: 0, 3: Phi[2]}, \n",
    "     2:{1: Phi[2], 2: Phi[2], 3: 0}, \n",
    "     3:{1: 0, 2: 0, 3: Phi[2]}} # have to hard code this- unless we had a formulation for some generic graph of legs which isn't necessary. \n",
    "\n",
    "M = 10000000                           # some large number\n",
    "R = {k: containers[k][0] for k in K}       # release time for container k [hours]\n",
    "\n",
    "# free period before demurrage cost for containers from carrier j at terminal [hours]\n",
    "T_prime = {j: 1 for j in J}\n",
    "# demurrage cost per container of carrier j after free period [($/hour)/container]\n",
    "T = {j: 100 for j in J}\n",
    "\n",
    "S = 200                            # $200 fixed cost at stack\n",
    "S_prime = 20                       # $20/day/container variable cost at stack\n",
    "\n",
    "# free period before detention cost for containers from carrier j [hours]\n",
    "Delta_prime = {j: 1 for j in J} \n",
    "# detention cost per container of carrier j [($/hour)/container]\n",
    "Delta = {j: 100 for j in J}\n",
    "\n",
    "#Y is calculated above as part of set generation\n",
    "rho = {k: containers[k][2] for k in K} # priority factor for k\n",
    "p = {k: 5 for k in K}       # processing time at transload facility for k"
   ]
  },
  {
   "cell_type": "code",
   "execution_count": 5,
   "metadata": {},
   "outputs": [
    {
     "name": "stdout",
     "output_type": "stream",
     "text": [
      "Using license file C:\\Users\\doryan\\gurobi.lic\n",
      "Academic license - for non-commercial use only\n"
     ]
    }
   ],
   "source": [
    "#Create a new model\n",
    "model = gp.Model(\"Truck_Scheduling\")"
   ]
  },
  {
   "cell_type": "markdown",
   "metadata": {},
   "source": [
    "### 3. Decision Variables\n",
    "\n",
    "   * Binary Variable: $x_{klc}$\n",
    "   $\\begin{equation}\n",
    "  =\\left\\{\n",
    "  \\begin{array}{@{}ll@{}}\n",
    "    1, & \\text{if}\\ \\text{container k travels leg l on chassis c} \\\\\n",
    "    0, & \\text{otherwise}\n",
    "  \\end{array}\\right.\n",
    "\\end{equation} $\n",
    "   * Start time $s$ of container $k$ on leg $l$ on chassis $c$: $s_{klc}$, where  $s_{klc} \\geq 0$\n",
    "   * $z_{klk^{'}l^{'}c} = 1$ if the transport job of container $k^{'}$ on chassis c along leg $l^{'}$ is scheduled after the transport job of container $k$ on chassis $c$ along leg $l$.\n"
   ]
  },
  {
   "cell_type": "code",
   "execution_count": 6,
   "metadata": {},
   "outputs": [],
   "source": [
    "#Create decision variables\n",
    "x = model.addVars(A, vtype=GRB.BINARY, name=\"x_klc\")\n",
    "s = model.addVars(A, vtype=GRB.INTEGER, name=\"s_klc\")\n",
    "z = model.addVars(K, L, K, L, C, vtype=GRB.BINARY, name=\"z_klk'l'c\")"
   ]
  },
  {
   "cell_type": "markdown",
   "metadata": {},
   "source": [
    "### 4. Objective Function\n",
    "\n",
    "We want to minimize the Total Cost ($c$) = (Demurrage cost}) + (Detention cost) + (Stack cost) + (Priority penalty cost)\n",
    "   \n",
    "   * **objective function:** $min$ $(c)$\n",
    "   \n",
    "   * $c = c_{dem} + c_{det} + c_{stk} + c_{pri}$\n",
    "\n",
    "**(1) Demurrage Cost:**\n",
    "\n",
    "The Demurrage Cost ($c_{dem}$) refers to cost associated with keeping containers in the terminal beyond the free period allotedin days ($T_{j}^{''}$) that is different for each carrier.\n",
    "\n",
    "If the start time for a container ($s_{klc}$) is higher than the release date ($R_{k}$) + the free period ($T_{j}^{''}$), there will be a variable cost per extra day ($T_{j}$) per container.\n",
    "   \n",
    "   * $c_{dem} = \\sum_{k \\in K}\\sum_{c \\in C}\\sum_{l \\in \\{1,2\\}}\\sum_{j \\in J}(T_j)\\cdot max\\left [(s_{klc} - R_k - T_{j}^{''})\\cdot (x_{klc}\\cdot (Y_{jk}), 0  \\right ]$\n",
    "   \n",
    "**(2) Detention Cost**\n",
    "\n",
    "The terminal also charges a detention cost ($c_{det}$) for containers that are not returned to the terminal for processing before return to the carrier.  Similar to demurrage, there is a free period before which the containers must be returned to the terminal ($\\delta_{j}^{''}$).\n",
    "\n",
    "If the start time for a container ($s_{klc}$) and the total travel time of a container back to the terminal including processing time ($\\phi_{kl}$) is greater than the release date ($R_{k}$) + the free period ($\\delta_{j}^{''}$), there will be a variable cost per extra day ($T_{j}$) per container.\n",
    "\n",
    "   * $c_{det} = \\sum_{k \\in K}\\sum_{c \\in C}\\sum_{l \\in \\{1,3\\}}\\sum_{j \\in J}(\\delta_j)\\cdot max\\left [(s_{klc}+ \\phi_{l}+p_{k} - (R_k+\\delta_{j}^{''}))\\cdot (x_{klc}\\cdot (Y_{jk}), 0  \\right ]$\n",
    "\n",
    "**(3) Stack Storage Cost**\n",
    "\n",
    "The stack cost ($c_{stk}$) is the sum of the fixed cost percontainer ($S$) and the variable cost per day per container ($S^{'}$) x the number of days that a container is in the stack, which is the difference between leg 3 and leg 2 start times ($s_{klc}$).\n",
    "\n",
    "   * $c_{stk} = \\sum_{k \\in K}\\sum_{c \\in C}x_{k2c}\\cdot (S + S'(s_{k3c} - (s_{k2c} + \\phi_{2})))$\n",
    "\n",
    "**(4) Priority Penalty Cost**\n",
    "\n",
    "The priority penalty cost ($c_{pri}$) is applied for every day that a container sits in the terminal beyond the release day ($R_{k}$) and every day spent at the stack ($s_{k3c}-s_{k2c}$).  Since the priority factor per container ($\\rho_{k}$) is higher for higher priority containers, the associated penalty costs will be higher.\n",
    "\n",
    "   * $c_{det} = \\sum_{k \\in K}\\sum_{c \\in C}\\sum_{l \\in \\{1,2\\}}\\rho_k\\cdot((s_{klc} - R_k)+(s_{k3c} - (s_{k2c} + \\phi_{2})))\\cdot x_{klc}$"
   ]
  },
  {
   "cell_type": "code",
   "execution_count": 7,
   "metadata": {},
   "outputs": [],
   "source": [
    "# following variables are for the new demurrage and detention cost\n",
    "c_dem2 = model.addVars(K, L, C, J, vtype=GRB.INTEGER, name=\"demurrage cost2\")\n",
    "c_det2 = model.addVars(K, L, C, J, vtype=GRB.INTEGER, name=\"detention cost2\")\n",
    "\n",
    "# demurrage cost days max\n",
    "model.addConstrs(c_dem2[k,l,c,j] >= (s[k,l,c] - R[k] - T_prime[j]) for k in K for c in C for l in [1, 2] for j in J)\n",
    "model.addConstrs(c_dem2[k,l,c,j] >= 0 for k in K for c in C for l in [1, 2] for j in J)\n",
    "\n",
    "# detention cost days max\n",
    "model.addConstrs(c_det2[k,l,c,j] >= (s[k,l,c] + Phi[l] +p[k]- (R[k] + Delta_prime[j])) for k in K for c in C for l in [1, 3] for j in J)\n",
    "model.addConstrs(c_det2[k,l,c,j] >= 0 for k in K for c in C for l in [1, 3] for j in J)\n",
    "\n",
    "#Define objective function\n",
    "demurrage_cost = quicksum(x[k,l,c]*T[j]*Y[j][k]*c_dem2[k,l,c,j] \n",
    "                          for k in K for c in C for l in [1, 2] for j in J) \n",
    "detention_cost = quicksum(x[k,l,c]*Delta[j]*Y[j][k]*c_det2[k,l,c,j] \n",
    "                          for k in K for c in C for l in [1, 3] for j in J)\n",
    "stack_cost = quicksum(x[k,2,c]*(S + S_prime*(s[k,3,c] - (s[k,2,c] + Phi[2]))) for k in K for c in C)\n",
    "\n",
    "priority_cost = quicksum(x[k,l,c]*rho[k]*((s[k,l,c] - R[k])+(s[k,3,c] - (s[k,2,c] + Phi[2])))\n",
    "                for k in K for c in C for l in [1, 2])\n",
    "\n",
    "model.setObjective(demurrage_cost + detention_cost + stack_cost + priority_cost, GRB.MINIMIZE)\n",
    "# model.setObjective(0, GRB.MINIMIZE) demurrage_cost + detention_cost + stack_cost + priority_cost"
   ]
  },
  {
   "cell_type": "markdown",
   "metadata": {},
   "source": [
    "### 5. Constraints"
   ]
  },
  {
   "cell_type": "markdown",
   "metadata": {},
   "source": [
    "**(1) Resource constraints**\n",
    "\n",
    "For each chassis, transport jobs can't overlap and chassis (resources) may have to travel between jobs. \n",
    "\n",
    "For the case where job $klc$ scheduled after job $k'l'c$, i.e. $s_{klc} > s_{k'l'c}$:\n",
    "\n",
    "   * $max(M(1-x_{klc}), M(1-x_{k'l'c}), s_{klc} - s_{k'l'c}) \\geq \\phi_{l'} + p_{k'} + D_{l'l} - M\\cdot z_{klk'l'c}$, &nbsp;&nbsp;&nbsp;&nbsp;&nbsp;&nbsp;$\\forall k,k' \\in K, l,l'\\in L, c \\in C$ &nbsp;$s.t.$&nbsp; $(k=k' \\neg\\wedge l=l') \\wedge k\\leq k'$\n",
    "   \n",
    "For the case where job $k'l'c$ scheduled after job $klc$, i.e. $s_{klc} > s_{k'l'c}$:\n",
    "\n",
    "   * $max(M(1-x_{klc}), M(1-x_{k'l'c}), s_{k'l'c} - s_{klc}) \\geq \\phi_{l} + p_{k} + D_{ll'} - M\\cdot(1-z_{klk'l'c})$, &nbsp;&nbsp;&nbsp;&nbsp;&nbsp;&nbsp;$\\forall k,k' \\in K, l,l'\\in L, c \\in C$ &nbsp;$s.t.$&nbsp; $(k=k' \\neg\\wedge l=l') \\wedge k\\leq k'$"
   ]
  },
  {
   "cell_type": "code",
   "execution_count": 8,
   "metadata": {},
   "outputs": [
    {
     "data": {
      "text/plain": [
       "{(0, 1, 0, 2, 0): <gurobi.Constr *Awaiting Model Update*>,\n",
       " (0, 1, 0, 2, 1): <gurobi.Constr *Awaiting Model Update*>,\n",
       " (0, 1, 0, 3, 0): <gurobi.Constr *Awaiting Model Update*>,\n",
       " (0, 1, 0, 3, 1): <gurobi.Constr *Awaiting Model Update*>,\n",
       " (0, 1, 1, 1, 0): <gurobi.Constr *Awaiting Model Update*>,\n",
       " (0, 1, 1, 1, 1): <gurobi.Constr *Awaiting Model Update*>,\n",
       " (0, 1, 1, 2, 0): <gurobi.Constr *Awaiting Model Update*>,\n",
       " (0, 1, 1, 2, 1): <gurobi.Constr *Awaiting Model Update*>,\n",
       " (0, 1, 1, 3, 0): <gurobi.Constr *Awaiting Model Update*>,\n",
       " (0, 1, 1, 3, 1): <gurobi.Constr *Awaiting Model Update*>,\n",
       " (0, 1, 2, 1, 0): <gurobi.Constr *Awaiting Model Update*>,\n",
       " (0, 1, 2, 1, 1): <gurobi.Constr *Awaiting Model Update*>,\n",
       " (0, 1, 2, 2, 0): <gurobi.Constr *Awaiting Model Update*>,\n",
       " (0, 1, 2, 2, 1): <gurobi.Constr *Awaiting Model Update*>,\n",
       " (0, 1, 2, 3, 0): <gurobi.Constr *Awaiting Model Update*>,\n",
       " (0, 1, 2, 3, 1): <gurobi.Constr *Awaiting Model Update*>,\n",
       " (0, 1, 3, 1, 0): <gurobi.Constr *Awaiting Model Update*>,\n",
       " (0, 1, 3, 1, 1): <gurobi.Constr *Awaiting Model Update*>,\n",
       " (0, 1, 3, 2, 0): <gurobi.Constr *Awaiting Model Update*>,\n",
       " (0, 1, 3, 2, 1): <gurobi.Constr *Awaiting Model Update*>,\n",
       " (0, 1, 3, 3, 0): <gurobi.Constr *Awaiting Model Update*>,\n",
       " (0, 1, 3, 3, 1): <gurobi.Constr *Awaiting Model Update*>,\n",
       " (0, 2, 0, 1, 0): <gurobi.Constr *Awaiting Model Update*>,\n",
       " (0, 2, 0, 1, 1): <gurobi.Constr *Awaiting Model Update*>,\n",
       " (0, 2, 0, 3, 0): <gurobi.Constr *Awaiting Model Update*>,\n",
       " (0, 2, 0, 3, 1): <gurobi.Constr *Awaiting Model Update*>,\n",
       " (0, 2, 1, 1, 0): <gurobi.Constr *Awaiting Model Update*>,\n",
       " (0, 2, 1, 1, 1): <gurobi.Constr *Awaiting Model Update*>,\n",
       " (0, 2, 1, 2, 0): <gurobi.Constr *Awaiting Model Update*>,\n",
       " (0, 2, 1, 2, 1): <gurobi.Constr *Awaiting Model Update*>,\n",
       " (0, 2, 1, 3, 0): <gurobi.Constr *Awaiting Model Update*>,\n",
       " (0, 2, 1, 3, 1): <gurobi.Constr *Awaiting Model Update*>,\n",
       " (0, 2, 2, 1, 0): <gurobi.Constr *Awaiting Model Update*>,\n",
       " (0, 2, 2, 1, 1): <gurobi.Constr *Awaiting Model Update*>,\n",
       " (0, 2, 2, 2, 0): <gurobi.Constr *Awaiting Model Update*>,\n",
       " (0, 2, 2, 2, 1): <gurobi.Constr *Awaiting Model Update*>,\n",
       " (0, 2, 2, 3, 0): <gurobi.Constr *Awaiting Model Update*>,\n",
       " (0, 2, 2, 3, 1): <gurobi.Constr *Awaiting Model Update*>,\n",
       " (0, 2, 3, 1, 0): <gurobi.Constr *Awaiting Model Update*>,\n",
       " (0, 2, 3, 1, 1): <gurobi.Constr *Awaiting Model Update*>,\n",
       " (0, 2, 3, 2, 0): <gurobi.Constr *Awaiting Model Update*>,\n",
       " (0, 2, 3, 2, 1): <gurobi.Constr *Awaiting Model Update*>,\n",
       " (0, 2, 3, 3, 0): <gurobi.Constr *Awaiting Model Update*>,\n",
       " (0, 2, 3, 3, 1): <gurobi.Constr *Awaiting Model Update*>,\n",
       " (0, 3, 0, 1, 0): <gurobi.Constr *Awaiting Model Update*>,\n",
       " (0, 3, 0, 1, 1): <gurobi.Constr *Awaiting Model Update*>,\n",
       " (0, 3, 0, 2, 0): <gurobi.Constr *Awaiting Model Update*>,\n",
       " (0, 3, 0, 2, 1): <gurobi.Constr *Awaiting Model Update*>,\n",
       " (0, 3, 1, 1, 0): <gurobi.Constr *Awaiting Model Update*>,\n",
       " (0, 3, 1, 1, 1): <gurobi.Constr *Awaiting Model Update*>,\n",
       " (0, 3, 1, 2, 0): <gurobi.Constr *Awaiting Model Update*>,\n",
       " (0, 3, 1, 2, 1): <gurobi.Constr *Awaiting Model Update*>,\n",
       " (0, 3, 1, 3, 0): <gurobi.Constr *Awaiting Model Update*>,\n",
       " (0, 3, 1, 3, 1): <gurobi.Constr *Awaiting Model Update*>,\n",
       " (0, 3, 2, 1, 0): <gurobi.Constr *Awaiting Model Update*>,\n",
       " (0, 3, 2, 1, 1): <gurobi.Constr *Awaiting Model Update*>,\n",
       " (0, 3, 2, 2, 0): <gurobi.Constr *Awaiting Model Update*>,\n",
       " (0, 3, 2, 2, 1): <gurobi.Constr *Awaiting Model Update*>,\n",
       " (0, 3, 2, 3, 0): <gurobi.Constr *Awaiting Model Update*>,\n",
       " (0, 3, 2, 3, 1): <gurobi.Constr *Awaiting Model Update*>,\n",
       " (0, 3, 3, 1, 0): <gurobi.Constr *Awaiting Model Update*>,\n",
       " (0, 3, 3, 1, 1): <gurobi.Constr *Awaiting Model Update*>,\n",
       " (0, 3, 3, 2, 0): <gurobi.Constr *Awaiting Model Update*>,\n",
       " (0, 3, 3, 2, 1): <gurobi.Constr *Awaiting Model Update*>,\n",
       " (0, 3, 3, 3, 0): <gurobi.Constr *Awaiting Model Update*>,\n",
       " (0, 3, 3, 3, 1): <gurobi.Constr *Awaiting Model Update*>,\n",
       " (1, 1, 1, 2, 0): <gurobi.Constr *Awaiting Model Update*>,\n",
       " (1, 1, 1, 2, 1): <gurobi.Constr *Awaiting Model Update*>,\n",
       " (1, 1, 1, 3, 0): <gurobi.Constr *Awaiting Model Update*>,\n",
       " (1, 1, 1, 3, 1): <gurobi.Constr *Awaiting Model Update*>,\n",
       " (1, 1, 2, 1, 0): <gurobi.Constr *Awaiting Model Update*>,\n",
       " (1, 1, 2, 1, 1): <gurobi.Constr *Awaiting Model Update*>,\n",
       " (1, 1, 2, 2, 0): <gurobi.Constr *Awaiting Model Update*>,\n",
       " (1, 1, 2, 2, 1): <gurobi.Constr *Awaiting Model Update*>,\n",
       " (1, 1, 2, 3, 0): <gurobi.Constr *Awaiting Model Update*>,\n",
       " (1, 1, 2, 3, 1): <gurobi.Constr *Awaiting Model Update*>,\n",
       " (1, 1, 3, 1, 0): <gurobi.Constr *Awaiting Model Update*>,\n",
       " (1, 1, 3, 1, 1): <gurobi.Constr *Awaiting Model Update*>,\n",
       " (1, 1, 3, 2, 0): <gurobi.Constr *Awaiting Model Update*>,\n",
       " (1, 1, 3, 2, 1): <gurobi.Constr *Awaiting Model Update*>,\n",
       " (1, 1, 3, 3, 0): <gurobi.Constr *Awaiting Model Update*>,\n",
       " (1, 1, 3, 3, 1): <gurobi.Constr *Awaiting Model Update*>,\n",
       " (1, 2, 1, 1, 0): <gurobi.Constr *Awaiting Model Update*>,\n",
       " (1, 2, 1, 1, 1): <gurobi.Constr *Awaiting Model Update*>,\n",
       " (1, 2, 1, 3, 0): <gurobi.Constr *Awaiting Model Update*>,\n",
       " (1, 2, 1, 3, 1): <gurobi.Constr *Awaiting Model Update*>,\n",
       " (1, 2, 2, 1, 0): <gurobi.Constr *Awaiting Model Update*>,\n",
       " (1, 2, 2, 1, 1): <gurobi.Constr *Awaiting Model Update*>,\n",
       " (1, 2, 2, 2, 0): <gurobi.Constr *Awaiting Model Update*>,\n",
       " (1, 2, 2, 2, 1): <gurobi.Constr *Awaiting Model Update*>,\n",
       " (1, 2, 2, 3, 0): <gurobi.Constr *Awaiting Model Update*>,\n",
       " (1, 2, 2, 3, 1): <gurobi.Constr *Awaiting Model Update*>,\n",
       " (1, 2, 3, 1, 0): <gurobi.Constr *Awaiting Model Update*>,\n",
       " (1, 2, 3, 1, 1): <gurobi.Constr *Awaiting Model Update*>,\n",
       " (1, 2, 3, 2, 0): <gurobi.Constr *Awaiting Model Update*>,\n",
       " (1, 2, 3, 2, 1): <gurobi.Constr *Awaiting Model Update*>,\n",
       " (1, 2, 3, 3, 0): <gurobi.Constr *Awaiting Model Update*>,\n",
       " (1, 2, 3, 3, 1): <gurobi.Constr *Awaiting Model Update*>,\n",
       " (1, 3, 1, 1, 0): <gurobi.Constr *Awaiting Model Update*>,\n",
       " (1, 3, 1, 1, 1): <gurobi.Constr *Awaiting Model Update*>,\n",
       " (1, 3, 1, 2, 0): <gurobi.Constr *Awaiting Model Update*>,\n",
       " (1, 3, 1, 2, 1): <gurobi.Constr *Awaiting Model Update*>,\n",
       " (1, 3, 2, 1, 0): <gurobi.Constr *Awaiting Model Update*>,\n",
       " (1, 3, 2, 1, 1): <gurobi.Constr *Awaiting Model Update*>,\n",
       " (1, 3, 2, 2, 0): <gurobi.Constr *Awaiting Model Update*>,\n",
       " (1, 3, 2, 2, 1): <gurobi.Constr *Awaiting Model Update*>,\n",
       " (1, 3, 2, 3, 0): <gurobi.Constr *Awaiting Model Update*>,\n",
       " (1, 3, 2, 3, 1): <gurobi.Constr *Awaiting Model Update*>,\n",
       " (1, 3, 3, 1, 0): <gurobi.Constr *Awaiting Model Update*>,\n",
       " (1, 3, 3, 1, 1): <gurobi.Constr *Awaiting Model Update*>,\n",
       " (1, 3, 3, 2, 0): <gurobi.Constr *Awaiting Model Update*>,\n",
       " (1, 3, 3, 2, 1): <gurobi.Constr *Awaiting Model Update*>,\n",
       " (1, 3, 3, 3, 0): <gurobi.Constr *Awaiting Model Update*>,\n",
       " (1, 3, 3, 3, 1): <gurobi.Constr *Awaiting Model Update*>,\n",
       " (2, 1, 2, 2, 0): <gurobi.Constr *Awaiting Model Update*>,\n",
       " (2, 1, 2, 2, 1): <gurobi.Constr *Awaiting Model Update*>,\n",
       " (2, 1, 2, 3, 0): <gurobi.Constr *Awaiting Model Update*>,\n",
       " (2, 1, 2, 3, 1): <gurobi.Constr *Awaiting Model Update*>,\n",
       " (2, 1, 3, 1, 0): <gurobi.Constr *Awaiting Model Update*>,\n",
       " (2, 1, 3, 1, 1): <gurobi.Constr *Awaiting Model Update*>,\n",
       " (2, 1, 3, 2, 0): <gurobi.Constr *Awaiting Model Update*>,\n",
       " (2, 1, 3, 2, 1): <gurobi.Constr *Awaiting Model Update*>,\n",
       " (2, 1, 3, 3, 0): <gurobi.Constr *Awaiting Model Update*>,\n",
       " (2, 1, 3, 3, 1): <gurobi.Constr *Awaiting Model Update*>,\n",
       " (2, 2, 2, 1, 0): <gurobi.Constr *Awaiting Model Update*>,\n",
       " (2, 2, 2, 1, 1): <gurobi.Constr *Awaiting Model Update*>,\n",
       " (2, 2, 2, 3, 0): <gurobi.Constr *Awaiting Model Update*>,\n",
       " (2, 2, 2, 3, 1): <gurobi.Constr *Awaiting Model Update*>,\n",
       " (2, 2, 3, 1, 0): <gurobi.Constr *Awaiting Model Update*>,\n",
       " (2, 2, 3, 1, 1): <gurobi.Constr *Awaiting Model Update*>,\n",
       " (2, 2, 3, 2, 0): <gurobi.Constr *Awaiting Model Update*>,\n",
       " (2, 2, 3, 2, 1): <gurobi.Constr *Awaiting Model Update*>,\n",
       " (2, 2, 3, 3, 0): <gurobi.Constr *Awaiting Model Update*>,\n",
       " (2, 2, 3, 3, 1): <gurobi.Constr *Awaiting Model Update*>,\n",
       " (2, 3, 2, 1, 0): <gurobi.Constr *Awaiting Model Update*>,\n",
       " (2, 3, 2, 1, 1): <gurobi.Constr *Awaiting Model Update*>,\n",
       " (2, 3, 2, 2, 0): <gurobi.Constr *Awaiting Model Update*>,\n",
       " (2, 3, 2, 2, 1): <gurobi.Constr *Awaiting Model Update*>,\n",
       " (2, 3, 3, 1, 0): <gurobi.Constr *Awaiting Model Update*>,\n",
       " (2, 3, 3, 1, 1): <gurobi.Constr *Awaiting Model Update*>,\n",
       " (2, 3, 3, 2, 0): <gurobi.Constr *Awaiting Model Update*>,\n",
       " (2, 3, 3, 2, 1): <gurobi.Constr *Awaiting Model Update*>,\n",
       " (2, 3, 3, 3, 0): <gurobi.Constr *Awaiting Model Update*>,\n",
       " (2, 3, 3, 3, 1): <gurobi.Constr *Awaiting Model Update*>,\n",
       " (3, 1, 3, 2, 0): <gurobi.Constr *Awaiting Model Update*>,\n",
       " (3, 1, 3, 2, 1): <gurobi.Constr *Awaiting Model Update*>,\n",
       " (3, 1, 3, 3, 0): <gurobi.Constr *Awaiting Model Update*>,\n",
       " (3, 1, 3, 3, 1): <gurobi.Constr *Awaiting Model Update*>,\n",
       " (3, 2, 3, 1, 0): <gurobi.Constr *Awaiting Model Update*>,\n",
       " (3, 2, 3, 1, 1): <gurobi.Constr *Awaiting Model Update*>,\n",
       " (3, 2, 3, 3, 0): <gurobi.Constr *Awaiting Model Update*>,\n",
       " (3, 2, 3, 3, 1): <gurobi.Constr *Awaiting Model Update*>,\n",
       " (3, 3, 3, 1, 0): <gurobi.Constr *Awaiting Model Update*>,\n",
       " (3, 3, 3, 1, 1): <gurobi.Constr *Awaiting Model Update*>,\n",
       " (3, 3, 3, 2, 0): <gurobi.Constr *Awaiting Model Update*>,\n",
       " (3, 3, 3, 2, 1): <gurobi.Constr *Awaiting Model Update*>}"
      ]
     },
     "execution_count": 8,
     "metadata": {},
     "output_type": "execute_result"
    }
   ],
   "source": [
    "# # Variables needed to use the max method\n",
    "# max_resource_func1 = model.addVars(K, L, C, vtype=GRB.INTEGER, name=\"max resource func1\")\n",
    "# max_resource_func2 = model.addVars(K, L, C, vtype=GRB.INTEGER, name=\"max resource func2\")\n",
    "# max_resource_func3a = model.addVars(K, L, K, L, C, vtype=GRB.INTEGER, name=\"max resource func3a\")\n",
    "# max_resource_func3b = model.addVars(K, L, K, L, C, vtype=GRB.INTEGER, name=\"max resource func3b\")\n",
    "max_resource_a = model.addVars(K, L, K, L, C, vtype=GRB.INTEGER, name=\"max resource a\")\n",
    "max_resource_b = model.addVars(K, L, K, L, C, vtype=GRB.INTEGER, name=\"max resource b\")\n",
    "\n",
    "# # our max method consists of 3 parts max_(func1, func2, func3a or 3b)\n",
    "# # max method cannot handle linear equations as parameters, only variables\n",
    "# # set each function variable: func1, func2, func3a, func 3b\n",
    "# model.addConstrs(max_resource_func1[k,l,c] == M * (1 - x[k,l,c]) for k in K for l in L for c in C)\n",
    "# model.addConstrs(max_resource_func2[kp,lp,c] == M * (1 - x[kp,lp,c]) for kp in K for lp in L for c in C)\n",
    "# model.addConstrs(max_resource_func3a[k,l,kp,lp,c] == (s[k,l,c] - s[kp,lp,c]) \n",
    "#                 for k in K for l in L for kp in K for lp in L for c in C if (not(k == kp and l == lp) and (k < kp)))\n",
    "# model.addConstrs(max_resource_func3b[k,l,kp,lp,c] == (s[kp,lp,c] - s[k,l,c]) \n",
    "#                 for k in K for l in L for kp in K for lp in L for c in C if (not(k == kp and l == lp) and (k < kp)))\n",
    "\n",
    "# # max method can only handle \"==\"\" operation, hence, must create max variables\n",
    "# # First calculation:  max(func1, func2, func3a)\n",
    "# # Second calculation: max(func1, func2, func3b)\n",
    "# model.addConstrs(max_resource_a[k,l,kp,lp,c] == \n",
    "#                  max_(max_resource_func1[k,l,c], max_resource_func2[kp,lp,c], max_resource_func3a[k,l,kp,lp,c])\n",
    "#                  for k in K for l in L for kp in K for lp in L for c in C if (not(k == kp and l == lp) and (k < kp)))\n",
    "# model.addConstrs(max_resource_b[k,l,kp,lp,c] == \n",
    "#                  max_(max_resource_func1[k,l,c], max_resource_func2[kp,lp,c], max_resource_func3b[k,l,kp,lp,c])\n",
    "#                  for k in K for l in L for kp in K for lp in L for c in C if (not(k == kp and l == lp) and (k < kp)))\n",
    "\n",
    "model.addConstrs(max_resource_a[k,l,kp,lp,c] >= M * (1 - x[k,l,c]) \n",
    "                 for k in K for l in L for kp in K for lp in L for c in C if (not(k == kp and l == lp) and (k <= kp)))\n",
    "model.addConstrs(max_resource_a[k,l,kp,lp,c] >= M * (1 - x[kp,lp,c]) \n",
    "                 for k in K for l in L for kp in K for lp in L for c in C if (not(k == kp and l == lp) and (k <= kp)))\n",
    "model.addConstrs(max_resource_a[k,l,kp,lp,c] >= s[k,l,c] - s[kp,lp,c]\n",
    "                 for k in K for l in L for kp in K for lp in L for c in C if (not(k == kp and l == lp) and (k <= kp)))\n",
    "\n",
    "model.addConstrs(max_resource_b[k,l,kp,lp,c] >= M * (1 - x[k,l,c]) \n",
    "                 for k in K for l in L for kp in K for lp in L for c in C if (not(k == kp and l == lp) and (k <= kp)))\n",
    "model.addConstrs(max_resource_b[k,l,kp,lp,c] >= M * (1 - x[kp,lp,c]) \n",
    "                 for k in K for l in L for kp in K for lp in L for c in C if (not(k == kp and l == lp) and (k <= kp)))\n",
    "model.addConstrs(max_resource_b[k,l,kp,lp,c] >= s[kp,lp,c] - s[k,l,c]\n",
    "                 for k in K for l in L for kp in K for lp in L for c in C if (not(k == kp and l == lp) and (k <= kp)))\n",
    "\n",
    "\n",
    "# create constraint for each max variable\n",
    "# first calculation:  if k,l,c is before kp,lp,c\n",
    "# second calculation: if kp,lp,c is before k,l,c\n",
    "model.addConstrs(max_resource_a[k,l,kp,lp,c] >= Phi[lp] + p[kp] + D[lp][l] - M * z[k, l, kp, lp, c] \n",
    "                 for k in K for l in L for kp in K for lp in L for c in C if (not(k == kp and l == lp) and (k <= kp)))\n",
    "model.addConstrs(max_resource_b[k,l,kp,lp,c] >= Phi[l] + p[k] + D[l][lp] - M * (1-z[k, l, kp, lp, c])\n",
    "                 for k in K for l in L for kp in K for lp in L for c in C if (not(k == kp and l == lp) and (k <= kp)))\n",
    "\n",
    "\n",
    "# model.addConstrs(max_(M * (1 - x[k,l,c]), M * (1 - x[kp,lp,c]), (s[k,l,c] - s[kp,lp,c])) \n",
    "#                  >= Phi[lp] + p[kp] + D[lp][l] - M * z[k, l, kp, lp, c] \n",
    "#                  for k in K for l in L for kp in K for lp in L for c in C if (not(k == kp and l == lp) and (k < kp)));\n",
    "\n",
    "# model.addConstrs(max_(M * (1 - x[k,l,c]), M * (1 - x[kp,lp,c]), (s[kp,lp,c] - s[k,l,c])) \n",
    "#                  >= Phi[l] + p[k] + D[l][lp] - M * z[k, l, kp, lp, c] \n",
    "#                  for k in K for l in L for kp in K for lp in L for c in C if (not(k == kp and l == lp) and (k < kp)));\n",
    "\n",
    "# key error for some reason?"
   ]
  },
  {
   "cell_type": "markdown",
   "metadata": {},
   "source": [
    "**(2) Release date constraint**\n",
    "\n",
    "Start time ($s_{klc}$) must be after release date ($R_k$) for every container that leaves terminal on either leg 1 or leg 2 (ie. $x_{klc}=1$):\n",
    "\n",
    "   * $s_{klc} \\geq R_{k}x_{klc}$, &nbsp;&nbsp;&nbsp;&nbsp;&nbsp;&nbsp;$\\forall k \\in K$, $l\\in L$, $c \\in C$ "
   ]
  },
  {
   "cell_type": "code",
   "execution_count": 9,
   "metadata": {},
   "outputs": [
    {
     "data": {
      "text/plain": [
       "{(0, 1, 0): <gurobi.Constr *Awaiting Model Update*>,\n",
       " (0, 1, 1): <gurobi.Constr *Awaiting Model Update*>,\n",
       " (0, 2, 0): <gurobi.Constr *Awaiting Model Update*>,\n",
       " (0, 2, 1): <gurobi.Constr *Awaiting Model Update*>,\n",
       " (0, 3, 0): <gurobi.Constr *Awaiting Model Update*>,\n",
       " (0, 3, 1): <gurobi.Constr *Awaiting Model Update*>,\n",
       " (1, 1, 0): <gurobi.Constr *Awaiting Model Update*>,\n",
       " (1, 1, 1): <gurobi.Constr *Awaiting Model Update*>,\n",
       " (1, 2, 0): <gurobi.Constr *Awaiting Model Update*>,\n",
       " (1, 2, 1): <gurobi.Constr *Awaiting Model Update*>,\n",
       " (1, 3, 0): <gurobi.Constr *Awaiting Model Update*>,\n",
       " (1, 3, 1): <gurobi.Constr *Awaiting Model Update*>,\n",
       " (2, 1, 0): <gurobi.Constr *Awaiting Model Update*>,\n",
       " (2, 1, 1): <gurobi.Constr *Awaiting Model Update*>,\n",
       " (2, 2, 0): <gurobi.Constr *Awaiting Model Update*>,\n",
       " (2, 2, 1): <gurobi.Constr *Awaiting Model Update*>,\n",
       " (2, 3, 0): <gurobi.Constr *Awaiting Model Update*>,\n",
       " (2, 3, 1): <gurobi.Constr *Awaiting Model Update*>,\n",
       " (3, 1, 0): <gurobi.Constr *Awaiting Model Update*>,\n",
       " (3, 1, 1): <gurobi.Constr *Awaiting Model Update*>,\n",
       " (3, 2, 0): <gurobi.Constr *Awaiting Model Update*>,\n",
       " (3, 2, 1): <gurobi.Constr *Awaiting Model Update*>,\n",
       " (3, 3, 0): <gurobi.Constr *Awaiting Model Update*>,\n",
       " (3, 3, 1): <gurobi.Constr *Awaiting Model Update*>}"
      ]
     },
     "execution_count": 9,
     "metadata": {},
     "output_type": "execute_result"
    }
   ],
   "source": [
    "model.addConstrs(s[k,l,c]>= R[k]*x[k,l,c] for k in K for l in L for c in C)"
   ]
  },
  {
   "cell_type": "markdown",
   "metadata": {},
   "source": [
    "**(3) Containers going through leg 2 must go through leg 3**\n",
    "\n",
    "Each container k will have a x_klc value of 1 or 0 for both leg 2 and leg 3 depending on if they travel through them or not:\n",
    "\n",
    "   * $\\sum_{c \\in C}(x_{k2c}) = \\sum_{c \\in C}(x_{k3c})$,&nbsp;&nbsp;&nbsp;&nbsp;&nbsp;&nbsp;$\\forall k \\in K$"
   ]
  },
  {
   "cell_type": "code",
   "execution_count": 10,
   "metadata": {
    "scrolled": false
   },
   "outputs": [
    {
     "data": {
      "text/plain": [
       "{0: <gurobi.Constr *Awaiting Model Update*>,\n",
       " 1: <gurobi.Constr *Awaiting Model Update*>,\n",
       " 2: <gurobi.Constr *Awaiting Model Update*>,\n",
       " 3: <gurobi.Constr *Awaiting Model Update*>}"
      ]
     },
     "execution_count": 10,
     "metadata": {},
     "output_type": "execute_result"
    }
   ],
   "source": [
    "model.addConstrs(quicksum(x[k,2,c] for c in C)==quicksum(x[k,3,c] for c in C) for k in K)"
   ]
  },
  {
   "cell_type": "markdown",
   "metadata": {},
   "source": [
    "**(4) Container must go through leg 1 OR (leg 2 AND 3)**\n",
    "\n",
    "Each container ($k$) will have $x_klc = 1$ for either leg 1 or leg 2 so the sum of the two must be 1 for all containers ($k$) on all chassis ($c$).\n",
    "\n",
    "   * $\\sum_{c \\in C}(x_{k1c}) + \\sum_{c \\in C}(x_{k2c}) = 1$,&nbsp;&nbsp;&nbsp;&nbsp;&nbsp;&nbsp; $\\forall k \\in K$"
   ]
  },
  {
   "cell_type": "code",
   "execution_count": 11,
   "metadata": {},
   "outputs": [
    {
     "data": {
      "text/plain": [
       "{0: <gurobi.Constr *Awaiting Model Update*>,\n",
       " 1: <gurobi.Constr *Awaiting Model Update*>,\n",
       " 2: <gurobi.Constr *Awaiting Model Update*>,\n",
       " 3: <gurobi.Constr *Awaiting Model Update*>}"
      ]
     },
     "execution_count": 11,
     "metadata": {},
     "output_type": "execute_result"
    }
   ],
   "source": [
    "model.addConstrs(\n",
    "    (quicksum(x[k,1,c] for c in C) + quicksum(x[k,2,c] for c in C))==1 for k in K\n",
    ")"
   ]
  },
  {
   "cell_type": "markdown",
   "metadata": {},
   "source": [
    "**(5) Precedence Constraint: Leg 2 must be before Leg 3**\n",
    "\n",
    "Each container k will have a $x_{klc}$ value of 1 for either leg 1 or leg 2 so the sum of the two must be 1 for all containers (k) on all chassis (c).\n",
    "\n",
    "   * $M\\sum_{c \\in C}(x_{k1c}) + \\sum_{c \\in C}(s_{k3c}) \\geq = \\sum_{c \\in C}(s_{k2c}) + \\Phi_{2}$,&nbsp;&nbsp;&nbsp;&nbsp;&nbsp;&nbsp; $\\forall k \\in K$\n",
    "   "
   ]
  },
  {
   "cell_type": "code",
   "execution_count": 12,
   "metadata": {},
   "outputs": [
    {
     "data": {
      "text/plain": [
       "{0: <gurobi.Constr *Awaiting Model Update*>,\n",
       " 1: <gurobi.Constr *Awaiting Model Update*>,\n",
       " 2: <gurobi.Constr *Awaiting Model Update*>,\n",
       " 3: <gurobi.Constr *Awaiting Model Update*>}"
      ]
     },
     "execution_count": 12,
     "metadata": {},
     "output_type": "execute_result"
    }
   ],
   "source": [
    "model.addConstrs(\n",
    "    M*(quicksum(x[k,1,c] for c in C)) + quicksum(s[k,3,c] for c in C) >= \n",
    "    (quicksum(s[k,2,c] for c in C) + Phi[2]) for k in K\n",
    ")"
   ]
  },
  {
   "cell_type": "markdown",
   "metadata": {},
   "source": [
    "**(6) Bind x=0 to s=0**\n",
    "\n",
    "When $x_{klc} = 0, s_{klc} = 0 $\n",
    "\n",
    "   * $Mx_{klc} \\geq s_{klc}$,&nbsp;&nbsp;&nbsp;&nbsp;&nbsp;&nbsp; $\\forall k \\in K$, $l \\in L$, $c \\in C$"
   ]
  },
  {
   "cell_type": "code",
   "execution_count": 13,
   "metadata": {},
   "outputs": [
    {
     "data": {
      "text/plain": [
       "{(0, 1, 0): <gurobi.Constr *Awaiting Model Update*>,\n",
       " (0, 1, 1): <gurobi.Constr *Awaiting Model Update*>,\n",
       " (0, 2, 0): <gurobi.Constr *Awaiting Model Update*>,\n",
       " (0, 2, 1): <gurobi.Constr *Awaiting Model Update*>,\n",
       " (0, 3, 0): <gurobi.Constr *Awaiting Model Update*>,\n",
       " (0, 3, 1): <gurobi.Constr *Awaiting Model Update*>,\n",
       " (1, 1, 0): <gurobi.Constr *Awaiting Model Update*>,\n",
       " (1, 1, 1): <gurobi.Constr *Awaiting Model Update*>,\n",
       " (1, 2, 0): <gurobi.Constr *Awaiting Model Update*>,\n",
       " (1, 2, 1): <gurobi.Constr *Awaiting Model Update*>,\n",
       " (1, 3, 0): <gurobi.Constr *Awaiting Model Update*>,\n",
       " (1, 3, 1): <gurobi.Constr *Awaiting Model Update*>,\n",
       " (2, 1, 0): <gurobi.Constr *Awaiting Model Update*>,\n",
       " (2, 1, 1): <gurobi.Constr *Awaiting Model Update*>,\n",
       " (2, 2, 0): <gurobi.Constr *Awaiting Model Update*>,\n",
       " (2, 2, 1): <gurobi.Constr *Awaiting Model Update*>,\n",
       " (2, 3, 0): <gurobi.Constr *Awaiting Model Update*>,\n",
       " (2, 3, 1): <gurobi.Constr *Awaiting Model Update*>,\n",
       " (3, 1, 0): <gurobi.Constr *Awaiting Model Update*>,\n",
       " (3, 1, 1): <gurobi.Constr *Awaiting Model Update*>,\n",
       " (3, 2, 0): <gurobi.Constr *Awaiting Model Update*>,\n",
       " (3, 2, 1): <gurobi.Constr *Awaiting Model Update*>,\n",
       " (3, 3, 0): <gurobi.Constr *Awaiting Model Update*>,\n",
       " (3, 3, 1): <gurobi.Constr *Awaiting Model Update*>}"
      ]
     },
     "execution_count": 13,
     "metadata": {},
     "output_type": "execute_result"
    }
   ],
   "source": [
    "model.addConstrs(M*x[k,l,c] >= s[k,l,c] for k in K for l in L for c in C)"
   ]
  },
  {
   "cell_type": "markdown",
   "metadata": {},
   "source": [
    "**(7) Domain of $s_{klc}$**\n",
    "\n",
    "The start time ($s_{klc}$) must be greater than 0:\n",
    "\n",
    "   * $s_{klc} \\geq 0$,&nbsp;&nbsp;&nbsp;&nbsp;&nbsp;&nbsp; $\\forall k \\in K$, $l \\in L$, $c \\in C$"
   ]
  },
  {
   "cell_type": "code",
   "execution_count": 14,
   "metadata": {},
   "outputs": [
    {
     "data": {
      "text/plain": [
       "{(0, 1, 0): <gurobi.Constr *Awaiting Model Update*>,\n",
       " (0, 1, 1): <gurobi.Constr *Awaiting Model Update*>,\n",
       " (0, 2, 0): <gurobi.Constr *Awaiting Model Update*>,\n",
       " (0, 2, 1): <gurobi.Constr *Awaiting Model Update*>,\n",
       " (0, 3, 0): <gurobi.Constr *Awaiting Model Update*>,\n",
       " (0, 3, 1): <gurobi.Constr *Awaiting Model Update*>,\n",
       " (1, 1, 0): <gurobi.Constr *Awaiting Model Update*>,\n",
       " (1, 1, 1): <gurobi.Constr *Awaiting Model Update*>,\n",
       " (1, 2, 0): <gurobi.Constr *Awaiting Model Update*>,\n",
       " (1, 2, 1): <gurobi.Constr *Awaiting Model Update*>,\n",
       " (1, 3, 0): <gurobi.Constr *Awaiting Model Update*>,\n",
       " (1, 3, 1): <gurobi.Constr *Awaiting Model Update*>,\n",
       " (2, 1, 0): <gurobi.Constr *Awaiting Model Update*>,\n",
       " (2, 1, 1): <gurobi.Constr *Awaiting Model Update*>,\n",
       " (2, 2, 0): <gurobi.Constr *Awaiting Model Update*>,\n",
       " (2, 2, 1): <gurobi.Constr *Awaiting Model Update*>,\n",
       " (2, 3, 0): <gurobi.Constr *Awaiting Model Update*>,\n",
       " (2, 3, 1): <gurobi.Constr *Awaiting Model Update*>,\n",
       " (3, 1, 0): <gurobi.Constr *Awaiting Model Update*>,\n",
       " (3, 1, 1): <gurobi.Constr *Awaiting Model Update*>,\n",
       " (3, 2, 0): <gurobi.Constr *Awaiting Model Update*>,\n",
       " (3, 2, 1): <gurobi.Constr *Awaiting Model Update*>,\n",
       " (3, 3, 0): <gurobi.Constr *Awaiting Model Update*>,\n",
       " (3, 3, 1): <gurobi.Constr *Awaiting Model Update*>}"
      ]
     },
     "execution_count": 14,
     "metadata": {},
     "output_type": "execute_result"
    }
   ],
   "source": [
    "model.addConstrs(s[k,l,c] >=0 for k in K for l in L for c in C)"
   ]
  },
  {
   "cell_type": "code",
   "execution_count": 15,
   "metadata": {},
   "outputs": [
    {
     "name": "stdout",
     "output_type": "stream",
     "text": [
      "Gurobi Optimizer version 9.0.3 build v9.0.3rc0 (win64)\n",
      "Optimize a model with 1460 rows, 1008 columns and 3176 nonzeros\n",
      "Model fingerprint: 0x8289b24d\n",
      "Model has 48 quadratic objective terms\n",
      "Variable types: 0 continuous, 1008 integer (312 binary)\n",
      "Coefficient statistics:\n",
      "  Matrix range     [1e+00, 1e+07]\n",
      "  Objective range  [2e+02, 2e+02]\n",
      "  QObjective range [4e+01, 2e+02]\n",
      "  Bounds range     [1e+00, 1e+00]\n",
      "  RHS range        [1e+00, 1e+07]\n",
      "Found heuristic solution: objective 1.600000e+12\n",
      "Presolve removed 1443 rows and 992 columns\n",
      "Presolve time: 0.02s\n",
      "Presolved: 35 rows, 38 columns, 86 nonzeros\n",
      "Presolved model has 12 SOS constraint(s)\n",
      "Found heuristic solution: objective 2.000000e+11\n",
      "Variable types: 0 continuous, 38 integer (12 binary)\n",
      "\n",
      "Root relaxation: objective -1.999968e+08, 18 iterations, 0.00 seconds\n",
      "\n",
      "    Nodes    |    Current Node    |     Objective Bounds      |     Work\n",
      " Expl Unexpl |  Obj  Depth IntInf | Incumbent    BestBd   Gap | It/Node Time\n",
      "\n",
      "     0     0 -2.000e+08    0    2 2.0000e+11 -2.000e+08   100%     -    0s\n",
      "H    0     0                    4000.0000000 -2.000e+08      -     -    0s\n",
      "     0     0 -2.000e+08    0    2 4000.00000 -2.000e+08      -     -    0s\n",
      "     0     2 -2.000e+08    0    2 4000.00000 -2.000e+08      -     -    0s\n",
      "\n",
      "Explored 11 nodes (42 simplex iterations) in 0.04 seconds\n",
      "Thread count was 12 (of 12 available processors)\n",
      "\n",
      "Solution count 3: 4000 2e+11 1.6e+12 \n",
      "\n",
      "Optimal solution found (tolerance 1.00e-04)\n",
      "Best objective 4.000000000000e+03, best bound 4.000000000000e+03, gap 0.0000%\n",
      "<gurobi.Var x_klc[0,1,0] (value 1.0)> <gurobi.Var s_klc[0,1,0] (value 3.0)>\n",
      "<gurobi.Var x_klc[0,1,1] (value -0.0)> <gurobi.Var s_klc[0,1,1] (value -0.0)>\n",
      "<gurobi.Var x_klc[0,2,0] (value -0.0)> <gurobi.Var s_klc[0,2,0] (value -0.0)>\n",
      "<gurobi.Var x_klc[0,2,1] (value -0.0)> <gurobi.Var s_klc[0,2,1] (value -0.0)>\n",
      "<gurobi.Var x_klc[0,3,0] (value -0.0)> <gurobi.Var s_klc[0,3,0] (value -0.0)>\n",
      "<gurobi.Var x_klc[0,3,1] (value -0.0)> <gurobi.Var s_klc[0,3,1] (value 0.0)>\n",
      "<gurobi.Var x_klc[1,1,0] (value 1.0)> <gurobi.Var s_klc[1,1,0] (value 3.0)>\n",
      "<gurobi.Var x_klc[1,1,1] (value -0.0)> <gurobi.Var s_klc[1,1,1] (value -0.0)>\n",
      "<gurobi.Var x_klc[1,2,0] (value -0.0)> <gurobi.Var s_klc[1,2,0] (value -0.0)>\n",
      "<gurobi.Var x_klc[1,2,1] (value -0.0)> <gurobi.Var s_klc[1,2,1] (value -0.0)>\n",
      "<gurobi.Var x_klc[1,3,0] (value -0.0)> <gurobi.Var s_klc[1,3,0] (value -0.0)>\n",
      "<gurobi.Var x_klc[1,3,1] (value -0.0)> <gurobi.Var s_klc[1,3,1] (value 0.0)>\n",
      "<gurobi.Var x_klc[2,1,0] (value 1.0)> <gurobi.Var s_klc[2,1,0] (value 3.0)>\n",
      "<gurobi.Var x_klc[2,1,1] (value -0.0)> <gurobi.Var s_klc[2,1,1] (value -0.0)>\n",
      "<gurobi.Var x_klc[2,2,0] (value -0.0)> <gurobi.Var s_klc[2,2,0] (value -0.0)>\n",
      "<gurobi.Var x_klc[2,2,1] (value -0.0)> <gurobi.Var s_klc[2,2,1] (value -0.0)>\n",
      "<gurobi.Var x_klc[2,3,0] (value -0.0)> <gurobi.Var s_klc[2,3,0] (value -0.0)>\n",
      "<gurobi.Var x_klc[2,3,1] (value -0.0)> <gurobi.Var s_klc[2,3,1] (value 0.0)>\n",
      "<gurobi.Var x_klc[3,1,0] (value 1.0)> <gurobi.Var s_klc[3,1,0] (value 12.0)>\n",
      "<gurobi.Var x_klc[3,1,1] (value -0.0)> <gurobi.Var s_klc[3,1,1] (value -0.0)>\n",
      "<gurobi.Var x_klc[3,2,0] (value -0.0)> <gurobi.Var s_klc[3,2,0] (value -0.0)>\n",
      "<gurobi.Var x_klc[3,2,1] (value -0.0)> <gurobi.Var s_klc[3,2,1] (value -0.0)>\n",
      "<gurobi.Var x_klc[3,3,0] (value -0.0)> <gurobi.Var s_klc[3,3,0] (value -0.0)>\n",
      "<gurobi.Var x_klc[3,3,1] (value -0.0)> <gurobi.Var s_klc[3,3,1] (value 0.0)>\n"
     ]
    }
   ],
   "source": [
    "model.optimize()\n",
    "\n",
    "for k in K:\n",
    "    for l in L:\n",
    "        for c in C:\n",
    "            print(x[k,l,c], s[k,l,c])"
   ]
  },
  {
   "cell_type": "code",
   "execution_count": null,
   "metadata": {},
   "outputs": [],
   "source": []
  },
  {
   "cell_type": "markdown",
   "metadata": {},
   "source": [
    "# "
   ]
  }
 ],
 "metadata": {
  "kernelspec": {
   "display_name": "Python 3",
   "language": "python",
   "name": "python3"
  },
  "language_info": {
   "codemirror_mode": {
    "name": "ipython",
    "version": 3
   },
   "file_extension": ".py",
   "mimetype": "text/x-python",
   "name": "python",
   "nbconvert_exporter": "python",
   "pygments_lexer": "ipython3",
   "version": "3.7.1"
  }
 },
 "nbformat": 4,
 "nbformat_minor": 4
}
